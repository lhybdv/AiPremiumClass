{
 "cells": [
  {
   "cell_type": "markdown",
   "metadata": {},
   "source": [
    "## NumPy 数组"
   ]
  },
  {
   "cell_type": "code",
   "execution_count": 3,
   "metadata": {},
   "outputs": [],
   "source": [
    "import numpy as np\n",
    "import math"
   ]
  },
  {
   "cell_type": "code",
   "execution_count": 3,
   "metadata": {},
   "outputs": [
    {
     "name": "stdout",
     "output_type": "stream",
     "text": [
      "[1 2 3 4] <class 'numpy.ndarray'>\n",
      "[1. 2. 3. 4. 5.] <class 'numpy.ndarray'>\n"
     ]
    }
   ],
   "source": [
    "# 创建ndarray数组\n",
    "arr = np.array([1,2,3,4])\n",
    "print(arr,type(arr))\n",
    "arr = np.array([1,2,3,4,5], float)\n",
    "print(arr,type(arr))"
   ]
  },
  {
   "cell_type": "code",
   "execution_count": 4,
   "metadata": {},
   "outputs": [
    {
     "name": "stdout",
     "output_type": "stream",
     "text": [
      "[[1 2 3]\n",
      " [1 2 3]\n",
      " [1 2 3]] <class 'numpy.ndarray'>\n"
     ]
    }
   ],
   "source": [
    "# 创建多维数组\n",
    "arr = np.array([(1,2,3),(1,2,3),(1,2,3)])\n",
    "print(arr,type(arr))"
   ]
  },
  {
   "cell_type": "code",
   "execution_count": 5,
   "metadata": {},
   "outputs": [
    {
     "name": "stdout",
     "output_type": "stream",
     "text": [
      "[[0 0 0]\n",
      " [0 0 0]\n",
      " [0 0 0]] <class 'numpy.ndarray'>\n"
     ]
    },
    {
     "data": {
      "text/plain": [
       "array([[0, 0, 0],\n",
       "       [0, 0, 0],\n",
       "       [0, 0, 0]])"
      ]
     },
     "execution_count": 5,
     "metadata": {},
     "output_type": "execute_result"
    }
   ],
   "source": [
    "# 创建特殊数组\n",
    "# 0 \n",
    "arr = np.zeros((3,3),dtype=int)\n",
    "print(arr,type(arr))\n",
    "arr"
   ]
  },
  {
   "cell_type": "code",
   "execution_count": 6,
   "metadata": {},
   "outputs": [
    {
     "name": "stdout",
     "output_type": "stream",
     "text": [
      "[[1. 1. 1.]\n",
      " [1. 1. 1.]\n",
      " [1. 1. 1.]] <class 'numpy.ndarray'>\n"
     ]
    }
   ],
   "source": [
    "# 全为1的数组\n",
    "arr = np.ones((3,3),dtype=float)\n",
    "print(arr,type(arr))\n"
   ]
  },
  {
   "cell_type": "code",
   "execution_count": 7,
   "metadata": {},
   "outputs": [
    {
     "data": {
      "text/plain": [
       "array([1. , 1.5, 2. , 2.5])"
      ]
     },
     "execution_count": 7,
     "metadata": {},
     "output_type": "execute_result"
    }
   ],
   "source": [
    "# 创建等差数列，\n",
    "arr_arange = np.arange(1,3,0.5)\n",
    "arr_arange"
   ]
  },
  {
   "cell_type": "code",
   "execution_count": 8,
   "metadata": {},
   "outputs": [
    {
     "data": {
      "text/plain": [
       "array([[1, 0, 0],\n",
       "       [0, 1, 0],\n",
       "       [0, 0, 1]], dtype=int8)"
      ]
     },
     "execution_count": 8,
     "metadata": {},
     "output_type": "execute_result"
    }
   ],
   "source": [
    "# 创建单位矩阵\n",
    "arr_eye = np.eye(3,3,dtype=np.int8)\n",
    "arr_eye  # one-hot编码"
   ]
  },
  {
   "cell_type": "code",
   "execution_count": 9,
   "metadata": {},
   "outputs": [
    {
     "data": {
      "text/plain": [
       "array([0.41603183, 0.27329667, 0.48104696, 0.74845229])"
      ]
     },
     "execution_count": 9,
     "metadata": {},
     "output_type": "execute_result"
    }
   ],
   "source": [
    "# 生成指定长度的在 [0,1) 之间平均分布的随机数组\n",
    "a4 = np.random.random(4)  # 模型运算参数初始值\n",
    "a4"
   ]
  },
  {
   "cell_type": "code",
   "execution_count": 10,
   "metadata": {},
   "outputs": [
    {
     "data": {
      "text/plain": [
       "array([ 0.49919792, -1.19688631,  0.60425046, -2.24024984,  0.08601566,\n",
       "       -0.86689292,  0.67714879,  0.64772878,  0.81741495,  1.87242107])"
      ]
     },
     "execution_count": 10,
     "metadata": {},
     "output_type": "execute_result"
    }
   ],
   "source": [
    "# 生成指定长度的在 符合正态分布的随机数组\n",
    "mu, sigma = 0, 1  # mu, sigma = 0, 1-->标准正态分布\n",
    "a5 = np.random.normal(mu, sigma, 10)  # 模型运算参数初始值\n",
    "a5"
   ]
  },
  {
   "cell_type": "markdown",
   "metadata": {},
   "source": [
    "## NumPy 数组访问"
   ]
  },
  {
   "cell_type": "code",
   "execution_count": 71,
   "metadata": {},
   "outputs": [
    {
     "name": "stdout",
     "output_type": "stream",
     "text": [
      "[[1 2 3]\n",
      " [3 4 5]\n",
      " [5 6 7]] \n",
      "\n",
      "[1 2 3] \n",
      "\n",
      "[[3 4 5]\n",
      " [5 6 7]] \n",
      "\n",
      "[[2 3]\n",
      " [4 5]\n",
      " [6 7]] \n",
      "\n",
      "1\n"
     ]
    }
   ],
   "source": [
    "a6 = np.array([(1,2,3), (3,4,5), (5,6,7)])\n",
    "print(a6,'\\n')      # 整个数组\n",
    "print(a6[0],'\\n')   # 索引第一行\n",
    "print(a6[1:3],'\\n') # 切片，取第二行到第三行\n",
    "print(a6[:,1:3],'\\n')    # 切片，取第二列到第三列\n",
    "print(a6[0,0])      # 索引数组里的第一个内容"
   ]
  },
  {
   "cell_type": "markdown",
   "metadata": {},
   "source": [
    "## NumPy 数组的遍历"
   ]
  },
  {
   "cell_type": "code",
   "execution_count": 74,
   "metadata": {},
   "outputs": [
    {
     "name": "stdout",
     "output_type": "stream",
     "text": [
      "1\n",
      "2\n",
      "3\n",
      "\n",
      "1 2 \n",
      "\n",
      "[1,2]\n",
      "[3,4]\n",
      "[5,6]\n"
     ]
    }
   ],
   "source": [
    "''' 一维数组的遍历'''\n",
    "a_1 = np.array([1,2,3])\n",
    "\n",
    "for i in a_1:\n",
    "    print(i)\n",
    "print()\n",
    "\n",
    "''' 二维数组的遍历'''\n",
    "# 创建一个二维数组a7\n",
    "a7 = np.array([(1,2), (3,4), (5,6)])\n",
    "# 将数组a7的第一个元素赋值给i和j\n",
    "i,j = a7[0]     # 元组的知识\n",
    "# 打印i和j\n",
    "print(i,j,'\\n')\n",
    "# 遍历数组a7，将每个元素的第一个元素赋值给i，第二个元素赋值给j\n",
    "for i,j in a7:\n",
    "    # 打印i和j，使用format函数将i和j放入方括号中\n",
    "    print('[{},{}]'.format(i,j))\n"
   ]
  },
  {
   "cell_type": "markdown",
   "metadata": {},
   "source": [
    "## NumPy数组的常用属性\n",
    "\n",
    "⽐较常⽤的属性有：\n",
    "- ndarray.ndim : 数组的维度（数组轴的个数），等于秩\n",
    "- ndarray.shape : 数组的⼤⼩。为⼀个表⽰数组在每个维度上⼤⼩的整元组。例如⼆维数组中，表⽰数组的’ ⾏数’ 和’ 列数”\n",
    "- ndarray.size : 数组元素的总个数，等于 shape 属性中元组元素的乘积\n",
    "- ndarray.dtype : 表⽰数组中元素类型的对象\n",
    "\n",
    "@property装饰器将一个方法转换为一个属性,这几个属性都是装饰器转换得到"
   ]
  },
  {
   "cell_type": "code",
   "execution_count": null,
   "metadata": {},
   "outputs": [
    {
     "name": "stdout",
     "output_type": "stream",
     "text": [
      "[[1 2 3]\n",
      " [4 5 6]\n",
      " [7 8 9]] \n",
      "\n",
      "ndim: 2\n",
      "shape: (3, 3)\n",
      "size: 9\n",
      "dtype: int32\n",
      "<class 'numpy.int32'>\n",
      "None\n"
     ]
    }
   ],
   "source": [
    "# 导入numpy库\n",
    "import numpy as np\n",
    "# 创建一个二维数组\n",
    "a = np.array([(1,2,3), (4,5,6), (7,8,9)])\n",
    "print(a,'\\n')\n",
    "# 打印数组的维度\n",
    "print('ndim:',a.ndim)   # 数组的维度\n",
    "# 打印数组的形状\n",
    "print('shape:',a.shape)  # \n",
    "# 打印数组元素的总个数\n",
    "print('size:',a.size)   # 数组元素的总个数\n",
    "# 打印数组元素类型的对象\n",
    "print('dtype:',a.dtype)  # 数组元素类型的对象\n",
    "# 打印数组第一个元素的类型\n",
    "print(type(a[0,0]))\n"
   ]
  },
  {
   "cell_type": "markdown",
   "metadata": {},
   "source": [
    "## NumPy 的基本操作"
   ]
  },
  {
   "cell_type": "code",
   "execution_count": 107,
   "metadata": {},
   "outputs": [
    {
     "name": "stdout",
     "output_type": "stream",
     "text": [
      "[[7 2 8]\n",
      " [3 4 0]\n",
      " [2 5 5]]\n",
      "\n",
      "True\n",
      "False\n"
     ]
    }
   ],
   "source": [
    "'''检测数值是否在数组中'''\n",
    "# 生成一个3行3列的随机整数矩阵，范围在0到10之间\n",
    "a = np.random.randint(low=0, high=10, size=(3,3))\n",
    "# 打印矩阵\n",
    "print(a,end='\\n'*2)\n",
    "# 判断5是否在矩阵中\n",
    "print(5 in a)\n",
    "# 判断1是否在矩阵中\n",
    "print(1 in a)\n"
   ]
  },
  {
   "cell_type": "code",
   "execution_count": null,
   "metadata": {},
   "outputs": [
    {
     "name": "stdout",
     "output_type": "stream",
     "text": [
      "[[[0. 0. 0.]\n",
      "  [0. 0. 0.]\n",
      "  [0. 0. 0.]]\n",
      "\n",
      " [[0. 0. 0.]\n",
      "  [0. 0. 0.]\n",
      "  [0. 0. 0.]]\n",
      "\n",
      " [[0. 0. 0.]\n",
      "  [0. 0. 0.]\n",
      "  [0. 0. 0.]]]\n",
      "\n",
      "[0. 0. 0. 0. 0. 0. 0. 0. 0. 0. 0. 0. 0. 0. 0. 0. 0. 0. 0. 0. 0. 0. 0. 0.\n",
      " 0. 0. 0.] len: 27\n",
      "\n"
     ]
    }
   ],
   "source": [
    "'''数组的重排列，例如将⼀个 3 维数组转变为 1 维（元素数⼀定要保持不变）'''\n",
    "# 创建一个3x3x3的零矩阵\n",
    "a = np.zeros(shape=[3,3,3])\n",
    "# 打印矩阵\n",
    "print(a,end='\\n'*2)\n",
    "# 将a重新塑形为1维数组\n",
    "a = a.reshape(-1)\n",
    "# 打印a，并输出a的长度，然后换行两次\n",
    "print(a,'len:',len(a),end='\\n'*2)"
   ]
  },
  {
   "cell_type": "code",
   "execution_count": 123,
   "metadata": {},
   "outputs": [
    {
     "name": "stdout",
     "output_type": "stream",
     "text": [
      "[[0. 0. 0.]]\n",
      "\n",
      "[[0.]\n",
      " [0.]\n",
      " [0.]]\n",
      "\n",
      "[[0.]\n",
      " [0.]\n",
      " [0.]]\n",
      "\n"
     ]
    }
   ],
   "source": [
    "'''数组的转置 (可以直接.T)'''\n",
    "# 创建一个1行3列的全零数组\n",
    "a = np.zeros([1,3])\n",
    "# 打印数组a\n",
    "print(a,end='\\n'*2)\n",
    "# 打印数组a的转置\n",
    "print(a.transpose(),end='\\n'*2)\n",
    "\n",
    "print(a.T,end='\\n'*2)"
   ]
  },
  {
   "cell_type": "code",
   "execution_count": 131,
   "metadata": {},
   "outputs": [
    {
     "name": "stdout",
     "output_type": "stream",
     "text": [
      "[[1 2]\n",
      " [1 2]\n",
      " [1 2]]\n",
      "\n",
      "[1 2 1 2 1 2]\n",
      "\n"
     ]
    }
   ],
   "source": [
    "'''flatten : 把多维数组转换为⼀维数组，注意每个元组的⻓度是相同的'''\n",
    "a = np.array([(1,2),(1,2),(1,2)])\n",
    "print(a,end='\\n'*2)\n",
    "print(a.flatten(),end='\\n'*2)"
   ]
  },
  {
   "cell_type": "code",
   "execution_count": 138,
   "metadata": {},
   "outputs": [
    {
     "name": "stdout",
     "output_type": "stream",
     "text": [
      "[1 2 3]\n",
      "\n",
      "(3,)\n",
      "\n",
      "[[1]\n",
      " [2]\n",
      " [3]]\n",
      "\n",
      "(3, 1)\n",
      "\n"
     ]
    }
   ],
   "source": [
    "'''newaxis : 增加维度'''\n",
    "a = np.array([1,2,3])\n",
    "print(a, end='\\n'*2)\n",
    "print(a.shape, end='\\n'*2)\n",
    "a = a[:,np.newaxis]\n",
    "print(a, end='\\n'*2)\n",
    "print(a.shape, end='\\n'*2)\n"
   ]
  },
  {
   "cell_type": "markdown",
   "metadata": {},
   "source": [
    "## NumPy 数组的数学操作\n",
    "\n",
    "- 加减乘除\n",
    "- 求和、求积\n",
    "- 平均数，⽅差，标准差，最⼤值，最⼩值\n",
    "- 最⼤与最⼩值对应的索引值：argmax,argmin:\n",
    "- 取元素值上限，下限，四舍五⼊：ceil, floor, rint\n",
    "- 排序：sort\n",
    "\n",
    "除了上述函数外，还有很多数据运算操作，它们的使⽤⽅式基本都类似，例如：abs,\n",
    "sign, sqrt, log,log10, exp, sin, cos, tan, arcsin, arccos, arctan, sinh, cosh, tanh,\n",
    "arcsinh, arccosh,arctanh 等等。\n",
    "\n"
   ]
  },
  {
   "cell_type": "code",
   "execution_count": null,
   "metadata": {},
   "outputs": [
    {
     "name": "stdout",
     "output_type": "stream",
     "text": [
      "[[-2  2]\n",
      " [-2  2]]\n",
      "\n",
      "[[1. 1.]\n",
      " [1. 1.]]\n",
      "\n",
      "[[-1.  3.]\n",
      " [-1.  3.]]\n",
      "\n",
      "[[-2.  2.]\n",
      " [-2.  2.]]\n",
      "\n",
      "[[-2.  2.]\n",
      " [-2.  2.]]\n",
      "\n",
      "0\n",
      "\n",
      "4.0\n",
      "\n",
      "16\n",
      "\n",
      "1.0\n",
      "\n",
      "======\n",
      "\n",
      "[[1 2]\n",
      " [2 2]\n",
      " [3 3]\n",
      " [4 4]] (4, 2)\n",
      "[-1  1] (2,)\n"
     ]
    },
    {
     "data": {
      "text/plain": [
       "array([[0, 3],\n",
       "       [1, 3],\n",
       "       [2, 4],\n",
       "       [3, 5]])"
      ]
     },
     "execution_count": 19,
     "metadata": {},
     "output_type": "execute_result"
    }
   ],
   "source": [
    "'''* 星乘表⽰矩阵内各对应位置相乘，点乘表⽰求矩阵内积，⼆维数组称为矩阵积\n",
    "（mastrix product）：\n",
    "'''\n",
    "# 数组，矩阵、维度\n",
    "\n",
    "# 数组、矩阵  ： 数据组织结构形式\n",
    "\n",
    "# 维度： 通讯地址\n",
    "a = np.array([(-2,2),(-2,2)])\n",
    "b = np.ones((2,2))\n",
    "\n",
    "print(a, end='\\n'*2)\n",
    "print(b, end='\\n'*2)\n",
    "# 加减乘除\n",
    "print(a+b, end='\\n'*2)\n",
    "print(a*b, end='\\n'*2)\n",
    "print(a/b, end='\\n'*2)\n",
    "# 求和、求积\n",
    "print(a.sum(), end='\\n'*2)\n",
    "print(b.sum(), end='\\n'*2)\n",
    "print(a.prod(), end='\\n'*2)\n",
    "print(b.prod(), end='\\n'*2)\n",
    "\n",
    "\n"
   ]
  },
  {
   "cell_type": "code",
   "execution_count": 162,
   "metadata": {},
   "outputs": [
    {
     "name": "stdout",
     "output_type": "stream",
     "text": [
      "mean: 3.0 3.0\n",
      "var: 2.6666666666666665 2.6666666666666665\n",
      "std: 1.632993161855452 1.632993161855452\n",
      "max: 5\n",
      "min: 1\n"
     ]
    },
    {
     "data": {
      "text/plain": [
       "1"
      ]
     },
     "execution_count": 162,
     "metadata": {},
     "output_type": "execute_result"
    }
   ],
   "source": [
    "'''平均数，⽅差，标准差，最⼤值，最⼩值'''\n",
    "# 创建一个包含三个元素的数组\n",
    "a = np.array([5,3,1])\n",
    "# 计算数组的平均值\n",
    "print(\"mean:\",a.mean(),a.sum()/3)\n",
    "# 计算数组的方差\n",
    "print(\"var:\", a.var(),((5-3)**2+(3-3)**2+(1-3)**2)/3)\n",
    "# 计算数组的标准差\n",
    "print(\"std:\", a.std(),math.sqrt(((5-3)**2+(3-3)**2+(1-3)**2)/3))\n",
    "print(\"max:\",a.max())\n",
    "print(\"min:\",a.min())\n",
    "3^2 # 异或操作"
   ]
  },
  {
   "cell_type": "code",
   "execution_count": 164,
   "metadata": {},
   "outputs": [
    {
     "name": "stdout",
     "output_type": "stream",
     "text": [
      "argmax: 2\n",
      "argmin: 0\n",
      "ceil: [2. 4. 5.]\n",
      "floor: [1. 3. 4.]\n",
      "rint: [1. 4. 5.]\n"
     ]
    }
   ],
   "source": [
    "'''最⼤与最⼩值对应的索引值：argmax,argmin:\n",
    "取元素值上限，下限，四舍五⼊：ceil, floor, rint'''\n",
    "a = np.array([1.2, 3.8, 4.9])\n",
    "print(\"argmax:\", a.argmax())\n",
    "print(\"argmin:\", a.argmin())\n",
    "print(\"ceil:\", np.ceil(a))\n",
    "print(\"floor:\", np.floor(a))\n",
    "print(\"rint:\", np.rint(a))"
   ]
  },
  {
   "cell_type": "code",
   "execution_count": 167,
   "metadata": {},
   "outputs": [
    {
     "name": "stdout",
     "output_type": "stream",
     "text": [
      "[12 16 22 28 31 31 48]\n"
     ]
    }
   ],
   "source": [
    "'''排序'''\n",
    "a = np.array([16,31,12,28,22,31,48])\n",
    "a.sort()\n",
    "print(a)"
   ]
  },
  {
   "cell_type": "markdown",
   "metadata": {},
   "source": [
    "## NumPy 线性代数"
   ]
  },
  {
   "cell_type": "code",
   "execution_count": 11,
   "metadata": {},
   "outputs": [
    {
     "name": "stdout",
     "output_type": "stream",
     "text": [
      "[1 2 3 4 5 6 7 8 9]\n",
      "(9,)\n",
      "[[[1]\n",
      "  [2]\n",
      "  [3]]\n",
      "\n",
      " [[4]\n",
      "  [5]\n",
      "  [6]]\n",
      "\n",
      " [[7]\n",
      "  [8]\n",
      "  [9]]]\n",
      "(3, 3, 1)\n"
     ]
    }
   ],
   "source": [
    "a7 = np.arange(1,10)\n",
    "print(a7)\n",
    "print(a7.shape)\n",
    "\n",
    "a7 = a7.reshape(3,3,1)  # 维度大小乘积 == 元素个数\n",
    "print(a7)\n",
    "\n",
    "print(a7.shape)  # 高维矩阵，每个维度都有含义\n",
    "\n",
    "# 加载图像数据\n",
    "# img.shape [1,3,120,120] 1个样本，3颜色特征通道，120高，120宽"
   ]
  },
  {
   "cell_type": "code",
   "execution_count": 4,
   "metadata": {},
   "outputs": [
    {
     "name": "stdout",
     "output_type": "stream",
     "text": [
      "torch.float32\n"
     ]
    },
    {
     "data": {
      "text/plain": [
       "tensor([[ 1.,  4.,  9.],\n",
       "        [16., 25., 36.],\n",
       "        [49., 64., 81.]])"
      ]
     },
     "execution_count": 4,
     "metadata": {},
     "output_type": "execute_result"
    }
   ],
   "source": [
    "import torch\n",
    "tensor = torch.arange(1,10, dtype=torch.float32).reshape(3, 3)\n",
    "\n",
    "print(tensor.dtype)\n",
    "\n",
    "# 计算两个张量之间矩阵乘法的几种方式。 y1, y2, y3 最后的值是一样的 dot\n",
    "y1 = tensor @ tensor.T\n",
    "y2 = tensor.matmul(tensor.T)\n",
    "\n",
    "y3 = torch.rand_like(tensor)\n",
    "torch.matmul(tensor, tensor.T, out=y3)\n",
    "\n",
    "\n",
    "# 计算张量逐元素相乘的几种方法。 z1, z2, z3 最后的值是一样的。\n",
    "z1 = tensor * tensor\n",
    "z2 = tensor.mul(tensor)\n",
    "\n",
    "z3 = torch.rand_like(tensor)\n",
    "torch.mul(tensor, tensor, out=z3)"
   ]
  },
  {
   "cell_type": "code",
   "execution_count": null,
   "metadata": {},
   "outputs": [],
   "source": [
    "a9 = np.array([[1,2,3],[4,5,6]])\n",
    "b9 = np.array([[4,5,6],[7,8,9]])\n",
    "\n",
    "a9 * b9"
   ]
  },
  {
   "cell_type": "code",
   "execution_count": 5,
   "metadata": {},
   "outputs": [
    {
     "name": "stdout",
     "output_type": "stream",
     "text": [
      "矩阵 1:\n",
      "[[1. 2.]\n",
      " [3. 4.]]\n",
      "矩阵 2:\n",
      "[[5. 6.]\n",
      " [7. 8.]]\n",
      "使用 np.dot 得到的矩阵乘法结果:\n",
      "[[19. 22.]\n",
      " [43. 50.]]\n",
      "使用 @ 运算符得到的矩阵乘法结果:\n",
      "[[19. 22.]\n",
      " [43. 50.]]\n",
      "1.0 * 5.0 = 5.0\n",
      "2.0 * 7.0 = 14.0\n",
      "结果矩阵[1,1]:19.0\n",
      "\n",
      "1.0 * 6.0 = 6.0\n",
      "2.0 * 8.0 = 16.0\n",
      "结果矩阵[1,2]:22.0\n",
      "\n",
      "3.0 * 5.0 = 15.0\n",
      "4.0 * 7.0 = 28.0\n",
      "结果矩阵[2,1]:43.0\n",
      "\n",
      "3.0 * 6.0 = 18.0\n",
      "4.0 * 8.0 = 32.0\n",
      "结果矩阵[2,2]:50.0\n",
      "\n",
      "手动推演结果:\n",
      "[[19. 22.]\n",
      " [43. 50.]]\n"
     ]
    }
   ],
   "source": [
    "# 定义两个简单的矩阵\n",
    "m1 = np.array([[1, 2], [3, 4]], dtype=np.float32)\n",
    "m2 = np.array([[5, 6], [7, 8]], dtype=np.float32)\n",
    "# m1 = m1.reshape(2,2)  # 矩阵1最后1个维度 == 矩阵2倒数第2个维度\n",
    "# m2 = m2.reshape(2,2)\n",
    "\n",
    "# 使用 np.dot 进行矩阵乘法\n",
    "result_dot = np.dot(m1,m2)\n",
    "\n",
    "# 使用 @ 运算符进行矩阵乘法\n",
    "result_at = m1 @ m2\n",
    "\n",
    "print(\"矩阵 1:\")\n",
    "print(m1)\n",
    "print(\"矩阵 2:\")\n",
    "print(m2)\n",
    "print(\"使用 np.dot 得到的矩阵乘法结果:\")\n",
    "print(result_dot)\n",
    "print(\"使用 @ 运算符得到的矩阵乘法结果:\")\n",
    "print(result_at)\n",
    "\n",
    "# 创建一个全零矩阵，用于存储手动推演的结果\n",
    "# 结果矩阵的行数等于 matrix1 的行数，列数等于 matrix2 的列数\n",
    "manual_result = np.zeros((m1.shape[0], m2.shape[1]), dtype=np.float32)\n",
    "\n",
    "# 外层循环：遍历 matrix1 的每一行\n",
    "# i 表示结果矩阵的行索引\n",
    "for i in range(m1.shape[0]):\n",
    "    # 中层循环：遍历 matrix2 的每一列\n",
    "    # j 表示结果矩阵的列索引\n",
    "    for j in range(m2.shape[1]):\n",
    "        # 初始化当前位置的结果为 0\n",
    "        manual_result[i, j] = 0\n",
    "        # 内层循环：计算 matrix1 的第 i 行与 matrix2 的第 j 列对应元素的乘积之和\n",
    "        # k 表示参与乘法运算的元素索引\n",
    "        for k in range(m1.shape[1]):\n",
    "            # 打印当前正在计算的元素\n",
    "            print(f\"{m1[i, k]} * {m2[k, j]} = {m1[i, k] * m2[k, j]}\")\n",
    "            # 将 matrix1 的第 i 行第 k 列元素与 matrix2 的第 k 行第 j 列元素相乘，并累加到结果矩阵的相应位置\n",
    "            manual_result[i, j] += m1[i, k] * m2[k, j]\n",
    "        # 打印当前位置计算完成后的结果\n",
    "        print(f\"结果矩阵[{i+1},{j+1}]:{manual_result[i, j]}\\n\")\n",
    "\n",
    "print(\"手动推演结果:\")\n",
    "print(manual_result)"
   ]
  },
  {
   "cell_type": "markdown",
   "metadata": {},
   "source": [
    "## NumPy 文件操作"
   ]
  },
  {
   "cell_type": "code",
   "execution_count": 6,
   "metadata": {},
   "outputs": [],
   "source": [
    "np.save('result.npy',manual_result)"
   ]
  },
  {
   "cell_type": "code",
   "execution_count": 7,
   "metadata": {},
   "outputs": [
    {
     "data": {
      "text/plain": [
       "array([[19., 22.],\n",
       "       [43., 50.]], dtype=float32)"
      ]
     },
     "execution_count": 7,
     "metadata": {},
     "output_type": "execute_result"
    }
   ],
   "source": [
    "result_np = np.load('result.npy')\n",
    "result_np"
   ]
  },
  {
   "cell_type": "markdown",
   "metadata": {},
   "source": [
    "## NumPy的广播机制\n",
    "\n",
    "只能由低维向高维兼容\n",
    "\n",
    "在NumPy中，形状兼容（Shape Compatibility）是指两个数组在进行算术运算时，它们的形状可以匹配，从而可以进行逐元素运算。形状兼容的规则如下：\n",
    "\n",
    "1. **形状完全相同**：如果两个数组的形状完全相同，那么它们是形状兼容的。例如，形状为`(2, 3)`和形状为`(2, 3)`的两个数组是形状兼容的。\n",
    "\n",
    "2. **广播机制**：如果两个数组的形状不完全相同，NumPy会尝试通过广播机制使它们兼容。广播机制遵循以下规则：\n",
    "   - 如果两个数组的维度数不同，那么维度较小的数组会在前面添加一个或多个长度为1的维度，直到两个数组的维度数相同。\n",
    "   - 如果两个数组的维度数相同，但某一维度的大小不同，那么长度为1的维度会被扩展到与另一个数组对应维度的大小相同。\n",
    "\n",
    "   例如，形状为`(2, 3)`和形状为`(3,)`的两个数组是形状兼容的，因为`b`可以通过广播机制扩展为形状`(2, 3)`，然后与`a`进行逐元素运算。\n",
    "\n",
    "3. **标量广播**：标量（即单个数值）可以广播为任何形状的数组。例如，形状为`(2, 3)`的数组与标量`10`是形状兼容的，因为标量`10`可以广播为形状`(2, 3)`的数组，然后与`a`进行逐元素运算。\n",
    "\n",
    "广播机制的注意事项\n",
    "形状不匹配的处理：如果两个数组的形状在任何一个维度上都不匹配并且没有任何一个维度等于1，那么会引发异常2。"
   ]
  },
  {
   "cell_type": "code",
   "execution_count": 31,
   "metadata": {},
   "outputs": [
    {
     "name": "stdout",
     "output_type": "stream",
     "text": [
      "[5 7 9]\n",
      "======\n",
      "\n",
      "[[[1]\n",
      "  [2]]\n",
      "\n",
      " [[2]\n",
      "  [2]]\n",
      "\n",
      " [[3]\n",
      "  [3]]\n",
      "\n",
      " [[4]\n",
      "  [4]]] shape: (4, 2, 1)\n",
      "\n",
      "[-1 -1] shape: (2,)\n",
      "\n",
      "[[[0 0]\n",
      "  [1 1]]\n",
      "\n",
      " [[1 1]\n",
      "  [1 1]]\n",
      "\n",
      " [[2 2]\n",
      "  [2 2]]\n",
      "\n",
      " [[3 3]\n",
      "  [3 3]]]\n",
      "b.shape (4,)\n",
      "[[[2 0 2 0]\n",
      "  [3 1 3 1]]\n",
      "\n",
      " [[3 1 3 1]\n",
      "  [3 1 3 1]]\n",
      "\n",
      " [[4 2 4 2]\n",
      "  [4 2 4 2]]\n",
      "\n",
      " [[5 3 5 3]\n",
      "  [5 3 5 3]]]\n"
     ]
    }
   ],
   "source": [
    "a = np.array([1,2,3])\n",
    "b = np.array([4,5,6])\n",
    "a + b\n",
    "print(a + b)\n",
    "\n",
    "print('======',end='\\n'*2)\n",
    "\n",
    "a = np.array([(1,2), (2,2), (3,3), (4,4)])  # shape(4,2)\n",
    "a = a[:,:,np.newaxis]\n",
    "print(a,'shape:',a.shape,end='\\n'*2)\n",
    "b = np.array([-1,-1])                       # shape(2)-> shape(1,2) -> shape(4,2)  [[-1,1],[-1,1],[-1,1],[-1,1]]\n",
    "print(b,'shape:',b.shape,end='\\n'*2)\n",
    "print(a + b)\n",
    "b = np.array([1,-1,1,-1])                          # 只能由低维向高维兼容\n",
    "print('b.shape',b.shape)\n",
    "print(a + b)"
   ]
  },
  {
   "cell_type": "code",
   "execution_count": 27,
   "metadata": {},
   "outputs": [
    {
     "name": "stdout",
     "output_type": "stream",
     "text": [
      "[[11 22 33]\n",
      " [14 25 36]]\n"
     ]
    }
   ],
   "source": [
    "a = np.array([[1, 2, 3], [4, 5, 6]])\n",
    "b = np.array([10, 20, 30])\n",
    "\n",
    "c = a + b\n",
    "print(c)"
   ]
  }
 ],
 "metadata": {
  "kernelspec": {
   "display_name": "DeepLearning",
   "language": "python",
   "name": "python3"
  },
  "language_info": {
   "codemirror_mode": {
    "name": "ipython",
    "version": 3
   },
   "file_extension": ".py",
   "mimetype": "text/x-python",
   "name": "python",
   "nbconvert_exporter": "python",
   "pygments_lexer": "ipython3",
   "version": "3.12.8"
  }
 },
 "nbformat": 4,
 "nbformat_minor": 2
}

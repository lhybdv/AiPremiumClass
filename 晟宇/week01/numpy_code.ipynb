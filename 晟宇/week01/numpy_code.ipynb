{
 "cells": [
  {
   "cell_type": "code",
   "execution_count": 3,
   "metadata": {},
   "outputs": [
    {
     "data": {
      "text/plain": [
       "array([1, 2, 3, 4, 5, 6])"
      ]
     },
     "execution_count": 3,
     "metadata": {},
     "output_type": "execute_result"
    }
   ],
   "source": [
    "import numpy as np\n",
    "# 创建ndarray数组\n",
    "arr = np.array([1,2,3,4,5,6], int)\n",
    "arr"
   ]
  },
  {
   "cell_type": "code",
   "execution_count": 6,
   "metadata": {},
   "outputs": [
    {
     "name": "stdout",
     "output_type": "stream",
     "text": [
      "[[1 2 3]\n",
      " [4 5 6]\n",
      " [7 8 9]]\n",
      "[[1 4 7]\n",
      " [2 5 8]\n",
      " [3 6 9]]\n",
      "(3, 3)\n"
     ]
    }
   ],
   "source": [
    "a = np.array([(1,2,3), (4,5,6), (7,8,9)])\n",
    "print(a)\n",
    "print(a.T)\n",
    "print(a.shape)"
   ]
  },
  {
   "cell_type": "code",
   "execution_count": 8,
   "metadata": {},
   "outputs": [
    {
     "data": {
      "text/plain": [
       "array([[0, 0, 0, 0],\n",
       "       [0, 0, 0, 0],\n",
       "       [0, 0, 0, 0]], dtype=int64)"
      ]
     },
     "execution_count": 8,
     "metadata": {},
     "output_type": "execute_result"
    }
   ],
   "source": [
    "a1 = np.zeros((3,4), dtype=np.int64)\n",
    "a1"
   ]
  },
  {
   "cell_type": "code",
   "execution_count": 18,
   "metadata": {},
   "outputs": [
    {
     "data": {
      "text/plain": [
       "array([1. , 1.5, 2. , 2.5, 3. , 3.5, 4. , 4.5, 5. , 5.5, 6. , 6.5])"
      ]
     },
     "execution_count": 18,
     "metadata": {},
     "output_type": "execute_result"
    }
   ],
   "source": [
    "a2 = np.arange(1,7, 0.5)\n",
    "a2"
   ]
  },
  {
   "cell_type": "code",
   "execution_count": 19,
   "metadata": {},
   "outputs": [
    {
     "data": {
      "text/plain": [
       "array([[1., 0., 0., 0.],\n",
       "       [0., 1., 0., 0.],\n",
       "       [0., 0., 1., 0.],\n",
       "       [0., 0., 0., 1.]])"
      ]
     },
     "execution_count": 19,
     "metadata": {},
     "output_type": "execute_result"
    }
   ],
   "source": [
    "a3 = np.eye(4)\n",
    "a3  # one-hot编码"
   ]
  },
  {
   "cell_type": "code",
   "execution_count": 20,
   "metadata": {},
   "outputs": [
    {
     "data": {
      "text/plain": [
       "array([0.19039299, 0.36309417, 0.97666328, 0.61508596, 0.51404943,\n",
       "       0.15603949, 0.22036667])"
      ]
     },
     "execution_count": 20,
     "metadata": {},
     "output_type": "execute_result"
    }
   ],
   "source": [
    "a4 = np.random.random(7)  # 模型运算参数初始值\n",
    "a4"
   ]
  },
  {
   "cell_type": "code",
   "execution_count": 22,
   "metadata": {},
   "outputs": [
    {
     "data": {
      "text/plain": [
       "array([ 0.18569408, -0.01458741, -0.11511322,  0.00740185, -0.16238187])"
      ]
     },
     "execution_count": 22,
     "metadata": {},
     "output_type": "execute_result"
    }
   ],
   "source": [
    "a5 = np.random.normal(0, 0.1, 5)  # 模型运算参数初始值\n",
    "a5"
   ]
  },
  {
   "cell_type": "code",
   "execution_count": 27,
   "metadata": {},
   "outputs": [
    {
     "name": "stdout",
     "output_type": "stream",
     "text": [
      "[[1 3 5]\n",
      " [2 4 6]]\n",
      "[3 4]\n"
     ]
    }
   ],
   "source": [
    "a6 = np.array([(1,2), (3,4), (5,6)])\n",
    "print(a6.T)\n",
    "print(a6.T[:,1])"
   ]
  },
  {
   "cell_type": "code",
   "execution_count": 28,
   "metadata": {},
   "outputs": [
    {
     "name": "stdout",
     "output_type": "stream",
     "text": [
      "1 2\n",
      "3 4\n",
      "5 6\n",
      "7 8\n"
     ]
    }
   ],
   "source": [
    "a7 = np.array([(1,2), (3,4), (5,6),(7,8)])\n",
    "# i,j = a7[0]\n",
    "for i,j in a7:\n",
    "    print(i,j)"
   ]
  },
  {
   "cell_type": "code",
   "execution_count": 16,
   "metadata": {},
   "outputs": [
    {
     "name": "stdout",
     "output_type": "stream",
     "text": [
      "ndim: 2\n",
      "shape: (3, 3)\n",
      "size 9\n",
      "dtype int64\n"
     ]
    }
   ],
   "source": [
    "a = np.array([(1,2,3), (4,5,6), (7,8,9)])\n",
    "print(\"ndim:\", a.ndim)\n",
    "print(\"shape:\", a.shape)\n",
    "print(\"size\", a.size)\n",
    "print(\"dtype\", a.dtype)"
   ]
  },
  {
   "cell_type": "code",
   "execution_count": 22,
   "metadata": {},
   "outputs": [
    {
     "name": "stdout",
     "output_type": "stream",
     "text": [
      "True\n"
     ]
    }
   ],
   "source": [
    "print(3 in a)"
   ]
  },
  {
   "cell_type": "code",
   "execution_count": 32,
   "metadata": {},
   "outputs": [
    {
     "name": "stdout",
     "output_type": "stream",
     "text": [
      "[ 1  2  3  4  5  6  7  8  9 10 11 12 13 14 15]\n",
      "(15,)\n",
      "[[[ 1]\n",
      "  [ 2]\n",
      "  [ 3]\n",
      "  [ 4]\n",
      "  [ 5]]\n",
      "\n",
      " [[ 6]\n",
      "  [ 7]\n",
      "  [ 8]\n",
      "  [ 9]\n",
      "  [10]]\n",
      "\n",
      " [[11]\n",
      "  [12]\n",
      "  [13]\n",
      "  [14]\n",
      "  [15]]]\n",
      "(3, 5, 1)\n"
     ]
    }
   ],
   "source": [
    "a7 = np.arange(1,16)\n",
    "print(a7)\n",
    "print(a7.shape)\n",
    "\n",
    "a7 = a7.reshape(3,5,1)  # 维度大小乘积 == 元素个数\n",
    "print(a7)\n",
    "\n",
    "print(a7.shape)  # 高维矩阵，每个维度都有含义\n",
    "\n",
    "# 加载图像数据\n",
    "# img.shape [1,3,120,120] 1个样本，3颜色特征通道，120高，120宽"
   ]
  },
  {
   "cell_type": "code",
   "execution_count": 33,
   "metadata": {},
   "outputs": [
    {
     "name": "stdout",
     "output_type": "stream",
     "text": [
      "[[1 2 3]\n",
      " [4 5 6]\n",
      " [7 8 9]]\n",
      "[[1 4 7]\n",
      " [2 5 8]\n",
      " [3 6 9]]\n"
     ]
    }
   ],
   "source": [
    "print(a)\n",
    "a = a.T\n",
    "print(a)"
   ]
  },
  {
   "cell_type": "code",
   "execution_count": 30,
   "metadata": {},
   "outputs": [
    {
     "name": "stdout",
     "output_type": "stream",
     "text": [
      "[1 4 7 2 5 8 3 6 9]\n"
     ]
    }
   ],
   "source": [
    "a = a.flatten()\n",
    "print(a)"
   ]
  },
  {
   "cell_type": "code",
   "execution_count": 39,
   "metadata": {},
   "outputs": [
    {
     "data": {
      "text/plain": [
       "(3, 2, 1)"
      ]
     },
     "execution_count": 39,
     "metadata": {},
     "output_type": "execute_result"
    }
   ],
   "source": [
    "a8 = np.array([(1,2), (3,4), (5,6)])\n",
    "a8 = a8[:,:,np.newaxis]  # [3,1,2]\n",
    "a8.shape"
   ]
  },
  {
   "cell_type": "code",
   "execution_count": 44,
   "metadata": {},
   "outputs": [
    {
     "name": "stdout",
     "output_type": "stream",
     "text": [
      "[[1. 1.]\n",
      " [1. 1.]\n",
      " [1. 1.]]\n",
      "[[-1  1]\n",
      " [-1  1]\n",
      " [-1  1]]\n",
      "---------\n",
      "[[0. 2.]\n",
      " [0. 2.]\n",
      " [0. 2.]]\n",
      "---------\n",
      "[[2. 0.]\n",
      " [2. 0.]\n",
      " [2. 0.]]\n"
     ]
    }
   ],
   "source": [
    "a = np.ones((3,2))\n",
    "b = np.array([(-1,1),(-1,1),(-1,1)])\n",
    "print(a)\n",
    "print(b)\n",
    "print('---------')\n",
    "print(a+b)\n",
    "print('---------')\n",
    "print(a-b)"
   ]
  },
  {
   "cell_type": "code",
   "execution_count": 45,
   "metadata": {},
   "outputs": [
    {
     "data": {
      "text/plain": [
       "6.0"
      ]
     },
     "execution_count": 45,
     "metadata": {},
     "output_type": "execute_result"
    }
   ],
   "source": [
    "a.sum()"
   ]
  },
  {
   "cell_type": "code",
   "execution_count": 46,
   "metadata": {},
   "outputs": [
    {
     "data": {
      "text/plain": [
       "1.0"
      ]
     },
     "execution_count": 46,
     "metadata": {},
     "output_type": "execute_result"
    }
   ],
   "source": [
    "a.prod()"
   ]
  },
  {
   "cell_type": "code",
   "execution_count": 51,
   "metadata": {},
   "outputs": [
    {
     "name": "stdout",
     "output_type": "stream",
     "text": [
      "mean: 3.0\n",
      "var: 2.0\n",
      "std: 1.4142135623730951\n"
     ]
    }
   ],
   "source": [
    "a = np.array([5,3,2,1,4])\n",
    "print(\"mean:\",a.mean())\n",
    "print(\"var:\", a.var())\n",
    "print(\"std:\", a.std())"
   ]
  },
  {
   "cell_type": "code",
   "execution_count": 53,
   "metadata": {},
   "outputs": [
    {
     "name": "stdout",
     "output_type": "stream",
     "text": [
      "argmax: 4\n",
      "argmin: 1\n",
      "ceil: [2. 2. 4. 5. 5.]\n",
      "floor: [1. 1. 3. 4. 4.]\n",
      "rint: [1. 1. 4. 5. 5.]\n"
     ]
    }
   ],
   "source": [
    "a = np.array([1.021,1.02, 3.8, 4.9, 4.91])\n",
    "print(\"argmax:\", a.argmax()) # 最大值的索引\n",
    "print(\"argmin:\", a.argmin()) # 最小值的索引\n",
    "\n",
    "print(\"ceil:\", np.ceil(a))  # 向上取整\n",
    "print(\"floor:\", np.floor(a)) # 向下取整\n",
    "print(\"rint:\", np.rint(a))  # 四舍五入"
   ]
  },
  {
   "cell_type": "code",
   "execution_count": 58,
   "metadata": {},
   "outputs": [
    {
     "name": "stdout",
     "output_type": "stream",
     "text": [
      "[22  6 52 59 81 91 47 25 54 13]\n",
      "[ 6 13 22 25 47 52 54 59 81 91]\n"
     ]
    }
   ],
   "source": [
    "# a = np.array([16,31,12,28,22,31,48])\n",
    "a = np.random.randint(0, 100, size=10)\n",
    "print(a)\n",
    "a.sort()\n",
    "print(a)"
   ]
  },
  {
   "cell_type": "code",
   "execution_count": 59,
   "metadata": {},
   "outputs": [
    {
     "name": "stdout",
     "output_type": "stream",
     "text": [
      "torch.float32\n"
     ]
    },
    {
     "data": {
      "text/plain": [
       "tensor([[ 1.,  4.,  9.],\n",
       "        [16., 25., 36.],\n",
       "        [49., 64., 81.]])"
      ]
     },
     "execution_count": 59,
     "metadata": {},
     "output_type": "execute_result"
    }
   ],
   "source": [
    "import torch\n",
    "tensor = torch.arange(1,10, dtype=torch.float32).reshape(3, 3)\n",
    "\n",
    "print(tensor.dtype)\n",
    "\n",
    "# 计算两个张量之间矩阵乘法的几种方式。 y1, y2, y3 最后的值是一样的 dot\n",
    "y1 = tensor @ tensor.T\n",
    "y2 = tensor.matmul(tensor.T)\n",
    "\n",
    "y3 = torch.rand_like(tensor)\n",
    "torch.matmul(tensor, tensor.T, out=y3)\n",
    "\n",
    "\n",
    "# 计算张量逐元素相乘的几种方法。 z1, z2, z3 最后的值是一样的。\n",
    "z1 = tensor * tensor\n",
    "z2 = tensor.mul(tensor)\n",
    "\n",
    "z3 = torch.rand_like(tensor)\n",
    "torch.mul(tensor, tensor, out=z3)"
   ]
  },
  {
   "cell_type": "code",
   "execution_count": 64,
   "metadata": {},
   "outputs": [
    {
     "data": {
      "text/plain": [
       "tensor([[ 4., 10., 18.],\n",
       "        [28., 40., 54.]], dtype=torch.float64)"
      ]
     },
     "execution_count": 64,
     "metadata": {},
     "output_type": "execute_result"
    }
   ],
   "source": [
    "a9 = torch.arange(1,7,dtype=torch.float64).reshape(2,3)\n",
    "b9 = torch.arange(4,10,dtype=torch.float64).reshape(2,3)\n",
    "a9 * b9"
   ]
  },
  {
   "cell_type": "code",
   "execution_count": 70,
   "metadata": {},
   "outputs": [
    {
     "name": "stdout",
     "output_type": "stream",
     "text": [
      "矩阵 1:\n",
      "[[1. 5.]\n",
      " [3. 7.]]\n",
      "矩阵 2:\n",
      "[[5. 4.]\n",
      " [2. 8.]]\n",
      "使用 np.dot 得到的矩阵乘法结果:\n",
      "[[15. 44.]\n",
      " [29. 68.]]\n",
      "使用 @ 运算符得到的矩阵乘法结果:\n",
      "[[15. 44.]\n",
      " [29. 68.]]\n",
      "1.0 * 5.0 = 5.0\n",
      "5.0 * 2.0 = 10.0\n",
      "结果矩阵[1,1]:15.0\n",
      "\n",
      "1.0 * 4.0 = 4.0\n",
      "5.0 * 8.0 = 40.0\n",
      "结果矩阵[1,2]:44.0\n",
      "\n",
      "3.0 * 5.0 = 15.0\n",
      "7.0 * 2.0 = 14.0\n",
      "结果矩阵[2,1]:29.0\n",
      "\n",
      "3.0 * 4.0 = 12.0\n",
      "7.0 * 8.0 = 56.0\n",
      "结果矩阵[2,2]:68.0\n",
      "\n",
      "手动推演结果:\n",
      "[[15. 44.]\n",
      " [29. 68.]]\n"
     ]
    }
   ],
   "source": [
    "import numpy as np\n",
    "\n",
    "# 定义两个简单的矩阵\n",
    "m1 = np.array([[1, 5], [3, 7]], dtype=np.float32)\n",
    "m2 = np.array([[5, 4], [2, 8]], dtype=np.float32)\n",
    "# m1 = m1.reshape(2,2)  # 矩阵1最后1个维度 == 矩阵2倒数第2个维度\n",
    "# m2 = m2.reshape(2,2)\n",
    "\n",
    "# 使用 np.dot 进行矩阵乘法\n",
    "result_dot = np.dot(m1, m2)\n",
    "\n",
    "# 使用 @ 运算符进行矩阵乘法\n",
    "result_at = m1 @ m2\n",
    "\n",
    "print(\"矩阵 1:\")\n",
    "print(m1)\n",
    "print(\"矩阵 2:\")\n",
    "print(m2)\n",
    "print(\"使用 np.dot 得到的矩阵乘法结果:\")\n",
    "print(result_dot)\n",
    "print(\"使用 @ 运算符得到的矩阵乘法结果:\")\n",
    "print(result_at)\n",
    "\n",
    "# 创建一个全零矩阵，用于存储手动推演的结果\n",
    "# 结果矩阵的行数等于 matrix1 的行数，列数等于 matrix2 的列数\n",
    "manual_result = np.zeros((m1.shape[0], m2.shape[1]), dtype=np.float32)\n",
    "\n",
    "# 外层循环：遍历 matrix1 的每一行\n",
    "# i 表示结果矩阵的行索引\n",
    "for i in range(m1.shape[0]):\n",
    "    # 中层循环：遍历 matrix2 的每一列\n",
    "    # j 表示结果矩阵的列索引\n",
    "    for j in range(m2.shape[1]):\n",
    "        # 初始化当前位置的结果为 0\n",
    "        manual_result[i, j] = 0\n",
    "        # 内层循环：计算 matrix1 的第 i 行与 matrix2 的第 j 列对应元素的乘积之和\n",
    "        # k 表示参与乘法运算的元素索引\n",
    "        for k in range(m1.shape[1]):\n",
    "            # 打印当前正在计算的元素\n",
    "            print(f\"{m1[i, k]} * {m2[k, j]} = {m1[i, k] * m2[k, j]}\")\n",
    "            # 将 matrix1 的第 i 行第 k 列元素与 matrix2 的第 k 行第 j 列元素相乘，并累加到结果矩阵的相应位置\n",
    "            manual_result[i, j] += m1[i, k] * m2[k, j]\n",
    "        # 打印当前位置计算完成后的结果\n",
    "        print(f\"结果矩阵[{i+1},{j+1}]:{manual_result[i, j]}\\n\")\n",
    "\n",
    "print(\"手动推演结果:\")\n",
    "print(manual_result)"
   ]
  },
  {
   "cell_type": "code",
   "execution_count": 67,
   "metadata": {},
   "outputs": [],
   "source": [
    "np.save('result.npy',manual_result)"
   ]
  },
  {
   "cell_type": "code",
   "execution_count": 68,
   "metadata": {},
   "outputs": [
    {
     "data": {
      "text/plain": [
       "array([[19., 22.],\n",
       "       [43., 50.]], dtype=float32)"
      ]
     },
     "execution_count": 68,
     "metadata": {},
     "output_type": "execute_result"
    }
   ],
   "source": [
    "result_np = np.load('result.npy')\n",
    "result_np"
   ]
  },
  {
   "cell_type": "code",
   "execution_count": 71,
   "metadata": {},
   "outputs": [
    {
     "data": {
      "text/plain": [
       "array([ 7,  9, 11])"
      ]
     },
     "execution_count": 71,
     "metadata": {},
     "output_type": "execute_result"
    }
   ],
   "source": [
    "a = np.array([2,3,4])\n",
    "b = np.array([5,6,7])\n",
    "a + b"
   ]
  },
  {
   "cell_type": "code",
   "execution_count": null,
   "metadata": {},
   "outputs": [
    {
     "data": {
      "text/plain": [
       "array([[0, 3],\n",
       "       [1, 3],\n",
       "       [2, 4],\n",
       "       [3, 5],\n",
       "       [4, 6]])"
      ]
     },
     "execution_count": 73,
     "metadata": {},
     "output_type": "execute_result"
    }
   ],
   "source": [
    "a = np.array([(1,2), (2,2), (3,3), (4,4), (5,5)])  # shape(4,2)\n",
    "b = np.array([-1,1])  # shape(2)-> shape(1,2) -> shape(4,2)  [[-1,1],[-1,1],[-1,1],[-1,1]]\n",
    "a + b"
   ]
  }
 ],
 "metadata": {
  "kernelspec": {
   "display_name": "Python 3",
   "language": "python",
   "name": "python3"
  },
  "language_info": {
   "codemirror_mode": {
    "name": "ipython",
    "version": 3
   },
   "file_extension": ".py",
   "mimetype": "text/x-python",
   "name": "python",
   "nbconvert_exporter": "python",
   "pygments_lexer": "ipython3",
   "version": "3.12.1"
  }
 },
 "nbformat": 4,
 "nbformat_minor": 2
}

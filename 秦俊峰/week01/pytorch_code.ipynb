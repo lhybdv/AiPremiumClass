{
 "cells": [
  {
   "cell_type": "code",
   "metadata": {
    "ExecuteTime": {
     "end_time": "2025-02-27T18:10:24.064391Z",
     "start_time": "2025-02-27T18:10:24.060370Z"
    }
   },
   "source": [
    "import torch\n",
    "\n",
    "data = torch.tensor([[1,2],[3,4]], dtype=torch.float32)\n",
    "data"
   ],
   "outputs": [
    {
     "data": {
      "text/plain": [
       "tensor([[1., 2.],\n",
       "        [3., 4.]])"
      ]
     },
     "execution_count": 19,
     "metadata": {},
     "output_type": "execute_result"
    }
   ],
   "execution_count": 19
  },
  {
   "cell_type": "code",
   "metadata": {
    "ExecuteTime": {
     "end_time": "2025-02-27T18:10:24.514262Z",
     "start_time": "2025-02-27T18:10:24.511331Z"
    }
   },
   "source": [
    "import numpy as np\n",
    "\n",
    "np_array = np.array([[1,2],[3,4]])\n",
    "data2 = torch.from_numpy(np_array)\n",
    "data2"
   ],
   "outputs": [
    {
     "data": {
      "text/plain": [
       "tensor([[1, 2],\n",
       "        [3, 4]])"
      ]
     },
     "execution_count": 20,
     "metadata": {},
     "output_type": "execute_result"
    }
   ],
   "execution_count": 20
  },
  {
   "cell_type": "code",
   "metadata": {
    "ExecuteTime": {
     "end_time": "2025-02-27T18:10:24.826198Z",
     "start_time": "2025-02-27T18:10:24.823637Z"
    }
   },
   "source": [
    "data2.dtype"
   ],
   "outputs": [
    {
     "data": {
      "text/plain": [
       "torch.int64"
      ]
     },
     "execution_count": 21,
     "metadata": {},
     "output_type": "execute_result"
    }
   ],
   "execution_count": 21
  },
  {
   "cell_type": "code",
   "metadata": {
    "ExecuteTime": {
     "end_time": "2025-02-27T18:10:25.072065Z",
     "start_time": "2025-02-27T18:10:25.068734Z"
    }
   },
   "source": [
    "# 通过已知张量维度，创建新张量\n",
    "data3 = torch.rand_like(data2, dtype=torch.float)\n",
    "data3"
   ],
   "outputs": [
    {
     "data": {
      "text/plain": [
       "tensor([[0.9090, 0.9247],\n",
       "        [0.3446, 0.9096]])"
      ]
     },
     "execution_count": 22,
     "metadata": {},
     "output_type": "execute_result"
    }
   ],
   "execution_count": 22
  },
  {
   "cell_type": "code",
   "metadata": {
    "ExecuteTime": {
     "end_time": "2025-02-27T18:10:25.338404Z",
     "start_time": "2025-02-27T18:10:25.335208Z"
    }
   },
   "source": [
    "shape = (2,3,)\n",
    "rand_tensor = torch.rand(shape)\n",
    "ones_tensor = torch.ones(shape)\n",
    "zeros_tensor = torch.zeros(shape)\n",
    "\n",
    "print(f\"Random Tensor: \\n {rand_tensor} \\n\")\n",
    "print(f\"Ones Tensor: \\n {ones_tensor} \\n\")\n",
    "print(f\"Zeros Tensor: \\n {zeros_tensor}\")"
   ],
   "outputs": [
    {
     "name": "stdout",
     "output_type": "stream",
     "text": [
      "Random Tensor: \n",
      " tensor([[0.8176, 0.3426, 0.7427],\n",
      "        [0.3807, 0.4333, 0.3260]]) \n",
      "\n",
      "Ones Tensor: \n",
      " tensor([[1., 1., 1.],\n",
      "        [1., 1., 1.]]) \n",
      "\n",
      "Zeros Tensor: \n",
      " tensor([[0., 0., 0.],\n",
      "        [0., 0., 0.]])\n"
     ]
    }
   ],
   "execution_count": 23
  },
  {
   "cell_type": "code",
   "metadata": {
    "ExecuteTime": {
     "end_time": "2025-02-27T18:10:25.949912Z",
     "start_time": "2025-02-27T18:10:25.944896Z"
    }
   },
   "source": [
    "m = torch.ones(5,3, dtype=torch.double)\n",
    "n = torch.rand_like(m, dtype=torch.float)\n",
    "\n",
    "print(m.size())\n",
    "\n",
    "# 均匀\n",
    "print(torch.rand(5,3))\n",
    "# 标准正态\n",
    "print(torch.randn(5,3))\n",
    "# 离散正态\n",
    "print(torch.normal(mean=.0,std=1.0,size=(5,3)))\n",
    "# 线性间隔向量\n",
    "print(torch.linspace(start=1,end=10,steps=21))"
   ],
   "outputs": [
    {
     "name": "stdout",
     "output_type": "stream",
     "text": [
      "torch.Size([5, 3])\n",
      "tensor([[0.7848, 0.1031, 0.0462],\n",
      "        [0.3533, 0.4529, 0.8046],\n",
      "        [0.5605, 0.2099, 0.1306],\n",
      "        [0.0966, 0.4450, 0.8923],\n",
      "        [0.3023, 0.4044, 0.0474]])\n",
      "tensor([[ 1.1280,  0.2927,  1.1017],\n",
      "        [-2.0955,  0.8791,  0.1994],\n",
      "        [ 0.7146, -0.7436, -0.2422],\n",
      "        [-1.7103,  0.9483, -0.4753],\n",
      "        [-0.6994, -0.9840, -1.1945]])\n",
      "tensor([[-0.1610,  1.8128, -0.1641],\n",
      "        [-0.3701,  1.9159, -0.7135],\n",
      "        [-0.6089, -1.2283,  0.0324],\n",
      "        [-1.0636,  1.3286,  0.5649],\n",
      "        [-0.3240, -0.3296, -0.4637]])\n",
      "tensor([ 1.0000,  1.4500,  1.9000,  2.3500,  2.8000,  3.2500,  3.7000,  4.1500,\n",
      "         4.6000,  5.0500,  5.5000,  5.9500,  6.4000,  6.8500,  7.3000,  7.7500,\n",
      "         8.2000,  8.6500,  9.1000,  9.5500, 10.0000])\n"
     ]
    }
   ],
   "execution_count": 24
  },
  {
   "cell_type": "code",
   "metadata": {
    "ExecuteTime": {
     "end_time": "2025-02-27T18:10:26.437159Z",
     "start_time": "2025-02-27T18:10:26.434211Z"
    }
   },
   "source": [
    "tensor = torch.rand(3,4)\n",
    "\n",
    "print(f\"Shape of tensor: {tensor.shape}\")\n",
    "print(f\"Datatype of tensor: {tensor.dtype}\")\n",
    "print(f\"Device tensor is stored on: {tensor.device}\")"
   ],
   "outputs": [
    {
     "name": "stdout",
     "output_type": "stream",
     "text": [
      "Shape of tensor: torch.Size([3, 4])\n",
      "Datatype of tensor: torch.float32\n",
      "Device tensor is stored on: cpu\n"
     ]
    }
   ],
   "execution_count": 25
  },
  {
   "cell_type": "code",
   "metadata": {
    "ExecuteTime": {
     "end_time": "2025-02-27T18:10:26.908448Z",
     "start_time": "2025-02-27T18:10:26.894057Z"
    }
   },
   "source": [
    "# 是否支持GPU??\n",
    "if torch.cuda.is_available():\n",
    "    device = torch.device(\"cuda\")\n",
    "    tensor = tensor.to(device)\n",
    "\n",
    "print(tensor)\n",
    "print(tensor.device)\n",
    "\n",
    "# 使用M系列芯片\n",
    "if torch.backends.mps.is_available():\n",
    "    device = torch.device(\"mps\")\n",
    "    tensor = tensor.to(device)\n",
    "\n",
    "print(tensor)\n",
    "print(tensor.device)"
   ],
   "outputs": [
    {
     "name": "stdout",
     "output_type": "stream",
     "text": [
      "tensor([[0.3932, 0.5944, 0.1009, 0.4234],\n",
      "        [0.3209, 0.1513, 0.8973, 0.4428],\n",
      "        [0.4121, 0.2233, 0.6563, 0.1522]])\n",
      "cpu\n",
      "tensor([[0.3932, 0.5944, 0.1009, 0.4234],\n",
      "        [0.3209, 0.1513, 0.8973, 0.4428],\n",
      "        [0.4121, 0.2233, 0.6563, 0.1522]], device='mps:0')\n",
      "mps:0\n"
     ]
    }
   ],
   "execution_count": 26
  },
  {
   "cell_type": "code",
   "metadata": {
    "ExecuteTime": {
     "end_time": "2025-02-27T18:10:27.361385Z",
     "start_time": "2025-02-27T18:10:27.356069Z"
    }
   },
   "source": [
    "tensor = torch.ones(4, 4)\n",
    "print('First row: ', tensor[0])\n",
    "print('First column: ', tensor[:, 0])\n",
    "print('Last column:', tensor[..., -1])\n",
    "tensor[:,1] = 0\n",
    "print(tensor)"
   ],
   "outputs": [
    {
     "name": "stdout",
     "output_type": "stream",
     "text": [
      "First row:  tensor([1., 1., 1., 1.])\n",
      "First column:  tensor([1., 1., 1., 1.])\n",
      "Last column: tensor([1., 1., 1., 1.])\n",
      "tensor([[1., 0., 1., 1.],\n",
      "        [1., 0., 1., 1.],\n",
      "        [1., 0., 1., 1.],\n",
      "        [1., 0., 1., 1.]])\n"
     ]
    }
   ],
   "execution_count": 27
  },
  {
   "cell_type": "code",
   "metadata": {
    "ExecuteTime": {
     "end_time": "2025-02-27T18:10:27.772315Z",
     "start_time": "2025-02-27T18:10:27.769370Z"
    }
   },
   "source": [
    "t1 = torch.cat([tensor, tensor, tensor], dim=1)\n",
    "print(t1 * 3)\n",
    "print(t1.shape)"
   ],
   "outputs": [
    {
     "name": "stdout",
     "output_type": "stream",
     "text": [
      "tensor([[3., 0., 3., 3., 3., 0., 3., 3., 3., 0., 3., 3.],\n",
      "        [3., 0., 3., 3., 3., 0., 3., 3., 3., 0., 3., 3.],\n",
      "        [3., 0., 3., 3., 3., 0., 3., 3., 3., 0., 3., 3.],\n",
      "        [3., 0., 3., 3., 3., 0., 3., 3., 3., 0., 3., 3.]])\n",
      "torch.Size([4, 12])\n"
     ]
    }
   ],
   "execution_count": 28
  },
  {
   "cell_type": "code",
   "metadata": {
    "ExecuteTime": {
     "end_time": "2025-02-27T18:10:28.213203Z",
     "start_time": "2025-02-27T18:10:28.206994Z"
    }
   },
   "source": [
    "import torch\n",
    "tensor = torch.arange(1,10, dtype=torch.float32).reshape(3, 3)\n",
    "\n",
    "\n",
    "y1 = tensor @ tensor.T\n",
    "y2 = tensor.matmul(tensor.T)\n",
    "\n",
    "print(y1)\n",
    "print(y2)\n",
    "\n",
    "y3 = torch.rand_like(tensor)\n",
    "torch.matmul(tensor, tensor.T, out=y3)\n",
    "print(y3)\n",
    "\n",
    "\n",
    "\n",
    "z1 = tensor * tensor\n",
    "z2 = tensor.mul(tensor)\n",
    "\n",
    "z3 = torch.rand_like(tensor)\n",
    "torch.mul(tensor, tensor, out=z3)\n",
    "\n",
    "print(z1)\n",
    "print(z3)"
   ],
   "outputs": [
    {
     "name": "stdout",
     "output_type": "stream",
     "text": [
      "tensor([[ 14.,  32.,  50.],\n",
      "        [ 32.,  77., 122.],\n",
      "        [ 50., 122., 194.]])\n",
      "tensor([[ 14.,  32.,  50.],\n",
      "        [ 32.,  77., 122.],\n",
      "        [ 50., 122., 194.]])\n",
      "tensor([[ 14.,  32.,  50.],\n",
      "        [ 32.,  77., 122.],\n",
      "        [ 50., 122., 194.]])\n",
      "tensor([[ 1.,  4.,  9.],\n",
      "        [16., 25., 36.],\n",
      "        [49., 64., 81.]])\n",
      "tensor([[ 1.,  4.,  9.],\n",
      "        [16., 25., 36.],\n",
      "        [49., 64., 81.]])\n"
     ]
    }
   ],
   "execution_count": 29
  },
  {
   "cell_type": "code",
   "metadata": {
    "ExecuteTime": {
     "end_time": "2025-02-27T18:10:28.546024Z",
     "start_time": "2025-02-27T18:10:28.543662Z"
    }
   },
   "source": [
    "agg = tensor.sum()\n",
    "agg_item = agg.item()\n",
    "print(agg_item, type(agg_item))"
   ],
   "outputs": [
    {
     "name": "stdout",
     "output_type": "stream",
     "text": [
      "45.0 <class 'float'>\n"
     ]
    }
   ],
   "execution_count": 30
  },
  {
   "cell_type": "code",
   "metadata": {
    "ExecuteTime": {
     "end_time": "2025-02-27T18:10:29.012504Z",
     "start_time": "2025-02-27T18:10:29.009268Z"
    }
   },
   "source": [
    "np_arr = z1.numpy()\n",
    "np_arr"
   ],
   "outputs": [
    {
     "data": {
      "text/plain": [
       "array([[ 1.,  4.,  9.],\n",
       "       [16., 25., 36.],\n",
       "       [49., 64., 81.]], dtype=float32)"
      ]
     },
     "execution_count": 31,
     "metadata": {},
     "output_type": "execute_result"
    }
   ],
   "execution_count": 31
  },
  {
   "cell_type": "code",
   "metadata": {
    "ExecuteTime": {
     "end_time": "2025-02-27T18:10:29.706955Z",
     "start_time": "2025-02-27T18:10:29.702257Z"
    }
   },
   "source": [
    "print(tensor, \"\\n\")\n",
    "tensor.add_(5)\n",
    "print(tensor)\n",
    "tensor = tensor + 5\n",
    "print(tensor)\n",
    "tensor += 5\n",
    "print(tensor)"
   ],
   "outputs": [
    {
     "name": "stdout",
     "output_type": "stream",
     "text": [
      "tensor([[1., 2., 3.],\n",
      "        [4., 5., 6.],\n",
      "        [7., 8., 9.]]) \n",
      "\n",
      "tensor([[ 6.,  7.,  8.],\n",
      "        [ 9., 10., 11.],\n",
      "        [12., 13., 14.]])\n",
      "tensor([[11., 12., 13.],\n",
      "        [14., 15., 16.],\n",
      "        [17., 18., 19.]])\n",
      "tensor([[16., 17., 18.],\n",
      "        [19., 20., 21.],\n",
      "        [22., 23., 24.]])\n"
     ]
    }
   ],
   "execution_count": 32
  },
  {
   "cell_type": "code",
   "metadata": {
    "ExecuteTime": {
     "end_time": "2025-02-27T18:10:30.279836Z",
     "start_time": "2025-02-27T18:10:30.276178Z"
    }
   },
   "source": [
    "tensor"
   ],
   "outputs": [
    {
     "data": {
      "text/plain": [
       "tensor([[16., 17., 18.],\n",
       "        [19., 20., 21.],\n",
       "        [22., 23., 24.]])"
      ]
     },
     "execution_count": 33,
     "metadata": {},
     "output_type": "execute_result"
    }
   ],
   "execution_count": 33
  },
  {
   "cell_type": "code",
   "metadata": {
    "ExecuteTime": {
     "end_time": "2025-02-27T18:10:30.803995Z",
     "start_time": "2025-02-27T18:10:30.779391Z"
    }
   },
   "source": [
    "import torch\n",
    "from torchviz import make_dot\n",
    "\n",
    "\n",
    "A = torch.randn(10, 10,requires_grad=True)\n",
    "b = torch.randn(10,requires_grad=True)\n",
    "c = torch.randn(1,requires_grad=True)\n",
    "x = torch.randn(10, requires_grad=True)\n",
    "\n",
    "\n",
    "\n",
    "result = torch.matmul(A, x.T) + torch.matmul(b, x) + c\n",
    "\n",
    "\n",
    "dot = make_dot(result, params={'A': A, 'b': b, 'c': c, 'x': x})\n",
    "dot\n",
    "# 不知道为啥只支持画svg，png的不支持，还在找解决方法\n",
    "dot.render('expression', format='svg', cleanup=True, view=False)"
   ],
   "outputs": [
    {
     "name": "stderr",
     "output_type": "stream",
     "text": [
      "Warning: Warning: no hard-coded metrics for 'monospace'.  Falling back to 'Times' metrics\n"
     ]
    },
    {
     "data": {
      "text/plain": [
       "'expression.svg'"
      ]
     },
     "execution_count": 34,
     "metadata": {},
     "output_type": "execute_result"
    }
   ],
   "execution_count": 34
  },
  {
   "metadata": {
    "ExecuteTime": {
     "end_time": "2025-02-27T18:10:31.073564Z",
     "start_time": "2025-02-27T18:10:31.071996Z"
    }
   },
   "cell_type": "code",
   "source": "",
   "outputs": [],
   "execution_count": null
  },
  {
   "metadata": {
    "ExecuteTime": {
     "end_time": "2025-02-27T18:09:54.224913Z",
     "start_time": "2025-02-27T18:09:54.223669Z"
    }
   },
   "cell_type": "code",
   "source": "",
   "outputs": [],
   "execution_count": null
  }
 ],
 "metadata": {
  "kernelspec": {
   "display_name": "base",
   "language": "python",
   "name": "python3"
  },
  "language_info": {
   "codemirror_mode": {
    "name": "ipython",
    "version": 3
   },
   "file_extension": ".py",
   "mimetype": "text/x-python",
   "name": "python",
   "nbconvert_exporter": "python",
   "pygments_lexer": "ipython3",
   "version": "3.11.10"
  }
 },
 "nbformat": 4,
 "nbformat_minor": 2
}

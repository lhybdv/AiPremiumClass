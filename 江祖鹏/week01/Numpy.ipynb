{
 "cells": [
  {
   "cell_type": "code",
   "execution_count": 5,
   "id": "7565ec38-d3e4-4897-a981-d9333cc02f89",
   "metadata": {},
   "outputs": [],
   "source": [
    "import numpy as np"
   ]
  },
  {
   "cell_type": "code",
   "execution_count": 3,
   "id": "2c926368-43bf-4ae3-8e23-ca62c6b6cef9",
   "metadata": {},
   "outputs": [
    {
     "name": "stdout",
     "output_type": "stream",
     "text": [
      "[1. 2. 3.]\n"
     ]
    }
   ],
   "source": [
    "a = np.array([1,2,3],float)\n",
    "print(a)\n"
   ]
  },
  {
   "cell_type": "code",
   "execution_count": 31,
   "id": "8ec82d14-18fe-491d-81ad-c51ec8544509",
   "metadata": {},
   "outputs": [
    {
     "data": {
      "text/plain": [
       "array([[1, 2, 3]])"
      ]
     },
     "execution_count": 31,
     "metadata": {},
     "output_type": "execute_result"
    }
   ],
   "source": [
    "a = [(1,2,3)]\n",
    "b = np.array(a)\n",
    "b"
   ]
  },
  {
   "cell_type": "code",
   "execution_count": 40,
   "id": "4e39c716-f3da-456b-9d9b-6ce698ce8ade",
   "metadata": {},
   "outputs": [
    {
     "data": {
      "text/plain": [
       "array([[1., 2., 3.],\n",
       "       [4., 6., 5.],\n",
       "       [7., 8., 9.]])"
      ]
     },
     "execution_count": 40,
     "metadata": {},
     "output_type": "execute_result"
    }
   ],
   "source": [
    "# 创建多维数组\n",
    "a = np.array([(1,2,3),(4,6,5),(7,8,9)], dtype = float)\n",
    "a\n"
   ]
  },
  {
   "cell_type": "code",
   "execution_count": 13,
   "id": "3cbe98f7-769e-4801-a2f6-83334d0f53a4",
   "metadata": {},
   "outputs": [
    {
     "data": {
      "text/plain": [
       "array([[0., 0., 0.],\n",
       "       [0., 0., 0.]])"
      ]
     },
     "execution_count": 13,
     "metadata": {},
     "output_type": "execute_result"
    }
   ],
   "source": [
    "# 创建全是1的数组（4,5）（四行五列）\n",
    "a = np.zeros((2,3))\n",
    "a\n"
   ]
  },
  {
   "cell_type": "code",
   "execution_count": 18,
   "id": "6d09eed9-4128-4fac-8743-9b22dbcb52b5",
   "metadata": {},
   "outputs": [
    {
     "data": {
      "text/plain": [
       "array([[1., 1., 1., 1., 1.],\n",
       "       [1., 1., 1., 1., 1.],\n",
       "       [1., 1., 1., 1., 1.],\n",
       "       [1., 1., 1., 1., 1.]])"
      ]
     },
     "execution_count": 18,
     "metadata": {},
     "output_type": "execute_result"
    }
   ],
   "source": [
    "# 创建全是1的数zu（4,5）（四行五列）\n",
    "a= np.ones((4,5))\n",
    "a\n"
   ]
  },
  {
   "cell_type": "code",
   "execution_count": 29,
   "id": "286d57fa-e19f-4feb-a1f7-e9edd739d861",
   "metadata": {},
   "outputs": [
    {
     "data": {
      "text/plain": [
       "array([1. , 1.6, 2.2, 2.8, 3.4, 4. , 4.6])"
      ]
     },
     "execution_count": 29,
     "metadata": {},
     "output_type": "execute_result"
    }
   ],
   "source": [
    "#创建等差数列，从1 开始，5结束，等差数列为0.5\n",
    "a = np.arange(1,5,0.6)\n",
    "a\n"
   ]
  },
  {
   "cell_type": "code",
   "execution_count": 35,
   "id": "7a496e95-a50b-4dd9-8cec-8e605fbf664e",
   "metadata": {},
   "outputs": [
    {
     "data": {
      "text/plain": [
       "array([[1., 0., 0.],\n",
       "       [0., 1., 0.],\n",
       "       [0., 0., 1.]])"
      ]
     },
     "execution_count": 35,
     "metadata": {},
     "output_type": "execute_result"
    }
   ],
   "source": [
    "#创建单位矩阵\n",
    "a = np.eye(3)\n",
    "a"
   ]
  },
  {
   "cell_type": "code",
   "execution_count": 36,
   "id": "e7890396-a3a2-46a6-977b-849843fbeb1c",
   "metadata": {},
   "outputs": [
    {
     "data": {
      "text/plain": [
       "array([0.49741061, 0.01441961, 0.55064346, 0.05954128, 0.12244554])"
      ]
     },
     "execution_count": 36,
     "metadata": {},
     "output_type": "execute_result"
    }
   ],
   "source": [
    "# ⽣成指定⻓度，在(0,1)之间平均分布的随机数组：\n",
    "np.random.random(5)\n"
   ]
  },
  {
   "cell_type": "code",
   "execution_count": 39,
   "id": "11be7550-e54b-4a8f-b54f-a3d82d71ea53",
   "metadata": {},
   "outputs": [
    {
     "data": {
      "text/plain": [
       "array([ 0.04006598, -0.09268486, -0.20311973, -0.19166551,  0.10603129])"
      ]
     },
     "execution_count": 39,
     "metadata": {},
     "output_type": "execute_result"
    }
   ],
   "source": [
    "# ⽣成指定⻓度，符合正态分布的随机数组，指定其均值为0，标准差为0.1\n",
    "mu,sigma = 0,0.1\n",
    "np.random.normal(mu,sigma,5)\n"
   ]
  },
  {
   "cell_type": "code",
   "execution_count": 51,
   "id": "b56a19bd-887f-4eaf-9d48-7bd1a0845294",
   "metadata": {},
   "outputs": [
    {
     "data": {
      "text/plain": [
       "np.int64(4)"
      ]
     },
     "execution_count": 51,
     "metadata": {},
     "output_type": "execute_result"
    }
   ],
   "source": [
    "# numPy数组的访问\n",
    "# 和list 的访问形式基本⼀致，⽀持切⽚操作，\n",
    "a = np.array([(1,2),(3,4),(5,6)])\n",
    "a[:]#输出的是每行\n",
    "a[:,:1]#前面是切片，后面是输出每列第一个\n",
    "a[1][1]\n"
   ]
  },
  {
   "cell_type": "code",
   "execution_count": 52,
   "id": "b711a61e-faca-4e6f-ade3-ebf6cf63e74d",
   "metadata": {},
   "outputs": [
    {
     "name": "stdout",
     "output_type": "stream",
     "text": [
      "1\n",
      "2\n",
      "3\n"
     ]
    }
   ],
   "source": [
    "# numpy的遍历：\n",
    "a = np.array([1,2,3])\n",
    "for i in a:\n",
    "    print(i)\n"
   ]
  },
  {
   "cell_type": "code",
   "execution_count": 53,
   "id": "5e68e02b-87eb-4cb8-b5ab-fbe3dc8dc673",
   "metadata": {},
   "outputs": [
    {
     "name": "stdout",
     "output_type": "stream",
     "text": [
      "2\n",
      "12\n",
      "30\n"
     ]
    }
   ],
   "source": [
    "# 多维数组的遍历？\n",
    "a = np.array([(1,2),(3,4),(5,6)])\n",
    "for i,j in a:\n",
    "    print(i*j)\n",
    "#每列之间相乘"
   ]
  },
  {
   "cell_type": "code",
   "execution_count": 55,
   "id": "7ff710b9-3b24-4a7a-9d75-da0cd3d84b64",
   "metadata": {},
   "outputs": [
    {
     "name": "stdout",
     "output_type": "stream",
     "text": [
      "2\n",
      "(3, 3)\n",
      "9\n",
      "int64\n"
     ]
    }
   ],
   "source": [
    "#numpy数组的常用属性\n",
    "# 比较常用的属性有：\n",
    "# ndarray.ndim：数组的维度（数组轴的个数）等于秩\n",
    "# ndarray.shape:数组的大小。为一个表示数组在每个维度上大小的整数元组例如⼆维\n",
    "# 数组中，表⽰数组的ʼʼ⾏数ʼʼ和ʼʼ 列数ˮ \n",
    "# ndarray.size：数组元素的总个数，等于shape属性中元素的乘积\n",
    "# ndarray.dtype:表示数组中元素类型的对象\n",
    "\n",
    "a = np.array([(1,2,3),(4,5,6),(7,8,9)])\n",
    "print(a.ndim)#二维\n",
    "print(a.shape)#三行三列\n",
    "print(a.size)#9个元素\n",
    "print(a.dtype)\n"
   ]
  },
  {
   "cell_type": "code",
   "execution_count": 57,
   "id": "15d9eb3c-6454-4a13-a670-bbde9043c0e4",
   "metadata": {},
   "outputs": [
    {
     "name": "stdout",
     "output_type": "stream",
     "text": [
      "True\n",
      "False\n"
     ]
    }
   ],
   "source": [
    "# NumPy数组的基本操作\n",
    "a = np.array([(1,2),(3,4)])\n",
    "print(3 in a)\n",
    "print(6 in a)\n"
   ]
  },
  {
   "cell_type": "code",
   "execution_count": 59,
   "id": "7dab63fd-1cd1-4178-a89f-5d9d14e0f49b",
   "metadata": {},
   "outputs": [
    {
     "data": {
      "text/plain": [
       "array([1, 2, 3, 4, 5, 6, 7, 8, 9])"
      ]
     },
     "execution_count": 59,
     "metadata": {},
     "output_type": "execute_result"
    }
   ],
   "source": [
    "#reshape函数，数组的重排列，例如将一个三维数组转为1维（元素个数一定要保持不变）\n",
    "a = np.array([(1,2,3),(4,5,6),(7,8,9)])\n",
    "a\n",
    "a.reshape(9)\n"
   ]
  },
  {
   "cell_type": "code",
   "execution_count": 60,
   "id": "c4e9949f-d4cb-4f3e-b5a5-f359c3924dc8",
   "metadata": {},
   "outputs": [
    {
     "data": {
      "text/plain": [
       "array([[1, 4, 7],\n",
       "       [2, 5, 8],\n",
       "       [3, 6, 9]])"
      ]
     },
     "execution_count": 60,
     "metadata": {},
     "output_type": "execute_result"
    }
   ],
   "source": [
    "#tanspose:转置（可以直接.T）\n",
    "a = np.array([(1,2,3),(4,5,6),(7,8,9)])\n",
    "a.T  #第一行变成第一列，第二行变成第二列，第三行变成第三列\n"
   ]
  },
  {
   "cell_type": "code",
   "execution_count": 61,
   "id": "efda4c50-9c1f-4d18-abf1-c562025cd019",
   "metadata": {},
   "outputs": [
    {
     "data": {
      "text/plain": [
       "array([1, 2, 3, 4, 5, 6])"
      ]
     },
     "execution_count": 61,
     "metadata": {},
     "output_type": "execute_result"
    }
   ],
   "source": [
    "#flatten：把多维数组转换成一维数组，注意每个长度是相等的\n",
    "a = np.array([(1,2),(3,4),(5,6)])\n",
    "a.flatten()\n"
   ]
  },
  {
   "cell_type": "code",
   "execution_count": 65,
   "id": "b2f649d1-071f-43cf-ac0d-06e3f01b74e9",
   "metadata": {},
   "outputs": [
    {
     "data": {
      "text/plain": [
       "array([[1],\n",
       "       [2],\n",
       "       [3]])"
      ]
     },
     "execution_count": 65,
     "metadata": {},
     "output_type": "execute_result"
    }
   ],
   "source": [
    "#newaxis:增加维度\n",
    "a = np.array([1,2,3])\n",
    "a.shape\n",
    "a = a[:,np.newaxis]\n",
    "a\n",
    "#a.T#可还原\n"
   ]
  },
  {
   "cell_type": "code",
   "execution_count": 72,
   "id": "87c3b38a-8f18-4454-804c-dc8cce8f5aec",
   "metadata": {},
   "outputs": [
    {
     "name": "stdout",
     "output_type": "stream",
     "text": [
      "[[1. 1.]\n",
      " [1. 1.]]\n",
      "[[-1  1]\n",
      " [-1  1]]\n"
     ]
    },
    {
     "data": {
      "text/plain": [
       "array([[-1.,  1.],\n",
       "       [-1.,  1.]])"
      ]
     },
     "execution_count": 72,
     "metadata": {},
     "output_type": "execute_result"
    }
   ],
   "source": [
    "# numpy数组的数学操作\n",
    "# 加减乘除\n",
    "# 星乘表示矩阵内各对应位置相乘，点乘表示求矩阵内积，二维数组和岗位矩阵积（mastrix product）\n",
    "a = np.ones((2,2))\n",
    "b = np.array([(-1,1),(-1,1)])\n",
    "print(a)\n",
    "print(b)\n",
    "a + b\n",
    "a - b\n",
    "a * b#（a1*b1 a2*b2）\n",
    "a / b\n"
   ]
  },
  {
   "cell_type": "code",
   "execution_count": 78,
   "id": "48935175-f69a-41e2-bfd1-1ad82bce4fe9",
   "metadata": {},
   "outputs": [
    {
     "name": "stdout",
     "output_type": "stream",
     "text": [
      "1.3333333333333333\n",
      "0.2222222222222222\n",
      "0.4714045207910317\n",
      "2\n",
      "1\n"
     ]
    }
   ],
   "source": [
    "#求和，求积\n",
    "a = np.array([1,2,1])\n",
    "# a.sum()\n",
    "# a.prod()#内积（1*2*1）\n",
    "#平均数，⽅差，标准差，最⼤值，最⼩值\n",
    "print(a.mean())#平均数\n",
    "print(a.var())#⽅差\n",
    "print(a.std())#标准差\n",
    "print(a.max())\n",
    "print(a.min())\n"
   ]
  },
  {
   "cell_type": "code",
   "execution_count": 82,
   "id": "e4ad7e19-699f-4fca-8115-78be2cb9b5de",
   "metadata": {},
   "outputs": [
    {
     "name": "stdout",
     "output_type": "stream",
     "text": [
      "2\n",
      "0\n",
      "[2. 4. 5.]\n",
      "[1. 3. 4.]\n",
      "[1. 4. 5.]\n",
      "4.9\n"
     ]
    }
   ],
   "source": [
    "#最⼤与最⼩值对应的索引值：argmax,argmin:\n",
    "#取元素值上限，下限，四舍五⼊：ceil, floor, rint\n",
    "a = np.array([1.2,3.8,4.9])\n",
    "print(a.argmax())#返回下标\n",
    "print(a.argmin())#返回下标\n",
    "print(np.ceil(a))#向上取整\n",
    "print(np.floor(a))#向下取整\n",
    "print(np.rint(a))#四舍五入\n"
   ]
  },
  {
   "cell_type": "code",
   "execution_count": 85,
   "id": "0bcd7964-943e-42af-81cf-7141d2191bdc",
   "metadata": {},
   "outputs": [
    {
     "data": {
      "text/plain": [
       "array([ 1.6,  8.9, 10. , 12. , 14. ])"
      ]
     },
     "execution_count": 85,
     "metadata": {},
     "output_type": "execute_result"
    }
   ],
   "source": [
    "#排序：sort\n",
    "a = np.array([12,14,10,1.6,8.9])\n",
    "a.sort()\n",
    "a"
   ]
  },
  {
   "cell_type": "code",
   "execution_count": 88,
   "id": "88902a53-a023-4b62-8f0e-73e1d96209ac",
   "metadata": {},
   "outputs": [
    {
     "name": "stdout",
     "output_type": "stream",
     "text": [
      "[[19. 22.]\n",
      " [43. 50.]]\n",
      "[[19. 22.]\n",
      " [43. 50.]]\n"
     ]
    }
   ],
   "source": [
    "#NumPy线性代数\n",
    "# 有关线性代数的运算均在numpy.linalg 中\n",
    "# 矩阵(matrix) 是array的分⽀matrix 和 array 在很多时候都是通⽤的，\n",
    "# ⽤哪⼀个都⼀样。官⽅建议⼤家如果两个可以通⽤，那就选择array，因为array 更灵活，速度更快。\n",
    "# array 的优势就是不仅仅表⽰⼆维，还能表⽰3、4、5... 维，⽽且在⼤部分Python 程序⾥，array 也是更常⽤的。\n",
    "\n",
    "#dot:矩阵乘法：\n",
    "# 对于两个⼀维的数组，计算的是这两个数组对应下标元素的乘积和 (数学上称之为内积)；\n",
    "# 对于⼆维数组，计算的是两个数组的矩阵乘积；\n",
    "# 对于多维数组，它的通⽤计算公式如下，即结果数组中的每个元素都是：\n",
    "# 数组a 的最后⼀维上的所有元素与数组b 的倒数第⼆位上的所有元素的乘积和：\n",
    "#dot(a,b)[i,j,k,m] = sum(a[i,j,:])*b[k,:,m]\n",
    "\n",
    "m1 = np.array([[1,2],[3,4]],dtype = np.float32)\n",
    "m2 = np.array([[5,6],[7,8]],dtype = np.float32)\n",
    "result_dot = np.dot(m1,m2)\n",
    "print(result_dot)\n",
    "result_at = m1 @ m2\n",
    "print(result_at)\n",
    "# #矩阵乘法：\n",
    "# 1 2\n",
    "# 3 4\n",
    "\n",
    "# 5 6\n",
    "# 7 8\n",
    "# a1 = 1*5+2*7\n",
    "# a2 = 2*6+2*8\n",
    "# b3 = 3*5+3*7\n",
    "# b4 = 4*6+4*8\n",
    "\n",
    "#其它函数\n",
    "# eig：特征值，特征向量\n",
    "# inv：逆\n",
    "# qr：QR分解\n",
    "# svd：奇异值分解\n",
    "# aolve：解线性方程Ax=b\n",
    "# istsq：计算Ax=b的最小二乘解\n"
   ]
  },
  {
   "cell_type": "code",
   "execution_count": 89,
   "id": "2ea6a963-3383-402f-9855-6951883e9197",
   "metadata": {},
   "outputs": [],
   "source": [
    "#文件操作：\n",
    "# 二进制文件：np.save、np.load\n",
    "# 文本文件：np.loadtxt、np.savetxt\n",
    "# 二进制文件会存储为.npy的格式"
   ]
  },
  {
   "cell_type": "code",
   "execution_count": 96,
   "id": "4ef7c7b8-02a7-425f-bc7e-8b4113a10dfc",
   "metadata": {},
   "outputs": [
    {
     "data": {
      "text/plain": [
       "array([ 28,  80, 162])"
      ]
     },
     "execution_count": 96,
     "metadata": {},
     "output_type": "execute_result"
    }
   ],
   "source": [
    "# Numpy广播机制：\n",
    "# ⼴播(Broadcast) 是numpy 对不同形状(shape) 的数组进⾏数值计算的⽅式，\n",
    "# 对数组的算术运算通常在相应的元素上进⾏。如果两个数组a 和b 形状相同，\n",
    "# 即满⾜a.shape == b.shape，那么a*b 的结果就是a与b 数组对应位相乘。\n",
    "# 这要求维数相同，且各维度的⻓度相同。\n",
    "\n",
    "a = np.array([1,2,3])\n",
    "b = np.array([4,5,6])\n",
    "c = np.array([7,8,9])\n",
    "a * b * c\n"
   ]
  },
  {
   "cell_type": "code",
   "execution_count": 92,
   "id": "74338228-f1d1-402b-997a-2b78ab3ac9d1",
   "metadata": {},
   "outputs": [
    {
     "data": {
      "text/plain": [
       "array([[-1,  2],\n",
       "       [-2,  2],\n",
       "       [-3,  3],\n",
       "       [-4,  4]])"
      ]
     },
     "execution_count": 92,
     "metadata": {},
     "output_type": "execute_result"
    }
   ],
   "source": [
    "a = np.array([(1,2),(2,2),(3,3),(4,4)])  # shape(4,2)\n",
    "b = np.array([-1,1])\n",
    "a * b\n"
   ]
  },
  {
   "cell_type": "code",
   "execution_count": null,
   "id": "7e133c04-dd8b-43b8-908d-b06c100fd944",
   "metadata": {},
   "outputs": [],
   "source": []
  }
 ],
 "metadata": {
  "kernelspec": {
   "display_name": "Python 3 (ipykernel)",
   "language": "python",
   "name": "python3"
  },
  "language_info": {
   "codemirror_mode": {
    "name": "ipython",
    "version": 3
   },
   "file_extension": ".py",
   "mimetype": "text/x-python",
   "name": "python",
   "nbconvert_exporter": "python",
   "pygments_lexer": "ipython3",
   "version": "3.12.9"
  }
 },
 "nbformat": 4,
 "nbformat_minor": 5
}

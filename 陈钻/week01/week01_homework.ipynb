{
 "cells": [
  {
   "cell_type": "markdown",
   "metadata": {},
   "source": [
    "# Numpy section\n"
   ]
  },
  {
   "cell_type": "markdown",
   "metadata": {},
   "source": []
  },
  {
   "cell_type": "code",
   "execution_count": 3,
   "metadata": {},
   "outputs": [
    {
     "data": {
      "text/plain": [
       "array([1, 2, 3, 4, 5, 6])"
      ]
     },
     "execution_count": 3,
     "metadata": {},
     "output_type": "execute_result"
    }
   ],
   "source": [
    "import numpy as np\n",
    "arr = np.array([1,2,3,4,5,6])\n",
    "arr"
   ]
  },
  {
   "cell_type": "code",
   "execution_count": 4,
   "metadata": {},
   "outputs": [
    {
     "data": {
      "text/plain": [
       "array([[1, 2],\n",
       "       [3, 4],\n",
       "       [5, 6]])"
      ]
     },
     "execution_count": 4,
     "metadata": {},
     "output_type": "execute_result"
    }
   ],
   "source": [
    "arr = arr.reshape(3,2)\n",
    "arr"
   ]
  },
  {
   "cell_type": "code",
   "execution_count": 12,
   "metadata": {},
   "outputs": [
    {
     "data": {
      "text/plain": [
       "array([[0, 0, 0, 0, 0],\n",
       "       [0, 0, 0, 0, 0]])"
      ]
     },
     "execution_count": 12,
     "metadata": {},
     "output_type": "execute_result"
    }
   ],
   "source": [
    "arr = np.zeros(10, dtype=int)\n",
    "arr = arr.reshape(2,5)\n",
    "arr"
   ]
  },
  {
   "cell_type": "code",
   "execution_count": 15,
   "metadata": {},
   "outputs": [
    {
     "data": {
      "text/plain": [
       "array([[1., 0., 0., 0., 0.],\n",
       "       [0., 1., 0., 0., 0.],\n",
       "       [0., 0., 1., 0., 0.],\n",
       "       [0., 0., 0., 1., 0.],\n",
       "       [0., 0., 0., 0., 1.]])"
      ]
     },
     "execution_count": 15,
     "metadata": {},
     "output_type": "execute_result"
    }
   ],
   "source": [
    "arr = np.ones([5,5], dtype=int)\n",
    "arr = np.eye(5)\n",
    "arr"
   ]
  },
  {
   "cell_type": "code",
   "execution_count": 23,
   "metadata": {},
   "outputs": [
    {
     "data": {
      "text/plain": [
       "array([ 9.98648996,  9.94873822,  9.9239071 , 10.10084347, 10.19764845,\n",
       "        9.90322374, 10.01967571, 10.16229774,  9.89797194, 10.10937162,\n",
       "       10.00014213, 10.09194692,  9.96076728, 10.09843734,  9.99403389])"
      ]
     },
     "execution_count": 23,
     "metadata": {},
     "output_type": "execute_result"
    }
   ],
   "source": [
    "var = np.random.random(5)\n",
    "var = np.random.normal(10, .10, 15)\n",
    "var"
   ]
  },
  {
   "cell_type": "code",
   "execution_count": 27,
   "metadata": {},
   "outputs": [
    {
     "name": "stdout",
     "output_type": "stream",
     "text": [
      "1\n",
      "(15,)\n",
      "15\n",
      "float64\n",
      "8\n",
      "<memory at 0x10b1ec1c0>\n"
     ]
    }
   ],
   "source": [
    "print(var.ndim)\n",
    "print(var.shape)\n",
    "print(var.size)\n",
    "print(var.dtype)\n",
    "print(var.itemsize)\n",
    "print(var.data)"
   ]
  },
  {
   "cell_type": "code",
   "execution_count": 66,
   "metadata": {},
   "outputs": [
    {
     "name": "stdout",
     "output_type": "stream",
     "text": [
      "[1 2 3 4 5 6]\n"
     ]
    },
    {
     "data": {
      "text/plain": [
       "42"
      ]
     },
     "execution_count": 66,
     "metadata": {},
     "output_type": "execute_result"
    }
   ],
   "source": [
    "a = np.array([1,2,3,4,5,6])\n",
    "print(a)\n",
    "b = np.array([2,2,2,2,2,2])\n",
    "a*b\n",
    "a+b\n",
    "a/b\n",
    "a@b\n",
    "np.dot(a, b)\n"
   ]
  },
  {
   "cell_type": "code",
   "execution_count": 58,
   "metadata": {},
   "outputs": [
    {
     "data": {
      "text/plain": [
       "2.9166666666666665"
      ]
     },
     "execution_count": 58,
     "metadata": {},
     "output_type": "execute_result"
    }
   ],
   "source": [
    "a.sum()\n",
    "a.prod()\n",
    "a.min()\n",
    "a.max()\n",
    "a.mean()\n",
    "a.std()\n",
    "a.var()"
   ]
  },
  {
   "cell_type": "code",
   "execution_count": 60,
   "metadata": {},
   "outputs": [
    {
     "data": {
      "text/plain": [
       "array([1, 2, 3, 4, 5, 6])"
      ]
     },
     "execution_count": 60,
     "metadata": {},
     "output_type": "execute_result"
    }
   ],
   "source": [
    "a.argmax()\n",
    "a.argmin()\n",
    "a.sort()\n",
    "a"
   ]
  },
  {
   "cell_type": "code",
   "execution_count": 65,
   "metadata": {},
   "outputs": [
    {
     "data": {
      "text/plain": [
       "array([[1., 4.],\n",
       "       [2., 5.],\n",
       "       [3., 6.]])"
      ]
     },
     "execution_count": 65,
     "metadata": {},
     "output_type": "execute_result"
    }
   ],
   "source": [
    "a = np.array([(1,2,3),(4,5,6)])\n",
    "a = np.array([[1,2,3],[4,5,6]], dtype=np.float64)\n",
    "a\n",
    "a.transpose()"
   ]
  },
  {
   "cell_type": "code",
   "execution_count": 85,
   "metadata": {},
   "outputs": [
    {
     "name": "stdout",
     "output_type": "stream",
     "text": [
      "[[[ 0]\n",
      "  [ 1]\n",
      "  [ 2]\n",
      "  [ 3]]\n",
      "\n",
      " [[ 4]\n",
      "  [ 5]\n",
      "  [ 6]\n",
      "  [ 7]]\n",
      "\n",
      " [[ 8]\n",
      "  [ 9]\n",
      "  [10]\n",
      "  [11]]]\n",
      "[[[4 5]]\n",
      "\n",
      " [[6 7]]\n",
      "\n",
      " [[8 9]]]\n"
     ]
    },
    {
     "data": {
      "text/plain": [
       "array([[1],\n",
       "       [5],\n",
       "       [9]])"
      ]
     },
     "execution_count": 85,
     "metadata": {},
     "output_type": "execute_result"
    }
   ],
   "source": [
    "b = np.arange(12).reshape(3,4,1)\n",
    "c = np.arange(4, 10).reshape(3,1,2)\n",
    "print(b)\n",
    "print(c)\n",
    "np.matmul(b,c)\n",
    "np.matmul(b,c).shape\n",
    "\n",
    "# np.dot(b,c)\n",
    "# np.dot(b,c).shape\n",
    "\n",
    "b[:,1]"
   ]
  },
  {
   "cell_type": "markdown",
   "metadata": {},
   "source": [
    "# Torch section"
   ]
  },
  {
   "cell_type": "markdown",
   "metadata": {},
   "source": []
  },
  {
   "cell_type": "code",
   "execution_count": 88,
   "metadata": {},
   "outputs": [
    {
     "data": {
      "text/plain": [
       "tensor([[[ 0],\n",
       "         [ 1],\n",
       "         [ 2],\n",
       "         [ 3]],\n",
       "\n",
       "        [[ 4],\n",
       "         [ 5],\n",
       "         [ 6],\n",
       "         [ 7]],\n",
       "\n",
       "        [[ 8],\n",
       "         [ 9],\n",
       "         [10],\n",
       "         [11]]])"
      ]
     },
     "execution_count": 88,
     "metadata": {},
     "output_type": "execute_result"
    }
   ],
   "source": [
    "import torch\n",
    "data = torch.tensor([[1,2,3],[4,5,6]], dtype=torch.float64)\n",
    "data\n",
    "\n",
    "d = torch.from_numpy(b)\n",
    "d"
   ]
  },
  {
   "cell_type": "code",
   "execution_count": 91,
   "metadata": {},
   "outputs": [
    {
     "data": {
      "text/plain": [
       "tensor([[[0.4359],\n",
       "         [0.8714],\n",
       "         [0.8330],\n",
       "         [0.8668]],\n",
       "\n",
       "        [[0.7647],\n",
       "         [0.5841],\n",
       "         [0.1786],\n",
       "         [0.6918]],\n",
       "\n",
       "        [[0.5953],\n",
       "         [0.0677],\n",
       "         [0.2444],\n",
       "         [0.1685]]], dtype=torch.float64)"
      ]
     },
     "execution_count": 91,
     "metadata": {},
     "output_type": "execute_result"
    }
   ],
   "source": [
    "data = torch.rand_like(d, dtype=torch.float64)\n",
    "data"
   ]
  },
  {
   "cell_type": "code",
   "execution_count": 96,
   "metadata": {},
   "outputs": [
    {
     "data": {
      "text/plain": [
       "tensor([[ 0.3490,  0.5632, -0.9741, -1.5875,  0.4334,  0.0290,  3.3796,  0.8706,\n",
       "          0.8180, -1.3591,  0.9928, -0.3612, -1.5762,  0.5541, -0.2257, -1.3303,\n",
       "         -0.9462, -1.1127, -0.5815,  0.2833],\n",
       "        [ 2.1711,  0.9710,  0.6430,  0.7215, -0.6669, -0.3016,  0.3158, -1.5467,\n",
       "          1.7384,  0.6924, -0.4850,  0.9734,  0.9139,  1.1350, -0.1684,  0.7427,\n",
       "         -0.5061, -1.4259, -0.2062,  0.4130],\n",
       "        [ 0.6030, -0.4947,  0.6664,  0.5638, -1.3042, -1.4027, -2.8305,  0.3032,\n",
       "          0.8427,  0.7815, -1.3563,  0.4239,  0.2805, -0.0790, -0.5993,  2.2812,\n",
       "          0.2432, -0.9404,  1.9652, -0.5728],\n",
       "        [-0.6452,  0.2649, -1.9054,  0.7070, -0.4436,  1.0785,  1.2956,  1.5670,\n",
       "         -0.0072, -2.9445, -1.2375,  0.5856, -0.2971, -0.3160, -0.5126,  0.8199,\n",
       "          0.2683,  0.9971,  1.8101,  0.4586],\n",
       "        [-1.9392,  2.3334,  3.2484,  0.1328, -0.4193, -0.3087, -1.1570, -0.7338,\n",
       "          0.8340,  1.7096, -0.2323,  0.4561,  1.6425,  0.2234,  0.1921, -0.8299,\n",
       "          0.3397, -1.6057,  0.8051,  0.8821]])"
      ]
     },
     "execution_count": 96,
     "metadata": {},
     "output_type": "execute_result"
    }
   ],
   "source": [
    "m = torch.ones(4, 2, dtype=torch.float32)\n",
    "m = torch.rand(5, 20, dtype=torch.float32)\n",
    "m = torch.randn(5, 20, dtype=torch.float32)\n",
    "m"
   ]
  },
  {
   "cell_type": "code",
   "execution_count": 100,
   "metadata": {},
   "outputs": [
    {
     "data": {
      "text/plain": [
       "device(type='mps', index=0)"
      ]
     },
     "execution_count": 100,
     "metadata": {},
     "output_type": "execute_result"
    }
   ],
   "source": [
    "m.device\n",
    "n = m.to(\"mps\")\n",
    "n\n",
    "n.device"
   ]
  },
  {
   "cell_type": "code",
   "execution_count": 108,
   "metadata": {},
   "outputs": [
    {
     "data": {
      "text/plain": [
       "10.834550857543945"
      ]
     },
     "execution_count": 108,
     "metadata": {},
     "output_type": "execute_result"
    }
   ],
   "source": [
    "agg = n.sum()\n",
    "agg\n",
    "agg.item()\n"
   ]
  },
  {
   "cell_type": "code",
   "execution_count": 112,
   "metadata": {},
   "outputs": [
    {
     "data": {
      "text/plain": [
       "torch.Size([5, 20])"
      ]
     },
     "execution_count": 112,
     "metadata": {},
     "output_type": "execute_result"
    }
   ],
   "source": [
    "a = torch.ones_like(agg)\n",
    "a\n",
    "b = torch.zeros_like(n)\n",
    "b\n",
    "b.size()"
   ]
  },
  {
   "cell_type": "code",
   "execution_count": 120,
   "metadata": {},
   "outputs": [
    {
     "data": {
      "text/plain": [
       "tensor([[0., 1., 2., 3., 4.],\n",
       "        [5., 6., 7., 8., 9.]])"
      ]
     },
     "execution_count": 120,
     "metadata": {},
     "output_type": "execute_result"
    }
   ],
   "source": [
    "c = torch.linspace(0, 9, 10)\n",
    "c = c.reshape(2,5)\n",
    "c"
   ]
  },
  {
   "cell_type": "code",
   "execution_count": 130,
   "metadata": {},
   "outputs": [
    {
     "name": "stdout",
     "output_type": "stream",
     "text": [
      "tensor([[0.9970, 0.1494, 0.5850, 0.3594],\n",
      "        [0.3801, 0.5138, 0.8945, 0.3670],\n",
      "        [0.9490, 0.5628, 0.6240, 0.3953]])\n",
      "tensor([0.9970, 0.1494, 0.5850, 0.3594])\n",
      "tensor([0.9970, 0.3801, 0.9490])\n",
      "tensor([0.3594, 0.3670, 0.3953])\n"
     ]
    }
   ],
   "source": [
    "d = torch.normal(mean=1, std=1, size=(2,2))\n",
    "d\n",
    "e = torch.rand(3,4)\n",
    "print(e)\n",
    "print(e[0])\n",
    "print(e[:, 0])\n",
    "print(e[..., -1])\n"
   ]
  },
  {
   "cell_type": "code",
   "execution_count": 139,
   "metadata": {},
   "outputs": [
    {
     "name": "stdout",
     "output_type": "stream",
     "text": [
      "tensor([[ 0.3821, -1.7828],\n",
      "        [ 0.3975,  0.1213]])\n",
      "tensor([[ 0.3821,  0.3975],\n",
      "        [-1.7828,  0.1213]])\n",
      "tensor([[ 0.3821,  0.3975],\n",
      "        [-1.7828,  0.1213]])\n",
      "tensor([[ 3.3243, -0.0644],\n",
      "        [-0.0644,  0.1728]])\n",
      "tensor([[ 0.1460, -0.7087],\n",
      "        [-0.7087,  0.0147]])\n",
      "tensor([[ 3.3243, -0.0644],\n",
      "        [-0.0644,  0.1728]])\n",
      "tensor([[ 0.1460, -0.7087],\n",
      "        [-0.7087,  0.0147]])\n",
      "tensor([[ 0.1460, -0.7087],\n",
      "        [-0.7087,  0.0147]])\n"
     ]
    }
   ],
   "source": [
    "print(d)\n",
    "print(d.T)\n",
    "print(d.transpose(0,1))\n",
    "print(d @ d.T)\n",
    "print(d * d.T)\n",
    "print(torch.matmul(d, d.T))\n",
    "print(torch.mul(d, d.T))\n",
    "print(d * d.T)"
   ]
  },
  {
   "cell_type": "code",
   "execution_count": 141,
   "metadata": {},
   "outputs": [
    {
     "data": {
      "text/plain": [
       "tensor([[200.3821, 198.2172],\n",
       "        [200.3975, 200.1213]])"
      ]
     },
     "execution_count": 141,
     "metadata": {},
     "output_type": "execute_result"
    }
   ],
   "source": [
    "d.add_(100)\n",
    "d"
   ]
  },
  {
   "cell_type": "code",
   "execution_count": 146,
   "metadata": {},
   "outputs": [
    {
     "name": "stdout",
     "output_type": "stream",
     "text": [
      "tensor([[200.3821, 198.2172],\n",
      "        [200.3975, 200.1213],\n",
      "        [200.3821, 200.3975],\n",
      "        [198.2172, 200.1213]])\n",
      "tensor([[[200.3821, 198.2172],\n",
      "         [200.3975, 200.1213]],\n",
      "\n",
      "        [[200.3821, 200.3975],\n",
      "         [198.2172, 200.1213]]])\n"
     ]
    }
   ],
   "source": [
    "k = torch.cat([d, d.T])\n",
    "s = torch.stack([d, d.T])\n",
    "print(k)\n",
    "print(s)"
   ]
  }
 ],
 "metadata": {
  "kernelspec": {
   "display_name": "ML100",
   "language": "python",
   "name": "python3"
  },
  "language_info": {
   "codemirror_mode": {
    "name": "ipython",
    "version": 3
   },
   "file_extension": ".py",
   "mimetype": "text/x-python",
   "name": "python",
   "nbconvert_exporter": "python",
   "pygments_lexer": "ipython3",
   "version": "3.12.9"
  }
 },
 "nbformat": 4,
 "nbformat_minor": 2
}

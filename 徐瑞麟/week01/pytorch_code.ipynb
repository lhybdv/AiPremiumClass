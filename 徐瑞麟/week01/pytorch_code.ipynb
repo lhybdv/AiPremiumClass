{
 "cells": [
  {
   "cell_type": "code",
   "execution_count": 3,
   "metadata": {},
   "outputs": [
    {
     "data": {
      "text/plain": [
       "tensor([[1., 2.],\n",
       "        [3., 4.],\n",
       "        [5., 6.]])"
      ]
     },
     "execution_count": 3,
     "metadata": {},
     "output_type": "execute_result"
    }
   ],
   "source": [
    "import torch\n",
    "\n",
    "data = torch.tensor([[1,2],[3,4],[5,6]], dtype=torch.float32)\n",
    "data"
   ]
  },
  {
   "cell_type": "code",
   "execution_count": 4,
   "metadata": {},
   "outputs": [
    {
     "data": {
      "text/plain": [
       "tensor([[1, 2],\n",
       "        [3, 4],\n",
       "        [5, 6]], dtype=torch.int32)"
      ]
     },
     "execution_count": 4,
     "metadata": {},
     "output_type": "execute_result"
    }
   ],
   "source": [
    "import numpy as np\n",
    "\n",
    "np_array = np.array([[1,2],[3,4],[5,6]])\n",
    "data2 = torch.from_numpy(np_array)\n",
    "data2"
   ]
  },
  {
   "cell_type": "code",
   "execution_count": 5,
   "metadata": {},
   "outputs": [
    {
     "data": {
      "text/plain": [
       "tensor([[0.7155, 0.9700],\n",
       "        [0.2650, 0.8021],\n",
       "        [0.6850, 0.9806]])"
      ]
     },
     "execution_count": 5,
     "metadata": {},
     "output_type": "execute_result"
    }
   ],
   "source": [
    "# 通过已知张量维度，创建新张量\n",
    "data3 = torch.rand_like(data2, dtype=torch.float)\n",
    "data3"
   ]
  },
  {
   "cell_type": "code",
   "execution_count": 6,
   "metadata": {},
   "outputs": [
    {
     "name": "stdout",
     "output_type": "stream",
     "text": [
      "Random Tensor: \n",
      " tensor([[0.4945, 0.7965, 0.4149, 0.2291],\n",
      "        [0.0233, 0.1812, 0.8640, 0.2184],\n",
      "        [0.4333, 0.9115, 0.0268, 0.8606]]) \n",
      "\n",
      "Ones Tensor: \n",
      " tensor([[1., 1., 1., 1.],\n",
      "        [1., 1., 1., 1.],\n",
      "        [1., 1., 1., 1.]]) \n",
      "\n",
      "Zeros Tensor: \n",
      " tensor([[0., 0., 0., 0.],\n",
      "        [0., 0., 0., 0.],\n",
      "        [0., 0., 0., 0.]])\n"
     ]
    }
   ],
   "source": [
    "shape = (3,4,)\n",
    "rand_tensor = torch.rand(shape)\n",
    "ones_tensor = torch.ones(shape)\n",
    "zeros_tensor = torch.zeros(shape)\n",
    "\n",
    "print(f\"Random Tensor: \\n {rand_tensor} \\n\")\n",
    "print(f\"Ones Tensor: \\n {ones_tensor} \\n\")\n",
    "print(f\"Zeros Tensor: \\n {zeros_tensor}\")"
   ]
  },
  {
   "cell_type": "code",
   "execution_count": 7,
   "metadata": {},
   "outputs": [
    {
     "name": "stdout",
     "output_type": "stream",
     "text": [
      "torch.Size([4, 3])\n",
      "tensor([[0.4212, 0.6498, 0.3090],\n",
      "        [0.9347, 0.9408, 0.3211],\n",
      "        [0.2659, 0.0338, 0.8419],\n",
      "        [0.6903, 0.6303, 0.7436]])\n",
      "tensor([[-2.1944, -1.3300, -2.0376],\n",
      "        [-1.0932,  0.7177,  0.5099],\n",
      "        [ 0.3257, -0.1610,  0.8593],\n",
      "        [ 1.6450,  0.2749, -1.4559]])\n",
      "tensor([[-0.2692,  0.2100,  0.7357],\n",
      "        [ 1.0687, -0.2699,  0.5674],\n",
      "        [ 0.1341, -1.3857,  1.1401],\n",
      "        [-0.4845,  0.9696,  0.6011]])\n",
      "tensor([ 1.0000,  1.5000,  2.0000,  2.5000,  3.0000,  3.5000,  4.0000,  4.5000,\n",
      "         5.0000,  5.5000,  6.0000,  6.5000,  7.0000,  7.5000,  8.0000,  8.5000,\n",
      "         9.0000,  9.5000, 10.0000])\n"
     ]
    }
   ],
   "source": [
    "# 基于现有tensor构建，但使用新值填充\n",
    "m = torch.ones(4,3, dtype=torch.double)\n",
    "n = torch.rand_like(m, dtype=torch.float)\n",
    "\n",
    "# 获取tensor的大小\n",
    "print(m.size()) # torch.Size([5,3])\n",
    "\n",
    "# 均匀分布\n",
    "print(torch.rand(4,3))\n",
    "# 标准正态分布\n",
    "print(torch.randn(4,3))\n",
    "# 离散正态分布\n",
    "print(torch.normal(mean=.0,std=1.0,size=(4,3)))\n",
    "# 线性间隔向量(返回一个1维张量，包含在区间start和end上均匀间隔的steps个点)\n",
    "print(torch.linspace(start=1,end=10,steps=19))"
   ]
  },
  {
   "cell_type": "code",
   "execution_count": 9,
   "metadata": {},
   "outputs": [
    {
     "name": "stdout",
     "output_type": "stream",
     "text": [
      "Shape of tensor: torch.Size([5, 4])\n",
      "Datatype of tensor: torch.float32\n",
      "Device tensor is stored on: cpu\n"
     ]
    }
   ],
   "source": [
    "tensor = torch.rand(5,4)\n",
    "\n",
    "print(f\"Shape of tensor: {tensor.shape}\")\n",
    "print(f\"Datatype of tensor: {tensor.dtype}\")\n",
    "print(f\"Device tensor is stored on: {tensor.device}\")"
   ]
  },
  {
   "cell_type": "code",
   "execution_count": 10,
   "metadata": {},
   "outputs": [
    {
     "name": "stdout",
     "output_type": "stream",
     "text": [
      "tensor([[0.4802, 0.2264, 0.5424, 0.7858],\n",
      "        [0.7251, 0.0223, 0.2603, 0.9930],\n",
      "        [0.6685, 0.7546, 0.5854, 0.7522],\n",
      "        [0.8931, 0.2227, 0.3276, 0.7843],\n",
      "        [0.7392, 0.3403, 0.4590, 0.9100]], device='cuda:0')\n",
      "cuda:0\n",
      "tensor([[0.4802, 0.2264, 0.5424, 0.7858],\n",
      "        [0.7251, 0.0223, 0.2603, 0.9930],\n",
      "        [0.6685, 0.7546, 0.5854, 0.7522],\n",
      "        [0.8931, 0.2227, 0.3276, 0.7843],\n",
      "        [0.7392, 0.3403, 0.4590, 0.9100]], device='cuda:0')\n",
      "cuda:0\n"
     ]
    }
   ],
   "source": [
    "# 检查pytorch是否支持GPU\n",
    "if torch.cuda.is_available():\n",
    "    device = torch.device(\"cuda\")\n",
    "    tensor = tensor.to(device)\n",
    "\n",
    "print(tensor)\n",
    "print(tensor.device)\n",
    "\n",
    "# mac上没有GPU，使用M系列芯片\n",
    "if torch.backends.mps.is_available():\n",
    "    device = torch.device(\"mps\")\n",
    "    tensor = tensor.to(device)\n",
    "\n",
    "print(tensor)\n",
    "print(tensor.device)"
   ]
  },
  {
   "cell_type": "code",
   "execution_count": 13,
   "metadata": {},
   "outputs": [
    {
     "name": "stdout",
     "output_type": "stream",
     "text": [
      "First row:  tensor([1., 1., 1., 1., 1.])\n",
      "First column:  tensor([1., 1., 1., 1., 1.])\n",
      "Last column: tensor([1., 1., 1., 1., 1.])\n",
      "tensor([[1., 1., 0., 1., 1.],\n",
      "        [1., 1., 0., 1., 1.],\n",
      "        [1., 1., 0., 1., 1.],\n",
      "        [1., 1., 0., 1., 1.],\n",
      "        [1., 1., 0., 1., 1.]])\n"
     ]
    }
   ],
   "source": [
    "tensor = torch.ones(5, 5)\n",
    "print('First row: ', tensor[0])\n",
    "print('First column: ', tensor[:, 0])\n",
    "print('Last column:', tensor[..., -1])\n",
    "tensor[:,2] = 0\n",
    "print(tensor)"
   ]
  },
  {
   "cell_type": "code",
   "execution_count": 15,
   "metadata": {},
   "outputs": [
    {
     "name": "stdout",
     "output_type": "stream",
     "text": [
      "tensor([[3., 3., 0., 3., 3.],\n",
      "        [3., 3., 0., 3., 3.],\n",
      "        [3., 3., 0., 3., 3.],\n",
      "        [3., 3., 0., 3., 3.],\n",
      "        [3., 3., 0., 3., 3.],\n",
      "        [3., 3., 0., 3., 3.],\n",
      "        [3., 3., 0., 3., 3.],\n",
      "        [3., 3., 0., 3., 3.],\n",
      "        [3., 3., 0., 3., 3.],\n",
      "        [3., 3., 0., 3., 3.],\n",
      "        [3., 3., 0., 3., 3.],\n",
      "        [3., 3., 0., 3., 3.],\n",
      "        [3., 3., 0., 3., 3.],\n",
      "        [3., 3., 0., 3., 3.],\n",
      "        [3., 3., 0., 3., 3.]])\n",
      "torch.Size([15, 5])\n"
     ]
    }
   ],
   "source": [
    "t1 = torch.cat([tensor, tensor, tensor], dim=0)\n",
    "print(t1 * 3)\n",
    "print(t1.shape)"
   ]
  },
  {
   "cell_type": "code",
   "execution_count": 18,
   "metadata": {},
   "outputs": [
    {
     "name": "stdout",
     "output_type": "stream",
     "text": [
      "tensor([[  1.,   4.,   9.,  16.],\n",
      "        [ 25.,  36.,  49.,  64.],\n",
      "        [ 81., 100., 121., 144.],\n",
      "        [169., 196., 225., 256.]])\n",
      "tensor([[  1.,   4.,   9.,  16.],\n",
      "        [ 25.,  36.,  49.,  64.],\n",
      "        [ 81., 100., 121., 144.],\n",
      "        [169., 196., 225., 256.]])\n"
     ]
    }
   ],
   "source": [
    "import torch\n",
    "tensor = torch.arange(1,17, dtype=torch.float32).reshape(4, 4)\n",
    "\n",
    "# 计算两个张量之间矩阵乘法的几种方式。 y1, y2, y3 最后的值是一样的 dot\n",
    "y1 = tensor @ tensor.T\n",
    "y2 = tensor.matmul(tensor.T)\n",
    "\n",
    "# print(y1)\n",
    "# print(y2)\n",
    "\n",
    "y3 = torch.rand_like(tensor)\n",
    "torch.matmul(tensor, tensor.T, out=y3)\n",
    "# print(y3)\n",
    "\n",
    "\n",
    "# 计算张量逐元素相乘的几种方法。 z1, z2, z3 最后的值是一样的。\n",
    "z1 = tensor * tensor\n",
    "z2 = tensor.mul(tensor)\n",
    "\n",
    "z3 = torch.rand_like(tensor)\n",
    "torch.mul(tensor, tensor, out=z3)\n",
    "\n",
    "print(z1)\n",
    "print(z3)"
   ]
  },
  {
   "cell_type": "code",
   "execution_count": 19,
   "metadata": {},
   "outputs": [
    {
     "name": "stdout",
     "output_type": "stream",
     "text": [
      "136.0 <class 'float'>\n"
     ]
    }
   ],
   "source": [
    "agg = tensor.sum()\n",
    "agg_item = agg.item()\n",
    "print(agg_item, type(agg_item))"
   ]
  },
  {
   "cell_type": "code",
   "execution_count": 20,
   "metadata": {},
   "outputs": [
    {
     "data": {
      "text/plain": [
       "array([[  1.,   4.,   9.,  16.],\n",
       "       [ 25.,  36.,  49.,  64.],\n",
       "       [ 81., 100., 121., 144.],\n",
       "       [169., 196., 225., 256.]], dtype=float32)"
      ]
     },
     "execution_count": 20,
     "metadata": {},
     "output_type": "execute_result"
    }
   ],
   "source": [
    "np_arr = z1.numpy()\n",
    "np_arr"
   ]
  },
  {
   "cell_type": "code",
   "execution_count": 21,
   "metadata": {},
   "outputs": [
    {
     "name": "stdout",
     "output_type": "stream",
     "text": [
      "tensor([[ 1.,  2.,  3.,  4.],\n",
      "        [ 5.,  6.,  7.,  8.],\n",
      "        [ 9., 10., 11., 12.],\n",
      "        [13., 14., 15., 16.]]) \n",
      "\n",
      "tensor([[ 6.,  7.,  8.,  9.],\n",
      "        [10., 11., 12., 13.],\n",
      "        [14., 15., 16., 17.],\n",
      "        [18., 19., 20., 21.]])\n"
     ]
    }
   ],
   "source": [
    "print(tensor, \"\\n\")\n",
    "tensor.add_(5)\n",
    "# tensor = tensor + 5\n",
    "# tensor += 5\n",
    "print(tensor)"
   ]
  },
  {
   "cell_type": "code",
   "execution_count": 22,
   "metadata": {},
   "outputs": [
    {
     "data": {
      "text/plain": [
       "tensor([[ 6.,  7.,  8.,  9.],\n",
       "        [10., 11., 12., 13.],\n",
       "        [14., 15., 16., 17.],\n",
       "        [18., 19., 20., 21.]])"
      ]
     },
     "execution_count": 22,
     "metadata": {},
     "output_type": "execute_result"
    }
   ],
   "source": [
    "tensor"
   ]
  },
  {
   "cell_type": "code",
   "execution_count": 25,
   "metadata": {},
   "outputs": [
    {
     "data": {
      "text/plain": [
       "'expression.png'"
      ]
     },
     "execution_count": 25,
     "metadata": {},
     "output_type": "execute_result"
    }
   ],
   "source": [
    "import torch\n",
    "from torchviz import make_dot\n",
    "\n",
    "# 定义矩阵 A，向量 b 和常数 c\n",
    "A = torch.randn(3, 3, requires_grad=True)  # 3x3 的随机矩阵\n",
    "b = torch.randn(3, requires_grad=True)     # 3 维的随机向量\n",
    "c = torch.randn(1, requires_grad=True)     # 常数值\n",
    "x = torch.randn(3, requires_grad=True)     # 3 维的随机向量\n",
    "\n",
    "# 计算 x^T * A + b * x + c\n",
    "result = torch.matmul(A, x) + torch.matmul(b, x) + c\n",
    "\n",
    "# 生成计算图节点\n",
    "dot = make_dot(result, params={'A': A, 'b': b, 'c': c, 'x': x})\n",
    "\n",
    "# 绘制计算图\n",
    "dot.render('expression', format='png', cleanup=True, view=False)"
   ]
  },
  {
   "cell_type": "code",
   "execution_count": 26,
   "metadata": {},
   "outputs": [
    {
     "name": "stdout",
     "output_type": "stream",
     "text": [
      "tensor([ 0.8113,  0.2139, -0.1990], grad_fn=<MvBackward0>)\n"
     ]
    }
   ],
   "source": [
    "import torch\n",
    "#from torchviz import make_dot\n",
    "\n",
    "# 定义矩阵 A，向量 b 和常数 c\n",
    "A = torch.randn(3, 3,requires_grad=True)  # requires_grad=True 表示我们要对 A 求导\n",
    "b = torch.randn(3,requires_grad=True)\n",
    "c = torch.randn(1,requires_grad=True)\n",
    "x = torch.randn(3, requires_grad=True)\n",
    "\n",
    "result = torch.matmul(A, x.T)\n",
    "print(result)"
   ]
  },
  {
   "cell_type": "code",
   "execution_count": 28,
   "metadata": {},
   "outputs": [
    {
     "name": "stdout",
     "output_type": "stream",
     "text": [
      "tensor([-0.5765, -0.7762,  0.5546], requires_grad=True)\n",
      "tensor([-0.5765, -0.7762,  0.5546], grad_fn=<PermuteBackward0>)\n"
     ]
    }
   ],
   "source": [
    "print(x)\n",
    "print(x.T)"
   ]
  },
  {
   "cell_type": "code",
   "execution_count": null,
   "metadata": {},
   "outputs": [],
   "source": []
  }
 ],
 "metadata": {
  "kernelspec": {
   "display_name": "Python 3",
   "language": "python",
   "name": "python3"
  },
  "language_info": {
   "codemirror_mode": {
    "name": "ipython",
    "version": 3
   },
   "file_extension": ".py",
   "mimetype": "text/x-python",
   "name": "python",
   "nbconvert_exporter": "python",
   "pygments_lexer": "ipython3",
   "version": "3.10.15"
  }
 },
 "nbformat": 4,
 "nbformat_minor": 2
}

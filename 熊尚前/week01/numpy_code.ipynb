{
 "cells": [
  {
   "cell_type": "markdown",
   "metadata": {},
   "source": [
    "# ipynb后缀文件，是Juypter Notebook使用的文件格式，Juypter Nodebook是一个交互式笔记本，支持40多种编程语言，这种文件格式，非常适合用于数据分析、机器学习和可视化\n",
    "\n",
    "# Numpy：是python语言中用于科学计算的一个非常重要的库，它提供了高性能的多维数组对象，以及用于处理这些数组的工具和函数。\n",
    "\n",
    "# Numpy数组\n",
    " - Numpy数组是一个多维数组对象，称为 Ndarray。\n",
    "\n",
    "# Numpy基础数组创建"
   ]
  },
  {
   "cell_type": "code",
   "execution_count": 4,
   "metadata": {},
   "outputs": [
    {
     "data": {
      "text/plain": [
       "array([ 7,  8,  9, 10])"
      ]
     },
     "execution_count": 4,
     "metadata": {},
     "output_type": "execute_result"
    }
   ],
   "source": [
    "import numpy as np\n",
    "arr = [7,8,9,10]\n",
    "nparray = np.array(arr)\n",
    "nparray"
   ]
  },
  {
   "cell_type": "code",
   "execution_count": 13,
   "metadata": {},
   "outputs": [
    {
     "data": {
      "text/plain": [
       "array([1., 2., 3., 4., 5., 6.])"
      ]
     },
     "execution_count": 13,
     "metadata": {},
     "output_type": "execute_result"
    }
   ],
   "source": [
    "import numpy as numpy\n",
    "a = ['a','b']\n",
    "z = numpy.array(a)\n",
    "z\n",
    "\n",
    "y = numpy.array([1,2,3,4,5,6],float)\n",
    "y"
   ]
  },
  {
   "cell_type": "code",
   "execution_count": 15,
   "metadata": {},
   "outputs": [
    {
     "data": {
      "text/plain": [
       "array([[9, 8, 7],\n",
       "       [1, 2, 3],\n",
       "       [4, 5, 6]])"
      ]
     },
     "execution_count": 15,
     "metadata": {},
     "output_type": "execute_result"
    }
   ],
   "source": [
    "# 创建多维数组\n",
    "narr = np.array([(9,8,7),(1,2,3),(4,5,6)])\n",
    "narr"
   ]
  },
  {
   "cell_type": "code",
   "execution_count": 18,
   "metadata": {},
   "outputs": [
    {
     "data": {
      "text/plain": [
       "array([[0., 0., 0., 0.],\n",
       "       [0., 0., 0., 0.],\n",
       "       [0., 0., 0., 0.]])"
      ]
     },
     "execution_count": 18,
     "metadata": {},
     "output_type": "execute_result"
    }
   ],
   "source": [
    "# numpy创建特殊数组\n",
    "a = np.zeros((3,4))\n",
    "a"
   ]
  },
  {
   "cell_type": "code",
   "execution_count": 19,
   "metadata": {},
   "outputs": [
    {
     "data": {
      "text/plain": [
       "array([[0, 0, 0, 0],\n",
       "       [0, 0, 0, 0],\n",
       "       [0, 0, 0, 0]], dtype=int16)"
      ]
     },
     "execution_count": 19,
     "metadata": {},
     "output_type": "execute_result"
    }
   ],
   "source": [
    "# 创建指定类型的numpy数组\n",
    "b = np.zeros((3,4),dtype=np.int16)\n",
    "b"
   ]
  },
  {
   "cell_type": "code",
   "execution_count": 23,
   "metadata": {},
   "outputs": [
    {
     "data": {
      "text/plain": [
       "array([[1., 1.],\n",
       "       [1., 1.],\n",
       "       [1., 1.]])"
      ]
     },
     "execution_count": 23,
     "metadata": {},
     "output_type": "execute_result"
    }
   ],
   "source": [
    "# 创建一个全为1的数组\n",
    "x = np.ones((3,2))\n",
    "x"
   ]
  },
  {
   "cell_type": "code",
   "execution_count": 24,
   "metadata": {},
   "outputs": [
    {
     "data": {
      "text/plain": [
       "array([2. , 3.5, 5. , 6.5, 8. , 9.5])"
      ]
     },
     "execution_count": 24,
     "metadata": {},
     "output_type": "execute_result"
    }
   ],
   "source": [
    "# 创建一个等差数列，从2开始，10结束，步长为1.5\n",
    "x = np.arange(2,10,1.5)\n",
    "x"
   ]
  },
  {
   "cell_type": "code",
   "execution_count": 25,
   "metadata": {},
   "outputs": [
    {
     "data": {
      "text/plain": [
       "array([[1., 0., 0., 0., 0.],\n",
       "       [0., 1., 0., 0., 0.],\n",
       "       [0., 0., 1., 0., 0.],\n",
       "       [0., 0., 0., 1., 0.],\n",
       "       [0., 0., 0., 0., 1.]])"
      ]
     },
     "execution_count": 25,
     "metadata": {},
     "output_type": "execute_result"
    }
   ],
   "source": [
    "# 创建单位矩阵，单位举证：是一个方阵，从左上角到右下角的对角线（称为主对角线）上的元素均为1，除此以外全都为0。\n",
    "x = np.eye(5)\n",
    "x"
   ]
  },
  {
   "cell_type": "code",
   "execution_count": 27,
   "metadata": {},
   "outputs": [
    {
     "data": {
      "text/plain": [
       "array([0.05715407, 0.501101  , 0.08293154, 0.64351458])"
      ]
     },
     "execution_count": 27,
     "metadata": {},
     "output_type": "execute_result"
    }
   ],
   "source": [
    "# 生成指定长度，在[0,1)之间的随机数\n",
    "x = np.random.rand(4)\n",
    "x"
   ]
  },
  {
   "cell_type": "code",
   "execution_count": 28,
   "metadata": {},
   "outputs": [
    {
     "data": {
      "text/plain": [
       "array([-0.82033034, -0.88027949,  0.18515153, -3.26631052, -0.18068345,\n",
       "        0.61314475,  0.58275371, -1.55154132, -0.56724278,  0.49926296])"
      ]
     },
     "execution_count": 28,
     "metadata": {},
     "output_type": "execute_result"
    }
   ],
   "source": [
    "# 生成指定长度，符合标准差的数组\n",
    "x = np.random.normal(0,1,10)\n",
    "x"
   ]
  },
  {
   "cell_type": "markdown",
   "metadata": {},
   "source": [
    "# Numpy数组的访问\n",
    "和列表一样，Numpy数组也可以通过索引访问。也可以切片"
   ]
  },
  {
   "cell_type": "code",
   "execution_count": 45,
   "metadata": {},
   "outputs": [
    {
     "data": {
      "text/plain": [
       "array([1, 3, 5])"
      ]
     },
     "execution_count": 45,
     "metadata": {},
     "output_type": "execute_result"
    }
   ],
   "source": [
    "# 创建一个3行2列的数组\n",
    "x = np.array([[1,2],[3,4],[5,6]])\n",
    "x[2]\n",
    "x[:]\n",
    "x[::2]\n",
    "x[::-1]\n",
    "x[:,0]"
   ]
  },
  {
   "cell_type": "code",
   "execution_count": 46,
   "metadata": {},
   "outputs": [
    {
     "name": "stdout",
     "output_type": "stream",
     "text": [
      "1\n",
      "2\n",
      "3\n",
      "4\n",
      "5\n",
      "6\n"
     ]
    }
   ],
   "source": [
    "# Numpy数组的遍历\n",
    "x = np.array([1,2,3,4,5,6])\n",
    "for i in x:\n",
    "    print(i)"
   ]
  },
  {
   "cell_type": "code",
   "execution_count": 49,
   "metadata": {},
   "outputs": [
    {
     "name": "stdout",
     "output_type": "stream",
     "text": [
      "[1 2 3]\n",
      "[4 5 6]\n",
      "[7 8 9]\n"
     ]
    }
   ],
   "source": [
    "x = np.array([(1,2,3),(4,5,6),(7,8,9)])\n",
    "for i in x:\n",
    "  print(i)"
   ]
  },
  {
   "cell_type": "markdown",
   "metadata": {},
   "source": [
    "# Numpy 数组的常用属性\n",
    "ndarray.ndim:数组的维度\n",
    "ndarray.shape:数组的大小。表示数组在每个维度上的大小。例如，一个n行m列的数组的shape为(n,m)。\n",
    "ndarray.size:数组的元素总数。\n",
    "ndarray.dtype:数组中元素的类型。"
   ]
  },
  {
   "cell_type": "code",
   "execution_count": 51,
   "metadata": {},
   "outputs": [
    {
     "name": "stdout",
     "output_type": "stream",
     "text": [
      "x [[1 2 3]\n",
      " [4 5 6]\n",
      " [7 8 9]]\n",
      "ndim 2\n",
      "shape (3, 3)\n",
      "size 9\n",
      "dtype int32\n"
     ]
    }
   ],
   "source": [
    "x = np.array([(1,2,3),(4,5,6),(7,8,9)])\n",
    "print('x', x)\n",
    "print('ndim', x.ndim)\n",
    "print('shape', x.shape)\n",
    "print('size', x.size)\n",
    "print('dtype',x.dtype)"
   ]
  },
  {
   "cell_type": "code",
   "execution_count": 52,
   "metadata": {},
   "outputs": [
    {
     "name": "stdout",
     "output_type": "stream",
     "text": [
      "True\n",
      "False\n"
     ]
    }
   ],
   "source": [
    "# Numpy 数组的基本操作\n",
    "# in:检测数值是否在数组中\n",
    "x = np.array([[1,2],[3,4]])\n",
    "print(2 in x)\n",
    "print(5 in x)"
   ]
  },
  {
   "cell_type": "code",
   "execution_count": 62,
   "metadata": {},
   "outputs": [
    {
     "name": "stdout",
     "output_type": "stream",
     "text": [
      "[[[0 0 0 0]\n",
      "  [0 0 0 0]\n",
      "  [0 0 0 0]]\n",
      "\n",
      " [[0 0 0 0]\n",
      "  [0 0 0 0]\n",
      "  [0 0 0 0]]\n",
      "\n",
      " [[0 0 0 0]\n",
      "  [0 0 0 0]\n",
      "  [0 0 0 0]]]\n",
      "-------------------\n",
      "[0 0 0 0 0 0 0 0 0 0 0 0 0 0 0 0 0 0 0 0 0 0 0 0 0 0 0 0 0 0 0 0 0 0 0 0]\n",
      "-------------------\n",
      "[[[0 0 0 0 0 0]\n",
      "  [0 0 0 0 0 0]\n",
      "  [0 0 0 0 0 0]]\n",
      "\n",
      " [[0 0 0 0 0 0]\n",
      "  [0 0 0 0 0 0]\n",
      "  [0 0 0 0 0 0]]]\n"
     ]
    }
   ],
   "source": [
    "# 数组的重排列\n",
    "x = np.zeros((3,3,4),dtype=int)\n",
    "print(x)\n",
    "print(\"-------------------\")\n",
    "x = x.reshape(36)\n",
    "print(x)\n",
    "print(\"-------------------\")\n",
    "x = x.reshape(2,3,6)\n",
    "print(x)"
   ]
  },
  {
   "cell_type": "code",
   "execution_count": 63,
   "metadata": {},
   "outputs": [
    {
     "name": "stdout",
     "output_type": "stream",
     "text": [
      "[[1 2 3]\n",
      " [4 5 6]\n",
      " [7 8 9]]\n",
      "[[1 4 7]\n",
      " [2 5 8]\n",
      " [3 6 9]]\n"
     ]
    }
   ],
   "source": [
    "# tanspose: 转置\n",
    "x = np.array([[1,2,3],[4,5,6],[7,8,9]])\n",
    "print(x)\n",
    "x = x.transpose()\n",
    "print(x)"
   ]
  },
  {
   "cell_type": "code",
   "execution_count": 66,
   "metadata": {},
   "outputs": [
    {
     "data": {
      "text/plain": [
       "array([1, 2, 3, 4, 5, 6])"
      ]
     },
     "execution_count": 66,
     "metadata": {},
     "output_type": "execute_result"
    }
   ],
   "source": [
    "# flatten:把多维数组转换为一维数组，每个元组的长度是相同的\n",
    "x = np.array([[1,2],[3,4],[5,6]])\n",
    "y = x.flatten()\n",
    "y"
   ]
  },
  {
   "cell_type": "code",
   "execution_count": 69,
   "metadata": {},
   "outputs": [
    {
     "name": "stdout",
     "output_type": "stream",
     "text": [
      "(3,)\n",
      "[[1]\n",
      " [2]\n",
      " [3]]\n",
      "(3, 1)\n",
      "[[[1]]\n",
      "\n",
      " [[2]]\n",
      "\n",
      " [[3]]]\n"
     ]
    }
   ],
   "source": [
    "# newaxis:增加维度\n",
    "x = np.array([1,2,3])\n",
    "y = x.shape\n",
    "print(y)\n",
    "z = x[:,np.newaxis]\n",
    "print(z)\n",
    "print(z.shape)\n",
    "zz = z[:,np.newaxis]\n",
    "print(zz)"
   ]
  },
  {
   "cell_type": "code",
   "execution_count": 78,
   "metadata": {},
   "outputs": [
    {
     "name": "stdout",
     "output_type": "stream",
     "text": [
      "[[1. 1.]\n",
      " [1. 1.]]\n",
      "[[-1  1]\n",
      " [-1  1]]\n",
      "[[0. 2.]\n",
      " [0. 2.]]\n",
      "[[2. 0.]\n",
      " [2. 0.]]\n",
      "[[-1.  1.]\n",
      " [-1.  1.]]\n",
      "[[-1.  1.]\n",
      " [-1.  1.]]\n"
     ]
    }
   ],
   "source": [
    "# Numpy 数组的数学操作\n",
    "# *：星乘表示矩阵内各对应位置相乘，点乘表示矩阵内积，二维数组称为矩阵积\n",
    "x = np.ones((2,2))\n",
    "print(x)\n",
    "y = np.array([[-1,1],[-1,1]])\n",
    "print(y)\n",
    "z = x + y\n",
    "print(z)\n",
    "z1 = x - y\n",
    "print(z1)\n",
    "z2 = x * y\n",
    "print(z2)\n",
    "z3 = x / y \n",
    "print(z3)"
   ]
  },
  {
   "cell_type": "code",
   "execution_count": 86,
   "metadata": {},
   "outputs": [
    {
     "name": "stdout",
     "output_type": "stream",
     "text": [
      "[1 2 3]\n",
      "y 6\n",
      "yy 6\n",
      "[[1 2]\n",
      " [3 4]]\n",
      "y1 10\n",
      "z 10\n"
     ]
    }
   ],
   "source": [
    "x = np.array([1,2,3])\n",
    "print(x)\n",
    "y = x.sum()\n",
    "print('y',y)\n",
    "yy = x.prod()\n",
    "print('yy',yy)\n",
    "x1 = np.array([[1,2],[3,4]])\n",
    "print(x1)\n",
    "y1 = x1.sum()\n",
    "print('y1',y1)\n",
    "z = y1.prod()\n",
    "print('z', z)"
   ]
  },
  {
   "cell_type": "code",
   "execution_count": 87,
   "metadata": {},
   "outputs": [
    {
     "name": "stdout",
     "output_type": "stream",
     "text": [
      "mean: 3.0\n",
      "var: 2.0\n",
      "std: 1.4142135623730951\n",
      "max: 5\n",
      "min: 1\n"
     ]
    }
   ],
   "source": [
    "# 平均数，方差，标准差，最大值，最小值\n",
    "x = np.array([1,2,3,4,5])\n",
    "print('mean:', np.mean(x))\n",
    "print('var:', np.var(x))\n",
    "print('std:', np.std(x))\n",
    "print('max:', np.max(x))\n",
    "print('min:', np.min(x))"
   ]
  },
  {
   "cell_type": "code",
   "execution_count": 88,
   "metadata": {},
   "outputs": [
    {
     "name": "stdout",
     "output_type": "stream",
     "text": [
      "8\n",
      "0\n",
      "[ 2.  3.  4.  5.  6.  7.  8.  9. 10.]\n",
      "[1. 2. 3. 4. 5. 6. 7. 8. 9.]\n",
      "[ 1.  2.  3.  4.  6.  7.  8.  9. 10.]\n"
     ]
    }
   ],
   "source": [
    "# 最大元素与最小元素的索引值：argmax，argmin\n",
    "# 取元素值的上限，下限，四舍五入：ceil,floor,round\n",
    "x = np.array([1.1, 2.2, 3.3, 4.4, 5.5, 6.6, 7.7, 8.8, 9.9])\n",
    "print(np.argmax(x))\n",
    "print(np.argmin(x))\n",
    "print(np.ceil(x))\n",
    "print(np.floor(x))\n",
    "print(np.round(x))"
   ]
  },
  {
   "cell_type": "code",
   "execution_count": 92,
   "metadata": {},
   "outputs": [
    {
     "name": "stdout",
     "output_type": "stream",
     "text": [
      "[3 1 2 5 4]\n",
      "\n",
      "[1 2 3 4 5]\n",
      "\n",
      "[5 4 3 2 1]\n",
      "\n"
     ]
    }
   ],
   "source": [
    "# 排序 sort\n",
    "x = np.array([3, 1, 2, 5, 4])\n",
    "print(x,end='\\n\\n')\n",
    "y = np.sort(x)\n",
    "print(y,end='\\n\\n')\n",
    "z = np.sort(x)[::-1]\n",
    "print(z,end='\\n\\n')"
   ]
  },
  {
   "cell_type": "code",
   "execution_count": 97,
   "metadata": {},
   "outputs": [
    {
     "name": "stdout",
     "output_type": "stream",
     "text": [
      "===========================\n",
      "m1\n",
      "[[1 2]\n",
      " [3 4]]\n",
      "m2\n",
      "[[5 6]\n",
      " [7 8]]\n",
      "===========================\n",
      "[[19 22]\n",
      " [43 50]]\n",
      "===========================\n",
      "[[19 22]\n",
      " [43 50]]\n"
     ]
    }
   ],
   "source": [
    "# Numpy 线性代数\n",
    "# 有关线性代数的运算均在numpy.linalg包中实现。\n",
    "# dot:矩阵乘法：对于两个一维数组，计算的是这两个数组对应下标元素的乘积和(数学上称之为内积)；\n",
    "# 对于二维数组，计算的是两个数组的矩阵乘积；对于多维数组，它的通用计算公式如下，即结果数组中的每个元素都是：数组a的最后一维上的所有元素与数组b的倒数第二位上的所有元素的乘积和。\n",
    "m1 = np.array([[1,2],[3,4]],dtype=np.int32)\n",
    "m2 = np.array([[5,6],[7,8]],dtype=np.int32)\n",
    "print(\"===========================\")\n",
    "print('m1', m1, sep='\\n')\n",
    "print('m2', m2, sep='\\n')\n",
    "print(\"===========================\")\n",
    "print(m1 @ m2)\n",
    "print(\"===========================\")\n",
    "print(m1.dot(m2))\n"
   ]
  }
 ],
 "metadata": {
  "kernelspec": {
   "display_name": "py312",
   "language": "python",
   "name": "python3"
  },
  "language_info": {
   "codemirror_mode": {
    "name": "ipython",
    "version": 3
   },
   "file_extension": ".py",
   "mimetype": "text/x-python",
   "name": "python",
   "nbconvert_exporter": "python",
   "pygments_lexer": "ipython3",
   "version": "3.12.9"
  }
 },
 "nbformat": 4,
 "nbformat_minor": 2
}

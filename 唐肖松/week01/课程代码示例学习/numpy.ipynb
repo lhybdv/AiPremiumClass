{
 "cells": [
  {
   "cell_type": "code",
   "execution_count": 5,
   "metadata": {},
   "outputs": [],
   "source": [
    "import numpy as np # 引入numpy包"
   ]
  },
  {
   "cell_type": "code",
   "execution_count": 6,
   "metadata": {},
   "outputs": [
    {
     "name": "stdout",
     "output_type": "stream",
     "text": [
      "[1.2  2.3  3.6  4.65 5.98]\n",
      "float64\n",
      "[1 2 3 4 5]\n",
      "int32\n"
     ]
    }
   ],
   "source": [
    "# 创建一个float类型的nparray\n",
    "arrFloat = np.array([1.2,2.3,3.6,4.65,5.98], float)\n",
    "print(arrFloat)\n",
    "print(arrFloat.dtype)\n",
    "# 创建一个int类型的nparray\n",
    "arrInt = np.array([1,2,3,4,5], int)\n",
    "print(arrInt)\n",
    "print(arrInt.dtype)"
   ]
  },
  {
   "cell_type": "code",
   "execution_count": 9,
   "metadata": {},
   "outputs": [
    {
     "data": {
      "text/plain": [
       "array([[1, 2, 3],\n",
       "       [4, 5, 6],\n",
       "       [7, 8, 9]])"
      ]
     },
     "execution_count": 9,
     "metadata": {},
     "output_type": "execute_result"
    }
   ],
   "source": [
    "# 创建多维数组\n",
    "a = np.array([[1,2,3], [4,5,6], [7,8,9]])\n",
    "a"
   ]
  },
  {
   "cell_type": "code",
   "execution_count": 15,
   "metadata": {},
   "outputs": [
    {
     "data": {
      "text/plain": [
       "array([[0, 0, 0],\n",
       "       [0, 0, 0]])"
      ]
     },
     "execution_count": 15,
     "metadata": {},
     "output_type": "execute_result"
    }
   ],
   "source": [
    "# 使用zeros初始化一个2行3列的array\n",
    "a = np.zeros((2,3), dtype=int)\n",
    "a"
   ]
  },
  {
   "cell_type": "code",
   "execution_count": 19,
   "metadata": {},
   "outputs": [
    {
     "data": {
      "text/plain": [
       "array([[1., 1., 1.],\n",
       "       [1., 1., 1.],\n",
       "       [1., 1., 1.]])"
      ]
     },
     "execution_count": 19,
     "metadata": {},
     "output_type": "execute_result"
    }
   ],
   "source": [
    "# 使用noes创建一个全部为1的数组 dtype指定类型\n",
    "# a = np.ones((3,3), dtype=int)\n",
    "a = np.ones((3,3), dtype=float)\n",
    "a"
   ]
  },
  {
   "cell_type": "code",
   "execution_count": 24,
   "metadata": {},
   "outputs": [
    {
     "data": {
      "text/plain": [
       "array([1.  , 1.33, 1.66, 1.99, 2.32, 2.65, 2.98, 3.31, 3.64, 3.97, 4.3 ,\n",
       "       4.63, 4.96, 5.29, 5.62, 5.95])"
      ]
     },
     "execution_count": 24,
     "metadata": {},
     "output_type": "execute_result"
    }
   ],
   "source": [
    "# 使用arange创建间隔相同的等差数组\n",
    "a = np.arange(1,6,0.33) # arange从左到右三个参数 第一个参数表示开始数字，等差数组中的最大值不能大于等于第二个参数，第三个参数为差值\n",
    "a"
   ]
  },
  {
   "cell_type": "code",
   "execution_count": 28,
   "metadata": {},
   "outputs": [
    {
     "data": {
      "text/plain": [
       "array([[1., 0., 0.],\n",
       "       [0., 1., 0.],\n",
       "       [0., 0., 1.]])"
      ]
     },
     "execution_count": 28,
     "metadata": {},
     "output_type": "execute_result"
    }
   ],
   "source": [
    "# 创建单位矩阵\n",
    "a = np.eye(3)\n",
    "a"
   ]
  },
  {
   "cell_type": "code",
   "execution_count": 30,
   "metadata": {},
   "outputs": [
    {
     "data": {
      "text/plain": [
       "array([0.06666646, 0.36963094, 0.78123824, 0.84610622, 0.63861437,\n",
       "       0.55201124, 0.87399262, 0.49462543, 0.87813169])"
      ]
     },
     "execution_count": 30,
     "metadata": {},
     "output_type": "execute_result"
    }
   ],
   "source": [
    "# 生成平均分布的随机数组\n",
    "a = np.random.random(9)\n",
    "a"
   ]
  },
  {
   "cell_type": "code",
   "execution_count": 33,
   "metadata": {},
   "outputs": [
    {
     "data": {
      "text/plain": [
       "array([-0.02187904, -0.04036978,  0.11503233, -0.04529666, -0.02472513,\n",
       "        0.02429918,  0.09806004,  0.09761164])"
      ]
     },
     "execution_count": 33,
     "metadata": {},
     "output_type": "execute_result"
    }
   ],
   "source": [
    "# 生成符合正态分布的随机数组\n",
    "num,sigma=0,0.1 # num为均值 sigma为标准差\n",
    "a = np.random.normal(num,sigma,8)\n",
    "a"
   ]
  },
  {
   "cell_type": "code",
   "execution_count": 45,
   "metadata": {},
   "outputs": [
    {
     "name": "stdout",
     "output_type": "stream",
     "text": [
      "[5 6]\n",
      "[[3 4]\n",
      " [5 6]]\n",
      "[[1 2]\n",
      " [3 4]]\n",
      "[[1]\n",
      " [3]\n",
      " [5]]\n",
      "4\n",
      "4\n"
     ]
    }
   ],
   "source": [
    "a = np.array([[1,2], [3,4], [5,6]])\n",
    "# 通过索引访问数组\n",
    "print(a[2])\n",
    "# 通过符号 : 访问索引前或者后的所有数组项\n",
    "print(a[1:])\n",
    "print(a[:2])\n",
    "# 还可以指定二维数组中的每一项\n",
    "print(a[:,:1])\n",
    "print(a[1,1])\n",
    "print(a[1][1])"
   ]
  },
  {
   "cell_type": "code",
   "execution_count": 49,
   "metadata": {},
   "outputs": [
    {
     "name": "stdout",
     "output_type": "stream",
     "text": [
      "1\n",
      "2\n",
      "3\n",
      "4\n",
      "5\n",
      "[1 2]\n",
      "1\n",
      "2\n",
      "[3 4]\n",
      "3\n",
      "4\n",
      "[5 6]\n",
      "5\n",
      "6\n"
     ]
    }
   ],
   "source": [
    "# 使用for in 遍历numpy\n",
    "a = np.array([1,2,3,4,5])\n",
    "for i in a:\n",
    "    print(i)\n",
    "# 遍历多维数组\n",
    "a = np.array([[1,2],[3,4],[5,6]])\n",
    "for i in a:\n",
    "    print(i)\n",
    "    for j in i:\n",
    "        print(j)"
   ]
  },
  {
   "cell_type": "code",
   "execution_count": null,
   "metadata": {},
   "outputs": [
    {
     "name": "stdout",
     "output_type": "stream",
     "text": [
      "ndim 2\n",
      "shape (3, 2)\n",
      "size 6\n",
      "dtype int32\n"
     ]
    }
   ],
   "source": [
    "print('ndim', a.ndim) # ndim 维度 矩阵的秩\n",
    "print('shape', a.shape) # shape 数组大小\n",
    "print('size', a.size) # size 数组元素总个数\n",
    "print('dtype', a.dtype) # dtype 数组中元素类型"
   ]
  },
  {
   "cell_type": "code",
   "execution_count": null,
   "metadata": {},
   "outputs": [
    {
     "name": "stdout",
     "output_type": "stream",
     "text": [
      "[ 1  2  3  4  5  6  7  8  9 10]\n",
      "[[ 1  2  3  4  5]\n",
      " [ 6  7  8  9 10]]\n"
     ]
    }
   ],
   "source": [
    "a = np.arange(1,11, 1)\n",
    "print(a)\n",
    "a = a.reshape((2,5)) # reshap中的参数成绩应该为数组的size值，既数组用元素个数\n",
    "print(a)\n"
   ]
  },
  {
   "cell_type": "code",
   "execution_count": null,
   "metadata": {},
   "outputs": [
    {
     "name": "stdout",
     "output_type": "stream",
     "text": [
      "[[ 1  6]\n",
      " [ 2  7]\n",
      " [ 3  8]\n",
      " [ 4  9]\n",
      " [ 5 10]]\n"
     ]
    }
   ],
   "source": [
    "# 使用T或者transpose()将数组转秩\n",
    "# print(a.T)\n",
    "print(a.transpose())"
   ]
  },
  {
   "cell_type": "code",
   "execution_count": null,
   "metadata": {},
   "outputs": [
    {
     "name": "stdout",
     "output_type": "stream",
     "text": [
      "[ 1  2  3  4  5  6  7  8  9 10]\n"
     ]
    }
   ],
   "source": [
    "# flatten() 将多维数组转为一维\n",
    "print(a.flatten())"
   ]
  },
  {
   "cell_type": "code",
   "execution_count": 66,
   "metadata": {},
   "outputs": [
    {
     "name": "stdout",
     "output_type": "stream",
     "text": [
      "[[1. 1.]\n",
      " [1. 1.]]\n",
      "[[-1  1]\n",
      " [-1  1]]\n",
      "\n",
      "[[0. 2.]\n",
      " [0. 2.]]\n",
      "\n",
      "[[2. 0.]\n",
      " [2. 0.]]\n",
      "4.0\n",
      "12\n"
     ]
    }
   ],
   "source": [
    "a = np.ones((2,2))\n",
    "b = np.array([(-1,1),(-1,1)])\n",
    "print(a)\n",
    "print(b)\n",
    "print()\n",
    "print(a+b) # 数组详见\n",
    "print()\n",
    "print(a-b) # 数组相减\n",
    "# 相乘 相除 同理 都是每个对应位置间的元素互相运算\n",
    "print(a.sum()) # 求和 数组内每个元素互相相加\n",
    "a = np.array([[1,2],[2,3]])\n",
    "print(a.prod()) # 求积 数组内每个元素互相相乘"
   ]
  },
  {
   "cell_type": "code",
   "execution_count": null,
   "metadata": {},
   "outputs": [
    {
     "name": "stdout",
     "output_type": "stream",
     "text": [
      "mean: 3.0\n",
      "var: 2.0\n",
      "std: 1.4142135623730951\n"
     ]
    }
   ],
   "source": [
    "a = np.array([1,2,3,4,5])\n",
    "print(\"mean:\",a.mean()) # mean() 求平均数\n",
    "print(\"var:\", a.var()) # var 求方差\n",
    "print(\"std:\", a.std()) # std 求标准差"
   ]
  },
  {
   "cell_type": "code",
   "execution_count": 76,
   "metadata": {},
   "outputs": [
    {
     "name": "stdout",
     "output_type": "stream",
     "text": [
      "argmax: 1\n",
      "argmin: 0\n",
      "ceil: [2. 6. 2. 3.]\n",
      "floor: [1. 5. 1. 2.]\n",
      "rint: [1. 5. 2. 2.]\n"
     ]
    }
   ],
   "source": [
    "a = np.array([1.2,5.4,1.5,2.3])\n",
    "print(\"argmax:\", a.argmax()) # 最大值的索引\n",
    "print(\"argmin:\", a.argmin()) # 最小值的索引\n",
    "\n",
    "print(\"ceil:\", np.ceil(a))  # 向上取整\n",
    "print(\"floor:\", np.floor(a)) # 向下取整\n",
    "print(\"rint:\", np.rint(a))  # 四舍五入"
   ]
  },
  {
   "cell_type": "code",
   "execution_count": null,
   "metadata": {},
   "outputs": [
    {
     "data": {
      "text/plain": [
       "array([ 2,  5, 12, 24, 44, 54])"
      ]
     },
     "execution_count": 77,
     "metadata": {},
     "output_type": "execute_result"
    }
   ],
   "source": [
    "a = np.array([12,44,2,54,5,24])\n",
    "a.sort() # sort 对数组进行升序排序\n",
    "a"
   ]
  },
  {
   "cell_type": "code",
   "execution_count": 7,
   "metadata": {},
   "outputs": [
    {
     "name": "stdout",
     "output_type": "stream",
     "text": [
      "[[ 25  28]\n",
      " [ 57  64]\n",
      " [ 89 100]]\n",
      "[[ 25  28]\n",
      " [ 57  64]\n",
      " [ 89 100]]\n"
     ]
    }
   ],
   "source": [
    "# 使用 np.dot 或者 @ 来进行矩阵乘法运算\n",
    "#对于⼆维数组，计算的是两个数组的矩阵乘积；\n",
    "#对于多维数组，它的通⽤计算公式如下，即结果数组中的每个元素都是：数组 a 的最后⼀维上的所有元素与数组 b 的倒数第⼆位上的所有元素的乘积和：dot(a, b)[i,j,k,m]= sum(a[i,j,:] * b[k,:,m]) \n",
    "a = np.array([[1,2],[3,4],[5,6]])\n",
    "b = np.array([[7,8], [9,10]])\n",
    "result_dot = np.dot(a,b)\n",
    "result_at = a @ b\n",
    "print(result_dot)\n",
    "print(result_at)"
   ]
  },
  {
   "cell_type": "code",
   "execution_count": null,
   "metadata": {},
   "outputs": [],
   "source": [
    "np.save('result.npy', result_at) # np.save 存储文件 "
   ]
  },
  {
   "cell_type": "code",
   "execution_count": null,
   "metadata": {},
   "outputs": [
    {
     "data": {
      "text/plain": [
       "array([[ 25,  28],\n",
       "       [ 57,  64],\n",
       "       [ 89, 100]])"
      ]
     },
     "execution_count": 9,
     "metadata": {},
     "output_type": "execute_result"
    }
   ],
   "source": [
    "np.load('result.npy') # np.load 打开文件"
   ]
  }
 ],
 "metadata": {
  "kernelspec": {
   "display_name": "py312",
   "language": "python",
   "name": "python3"
  },
  "language_info": {
   "codemirror_mode": {
    "name": "ipython",
    "version": 3
   },
   "file_extension": ".py",
   "mimetype": "text/x-python",
   "name": "python",
   "nbconvert_exporter": "python",
   "pygments_lexer": "ipython3",
   "version": "3.12.9"
  }
 },
 "nbformat": 4,
 "nbformat_minor": 2
}

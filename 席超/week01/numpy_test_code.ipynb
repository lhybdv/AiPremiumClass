{
 "cells": [
  {
   "cell_type": "code",
   "execution_count": 1,
   "metadata": {},
   "outputs": [],
   "source": [
    "import numpy as np"
   ]
  },
  {
   "cell_type": "code",
   "execution_count": null,
   "metadata": {},
   "outputs": [
    {
     "data": {
      "text/plain": [
       "array([ 9.22, -9.22])"
      ]
     },
     "execution_count": 63,
     "metadata": {},
     "output_type": "execute_result"
    }
   ],
   "source": [
    "\n",
    "a1 = [9.22,-9.22]\n",
    "# a1 = [1,2]\n",
    "b1 = np.array(a1,dtype = float)\n",
    "b1"
   ]
  },
  {
   "cell_type": "code",
   "execution_count": 64,
   "metadata": {},
   "outputs": [
    {
     "name": "stdout",
     "output_type": "stream",
     "text": [
      "[ 9.22 -9.22] <class 'numpy.ndarray'> <class 'numpy.float64'>\n"
     ]
    }
   ],
   "source": [
    "print(b1, type(b1), type(b1[0]))"
   ]
  },
  {
   "cell_type": "code",
   "execution_count": 75,
   "metadata": {},
   "outputs": [
    {
     "name": "stdout",
     "output_type": "stream",
     "text": [
      "[[1 2 3]\n",
      " [4 5 6]]\n",
      "(2, 3)\n"
     ]
    }
   ],
   "source": [
    "b = np.array([[1,2,3],[4,5,6]])\n",
    "print(b)\n",
    "print(b.shape)"
   ]
  },
  {
   "cell_type": "code",
   "execution_count": 116,
   "metadata": {},
   "outputs": [
    {
     "name": "stdout",
     "output_type": "stream",
     "text": [
      "[[[ 1  2  3]\n",
      "  [ 4  5  6]\n",
      "  [ 7  8  9]]\n",
      "\n",
      " [[10 11 12]\n",
      "  [13 14 15]\n",
      "  [16 17 18]]\n",
      "\n",
      " [[19 20 21]\n",
      "  [22 23 24]\n",
      "  [25 26 27]]]\n",
      "378\n",
      "[[30 33 36]\n",
      " [39 42 45]\n",
      " [48 51 54]]\n"
     ]
    }
   ],
   "source": [
    "# c = np.array([[[1,2,3],[4,5,6],[7,8,9]],[[10,11,12],[13,14,15],[16,17,18]],[[19,20,21],[22,23,24],[25,26,27]]])\n",
    "c = np.array([[[1,2,3],[4,5,6],[7,8,9]],[[10,11,12],[13,14,15],[16,17,18]],[[19,20,21],[22,23,24],[25,26,27]]])\n",
    "print(c)\n",
    "# print(c.shape)\n",
    "# print(c.dtype)\n",
    "print(c.sum())\n",
    "print(sum(c))"
   ]
  },
  {
   "cell_type": "code",
   "execution_count": 108,
   "metadata": {},
   "outputs": [
    {
     "name": "stdout",
     "output_type": "stream",
     "text": [
      "[[ 2  4  6]\n",
      " [ 8 10 12]\n",
      " [14 16 18]]\n",
      "[[1 2 3]\n",
      " [4 5 6]\n",
      " [7 8 9]]\n"
     ]
    }
   ],
   "source": [
    "c2 = np.array([[1,2,3],[4,5,6],[7,8,9]])\n",
    "# c3 = c2\n",
    "# print(c2)\n",
    "# print(c2.shape)\n",
    "print(c2*2)\n",
    "print(c2)"
   ]
  },
  {
   "cell_type": "code",
   "execution_count": 111,
   "metadata": {},
   "outputs": [
    {
     "name": "stdout",
     "output_type": "stream",
     "text": [
      "[12 15 18]\n"
     ]
    }
   ],
   "source": [
    "c3 = np.array([[1,2,3],[4,5,6],[7,8,9]])\n",
    "print(sum(c3))"
   ]
  },
  {
   "cell_type": "code",
   "execution_count": 120,
   "metadata": {},
   "outputs": [
    {
     "name": "stdout",
     "output_type": "stream",
     "text": [
      "[[0 0]\n",
      " [0 0]]\n",
      "[[1. 1. 1.]\n",
      " [1. 1. 1.]\n",
      " [1. 1. 1.]]\n"
     ]
    }
   ],
   "source": [
    "#创建特殊数组\n",
    "n1 = np.zeros((2,2),dtype=int)\n",
    "print(n1)\n",
    "n2 = np.ones((3,3),dtype=float)\n",
    "print(n2)"
   ]
  },
  {
   "cell_type": "code",
   "execution_count": 128,
   "metadata": {},
   "outputs": [
    {
     "data": {
      "text/plain": [
       "array([1, 2, 3, 4])"
      ]
     },
     "execution_count": 128,
     "metadata": {},
     "output_type": "execute_result"
    }
   ],
   "source": [
    "#创建等差数列\n",
    "n3 = np.arange(1,5,1)\n",
    "# print(n3)\n",
    "n3"
   ]
  },
  {
   "cell_type": "code",
   "execution_count": 137,
   "metadata": {},
   "outputs": [
    {
     "name": "stdout",
     "output_type": "stream",
     "text": [
      "(3, 3)\n",
      "9\n"
     ]
    }
   ],
   "source": [
    "#创建单位矩阵\n",
    "n4 = np.eye(3,dtype=int)\n",
    "n4\n",
    "print(n4.shape)\n",
    "print(n4.size)"
   ]
  },
  {
   "cell_type": "code",
   "execution_count": 158,
   "metadata": {},
   "outputs": [
    {
     "data": {
      "text/plain": [
       "array([0.21113652, 0.22349857, 0.84087494, 0.18336266, 0.89622706])"
      ]
     },
     "execution_count": 158,
     "metadata": {},
     "output_type": "execute_result"
    }
   ],
   "source": [
    "#生成指定长度，在[0,1)之间平均分布的随机数组：\n",
    "n5 = np.random.random(5)\n",
    "n5"
   ]
  },
  {
   "cell_type": "code",
   "execution_count": 167,
   "metadata": {},
   "outputs": [
    {
     "data": {
      "text/plain": [
       "array([13.11540856,  9.25264392,  8.02180736,  5.88599483,  7.80652141])"
      ]
     },
     "execution_count": 167,
     "metadata": {},
     "output_type": "execute_result"
    }
   ],
   "source": [
    "#⽣成指定⻓度，符合正态分布的随机数组，指定其均值为 10，标准差为 2：\n",
    "ave,sigma = 10, 2\n",
    "n6 = np.random.normal(ave,sigma,5)\n",
    "n6"
   ]
  },
  {
   "cell_type": "code",
   "execution_count": 214,
   "metadata": {},
   "outputs": [
    {
     "data": {
      "text/plain": [
       "array([[1, 2],\n",
       "       [4, 5],\n",
       "       [6, 7]])"
      ]
     },
     "execution_count": 214,
     "metadata": {},
     "output_type": "execute_result"
    }
   ],
   "source": [
    "#Numpy数组的访问\n",
    "nu = np.array([((1,2),(4,5),(6,7)),((8,9),(10,11),(12,13)),((14,15),(16,17),(18,19)),((20,21),(22,23),(24,25))])\n",
    "nu[0]\n"
   ]
  },
  {
   "cell_type": "code",
   "execution_count": 215,
   "metadata": {},
   "outputs": [
    {
     "data": {
      "text/plain": [
       "array([[[1, 2],\n",
       "        [4, 5],\n",
       "        [6, 7]]])"
      ]
     },
     "execution_count": 215,
     "metadata": {},
     "output_type": "execute_result"
    }
   ],
   "source": [
    "# nu = np.array([((1,2),(4,5),(6,7)),((8,9),(10,11),(12,13)),((14,15),(16,17),(18,19)),((20,21),(22,23),(24,25))])\n",
    "nu[:1]"
   ]
  },
  {
   "cell_type": "code",
   "execution_count": 216,
   "metadata": {},
   "outputs": [
    {
     "data": {
      "text/plain": [
       "array([[[ 8,  9],\n",
       "        [10, 11],\n",
       "        [12, 13]],\n",
       "\n",
       "       [[14, 15],\n",
       "        [16, 17],\n",
       "        [18, 19]],\n",
       "\n",
       "       [[20, 21],\n",
       "        [22, 23],\n",
       "        [24, 25]]])"
      ]
     },
     "execution_count": 216,
     "metadata": {},
     "output_type": "execute_result"
    }
   ],
   "source": [
    "# nu = np.array([((1,2),(4,5),(6,7)),((8,9),(10,11),(12,13)),((14,15),(16,17),(18,19)),((20,21),(22,23),(24,25))])\n",
    "nu[1:]"
   ]
  },
  {
   "cell_type": "code",
   "execution_count": 224,
   "metadata": {},
   "outputs": [
    {
     "data": {
      "text/plain": [
       "array([[[ 1,  2]],\n",
       "\n",
       "       [[ 8,  9]],\n",
       "\n",
       "       [[14, 15]],\n",
       "\n",
       "       [[20, 21]]])"
      ]
     },
     "execution_count": 224,
     "metadata": {},
     "output_type": "execute_result"
    }
   ],
   "source": [
    "# nu = np.array([((1,2),(4,5),(6,7)),((8,9),(10,11),(12,13)),((14,15),(16,17),(18,19)),((20,21),(22,23),(24,25))])\n",
    "nu[:,:1]"
   ]
  },
  {
   "cell_type": "code",
   "execution_count": 259,
   "metadata": {},
   "outputs": [
    {
     "data": {
      "text/plain": [
       "array([[1],\n",
       "       [3],\n",
       "       [5]])"
      ]
     },
     "execution_count": 259,
     "metadata": {},
     "output_type": "execute_result"
    }
   ],
   "source": [
    "a2 = np.array([(1,2),(3,4),(5,6)])\n",
    "a2[:,:1]"
   ]
  },
  {
   "cell_type": "code",
   "execution_count": 266,
   "metadata": {},
   "outputs": [
    {
     "name": "stdout",
     "output_type": "stream",
     "text": [
      "1\n",
      "2\n",
      "30\n"
     ]
    }
   ],
   "source": [
    "#Numpy数组的遍历\n",
    "a3 = np.array([1,2,30])\n",
    "for i in a3:\n",
    "    print(i)"
   ]
  },
  {
   "cell_type": "code",
   "execution_count": 272,
   "metadata": {},
   "outputs": [
    {
     "name": "stdout",
     "output_type": "stream",
     "text": [
      "ndarray.ndim : 数组的维度（数组轴的个数），等于秩 \n",
      "ndim: 3\n",
      "\n",
      "ndarray.shape : 数组的⼤⼩。为⼀个表⽰数组在每个维度上⼤⼩的整数元组。例如⼆维数组中，表⽰数组的ʼ ⾏数ʼ 和ʼ 列数ˮ\n",
      "shape: (4, 3, 2)\n",
      "\n",
      "ndarray.size : 数组元素的总个数，等于 shape 属性中元组元素的乘积\n",
      "size: 24\n",
      "\n",
      "ndarray.dtype : 表⽰数组中元素类型的对象\n",
      "dtype int32\n"
     ]
    }
   ],
   "source": [
    "# NumPy 数组的常⽤属性\n",
    "# nu = np.array([((1,2),(4,5),(6,7)),((8,9),(10,11),(12,13)),((14,15),(16,17),(18,19)),((20,21),(22,23),(24,25))])\n",
    "print(\"ndarray.ndim : 数组的维度（数组轴的个数），等于秩 \")\n",
    "print(\"ndim:\",nu.ndim)\n",
    "print()\n",
    "print(\"ndarray.shape : 数组的⼤⼩。为⼀个表⽰数组在每个维度上⼤⼩的整数元组。例如⼆维数组中，表⽰数组的ʼ ⾏数ʼ 和ʼ 列数ˮ\")\n",
    "print(\"shape:\",nu.shape)\n",
    "print()\n",
    "print(\"ndarray.size : 数组元素的总个数，等于 shape 属性中元组元素的乘积\")\n",
    "print(\"size:\",nu.size)\n",
    "print()\n",
    "print(\"ndarray.dtype : 表⽰数组中元素类型的对象\")\n",
    "print(\"dtype\",nu.dtype)"
   ]
  },
  {
   "cell_type": "code",
   "execution_count": 296,
   "metadata": {},
   "outputs": [
    {
     "data": {
      "text/plain": [
       "array([[1, 2, 3],\n",
       "       [1, 2, 3]])"
      ]
     },
     "execution_count": 296,
     "metadata": {},
     "output_type": "execute_result"
    }
   ],
   "source": [
    "nu3 = np.array([(1,2,3),(1,2,3)])\n",
    "nu3"
   ]
  },
  {
   "cell_type": "code",
   "execution_count": 305,
   "metadata": {},
   "outputs": [
    {
     "name": "stdout",
     "output_type": "stream",
     "text": [
      "False\n"
     ]
    }
   ],
   "source": [
    "# in :检测数值是否在数组中\n",
    "# nu3 = np.array([(1,2,3),(1,2,3)])\n",
    "print(4 in nu3)"
   ]
  },
  {
   "cell_type": "code",
   "execution_count": 316,
   "metadata": {},
   "outputs": [
    {
     "data": {
      "text/plain": [
       "array([1, 2, 3, 1, 2, 3])"
      ]
     },
     "execution_count": 316,
     "metadata": {},
     "output_type": "execute_result"
    }
   ],
   "source": [
    "#reshape : 数组的重排列，例如将⼀个 3 维数组转变为 1 维（元素数⼀定要保持不变）\n",
    "nu3.reshape(6)"
   ]
  },
  {
   "cell_type": "code",
   "execution_count": 320,
   "metadata": {},
   "outputs": [
    {
     "data": {
      "text/plain": [
       "array([[1, 1],\n",
       "       [2, 2],\n",
       "       [3, 3]])"
      ]
     },
     "execution_count": 320,
     "metadata": {},
     "output_type": "execute_result"
    }
   ],
   "source": [
    "# tanspose ：转置 (可以直接.T）\n",
    "nu3.T"
   ]
  },
  {
   "cell_type": "code",
   "execution_count": 322,
   "metadata": {},
   "outputs": [
    {
     "data": {
      "text/plain": [
       "array([[[ 1,  2],\n",
       "        [ 4,  5],\n",
       "        [ 6,  7]],\n",
       "\n",
       "       [[ 8,  9],\n",
       "        [10, 11],\n",
       "        [12, 13]],\n",
       "\n",
       "       [[14, 15],\n",
       "        [16, 17],\n",
       "        [18, 19]],\n",
       "\n",
       "       [[20, 21],\n",
       "        [22, 23],\n",
       "        [24, 25]]])"
      ]
     },
     "execution_count": 322,
     "metadata": {},
     "output_type": "execute_result"
    }
   ],
   "source": [
    "nu"
   ]
  },
  {
   "cell_type": "code",
   "execution_count": 321,
   "metadata": {},
   "outputs": [
    {
     "data": {
      "text/plain": [
       "array([[[ 1,  8, 14, 20],\n",
       "        [ 4, 10, 16, 22],\n",
       "        [ 6, 12, 18, 24]],\n",
       "\n",
       "       [[ 2,  9, 15, 21],\n",
       "        [ 5, 11, 17, 23],\n",
       "        [ 7, 13, 19, 25]]])"
      ]
     },
     "execution_count": 321,
     "metadata": {},
     "output_type": "execute_result"
    }
   ],
   "source": [
    "nu.T"
   ]
  },
  {
   "cell_type": "code",
   "execution_count": 327,
   "metadata": {},
   "outputs": [
    {
     "data": {
      "text/plain": [
       "array([[1, 2, 3],\n",
       "       [4, 5, 6],\n",
       "       [7, 8, 9]])"
      ]
     },
     "execution_count": 327,
     "metadata": {},
     "output_type": "execute_result"
    }
   ],
   "source": [
    "q = np.array([(1,2,3),(4,5,6),(7,8,9)])\n",
    "q"
   ]
  },
  {
   "cell_type": "code",
   "execution_count": 328,
   "metadata": {},
   "outputs": [
    {
     "data": {
      "text/plain": [
       "array([[1, 4, 7],\n",
       "       [2, 5, 8],\n",
       "       [3, 6, 9]])"
      ]
     },
     "execution_count": 328,
     "metadata": {},
     "output_type": "execute_result"
    }
   ],
   "source": [
    "q.transpose()"
   ]
  },
  {
   "cell_type": "code",
   "execution_count": 329,
   "metadata": {},
   "outputs": [
    {
     "data": {
      "text/plain": [
       "array([[1, 4, 7],\n",
       "       [2, 5, 8],\n",
       "       [3, 6, 9]])"
      ]
     },
     "execution_count": 329,
     "metadata": {},
     "output_type": "execute_result"
    }
   ],
   "source": [
    "q.T"
   ]
  },
  {
   "cell_type": "code",
   "execution_count": 345,
   "metadata": {},
   "outputs": [
    {
     "data": {
      "text/plain": [
       "array([1, 2, 3, 4, 5, 6, 7, 8, 9, 1, 2, 3, 4, 5, 6, 7, 8, 9])"
      ]
     },
     "execution_count": 345,
     "metadata": {},
     "output_type": "execute_result"
    }
   ],
   "source": [
    "# flatten : 把多维数组转换为⼀维数组，注意每个元组的⻓度是相同的\n",
    "#q = np.array([(1,2,3),(4,5,6),(7,8,9)])\n",
    "q1 = np.array([((1,2,3),(4,5,6),(7,8,9)),((1,2,3),(4,5,6),(7,8,9))])\n",
    "q1.flatten()"
   ]
  },
  {
   "cell_type": "code",
   "execution_count": 401,
   "metadata": {},
   "outputs": [
    {
     "data": {
      "text/plain": [
       "array([1, 2, 3])"
      ]
     },
     "execution_count": 401,
     "metadata": {},
     "output_type": "execute_result"
    }
   ],
   "source": [
    "#newaxis : 增加维度\n",
    "q2 = np.array([1,2,3])\n",
    "q2"
   ]
  },
  {
   "cell_type": "code",
   "execution_count": 402,
   "metadata": {},
   "outputs": [
    {
     "data": {
      "text/plain": [
       "(3,)"
      ]
     },
     "execution_count": 402,
     "metadata": {},
     "output_type": "execute_result"
    }
   ],
   "source": [
    "q2.shape"
   ]
  },
  {
   "cell_type": "code",
   "execution_count": 403,
   "metadata": {},
   "outputs": [
    {
     "data": {
      "text/plain": [
       "array([[1],\n",
       "       [2],\n",
       "       [3]])"
      ]
     },
     "execution_count": 403,
     "metadata": {},
     "output_type": "execute_result"
    }
   ],
   "source": [
    "q2 = q2[:,np.newaxis]\n",
    "q2"
   ]
  },
  {
   "cell_type": "code",
   "execution_count": 404,
   "metadata": {},
   "outputs": [
    {
     "data": {
      "text/plain": [
       "(3, 1)"
      ]
     },
     "execution_count": 404,
     "metadata": {},
     "output_type": "execute_result"
    }
   ],
   "source": [
    "q2.shape"
   ]
  },
  {
   "cell_type": "code",
   "execution_count": 410,
   "metadata": {},
   "outputs": [
    {
     "name": "stdout",
     "output_type": "stream",
     "text": [
      "[[1. 1.]\n",
      " [1. 1.]]\n",
      "\n",
      "[[-1  1]\n",
      " [-1  1]]\n"
     ]
    }
   ],
   "source": [
    "#* 星乘表⽰矩阵内各对应位置相乘，点乘表⽰求矩阵内积，⼆维数组称为矩阵积（mastrix product）：\n",
    "a = np.ones((2,2))\n",
    "b = np.array([(-1,1),(-1,1)])\n",
    "print(a)\n",
    "print()\n",
    "print(b)"
   ]
  },
  {
   "cell_type": "code",
   "execution_count": 411,
   "metadata": {},
   "outputs": [
    {
     "data": {
      "text/plain": [
       "array([[0., 2.],\n",
       "       [0., 2.]])"
      ]
     },
     "execution_count": 411,
     "metadata": {},
     "output_type": "execute_result"
    }
   ],
   "source": [
    "a + b"
   ]
  },
  {
   "cell_type": "code",
   "execution_count": 412,
   "metadata": {},
   "outputs": [
    {
     "data": {
      "text/plain": [
       "array([[-1.,  1.],\n",
       "       [-1.,  1.]])"
      ]
     },
     "execution_count": 412,
     "metadata": {},
     "output_type": "execute_result"
    }
   ],
   "source": [
    "a * b"
   ]
  },
  {
   "cell_type": "code",
   "execution_count": 413,
   "metadata": {},
   "outputs": [
    {
     "data": {
      "text/plain": [
       "array([[2., 0.],\n",
       "       [2., 0.]])"
      ]
     },
     "execution_count": 413,
     "metadata": {},
     "output_type": "execute_result"
    }
   ],
   "source": [
    "a - b"
   ]
  },
  {
   "cell_type": "code",
   "execution_count": 416,
   "metadata": {},
   "outputs": [
    {
     "data": {
      "text/plain": [
       "array([[-1.,  1.],\n",
       "       [-1.,  1.]])"
      ]
     },
     "execution_count": 416,
     "metadata": {},
     "output_type": "execute_result"
    }
   ],
   "source": [
    "a / b"
   ]
  },
  {
   "cell_type": "code",
   "execution_count": null,
   "metadata": {},
   "outputs": [
    {
     "data": {
      "text/plain": [
       "24"
      ]
     },
     "execution_count": 418,
     "metadata": {},
     "output_type": "execute_result"
    }
   ],
   "source": [
    "w = np.array([1,2,3,4])\n",
    "w.sum()"
   ]
  },
  {
   "cell_type": "code",
   "execution_count": 419,
   "metadata": {},
   "outputs": [
    {
     "data": {
      "text/plain": [
       "24"
      ]
     },
     "execution_count": 419,
     "metadata": {},
     "output_type": "execute_result"
    }
   ],
   "source": [
    "w.prod()"
   ]
  },
  {
   "cell_type": "code",
   "execution_count": 426,
   "metadata": {},
   "outputs": [
    {
     "name": "stdout",
     "output_type": "stream",
     "text": [
      "平均数 mean: 3.0\n",
      "方差 var 2.6666666666666665\n",
      "标准差 std 1.632993161855452\n",
      "最大值 max 5\n",
      "最小值 min 1\n"
     ]
    }
   ],
   "source": [
    "# 平均数，⽅差，标准差，最⼤值，最⼩值\n",
    "a = np.array([5,3,1])\n",
    "print(\"平均数\",\"mean:\",a.mean())\n",
    "print(\"方差\",\"var\",a.var())\n",
    "print(\"标准差\",\"std\",a.std())\n",
    "print(\"最大值\",\"max\",a.max())\n",
    "print(\"最小值\",\"min\",a.min())"
   ]
  },
  {
   "cell_type": "code",
   "execution_count": 434,
   "metadata": {},
   "outputs": [
    {
     "name": "stdout",
     "output_type": "stream",
     "text": [
      "最大值索引 argmax 2\n",
      "最小值索引 argmin 0\n",
      "元素取上限 ceil [2. 4. 6.]\n",
      "元素取下限 floor [1. 3. 5.]\n",
      "元素四舍五入 rint [1. 3. 6.]\n"
     ]
    }
   ],
   "source": [
    "#最⼤与最⼩值对应的索引值：argmax,argmin:\n",
    "# 取元素值上限，下限，四舍五⼊：ceil, floor, rint\n",
    "a = np.array([1.2,3.4,5.6])\n",
    "print(\"最大值索引\",\"argmax\",np.argmax(a))\n",
    "print(\"最小值索引\",\"argmin\",np.argmin(a))\n",
    "print(\"元素取上限\",\"ceil\",np.ceil(a))\n",
    "print(\"元素取下限\",\"floor\",np.floor(a))\n",
    "print(\"元素四舍五入\",\"rint\",np.rint(a))"
   ]
  },
  {
   "cell_type": "code",
   "execution_count": 458,
   "metadata": {},
   "outputs": [
    {
     "name": "stdout",
     "output_type": "stream",
     "text": [
      "[[ 8  9 10]\n",
      " [ 3  4 25]]\n"
     ]
    }
   ],
   "source": [
    "# 排序\n",
    "a = np.array([(10,9,8),(25,3,4)])\n",
    "a.sort()\n",
    "print(a)"
   ]
  },
  {
   "cell_type": "code",
   "execution_count": 6,
   "metadata": {},
   "outputs": [
    {
     "name": "stdout",
     "output_type": "stream",
     "text": [
      "[[ 9  8  1]\n",
      " [25  4  3]]\n"
     ]
    }
   ],
   "source": [
    "a = np.array([(1,9,8),(25,3,4)])\n",
    "a.sort()\n",
    "# print(a)\n",
    "# np.flip(a)\n",
    "# reversed_arr = a[::-1,:]    # 在第0轴上倒序\n",
    "# print(reversed_arr)\n",
    "\n",
    "reversed_arr = a[:,::-1]    # 在第1轴上倒序\n",
    "print(reversed_arr)"
   ]
  },
  {
   "cell_type": "code",
   "execution_count": 24,
   "metadata": {},
   "outputs": [
    {
     "data": {
      "text/plain": [
       "array([ 1.55740772, -2.18503986, -0.14254654,  1.15782128, 20.52488998,\n",
       "        1.61977519])"
      ]
     },
     "execution_count": 24,
     "metadata": {},
     "output_type": "execute_result"
    }
   ],
   "source": [
    "n = np.array([1,2,3,4,-121,45])\n",
    "np.tan(n)"
   ]
  },
  {
   "cell_type": "code",
   "execution_count": 28,
   "metadata": {},
   "outputs": [
    {
     "data": {
      "text/plain": [
       "32"
      ]
     },
     "execution_count": 28,
     "metadata": {},
     "output_type": "execute_result"
    }
   ],
   "source": [
    "#两个一维数组，计算的是两个数组对应下标元素的乘积和（数学上称之为内积）\n",
    "#对于二位数组计算的是两个数组的矩阵乘积\n",
    "\n",
    "#定义两个简单的矩阵\n",
    "#一维数组\n",
    "m1 = np.array([1,2,3])\n",
    "m2 = np.array([4,5,6])\n",
    "# result_dot = np.dot(m1,m2)\n",
    "result_dot = m1 @ m2\n",
    "result_dot"
   ]
  },
  {
   "cell_type": "code",
   "execution_count": 43,
   "metadata": {},
   "outputs": [
    {
     "name": "stdout",
     "output_type": "stream",
     "text": [
      "[[1 2]\n",
      " [3 4]]\n",
      "\n",
      "[[5 6]\n",
      " [7 8]]\n",
      "\n",
      "[[19 22]\n",
      " [43 50]]\n",
      "\n",
      "[[19 22]\n",
      " [43 50]]\n"
     ]
    }
   ],
   "source": [
    "#二位数组\n",
    "m3 = np.array([(1,2),(3,4)])\n",
    "m4 = np.array([(5,6),(7,8)])\n",
    "result_dot2 = np.dot(m3,m4)\n",
    "print(m3)\n",
    "print()\n",
    "print(m4)\n",
    "print()\n",
    "print(result_dot2)\n",
    "print()\n",
    "result_at = m3 @ m4\n",
    "print(result_at)"
   ]
  },
  {
   "cell_type": "code",
   "execution_count": 59,
   "metadata": {},
   "outputs": [
    {
     "name": "stdout",
     "output_type": "stream",
     "text": [
      "[[1 2]\n",
      " [3 4]]\n",
      "\n",
      "[[[5 6]\n",
      "  [7 8]]]\n",
      "\n",
      "result_dot:\n",
      "[[[19 22]]\n",
      "\n",
      " [[43 50]]]\n",
      "result_at:\n",
      "[[[19 22]\n",
      "  [43 50]]]\n"
     ]
    }
   ],
   "source": [
    "m5 = np.array([(1,2),(3,4)])\n",
    "m6 = np.array([((5,6),(7,8))])\n",
    "print(m5)\n",
    "print()\n",
    "print(m6)\n",
    "print()\n",
    "result_dot3 = np.dot(m5,m6)\n",
    "print(\"result_dot:\")\n",
    "print(result_dot3)\n",
    "result_at3 = m5 @ m6\n",
    "print(\"result_at:\")\n",
    "print(result_at3)"
   ]
  },
  {
   "cell_type": "code",
   "execution_count": 65,
   "metadata": {},
   "outputs": [
    {
     "name": "stdout",
     "output_type": "stream",
     "text": [
      "1.0 * 5 = 1.0 * 5\n",
      "1.0 * 7 = 1.0 * 7\n",
      "结果矩阵[1,1]:19.0\n",
      "\n",
      "2.0 * 6 = 2.0 * 6\n",
      "2.0 * 8 = 2.0 * 8\n",
      "结果矩阵[1,2]:22.0\n",
      "\n",
      "3.0 * 5 = 3.0 * 5\n",
      "3.0 * 7 = 3.0 * 7\n",
      "结果矩阵[2,1]:43.0\n",
      "\n",
      "4.0 * 6 = 4.0 * 6\n",
      "4.0 * 8 = 4.0 * 8\n",
      "结果矩阵[2,2]:50.0\n",
      "\n",
      "手动推演结果\n",
      "[[19. 22.]\n",
      " [43. 50.]]\n"
     ]
    }
   ],
   "source": [
    "m1 = np.array([(1,2),(3,4)],dtype=np.float32)\n",
    "m2 = np.array([(5,6),(7,8)])\n",
    "#创建一个全零矩阵,用存储手动推演结果\n",
    "#结果矩阵的行数等于matrix1的行数，列数等于matrix2的列数\n",
    "manual_result = np.zeros((m1.shape[0],m2.shape[1]),dtype=np.float32)\n",
    "\n",
    "#外层循环：遍历matrix1的每一行\n",
    "#i表示结果矩阵的索引\n",
    "for i in range(m1.shape[0]):\n",
    "    #中层循环：遍历matrix2的每一列\n",
    "    #j表示结果矩阵的索引\n",
    "    for j in range(m2.shape[1]):\n",
    "        #初始化当前位置的结果位0\n",
    "        manual_result[i,j] = 0\n",
    "        #内层循环：计算matrix1的第i行与matrix2的第j列对应元素的乘积之和\n",
    "        #k表示参与乘法运算的元素索引\n",
    "        for k in range(m1.shape[1]):\n",
    "            #打印当前正在计算的元素\n",
    "            print(f\"{m1[i,j]} * {m2[k,j]} = {m1[i,j]} * {m2[k,j]}\")\n",
    "            #将matrix1的第i行第k列元素与matrix2的第k行第j列元素相乘，并累加\n",
    "            manual_result[i,j] += m1[i,k] * m2[k,j]\n",
    "        #打印当前位置计算完成后的结果\n",
    "        print(f\"结果矩阵[{i+1},{j+1}]:{manual_result[i,j]}\\n\")\n",
    "print(\"手动推演结果\")\n",
    "print(manual_result)\n"
   ]
  },
  {
   "cell_type": "code",
   "execution_count": 11,
   "metadata": {},
   "outputs": [],
   "source": [
    "data = np.array([1,2,3])\n",
    "np.save(\"data.npy\",data)"
   ]
  },
  {
   "cell_type": "code",
   "execution_count": 12,
   "metadata": {},
   "outputs": [
    {
     "data": {
      "text/plain": [
       "array([1, 2, 3])"
      ]
     },
     "execution_count": 12,
     "metadata": {},
     "output_type": "execute_result"
    }
   ],
   "source": [
    "file = np.load(\"data.npy\")\n",
    "file"
   ]
  },
  {
   "cell_type": "code",
   "execution_count": 13,
   "metadata": {},
   "outputs": [],
   "source": [
    "test = np.array([(1,2,3),(4,5,6)])\n",
    "np.savetxt(\"test.txt\",test)"
   ]
  },
  {
   "cell_type": "code",
   "execution_count": 14,
   "metadata": {},
   "outputs": [
    {
     "data": {
      "text/plain": [
       "array([[1., 2., 3.],\n",
       "       [4., 5., 6.]])"
      ]
     },
     "execution_count": 14,
     "metadata": {},
     "output_type": "execute_result"
    }
   ],
   "source": [
    "test_file = np.loadtxt(\"test.txt\")\n",
    "test_file"
   ]
  },
  {
   "cell_type": "code",
   "execution_count": 5,
   "metadata": {},
   "outputs": [
    {
     "data": {
      "text/plain": [
       "array([[ 6,  8],\n",
       "       [ 7,  8],\n",
       "       [ 8,  9],\n",
       "       [ 9, 10]])"
      ]
     },
     "execution_count": 5,
     "metadata": {},
     "output_type": "execute_result"
    }
   ],
   "source": [
    "#广播机制\n",
    "a = np.array([(1,2),(2,2),(3,3),(4,4)])\n",
    "b = np.array([5,6])\n",
    "a + b"
   ]
  }
 ],
 "metadata": {
  "kernelspec": {
   "display_name": "Python 3 (ipykernel)",
   "language": "python",
   "name": "python3"
  }
 },
 "nbformat": 4,
 "nbformat_minor": 2
}

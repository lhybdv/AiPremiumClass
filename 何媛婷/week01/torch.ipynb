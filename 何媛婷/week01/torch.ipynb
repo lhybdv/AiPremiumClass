{
 "cells": [
  {
   "cell_type": "code",
   "execution_count": 4,
   "metadata": {},
   "outputs": [],
   "source": [
    "import torch\n",
    "import numpy as np"
   ]
  },
  {
   "cell_type": "code",
   "execution_count": 5,
   "metadata": {},
   "outputs": [
    {
     "name": "stdout",
     "output_type": "stream",
     "text": [
      "tensor([[1, 1, 1],\n",
      "        [1, 1, 1],\n",
      "        [1, 1, 1]])\n",
      "Random Tensor: \n",
      " tensor([[0.2247, 0.5393, 0.3594],\n",
      "        [0.8551, 0.2177, 0.5036],\n",
      "        [0.9438, 0.9063, 0.7433]]) \n",
      "\n",
      "Random Tensor: \n",
      " tensor([[0.4182, 0.1111, 0.8442, 0.4043],\n",
      "        [0.7867, 0.7173, 0.4871, 0.8099],\n",
      "        [0.9835, 0.3711, 0.9577, 0.3019],\n",
      "        [0.7215, 0.3276, 0.1539, 0.2679]]) \n",
      "\n",
      "Random Tensor: \n",
      " tensor([[1., 1., 1., 1.],\n",
      "        [1., 1., 1., 1.],\n",
      "        [1., 1., 1., 1.],\n",
      "        [1., 1., 1., 1.]]) \n",
      "\n",
      "Random Tensor: \n",
      " tensor([[0., 0., 0., 0.],\n",
      "        [0., 0., 0., 0.],\n",
      "        [0., 0., 0., 0.],\n",
      "        [0., 0., 0., 0.]]) \n",
      "\n"
     ]
    }
   ],
   "source": [
    "data=[(1,2,3),(4,5,6),(7,8,9)]\n",
    "x_data=torch.tensor(data)\n",
    "\n",
    "array = np.array(data,dtype=int)\n",
    "x_np = torch.from_numpy(array)\n",
    "\n",
    "# 保留某张量的属性,形状和数据类型等\n",
    "x_np2 = torch.ones_like(x_data)\n",
    "print(x_np2)\n",
    "\n",
    "# 覆盖 x_data的数据类型\n",
    "x_rand = torch.rand_like(x_data, dtype=torch.float)\n",
    "print(f\"Random Tensor: \\n {x_rand} \\n\")\n",
    "\n",
    "# 定义矩阵的行列\n",
    "shape=(4,4)\n",
    " # 矩阵每个元素数值随机\n",
    "rand_tensor=torch.rand(shape) \n",
    "print(f\"Random Tensor: \\n {rand_tensor} \\n\")\n",
    "\n",
    "# 矩阵每个元素数值为1\n",
    "ones_tensor=torch.ones(shape)\n",
    "print(f\"Random Tensor: \\n {ones_tensor} \\n\")\n",
    "\n",
    "#  矩阵每个元素数值为0\n",
    "zeros_tensor=torch.zeros(shape)\n",
    "print(f\"Random Tensor: \\n {zeros_tensor} \\n\")\n"
   ]
  },
  {
   "cell_type": "code",
   "execution_count": null,
   "metadata": {},
   "outputs": [
    {
     "name": "stdout",
     "output_type": "stream",
     "text": [
      "初始化的张量 tensor([[1, 1, 1, 1, 1],\n",
      "        [1, 1, 1, 1, 1],\n",
      "        [1, 1, 1, 1, 1],\n",
      "        [1, 1, 1, 1, 1],\n",
      "        [1, 1, 1, 1, 1]], dtype=torch.int32)\n",
      "张量填充随机数 tensor([[0.8052, 0.4133, 0.8215, 0.6297, 0.4981],\n",
      "        [0.2058, 0.8705, 0.4446, 0.5108, 0.4274],\n",
      "        [0.4558, 0.5686, 0.3074, 0.4652, 0.4336],\n",
      "        [0.3587, 0.0231, 0.4880, 0.7236, 0.5096],\n",
      "        [0.7608, 0.9349, 0.6422, 0.4871, 0.4598]])\n",
      "张量的大小 torch.Size([5, 5])\n",
      "Shape of tensor: torch.Size([3, 4])\n",
      "Datatype of tensor: torch.float32\n",
      "Device tensor is stored on: cpu\n"
     ]
    }
   ],
   "source": [
    "\n",
    "# 基于现有tensor构建，但使⽤新值填充\n",
    "m = torch.ones(5,5, dtype=torch.int)\n",
    "print('初始化的张量',m)\n",
    "n = torch.rand_like(m, dtype=torch.float)\n",
    "print('张量填充随机数',n)\n",
    "\n",
    "print('张量的大小',n.size())\n",
    "\n",
    "\n",
    "# 均匀分布\n",
    "torch.rand(5,3)\n",
    "# 标准正态分布\n",
    "torch.randn(5,3)\n",
    "# 离散正态分布\n",
    "torch.normal(mean=.0,std=1.0,size=(5,3))\n",
    "# 线性间隔向量(返回⼀个1维张量，包含在区间start和end上均匀间隔的steps个点)\n",
    "torch.linspace(start=1,end=10,steps=20)\n",
    "\n",
    "# 张量\n",
    "tensor = torch.rand(3,4)\n",
    "print(f\"Shape of tensor: {tensor.shape}\")\n",
    "print(f\"Datatype of tensor: {tensor.dtype}\")\n",
    "print(f\"Device tensor is stored on: {tensor.device}\")\n",
    "\n"
   ]
  },
  {
   "cell_type": "code",
   "execution_count": 12,
   "metadata": {},
   "outputs": [
    {
     "name": "stdout",
     "output_type": "stream",
     "text": [
      "First row:  tensor([1., 1., 1., 1.])\n",
      "First column:  tensor([1., 1., 1., 1.])\n",
      "Last column: tensor([1., 1., 1., 1.])\n",
      "tensor([[1., 0., 1., 1.],\n",
      "        [1., 0., 1., 1.],\n",
      "        [1., 0., 1., 1.],\n",
      "        [1., 0., 1., 1.]])\n"
     ]
    }
   ],
   "source": [
    "tensor = torch.ones(4, 4)\n",
    "print('First row: ', tensor[0])\n",
    "print('First column: ', tensor[:, 0])\n",
    "print('Last column:', tensor[..., -1])\n",
    "tensor[:,1] = 0\n",
    "print(tensor)"
   ]
  },
  {
   "cell_type": "code",
   "execution_count": 14,
   "metadata": {},
   "outputs": [
    {
     "name": "stdout",
     "output_type": "stream",
     "text": [
      "tensor([[1., 0., 1., 1., 1., 0., 1., 1., 1., 0., 1., 1.],\n",
      "        [1., 0., 1., 1., 1., 0., 1., 1., 1., 0., 1., 1.],\n",
      "        [1., 0., 1., 1., 1., 0., 1., 1., 1., 0., 1., 1.],\n",
      "        [1., 0., 1., 1., 1., 0., 1., 1., 1., 0., 1., 1.]])\n"
     ]
    },
    {
     "data": {
      "text/plain": [
       "tensor([[1., 0., 1., 1.],\n",
       "        [1., 0., 1., 1.],\n",
       "        [1., 0., 1., 1.],\n",
       "        [1., 0., 1., 1.]])"
      ]
     },
     "execution_count": 14,
     "metadata": {},
     "output_type": "execute_result"
    }
   ],
   "source": [
    "t1 = torch.cat([tensor, tensor, tensor], dim=1)\n",
    "print(t1)\n",
    "\n",
    "\n",
    "# 计算两个张量之间矩阵乘法的⼏种⽅式。 y1, y2, y3 最后的值是⼀样的 dot\n",
    "y1 = tensor @ tensor.T\n",
    "y2 = tensor.matmul(tensor.T)\n",
    "y3 = torch.rand_like(tensor)\n",
    "torch.matmul(tensor, tensor.T, out=y3)\n",
    "# 计算张量逐元素相乘的⼏种⽅法。 z1, z2, z3 最后的值是⼀样的。\n",
    "z1 = tensor * tensor\n",
    "z2 = tensor.mul(tensor)\n",
    "z3 = torch.rand_like(tensor)\n",
    "torch.mul(tensor, tensor, out=z3)"
   ]
  },
  {
   "cell_type": "code",
   "execution_count": 2,
   "metadata": {},
   "outputs": [
    {
     "name": "stderr",
     "output_type": "stream",
     "text": [
      "C:\\Users\\HUAWEI\\AppData\\Local\\Temp\\ipykernel_13000\\844321487.py:13: UserWarning: The use of `x.T` on tensors of dimension other than 2 to reverse their shape is deprecated and it will throw an error in a future release. Consider `x.mT` to transpose batches of matrices or `x.permute(*torch.arange(x.ndim - 1, -1, -1))` to reverse the dimensions of a tensor. (Triggered internally at C:\\actions-runner\\_work\\pytorch\\pytorch\\builder\\windows\\pytorch\\aten\\src\\ATen\\native\\TensorShape.cpp:3701.)\n",
      "  d = x.T\n"
     ]
    },
    {
     "name": "stdout",
     "output_type": "stream",
     "text": [
      "tensor([14.1837, 11.1824,  6.2966,  9.6357,  9.7605,  6.6688,  8.1148, 11.0316,\n",
      "         8.7014,  8.5876], grad_fn=<AddBackward0>)\n"
     ]
    },
    {
     "data": {
      "text/plain": [
       "'expression.png'"
      ]
     },
     "execution_count": 2,
     "metadata": {},
     "output_type": "execute_result"
    }
   ],
   "source": [
    "from graphviz import Graph\n",
    "from torchviz import make_dot\n",
    "import torch\n",
    "# graph = Graph(engine='D:/Program Files/Graphviz/bin/dot.exe')\n",
    "\n",
    "\n",
    "# 定义矩阵 a，向量 b 和常数 c\n",
    "a = torch.randn(10, 10,requires_grad=True)\n",
    "b = torch.randn(10,requires_grad=True)\n",
    "c = torch.randn(1,requires_grad=True)\n",
    "x = torch.randn(10, requires_grad=True)\n",
    "# 计算 x^T * a + b * x + c\n",
    "d = x.T\n",
    "result = torch.matmul(a, d) + torch.matmul(b, x) + c\n",
    "print(result)\n",
    "\n",
    "# ⽣成计算图节点\n",
    "dot = make_dot(result, params={'a': a, 'b': b, 'c': c, 'x': x})\n",
    "# 绘制计算图\n",
    "dot.render('expression', format='png', cleanup=True, view=False)"
   ]
  },
  {
   "cell_type": "code",
   "execution_count": null,
   "metadata": {},
   "outputs": [
    {
     "name": "stdout",
     "output_type": "stream",
     "text": [
      "Note: you may need to restart the kernel to use updated packages.\n"
     ]
    },
    {
     "name": "stderr",
     "output_type": "stream",
     "text": [
      "ERROR: Could not find a version that satisfies the requirement make_dot (from versions: none)\n",
      "ERROR: No matching distribution found for make_dot\n"
     ]
    }
   ],
   "source": []
  }
 ],
 "metadata": {
  "kernelspec": {
   "display_name": "py3124",
   "language": "python",
   "name": "python3"
  },
  "language_info": {
   "codemirror_mode": {
    "name": "ipython",
    "version": 3
   },
   "file_extension": ".py",
   "mimetype": "text/x-python",
   "name": "python",
   "nbconvert_exporter": "python",
   "pygments_lexer": "ipython3",
   "version": "3.12.4"
  }
 },
 "nbformat": 4,
 "nbformat_minor": 2
}

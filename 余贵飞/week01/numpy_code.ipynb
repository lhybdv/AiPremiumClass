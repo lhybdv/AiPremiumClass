{
 "cells": [
  {
   "cell_type": "code",
   "id": "initial_id",
   "metadata": {
    "collapsed": true,
    "ExecuteTime": {
     "end_time": "2025-02-24T12:52:22.479157Z",
     "start_time": "2025-02-24T12:52:22.299262Z"
    }
   },
   "source": "import numpy as np",
   "outputs": [],
   "execution_count": 2
  },
  {
   "metadata": {
    "ExecuteTime": {
     "end_time": "2025-02-24T12:52:22.491360Z",
     "start_time": "2025-02-24T12:52:22.479157Z"
    }
   },
   "cell_type": "code",
   "source": [
    "arr = [1,3,4,5]\n",
    "a = np.array(arr)\n",
    "print(a)"
   ],
   "id": "eae05b3d9afdc55b",
   "outputs": [
    {
     "name": "stdout",
     "output_type": "stream",
     "text": [
      "[1 3 4 5]\n"
     ]
    }
   ],
   "execution_count": 3
  },
  {
   "metadata": {
    "ExecuteTime": {
     "end_time": "2025-02-24T12:52:22.517710Z",
     "start_time": "2025-02-24T12:52:22.507493Z"
    }
   },
   "cell_type": "code",
   "source": [
    "a = np.arange(1,10,0.5)\n",
    "a"
   ],
   "id": "27af6d5420f17cf8",
   "outputs": [
    {
     "data": {
      "text/plain": [
       "array([1. , 1.5, 2. , 2.5, 3. , 3.5, 4. , 4.5, 5. , 5.5, 6. , 6.5, 7. ,\n",
       "       7.5, 8. , 8.5, 9. , 9.5])"
      ]
     },
     "execution_count": 4,
     "metadata": {},
     "output_type": "execute_result"
    }
   ],
   "execution_count": 4
  },
  {
   "metadata": {
    "ExecuteTime": {
     "end_time": "2025-02-24T12:52:22.556525Z",
     "start_time": "2025-02-24T12:52:22.538217Z"
    }
   },
   "cell_type": "code",
   "source": [
    "a = np.eye(10)\n",
    "a"
   ],
   "id": "ac065786c330bac7",
   "outputs": [
    {
     "data": {
      "text/plain": [
       "array([[1., 0., 0., 0., 0., 0., 0., 0., 0., 0.],\n",
       "       [0., 1., 0., 0., 0., 0., 0., 0., 0., 0.],\n",
       "       [0., 0., 1., 0., 0., 0., 0., 0., 0., 0.],\n",
       "       [0., 0., 0., 1., 0., 0., 0., 0., 0., 0.],\n",
       "       [0., 0., 0., 0., 1., 0., 0., 0., 0., 0.],\n",
       "       [0., 0., 0., 0., 0., 1., 0., 0., 0., 0.],\n",
       "       [0., 0., 0., 0., 0., 0., 1., 0., 0., 0.],\n",
       "       [0., 0., 0., 0., 0., 0., 0., 1., 0., 0.],\n",
       "       [0., 0., 0., 0., 0., 0., 0., 0., 1., 0.],\n",
       "       [0., 0., 0., 0., 0., 0., 0., 0., 0., 1.]])"
      ]
     },
     "execution_count": 5,
     "metadata": {},
     "output_type": "execute_result"
    }
   ],
   "execution_count": 5
  },
  {
   "metadata": {
    "ExecuteTime": {
     "end_time": "2025-02-24T12:52:22.616910Z",
     "start_time": "2025-02-24T12:52:22.577155Z"
    }
   },
   "cell_type": "code",
   "source": [
    "a = np.random.random_integers(1,10)\n",
    "a"
   ],
   "id": "bee801b33c41b925",
   "outputs": [
    {
     "name": "stderr",
     "output_type": "stream",
     "text": [
      "C:\\Users\\guifei\\AppData\\Local\\Temp\\ipykernel_7992\\346819877.py:1: DeprecationWarning: This function is deprecated. Please call randint(1, 10 + 1) instead\n",
      "  a = np.random.random_integers(1,10)\n"
     ]
    },
    {
     "data": {
      "text/plain": [
       "np.int32(6)"
      ]
     },
     "execution_count": 6,
     "metadata": {},
     "output_type": "execute_result"
    }
   ],
   "execution_count": 6
  },
  {
   "metadata": {
    "ExecuteTime": {
     "end_time": "2025-02-24T12:52:23.146686Z",
     "start_time": "2025-02-24T12:52:23.141118Z"
    }
   },
   "cell_type": "code",
   "source": [
    "b = np.random.normal(0,0.1,5)\n",
    "b"
   ],
   "id": "7700af733d3d1f6",
   "outputs": [
    {
     "data": {
      "text/plain": [
       "array([-0.04579672, -0.15875562,  0.06664515, -0.11423671, -0.06887768])"
      ]
     },
     "execution_count": 7,
     "metadata": {},
     "output_type": "execute_result"
    }
   ],
   "execution_count": 7
  },
  {
   "metadata": {},
   "cell_type": "markdown",
   "source": "",
   "id": "b38ccdd411084b41"
  },
  {
   "metadata": {
    "ExecuteTime": {
     "end_time": "2025-02-24T12:52:23.333361Z",
     "start_time": "2025-02-24T12:52:23.328268Z"
    }
   },
   "cell_type": "code",
   "source": [
    "a = np.array([(1,2),(3,4),(5,6)],dtype=np.float64)\n",
    "a[0,1]\n",
    "a[:,1]\n",
    "a[1,:]"
   ],
   "id": "22732f1d64f799c2",
   "outputs": [
    {
     "data": {
      "text/plain": [
       "array([3., 4.])"
      ]
     },
     "execution_count": 8,
     "metadata": {},
     "output_type": "execute_result"
    }
   ],
   "execution_count": 8
  },
  {
   "metadata": {
    "ExecuteTime": {
     "end_time": "2025-02-24T12:52:23.457006Z",
     "start_time": "2025-02-24T12:52:23.442738Z"
    }
   },
   "cell_type": "code",
   "source": [
    "a = np.array([(1,2),(3,4),(5,6)])\n",
    "i,j = a[0]\n",
    "for i,j in a:\n",
    "    print(i,j)"
   ],
   "id": "d95d6316b8360b99",
   "outputs": [
    {
     "name": "stdout",
     "output_type": "stream",
     "text": [
      "1 2\n",
      "3 4\n",
      "5 6\n"
     ]
    }
   ],
   "execution_count": 9
  },
  {
   "metadata": {
    "ExecuteTime": {
     "end_time": "2025-02-24T12:52:23.567955Z",
     "start_time": "2025-02-24T12:52:23.550758Z"
    }
   },
   "cell_type": "code",
   "source": [
    "import numpy as np\n",
    "a = np.array([(1,2),(3,4),(5,6)])\n",
    "print(3 in a)"
   ],
   "id": "11125ffa95279862",
   "outputs": [
    {
     "name": "stdout",
     "output_type": "stream",
     "text": [
      "True\n"
     ]
    }
   ],
   "execution_count": 10
  },
  {
   "metadata": {
    "ExecuteTime": {
     "end_time": "2025-02-24T12:52:23.774608Z",
     "start_time": "2025-02-24T12:52:23.589554Z"
    }
   },
   "cell_type": "code",
   "source": "print((1,2,3) in a)",
   "id": "5dee915da2c1e8d7",
   "outputs": [
    {
     "ename": "ValueError",
     "evalue": "operands could not be broadcast together with shapes (3,2) (3,) ",
     "output_type": "error",
     "traceback": [
      "\u001B[1;31m---------------------------------------------------------------------------\u001B[0m",
      "\u001B[1;31mValueError\u001B[0m                                Traceback (most recent call last)",
      "Cell \u001B[1;32mIn[11], line 1\u001B[0m\n\u001B[1;32m----> 1\u001B[0m \u001B[38;5;28mprint\u001B[39m(\u001B[43m(\u001B[49m\u001B[38;5;241;43m1\u001B[39;49m\u001B[43m,\u001B[49m\u001B[38;5;241;43m2\u001B[39;49m\u001B[43m,\u001B[49m\u001B[38;5;241;43m3\u001B[39;49m\u001B[43m)\u001B[49m\u001B[43m \u001B[49m\u001B[38;5;129;43;01min\u001B[39;49;00m\u001B[43m \u001B[49m\u001B[43ma\u001B[49m)\n",
      "\u001B[1;31mValueError\u001B[0m: operands could not be broadcast together with shapes (3,2) (3,) "
     ]
    }
   ],
   "execution_count": 11
  },
  {
   "metadata": {
    "ExecuteTime": {
     "end_time": "2025-02-24T12:52:23.774608600Z",
     "start_time": "2025-02-23T03:25:38.101360Z"
    }
   },
   "cell_type": "code",
   "outputs": [
    {
     "name": "stdout",
     "output_type": "stream",
     "text": [
      "True\n"
     ]
    }
   ],
   "execution_count": 4,
   "source": "print(5 in a)",
   "id": "15f2dd0a30df5d78"
  },
  {
   "metadata": {
    "ExecuteTime": {
     "end_time": "2025-02-24T12:52:23.785501400Z",
     "start_time": "2025-02-23T03:29:50.272247Z"
    }
   },
   "cell_type": "code",
   "source": [
    "a = np.reshape(a,(2,3))\n",
    "a"
   ],
   "id": "26e194541ba073aa",
   "outputs": [
    {
     "data": {
      "text/plain": [
       "array([[1, 2, 3],\n",
       "       [4, 5, 6]])"
      ]
     },
     "execution_count": 10,
     "metadata": {},
     "output_type": "execute_result"
    }
   ],
   "execution_count": 10
  },
  {
   "metadata": {
    "ExecuteTime": {
     "end_time": "2025-02-24T12:52:23.785501400Z",
     "start_time": "2025-02-23T03:30:33.021833Z"
    }
   },
   "cell_type": "code",
   "source": [
    "a = np.reshape(a,(1, 6))\n",
    "a"
   ],
   "id": "e3892531df1c47d9",
   "outputs": [
    {
     "data": {
      "text/plain": [
       "array([[1, 2, 3, 4, 5, 6]])"
      ]
     },
     "execution_count": 12,
     "metadata": {},
     "output_type": "execute_result"
    }
   ],
   "execution_count": 12
  },
  {
   "metadata": {
    "ExecuteTime": {
     "end_time": "2025-02-24T12:52:23.785501400Z",
     "start_time": "2025-02-23T03:31:12.331085Z"
    }
   },
   "cell_type": "code",
   "source": [
    "a = np.reshape(a,(6, 1))\n",
    "a"
   ],
   "id": "1aed582f2ae96798",
   "outputs": [
    {
     "data": {
      "text/plain": [
       "array([[1],\n",
       "       [2],\n",
       "       [3],\n",
       "       [4],\n",
       "       [5],\n",
       "       [6]])"
      ]
     },
     "execution_count": 14,
     "metadata": {},
     "output_type": "execute_result"
    }
   ],
   "execution_count": 14
  },
  {
   "metadata": {
    "ExecuteTime": {
     "end_time": "2025-02-24T12:52:23.785501400Z",
     "start_time": "2025-02-23T03:32:13.802867Z"
    }
   },
   "cell_type": "code",
   "source": [
    "a = np.reshape(a,(3,2, 1))\n",
    "a"
   ],
   "id": "8c76bb3e593eac6c",
   "outputs": [
    {
     "data": {
      "text/plain": [
       "array([[[1],\n",
       "        [2]],\n",
       "\n",
       "       [[3],\n",
       "        [4]],\n",
       "\n",
       "       [[5],\n",
       "        [6]]])"
      ]
     },
     "execution_count": 15,
     "metadata": {},
     "output_type": "execute_result"
    }
   ],
   "execution_count": 15
  },
  {
   "metadata": {
    "ExecuteTime": {
     "end_time": "2025-02-24T12:52:23.785501400Z",
     "start_time": "2025-02-23T03:35:07.996315Z"
    }
   },
   "cell_type": "code",
   "source": [
    "a = np.array([(1,2,3),(3,4,5),(5,6,7)])\n",
    "a"
   ],
   "id": "44a994d39cf8cf5d",
   "outputs": [
    {
     "data": {
      "text/plain": [
       "array([[1, 2, 3],\n",
       "       [3, 4, 5],\n",
       "       [5, 6, 7]])"
      ]
     },
     "execution_count": 18,
     "metadata": {},
     "output_type": "execute_result"
    }
   ],
   "execution_count": 18
  },
  {
   "metadata": {
    "ExecuteTime": {
     "end_time": "2025-02-24T12:52:23.785501400Z",
     "start_time": "2025-02-23T03:38:48.643931Z"
    }
   },
   "cell_type": "code",
   "source": [
    "a.transpose()\n",
    "b= a.transpose()\n",
    "b"
   ],
   "id": "86c160761364ab48",
   "outputs": [
    {
     "data": {
      "text/plain": [
       "array([[1, 3, 5],\n",
       "       [2, 4, 6],\n",
       "       [3, 5, 7]])"
      ]
     },
     "execution_count": 27,
     "metadata": {},
     "output_type": "execute_result"
    }
   ],
   "execution_count": 27
  },
  {
   "metadata": {
    "ExecuteTime": {
     "end_time": "2025-02-24T12:52:23.801130200Z",
     "start_time": "2025-02-23T03:38:35.254755Z"
    }
   },
   "cell_type": "code",
   "source": [
    "c = b.flatten()\n",
    "c"
   ],
   "id": "a488922d14674097",
   "outputs": [
    {
     "data": {
      "text/plain": [
       "array([1, 2, 3, 3, 4, 5, 5, 6, 7])"
      ]
     },
     "execution_count": 25,
     "metadata": {},
     "output_type": "execute_result"
    }
   ],
   "execution_count": 25
  },
  {
   "metadata": {
    "ExecuteTime": {
     "end_time": "2025-02-24T12:52:23.801130200Z",
     "start_time": "2025-02-23T03:40:28.549747Z"
    }
   },
   "cell_type": "code",
   "source": [
    "a1 = np.array([(1,2,3),(3,4,5),(5,6,7)])\n",
    "a1"
   ],
   "id": "7cc9856b347fd2eb",
   "outputs": [
    {
     "data": {
      "text/plain": [
       "array([[1, 2, 3],\n",
       "       [3, 4, 5],\n",
       "       [5, 6, 7]])"
      ]
     },
     "execution_count": 28,
     "metadata": {},
     "output_type": "execute_result"
    }
   ],
   "execution_count": 28
  },
  {
   "metadata": {
    "ExecuteTime": {
     "end_time": "2025-02-24T12:52:23.801130200Z",
     "start_time": "2025-02-23T03:42:01.562813Z"
    }
   },
   "cell_type": "code",
   "source": [
    "a1 = a1[:,:,np.newaxis]\n",
    "a1.shape"
   ],
   "id": "aaa408c9b20ce801",
   "outputs": [
    {
     "data": {
      "text/plain": [
       "(3, 1, 1, 1, 3)"
      ]
     },
     "execution_count": 31,
     "metadata": {},
     "output_type": "execute_result"
    }
   ],
   "execution_count": 31
  },
  {
   "metadata": {
    "ExecuteTime": {
     "end_time": "2025-02-24T12:52:23.801130200Z",
     "start_time": "2025-02-23T03:45:24.540832Z"
    }
   },
   "cell_type": "code",
   "source": "a1.sum()",
   "id": "f46f3edc2dad87fc",
   "outputs": [
    {
     "data": {
      "text/plain": [
       "np.int64(36)"
      ]
     },
     "execution_count": 33,
     "metadata": {},
     "output_type": "execute_result"
    }
   ],
   "execution_count": 33
  },
  {
   "metadata": {
    "ExecuteTime": {
     "end_time": "2025-02-24T12:52:23.801130200Z",
     "start_time": "2025-02-23T03:51:19.752081Z"
    }
   },
   "cell_type": "code",
   "source": "b",
   "id": "bbc7fddbf4e0f618",
   "outputs": [
    {
     "data": {
      "text/plain": [
       "array([[1, 3, 5],\n",
       "       [2, 4, 6],\n",
       "       [3, 5, 7]])"
      ]
     },
     "execution_count": 34,
     "metadata": {},
     "output_type": "execute_result"
    }
   ],
   "execution_count": 34
  },
  {
   "metadata": {
    "ExecuteTime": {
     "end_time": "2025-02-24T12:52:23.801130200Z",
     "start_time": "2025-02-23T03:52:53.346221Z"
    }
   },
   "cell_type": "code",
   "source": [
    "print(b.max())\n",
    "print(b.argmax())\n",
    "print(b.argmin())"
   ],
   "id": "42d9280abe01a10b",
   "outputs": [
    {
     "name": "stdout",
     "output_type": "stream",
     "text": [
      "7\n",
      "8\n",
      "0\n"
     ]
    }
   ],
   "execution_count": 36
  },
  {
   "metadata": {
    "ExecuteTime": {
     "end_time": "2025-02-24T12:52:23.801130200Z",
     "start_time": "2025-02-23T06:13:17.523Z"
    }
   },
   "cell_type": "code",
   "source": [
    "a = np.array([(1,2,3),(3,4,5),(5,6,7)])\n",
    "b = np.array([(1,3,4),(3,5,7),(5,4,7)])\n",
    "dot = np.dot(a,b)\n",
    "print(np.dot(a,b))\n",
    "print(a @ b)\n",
    "print(a * b)\n",
    "print(a + b)\n",
    "print(a - b)"
   ],
   "id": "781cacdc80a21bb1",
   "outputs": [
    {
     "name": "stdout",
     "output_type": "stream",
     "text": [
      "[[ 22  25  39]\n",
      " [ 40  49  75]\n",
      " [ 58  73 111]]\n",
      "[[ 22  25  39]\n",
      " [ 40  49  75]\n",
      " [ 58  73 111]]\n",
      "[[ 1  6 12]\n",
      " [ 9 20 35]\n",
      " [25 24 49]]\n",
      "[[ 2  5  7]\n",
      " [ 6  9 12]\n",
      " [10 10 14]]\n",
      "[[ 0 -1 -1]\n",
      " [ 0 -1 -2]\n",
      " [ 0  2  0]]\n"
     ]
    }
   ],
   "execution_count": 41
  },
  {
   "metadata": {
    "ExecuteTime": {
     "end_time": "2025-02-24T12:52:23.801130200Z",
     "start_time": "2025-02-23T06:19:10.364467Z"
    }
   },
   "cell_type": "code",
   "source": [
    "result = np.dot(a,b)\n",
    "print(result)\n",
    "np.save(\"result.npy\", result)"
   ],
   "id": "ca11d53ff7df34cf",
   "outputs": [
    {
     "name": "stdout",
     "output_type": "stream",
     "text": [
      "[[ 22  25  39]\n",
      " [ 40  49  75]\n",
      " [ 58  73 111]]\n"
     ]
    }
   ],
   "execution_count": 49
  },
  {
   "metadata": {
    "ExecuteTime": {
     "end_time": "2025-02-24T12:52:23.801130200Z",
     "start_time": "2025-02-23T06:19:44.410454Z"
    }
   },
   "cell_type": "code",
   "source": [
    "result = np.load(\"result.npy\")\n",
    "print(result)"
   ],
   "id": "a400bbf0d6162563",
   "outputs": [
    {
     "name": "stdout",
     "output_type": "stream",
     "text": [
      "[[ 22  25  39]\n",
      " [ 40  49  75]\n",
      " [ 58  73 111]]\n"
     ]
    }
   ],
   "execution_count": 50
  },
  {
   "metadata": {
    "ExecuteTime": {
     "end_time": "2025-02-24T13:02:07.202756Z",
     "start_time": "2025-02-24T13:02:07.193163Z"
    }
   },
   "cell_type": "code",
   "source": [
    "# broadcast 广播机制 一最后一维为参考，4x4 1x4 最后一维相同或者其中之一为1 则可按照此维度进行广播\n",
    "# 如果两个值不相同且都不为1，则不能进行广播\n",
    "# 广播只适用于矩阵的 + - * /等作用于每个元素的运算，不适用于矩阵运算，如dot\n",
    "a = np.array([(1,2,3,5),(3,4,5,5),(5,6,7,7),(7,8,9,8)])\n",
    "b= np.array([(1,3,4,3)])\n",
    "print(a)\n",
    "print(b)\n",
    "print(a + b)\n",
    "b = b.T # 4x1\n",
    "print(b)\n",
    "print(a+b)\n",
    "c = a + b\n",
    "print(c)"
   ],
   "id": "985aef6cc7d12eb8",
   "outputs": [
    {
     "name": "stdout",
     "output_type": "stream",
     "text": [
      "[[1 2 3 5]\n",
      " [3 4 5 5]\n",
      " [5 6 7 7]\n",
      " [7 8 9 8]]\n",
      "[[1 3 4 3]]\n",
      "[[ 2  5  7  8]\n",
      " [ 4  7  9  8]\n",
      " [ 6  9 11 10]\n",
      " [ 8 11 13 11]]\n",
      "[[1]\n",
      " [3]\n",
      " [4]\n",
      " [3]]\n",
      "[[ 2  3  4  6]\n",
      " [ 6  7  8  8]\n",
      " [ 9 10 11 11]\n",
      " [10 11 12 11]]\n",
      "[[ 2  3  4  6]\n",
      " [ 6  7  8  8]\n",
      " [ 9 10 11 11]\n",
      " [10 11 12 11]]\n"
     ]
    }
   ],
   "execution_count": 17
  },
  {
   "metadata": {
    "ExecuteTime": {
     "end_time": "2025-02-24T13:10:05.159225Z",
     "start_time": "2025-02-24T13:10:05.153361Z"
    }
   },
   "cell_type": "code",
   "source": [
    "# numpy 数组访问\n",
    "c = np.array([(1,2,3,5),(3,4,5,5),(5,6,7,7),(7,8,9,8)])\n",
    "# 取第一行\n",
    "print(c[0])\n",
    "# 取第一行第三个数据, 注意写法区别，建议按照第二种写法，方便理解\n",
    "print(c[0,2])\n",
    "print(c[0][2])\n",
    "# 取第二行之后所有行\n",
    "print(c[1:])\n",
    "# # 取第二行, 注意此处是左闭右开\n",
    "print(c[1:2])\n",
    "# 取第一列\n",
    "print(c[:, 0])"
   ],
   "id": "ecf305f20e327723",
   "outputs": [
    {
     "name": "stdout",
     "output_type": "stream",
     "text": [
      "[1 2 3 5]\n",
      "3\n",
      "3\n",
      "[[3 4 5 5]\n",
      " [5 6 7 7]\n",
      " [7 8 9 8]]\n",
      "[[3 4 5 5]]\n",
      "[1 3 5 7]\n"
     ]
    }
   ],
   "execution_count": 25
  },
  {
   "metadata": {
    "ExecuteTime": {
     "end_time": "2025-02-24T13:42:17.762321Z",
     "start_time": "2025-02-24T13:42:17.754544Z"
    }
   },
   "cell_type": "code",
   "source": [
    "# numpy 数组遍历\n",
    "d = np.array([(1,2,3,5),(3,4,5,5),(5,6,7,7),(7,8,9,8)])\n",
    "# for i in d: # 遍历时是按照每一个行为 i 来取的\n",
    "#     print(i)\n",
    "# for j in d.T: # 转置后即可按照列取出\n",
    "#     print(j)\n",
    "# for i,j,k,h in d:\n",
    "#     print(i,j,k,h)\n",
    "# for i in d: # 遍历取出数组中所有元素，不建议这样取，可以按照下标来取\n",
    "#     for j in i:\n",
    "#         print(j)\n",
    "dim = a.shape\n",
    "# 先获取数组的形状，然后根据形状来获取下标，遍历下标数据获取\n",
    "for k in range(0, dim[0], 1): # 二维数组的行坐标，0 开始 到 i-1 结束，不长为1（默认为1，可以不写）\n",
    "    for l in range(0, dim[1], 1):  # 二维数组的列坐标，0 开始 到 j-1 结束，不长为1（默认为1，可以不写）\n",
    "        print(\"第{}行,第{}列元素:{}\".format(k, l, d[k][l]))\n",
    "        print(\"第%s行,第%s列元素:%d\",(k, l, d[k][l]))\n",
    "\n",
    "\n"
   ],
   "id": "616d3474ab1d9ddd",
   "outputs": [
    {
     "name": "stdout",
     "output_type": "stream",
     "text": [
      "第0行,第0列元素:1\n",
      "第%s行,第%s列元素:%d (0, 0, np.int64(1))\n",
      "第0行,第1列元素:2\n",
      "第%s行,第%s列元素:%d (0, 1, np.int64(2))\n",
      "第0行,第2列元素:3\n",
      "第%s行,第%s列元素:%d (0, 2, np.int64(3))\n",
      "第0行,第3列元素:5\n",
      "第%s行,第%s列元素:%d (0, 3, np.int64(5))\n",
      "第1行,第0列元素:3\n",
      "第%s行,第%s列元素:%d (1, 0, np.int64(3))\n",
      "第1行,第1列元素:4\n",
      "第%s行,第%s列元素:%d (1, 1, np.int64(4))\n",
      "第1行,第2列元素:5\n",
      "第%s行,第%s列元素:%d (1, 2, np.int64(5))\n",
      "第1行,第3列元素:5\n",
      "第%s行,第%s列元素:%d (1, 3, np.int64(5))\n",
      "第2行,第0列元素:5\n",
      "第%s行,第%s列元素:%d (2, 0, np.int64(5))\n",
      "第2行,第1列元素:6\n",
      "第%s行,第%s列元素:%d (2, 1, np.int64(6))\n",
      "第2行,第2列元素:7\n",
      "第%s行,第%s列元素:%d (2, 2, np.int64(7))\n",
      "第2行,第3列元素:7\n",
      "第%s行,第%s列元素:%d (2, 3, np.int64(7))\n",
      "第3行,第0列元素:7\n",
      "第%s行,第%s列元素:%d (3, 0, np.int64(7))\n",
      "第3行,第1列元素:8\n",
      "第%s行,第%s列元素:%d (3, 1, np.int64(8))\n",
      "第3行,第2列元素:9\n",
      "第%s行,第%s列元素:%d (3, 2, np.int64(9))\n",
      "第3行,第3列元素:8\n",
      "第%s行,第%s列元素:%d (3, 3, np.int64(8))\n"
     ]
    }
   ],
   "execution_count": 52
  },
  {
   "metadata": {
    "ExecuteTime": {
     "end_time": "2025-02-24T13:53:30.815274Z",
     "start_time": "2025-02-24T13:53:30.811624Z"
    }
   },
   "cell_type": "code",
   "source": [
    "# numpy 中八位占一个字节\n",
    "e = np.array([(1,2,3,5),(3,4,5,5),(5,6,7,7)], dtype=np.uint8)\n",
    "# 获取矩阵的维数\n",
    "print(e.ndim)\n",
    "# 获取矩阵的形状，返回一个元组\n",
    "print(e.shape)\n",
    "# 返回矩阵元素的个数\n",
    "print(e.size)\n",
    "# 返回数组中每个元素的字节单位长度, 默认是float8\n",
    "print(e.itemsize)\n",
    "print(e.dtype)\n",
    "# mT是ndarray对象的一个属性，用于获取数组的转置。当数组是二维时，mT返回的是数组的转置视图；当数组是一维时，mT会抛出一个错误，因为一维数组没有转置的概\n",
    "print(e.mT)\n",
    "# T也是ndarray对象的一个属性，用于获取数组的转置。与mT不同，T可以用于一维数组，此时它会返回一个与原数组长度相同的新数组，而不是视图\n",
    "print(e.T)"
   ],
   "id": "c2b41a67ec81829",
   "outputs": [
    {
     "name": "stdout",
     "output_type": "stream",
     "text": [
      "2\n",
      "(3, 4)\n",
      "12\n",
      "1\n",
      "uint8\n",
      "[[1 3 5]\n",
      " [2 4 6]\n",
      " [3 5 7]\n",
      " [5 5 7]]\n",
      "[[1 3 5]\n",
      " [2 4 6]\n",
      " [3 5 7]\n",
      " [5 5 7]]\n"
     ]
    }
   ],
   "execution_count": 59
  },
  {
   "metadata": {
    "ExecuteTime": {
     "end_time": "2025-02-24T14:00:36.515861Z",
     "start_time": "2025-02-24T14:00:36.512557Z"
    }
   },
   "cell_type": "code",
   "source": [
    "# NumPy 数组的基本操作\n",
    "f = np.array([(1,2,3,5),(3,4,5,5),(5,6,7,7)])\n",
    "print(f.dtype)\n",
    "# 检查某个数是否矩阵中的元素\n",
    "print(5 in f)\n",
    "print(8 in f)\n"
   ],
   "id": "529f1f07a9e441bb",
   "outputs": [
    {
     "name": "stdout",
     "output_type": "stream",
     "text": [
      "int64\n",
      "True\n",
      "False\n"
     ]
    }
   ],
   "execution_count": 61
  },
  {
   "metadata": {
    "ExecuteTime": {
     "end_time": "2025-02-24T14:12:39.848819Z",
     "start_time": "2025-02-24T14:12:39.841735Z"
    }
   },
   "cell_type": "code",
   "source": [
    "# 数组重拍\n",
    "a1 = np.zeros([2,3,4,5]) # 返回以一个三维矩阵\n",
    "print(a1)\n",
    "# 重新指定矩阵的形状\n",
    "print(a1.reshape(120,1)) # 指定其为一个 120 * 1的列向量\n",
    "print(a1.reshape(1,120)) # 指定其为一个 1 * 120的行向量\n",
    "a1.reshape(20,6) # 指定其为一个 20 * 6的矩阵\n",
    "# 规律总结：如果一个详细的元素个数为N 个，重新执行形状后，新矩阵的各个维度的乘积必须等于N否者转换失败\n",
    "# 例如：\n",
    "# print(a1.reshape(20,5)) # 指定其为一个 1 * 120的行向量\n",
    "# print(a1.reshape(20,7)) # 指定其为一个 1 * 120的行向量\n"
   ],
   "id": "8abc2b643d95a15a",
   "outputs": [
    {
     "name": "stdout",
     "output_type": "stream",
     "text": [
      "[[[[0. 0. 0. 0. 0.]\n",
      "   [0. 0. 0. 0. 0.]\n",
      "   [0. 0. 0. 0. 0.]\n",
      "   [0. 0. 0. 0. 0.]]\n",
      "\n",
      "  [[0. 0. 0. 0. 0.]\n",
      "   [0. 0. 0. 0. 0.]\n",
      "   [0. 0. 0. 0. 0.]\n",
      "   [0. 0. 0. 0. 0.]]\n",
      "\n",
      "  [[0. 0. 0. 0. 0.]\n",
      "   [0. 0. 0. 0. 0.]\n",
      "   [0. 0. 0. 0. 0.]\n",
      "   [0. 0. 0. 0. 0.]]]\n",
      "\n",
      "\n",
      " [[[0. 0. 0. 0. 0.]\n",
      "   [0. 0. 0. 0. 0.]\n",
      "   [0. 0. 0. 0. 0.]\n",
      "   [0. 0. 0. 0. 0.]]\n",
      "\n",
      "  [[0. 0. 0. 0. 0.]\n",
      "   [0. 0. 0. 0. 0.]\n",
      "   [0. 0. 0. 0. 0.]\n",
      "   [0. 0. 0. 0. 0.]]\n",
      "\n",
      "  [[0. 0. 0. 0. 0.]\n",
      "   [0. 0. 0. 0. 0.]\n",
      "   [0. 0. 0. 0. 0.]\n",
      "   [0. 0. 0. 0. 0.]]]]\n",
      "[[0.]\n",
      " [0.]\n",
      " [0.]\n",
      " [0.]\n",
      " [0.]\n",
      " [0.]\n",
      " [0.]\n",
      " [0.]\n",
      " [0.]\n",
      " [0.]\n",
      " [0.]\n",
      " [0.]\n",
      " [0.]\n",
      " [0.]\n",
      " [0.]\n",
      " [0.]\n",
      " [0.]\n",
      " [0.]\n",
      " [0.]\n",
      " [0.]\n",
      " [0.]\n",
      " [0.]\n",
      " [0.]\n",
      " [0.]\n",
      " [0.]\n",
      " [0.]\n",
      " [0.]\n",
      " [0.]\n",
      " [0.]\n",
      " [0.]\n",
      " [0.]\n",
      " [0.]\n",
      " [0.]\n",
      " [0.]\n",
      " [0.]\n",
      " [0.]\n",
      " [0.]\n",
      " [0.]\n",
      " [0.]\n",
      " [0.]\n",
      " [0.]\n",
      " [0.]\n",
      " [0.]\n",
      " [0.]\n",
      " [0.]\n",
      " [0.]\n",
      " [0.]\n",
      " [0.]\n",
      " [0.]\n",
      " [0.]\n",
      " [0.]\n",
      " [0.]\n",
      " [0.]\n",
      " [0.]\n",
      " [0.]\n",
      " [0.]\n",
      " [0.]\n",
      " [0.]\n",
      " [0.]\n",
      " [0.]\n",
      " [0.]\n",
      " [0.]\n",
      " [0.]\n",
      " [0.]\n",
      " [0.]\n",
      " [0.]\n",
      " [0.]\n",
      " [0.]\n",
      " [0.]\n",
      " [0.]\n",
      " [0.]\n",
      " [0.]\n",
      " [0.]\n",
      " [0.]\n",
      " [0.]\n",
      " [0.]\n",
      " [0.]\n",
      " [0.]\n",
      " [0.]\n",
      " [0.]\n",
      " [0.]\n",
      " [0.]\n",
      " [0.]\n",
      " [0.]\n",
      " [0.]\n",
      " [0.]\n",
      " [0.]\n",
      " [0.]\n",
      " [0.]\n",
      " [0.]\n",
      " [0.]\n",
      " [0.]\n",
      " [0.]\n",
      " [0.]\n",
      " [0.]\n",
      " [0.]\n",
      " [0.]\n",
      " [0.]\n",
      " [0.]\n",
      " [0.]\n",
      " [0.]\n",
      " [0.]\n",
      " [0.]\n",
      " [0.]\n",
      " [0.]\n",
      " [0.]\n",
      " [0.]\n",
      " [0.]\n",
      " [0.]\n",
      " [0.]\n",
      " [0.]\n",
      " [0.]\n",
      " [0.]\n",
      " [0.]\n",
      " [0.]\n",
      " [0.]\n",
      " [0.]\n",
      " [0.]\n",
      " [0.]\n",
      " [0.]]\n",
      "[[0. 0. 0. 0. 0. 0. 0. 0. 0. 0. 0. 0. 0. 0. 0. 0. 0. 0. 0. 0. 0. 0. 0. 0.\n",
      "  0. 0. 0. 0. 0. 0. 0. 0. 0. 0. 0. 0. 0. 0. 0. 0. 0. 0. 0. 0. 0. 0. 0. 0.\n",
      "  0. 0. 0. 0. 0. 0. 0. 0. 0. 0. 0. 0. 0. 0. 0. 0. 0. 0. 0. 0. 0. 0. 0. 0.\n",
      "  0. 0. 0. 0. 0. 0. 0. 0. 0. 0. 0. 0. 0. 0. 0. 0. 0. 0. 0. 0. 0. 0. 0. 0.\n",
      "  0. 0. 0. 0. 0. 0. 0. 0. 0. 0. 0. 0. 0. 0. 0. 0. 0. 0. 0. 0. 0. 0. 0. 0.]]\n"
     ]
    },
    {
     "data": {
      "text/plain": [
       "array([[0., 0., 0., 0., 0., 0.],\n",
       "       [0., 0., 0., 0., 0., 0.],\n",
       "       [0., 0., 0., 0., 0., 0.],\n",
       "       [0., 0., 0., 0., 0., 0.],\n",
       "       [0., 0., 0., 0., 0., 0.],\n",
       "       [0., 0., 0., 0., 0., 0.],\n",
       "       [0., 0., 0., 0., 0., 0.],\n",
       "       [0., 0., 0., 0., 0., 0.],\n",
       "       [0., 0., 0., 0., 0., 0.],\n",
       "       [0., 0., 0., 0., 0., 0.],\n",
       "       [0., 0., 0., 0., 0., 0.],\n",
       "       [0., 0., 0., 0., 0., 0.],\n",
       "       [0., 0., 0., 0., 0., 0.],\n",
       "       [0., 0., 0., 0., 0., 0.],\n",
       "       [0., 0., 0., 0., 0., 0.],\n",
       "       [0., 0., 0., 0., 0., 0.],\n",
       "       [0., 0., 0., 0., 0., 0.],\n",
       "       [0., 0., 0., 0., 0., 0.],\n",
       "       [0., 0., 0., 0., 0., 0.],\n",
       "       [0., 0., 0., 0., 0., 0.]])"
      ]
     },
     "execution_count": 79,
     "metadata": {},
     "output_type": "execute_result"
    }
   ],
   "execution_count": 79
  },
  {
   "metadata": {
    "ExecuteTime": {
     "end_time": "2025-02-24T14:34:50.337085Z",
     "start_time": "2025-02-24T14:34:50.316909Z"
    }
   },
   "cell_type": "code",
   "source": [
    "# 将多维数组转换为1为数组\n",
    "a2 = np.array([(1,2,3,5),(3,4,5,5),(5,6,7,7)])\n",
    "print(a2.flatten()) # flatten 为变平的意思\n",
    "print(a2.shape)\n",
    "# 增加维度\n",
    "a3 = np.array([1,2,3])\n",
    "a.shape\n",
    "a4 = a3[:, np.newaxis]\n",
    "a5 = a2[np.newaxis, :]\n",
    "a6 = a2[:, np.newaxis,:]\n",
    "print(a4.shape)\n",
    "print(a5.shape)\n",
    "print(a6.shape)\n",
    "'''\n",
    "np.newaxis和reshape的主要区别在于它们增加数组维度的方式和使用场景。‌\n",
    "\n",
    "np.newaxis\n",
    "np.newaxis用于增加数组的维度。它实际上是一个None对象的别名，通过在切片操作中使用np.newaxis，可以改变数组的维度，从而方便进行矩阵运算。使用np.newaxis会增加一个新的维度，但不会复制数据，只是增加一个新的维度标签，数据仍然共享相同的内存空间。例如：\n",
    "\n",
    "a = np.ones((3,3)) 创建一个3x3的数组a。\n",
    "b = a[:, np.newaxis] 会将a的维度从2维变为3维，形状变为(3, 1, 3)。\n",
    "reshape\n",
    "reshape函数用于重新调整数组的形状而不改变其数据。它不会增加新的维度，而是重新排列现有数据以匹配新的形状。使用reshape时，新形状的总元素数量必须与原数组相同。例如：\n",
    "\n",
    "a = np.arange(12) 创建一个包含12个元素的数组a。\n",
    "b = a.reshape(-1, 1) 将a重新塑形为12行1列的形状。\n",
    "使用场景\n",
    "np.newaxis‌：适用于需要增加维度进行矩阵运算的场景，如广播机制的应用。它常用于构造高维数组或进行特定的矩阵操作。\n",
    "reshape‌：适用于需要改变数组形状但不改变数据内容的场景。它主要用于调整数组的布局以适应不同的数据处理需求。\n",
    "'''\n"
   ],
   "id": "208f868a01900388",
   "outputs": [
    {
     "name": "stdout",
     "output_type": "stream",
     "text": [
      "[1 2 3 5 3 4 5 5 5 6 7 7]\n",
      "(3, 4)\n",
      "(3, 1)\n",
      "(1, 3, 4)\n",
      "(3, 1, 4)\n"
     ]
    },
    {
     "data": {
      "text/plain": [
       "'\\nnp.newaxis和reshape的主要区别在于它们增加数组维度的方式和使用场景。\\u200c\\n\\nnp.newaxis\\nnp.newaxis用于增加数组的维度。它实际上是一个None对象的别名，通过在切片操作中使用np.newaxis，可以改变数组的维度，从而方便进行矩阵运算。使用np.newaxis会增加一个新的维度，但不会复制数据，只是增加一个新的维度标签，数据仍然共享相同的内存空间。例如：\\n\\na = np.ones((3,3)) 创建一个3x3的数组a。\\nb = a[:, np.newaxis] 会将a的维度从2维变为3维，形状变为(3, 1, 3)。\\nreshape\\nreshape函数用于重新调整数组的形状而不改变其数据。它不会增加新的维度，而是重新排列现有数据以匹配新的形状。使用reshape时，新形状的总元素数量必须与原数组相同。例如：\\n\\na = np.arange(12) 创建一个包含12个元素的数组a。\\nb = a.reshape(-1, 1) 将a重新塑形为12行1列的形状。\\n使用场景\\nnp.newaxis\\u200c：适用于需要增加维度进行矩阵运算的场景，如广播机制的应用。它常用于构造高维数组或进行特定的矩阵操作。\\nreshape\\u200c：适用于需要改变数组形状但不改变数据内容的场景。它主要用于调整数组的布局以适应不同的数据处理需求。\\n'"
      ]
     },
     "execution_count": 98,
     "metadata": {},
     "output_type": "execute_result"
    }
   ],
   "execution_count": 98
  },
  {
   "metadata": {
    "ExecuteTime": {
     "end_time": "2025-02-24T14:41:57.213272Z",
     "start_time": "2025-02-24T14:41:57.193092Z"
    }
   },
   "cell_type": "code",
   "source": [
    "# NumPy 数组的数学操作\n",
    "a = np.ones((2,2))\n",
    "b = np.array([(-1,3),(-1,2)])\n",
    "print(a)\n",
    "print(a.dtype)\n",
    "print(b)\n",
    "# 加减乘除 矩阵形状相同时，对应位置上元素的 加减乘除\n",
    "print(a + b)\n",
    "print(a - b)\n",
    "print(a / b)\n",
    "# 求和，矩阵所有元素相加\n",
    "print(a.sum())\n",
    "print(b.sum())\n",
    "# 求积，矩阵所有元素相乘\n",
    "print(a.prod())\n",
    "print(b.prod())"
   ],
   "id": "fbe9d36c43445c34",
   "outputs": [
    {
     "name": "stdout",
     "output_type": "stream",
     "text": [
      "[[1. 1.]\n",
      " [1. 1.]]\n",
      "float64\n",
      "[[-1  3]\n",
      " [-1  2]]\n",
      "[[0. 4.]\n",
      " [0. 3.]]\n",
      "[[ 2. -2.]\n",
      " [ 2. -1.]]\n",
      "[[-1.          0.33333333]\n",
      " [-1.          0.5       ]]\n",
      "4.0\n",
      "3\n",
      "1.0\n",
      "6\n"
     ]
    }
   ],
   "execution_count": 109
  },
  {
   "metadata": {
    "ExecuteTime": {
     "end_time": "2025-02-24T14:45:51.958775Z",
     "start_time": "2025-02-24T14:45:51.955301Z"
    }
   },
   "cell_type": "code",
   "source": [
    "# 平均数，⽅差，标准差，最⼤值，最⼩值\n",
    "a7 = np.array([(1,2,3),(3,4,5),(5,6,7)])\n",
    "# 求平均值\n",
    "print(a7.mean())\n",
    "# 求方差 ： 方差‌：衡量数据分布的离散程度，计算为各数据与均值差的平方的平均值。\n",
    "print(a7.var())\n",
    "# 求标准差：标准差‌：方差的平方根，消除量纲影响，与原始数据单位一致。\n",
    "print(a7.std())\n",
    "# 获取最小值\n",
    "print(a7.min())\n",
    "# 获取最大值\n",
    "print(a7.max())\n",
    "'''\n",
    "对于高维矩阵，比如一个三维数组（样本×特征×时间），用户可能需要明确计算的维度。不同的计算方向会影响结果的意义。比如，沿着样本轴计算，可以得到每个特征在不同样本间的差异；沿着特征轴计算，可能反映每个样本在不同特征上的变化；而沿着时间轴可能展示每个特征随时间的变化情况。\n",
    "关于含义，高维矩阵的方差和标准差能帮助理解不同维度上的数据波动。比如在图像处理中，每个像素点的方差可能表示亮度变化；在自然语言处理中，词向量的标准差可能反映词义的多样性。此外，降维处理前的方差分析可以帮助选择重要特征，异常检测中高方差可能提示异常点。\n",
    "高维矩阵的方差和标准差通过‌指定计算维度‌量化不同方向上的数据波动性，其核心意义是：\n",
    "‌定位重要维度‌（如高方差特征）；\n",
    "‌揭示数据分布特性‌（如稳定性、异常性）；\n",
    "‌支持决策‌（如降维、标准化、异常检测）。\n",
    "通常对于高维矩阵，需要指定其轴，以反映其沿着某个轴变化的数据变化剧烈程度：\n",
    "# 生成三维矩阵（样本×特征×时间）\n",
    "data = np.random.rand(100, 5, 10)  # 100样本，5特征，10时间点\n",
    "\n",
    "# 沿样本轴计算方差（每个特征-时间点的样本方差）\n",
    "var_sample = np.var(data, axis=0)\n",
    "std_sample = np.std(data, axis=0)\n",
    "\n",
    "# 沿特征轴计算方差（每个样本-时间点的特征方差）\n",
    "var_feature = np.var(data, axis=1)\n",
    "std_feature = np.std(data, axis=1)\n",
    "如果不指定轴：若不指定计算维度（即不设置 axis 参数），方差和标准差会将所有元素视为‌单一数据集‌进行全局计算；\n",
    "关键结论‌\n",
    "‌默认全局计算‌：简单但粗粒度，适用于整体评估，但牺牲局部信息。\n",
    "‌优先指定维度‌：在结构化数据（如特征、时间、样本）中，明确指定计算维度更有利于精准分析。\n",
    "‌决策建议‌：\n",
    "若需保留维度特性（如特征工程），必须指定 axis；\n",
    "若仅需宏观波动指标，可不指定维度。\n",
    "'''\n"
   ],
   "id": "210fc617e14479d2",
   "outputs": [
    {
     "name": "stdout",
     "output_type": "stream",
     "text": [
      "4.0\n",
      "3.3333333333333335\n",
      "1.8257418583505538\n",
      "1\n",
      "7\n"
     ]
    }
   ],
   "execution_count": 112
  },
  {
   "metadata": {
    "ExecuteTime": {
     "end_time": "2025-02-24T15:21:34.663040Z",
     "start_time": "2025-02-24T15:21:34.659244Z"
    }
   },
   "cell_type": "code",
   "source": [
    "# 获取最大值索引\n",
    "a8 = np.array([(1,2,8),(3,9,7),(5,6,8)])\n",
    "print(a8.shape)\n",
    "# 以行为轴，按列计算\n",
    "print(a8.argmax(axis=0)) # [2 1 0] 结果解释：第一列最大值为 5 在第2行， 第二列最大值9 在第1行， 第三列最大值8 在第1行，如果出现相同大小的值，取第一个出现的位置\n",
    "# 以列为轴，按行计算\n",
    "print(a8.argmax(axis=1)) # [2 1 2] 结果解释：第一行最大值为 8 在第2列， 第二行最大值9在第1列， 第三行最大值8 在第2列，如果出现相同大小的值，取第一个出现的位置\n",
    "# 获取矩阵在第一个维度上的最小值，返回其坐标\n",
    "print(a8.argmin(axis=0))\n",
    "# 获取矩阵在第二个维度上的最小值，返回其坐标\n",
    "print(a8.argmin(axis=1))\n",
    "# 如果不指定轴，会将矩阵按照以为向量处理\n",
    "'''\n",
    "np.argmax 和 np.argmin 通过‌索引定位极值‌，是数据分析中的高频工具。\n",
    "‌优先指定 axis‌：明确计算维度，避免误用全局结果。\n",
    "‌注意极值唯一性‌：多个相同极值时需谨慎处理索引逻辑。\n",
    "'''"
   ],
   "id": "4909b13804ad9c6d",
   "outputs": [
    {
     "name": "stdout",
     "output_type": "stream",
     "text": [
      "(3, 3)\n",
      "[2 1 0]\n",
      "[2 1 2]\n",
      "[0 0 1]\n",
      "[0 0 0]\n"
     ]
    }
   ],
   "execution_count": 131
  },
  {
   "metadata": {
    "ExecuteTime": {
     "end_time": "2025-02-24T15:30:02.249836Z",
     "start_time": "2025-02-24T15:30:02.245488Z"
    }
   },
   "cell_type": "code",
   "source": [
    "a = np.array([1.2, 3.8, 4.9])\n",
    "# 取元素的上限\n",
    "print(\"ceil:\", np.ceil(a))\n",
    "# 取元素的下限\n",
    "print(\"floor:\", np.floor(a))\n",
    "# 元素四舍五入\n",
    "print(\"rint:\", np.rint(a))"
   ],
   "id": "cc800c9a21f4d001",
   "outputs": [
    {
     "name": "stdout",
     "output_type": "stream",
     "text": [
      "argmax: 2\n",
      "argmin: 0\n",
      "ceil: [2. 4. 5.]\n",
      "floor: [1. 3. 4.]\n",
      "rint: [1. 4. 5.]\n"
     ]
    }
   ],
   "execution_count": 132
  },
  {
   "metadata": {
    "ExecuteTime": {
     "end_time": "2025-02-24T15:37:37.387935Z",
     "start_time": "2025-02-24T15:37:37.383395Z"
    }
   },
   "cell_type": "code",
   "source": [
    "a9 = np.array([(8,2,8),(3,9,7),(5,6,8)])\n",
    "# a9.sort(1)\n",
    "a9.sort(0)\n",
    "\n",
    "'''\n",
    "np.sort的默认axis参数是-1，也就是最后一个轴。对于高维数组，比如三维数组，形状是（a, b, c），如果不指定axis，np.sort会沿着最后一个轴（即axis=2）进行排序。每个子数组沿着最后一个轴独立排序，保持其他轴的结构不变。例如，三维数组的每个二维切片在第三个维度上排序。(默认升序)\n",
    "'''\n",
    "a9"
   ],
   "id": "a704194916721ba6",
   "outputs": [
    {
     "data": {
      "text/plain": [
       "array([[3, 2, 7],\n",
       "       [5, 6, 8],\n",
       "       [8, 9, 8]])"
      ]
     },
     "execution_count": 136,
     "metadata": {},
     "output_type": "execute_result"
    }
   ],
   "execution_count": 136
  },
  {
   "metadata": {
    "ExecuteTime": {
     "end_time": "2025-02-24T15:40:33.350402Z",
     "start_time": "2025-02-24T15:40:33.345607Z"
    }
   },
   "cell_type": "code",
   "source": [
    "# NumPy 线性代数\n",
    "# 定义两个简单的矩阵\n",
    "m1 = np.array([[1, 2], [3, 4]] , dtype=np.float32)\n",
    "m2 = np.array([[5, 6], [7, 8]] , dtype=np.float32)\n",
    "# 使⽤ np.dot 进⾏矩阵乘法\n",
    "result_dot = np.dot(m1, m2)\n",
    "# 使⽤ @ 运算符进⾏矩阵乘法\n",
    "result_at = m1 @ m2\n",
    "print(\"矩阵 1:\")\n",
    "print(m1)\n",
    "print(\"矩阵 2:\")\n",
    "print(m2)\n",
    "print(\"使⽤ np.dot 得到的矩阵乘法结果:\")\n",
    "print(result_dot)\n",
    "print(\"使⽤ @ 运算符得到的矩阵乘法结果:\")\n",
    "print(result_at)"
   ],
   "id": "9f2224816e8df7bb",
   "outputs": [
    {
     "name": "stdout",
     "output_type": "stream",
     "text": [
      "矩阵 1:\n",
      "[[1. 2.]\n",
      " [3. 4.]]\n",
      "矩阵 2:\n",
      "[[5. 6.]\n",
      " [7. 8.]]\n",
      "使⽤ np.dot 得到的矩阵乘法结果:\n",
      "[[19. 22.]\n",
      " [43. 50.]]\n",
      "使⽤ @ 运算符得到的矩阵乘法结果:\n",
      "[[19. 22.]\n",
      " [43. 50.]]\n"
     ]
    }
   ],
   "execution_count": 138
  },
  {
   "metadata": {
    "ExecuteTime": {
     "end_time": "2025-02-24T15:42:13.971508Z",
     "start_time": "2025-02-24T15:42:13.966795Z"
    }
   },
   "cell_type": "code",
   "source": [
    "# 创建⼀个全零矩阵，⽤于存储⼿动推演的结果\n",
    "# 结果矩阵的⾏数等于 matrix1 的⾏数，列数等于 matrix2 的列数\n",
    "manual_result = np.zeros((m1.shape[0], m2.shape[1]), dtype=np.float32)\n",
    "# 外层循环：遍历 matrix1 的每⼀⾏\n",
    "# i 表⽰结果矩阵的⾏索引\n",
    "for i in range(m1.shape[0]):\n",
    "    # 中层循环：遍历 matrix2 的每⼀列\n",
    "    # j 表⽰结果矩阵的列索引\n",
    "    for j in range(m2.shape[1]):\n",
    "        # 初始化当前位置的结果为 0\n",
    "        manual_result[i, j] = 0\n",
    "        # 内层循环：计算 matrix1 的第 i ⾏与 matrix2 的第 j 列对应元素的乘积之和\n",
    "        # k 表⽰参与乘法运算的元素索引\n",
    "        for k in range(m1.shape[1]):\n",
    "            # 打印当前正在计算的元素\n",
    "            print(f\"{m1[i, k]} * {m2[k, j]} = {m1[i, k] * m2[k, j]}\")\n",
    "            # 将 matrix1 的第 i ⾏第 k 列元素与 matrix2 的第 k ⾏第 j 列元素相乘，并累\n",
    "            manual_result[i, j] += m1[i, k] * m2[k, j]\n",
    "        # 打印当前位置计算完成后的结果\n",
    "        print(f\"结果矩阵[{i + 1},{j + 1}]:{manual_result[i, j]}\\n\")\n",
    "print(\"⼿动推演结果:\")\n",
    "print(manual_result)"
   ],
   "id": "f4a9cfcc06fa7b68",
   "outputs": [
    {
     "name": "stdout",
     "output_type": "stream",
     "text": [
      "1.0 * 5.0 = 5.0\n",
      "2.0 * 7.0 = 14.0\n",
      "结果矩阵[1,1]:19.0\n",
      "\n",
      "1.0 * 6.0 = 6.0\n",
      "2.0 * 8.0 = 16.0\n",
      "结果矩阵[1,2]:22.0\n",
      "\n",
      "3.0 * 5.0 = 15.0\n",
      "4.0 * 7.0 = 28.0\n",
      "结果矩阵[2,1]:43.0\n",
      "\n",
      "3.0 * 6.0 = 18.0\n",
      "4.0 * 8.0 = 32.0\n",
      "结果矩阵[2,2]:50.0\n",
      "\n",
      "⼿动推演结果:\n",
      "[[19. 22.]\n",
      " [43. 50.]]\n"
     ]
    }
   ],
   "execution_count": 139
  }
 ],
 "metadata": {
  "kernelspec": {
   "display_name": "Python 3",
   "language": "python",
   "name": "python3"
  },
  "language_info": {
   "codemirror_mode": {
    "name": "ipython",
    "version": 2
   },
   "file_extension": ".py",
   "mimetype": "text/x-python",
   "name": "python",
   "nbconvert_exporter": "python",
   "pygments_lexer": "ipython2",
   "version": "2.7.6"
  }
 },
 "nbformat": 4,
 "nbformat_minor": 5
}

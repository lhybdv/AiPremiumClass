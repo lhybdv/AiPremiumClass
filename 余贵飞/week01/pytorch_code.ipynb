{
 "cells": [
  {
   "cell_type": "code",
   "id": "initial_id",
   "metadata": {
    "collapsed": true,
    "ExecuteTime": {
     "end_time": "2025-02-26T01:02:21.351594Z",
     "start_time": "2025-02-26T01:02:21.321152Z"
    }
   },
   "source": [
    "import torch\n",
    "data = torch.tensor([[2,3,224,224],[2, 4, 5, 8]])\n",
    "data"
   ],
   "outputs": [
    {
     "data": {
      "text/plain": [
       "tensor([[  2,   3, 224, 224],\n",
       "        [  2,   4,   5,   8]])"
      ]
     },
     "execution_count": 2,
     "metadata": {},
     "output_type": "execute_result"
    }
   ],
   "execution_count": 2
  },
  {
   "metadata": {
    "ExecuteTime": {
     "end_time": "2025-02-23T09:19:31.005936Z",
     "start_time": "2025-02-23T09:19:30.994058Z"
    }
   },
   "cell_type": "code",
   "source": [
    "data2 = torch.ones_like(data, dtype=torch.float)\n",
    "data2\n",
    "print(data2)\n",
    "data3 = torch.zeros_like(data, dtype=torch.float64)\n",
    "print(data3)"
   ],
   "id": "2856297c87ac0893",
   "outputs": [
    {
     "name": "stdout",
     "output_type": "stream",
     "text": [
      "tensor([[1., 1., 1., 1.],\n",
      "        [1., 1., 1., 1.]])\n",
      "tensor([[0., 0., 0., 0.],\n",
      "        [0., 0., 0., 0.]], dtype=torch.float64)\n"
     ]
    }
   ],
   "execution_count": 2
  },
  {
   "metadata": {
    "ExecuteTime": {
     "end_time": "2025-02-23T09:19:31.530113Z",
     "start_time": "2025-02-23T09:19:31.525396Z"
    }
   },
   "cell_type": "code",
   "source": "data3.dtype",
   "id": "aeeba03612cf93a8",
   "outputs": [
    {
     "data": {
      "text/plain": [
       "torch.float64"
      ]
     },
     "execution_count": 3,
     "metadata": {},
     "output_type": "execute_result"
    }
   ],
   "execution_count": 3
  },
  {
   "metadata": {
    "ExecuteTime": {
     "end_time": "2025-02-23T09:19:31.542351Z",
     "start_time": "2025-02-23T09:19:31.530113Z"
    }
   },
   "cell_type": "code",
   "source": [
    "shape = (2,3,)\n",
    "rand_tensor = torch.rand(shape, dtype=torch.float64)\n",
    "print(rand_tensor)\n",
    "rand_tensor1 = torch.randn(shape, dtype=torch.float64)\n",
    "print(rand_tensor1)\n",
    "print(rand_tensor.size())"
   ],
   "id": "350951c37a6b19c3",
   "outputs": [
    {
     "name": "stdout",
     "output_type": "stream",
     "text": [
      "tensor([[0.6654, 0.0060, 0.4682],\n",
      "        [0.7218, 0.7890, 0.4860]], dtype=torch.float64)\n",
      "tensor([[ 0.2291, -0.2962,  1.0932],\n",
      "        [-0.5130,  0.1062, -1.4959]], dtype=torch.float64)\n",
      "torch.Size([2, 3])\n"
     ]
    }
   ],
   "execution_count": 4
  },
  {
   "metadata": {
    "ExecuteTime": {
     "end_time": "2025-02-23T09:19:31.721472Z",
     "start_time": "2025-02-23T09:19:31.714253Z"
    }
   },
   "cell_type": "code",
   "source": [
    "data4 = torch.rand(3,4, device=torch.device('cpu'))\n",
    "print(data4.shape)\n",
    "print(data4.dtype)\n",
    "print(data4.device)"
   ],
   "id": "1be7bd284d60448d",
   "outputs": [
    {
     "name": "stdout",
     "output_type": "stream",
     "text": [
      "torch.Size([3, 4])\n",
      "torch.float32\n",
      "cpu\n"
     ]
    }
   ],
   "execution_count": 5
  },
  {
   "metadata": {
    "ExecuteTime": {
     "end_time": "2025-02-23T09:19:31.939597Z",
     "start_time": "2025-02-23T09:19:31.924617Z"
    }
   },
   "cell_type": "code",
   "source": "print(torch.cuda.is_available())",
   "id": "fb308af5f28de9a6",
   "outputs": [
    {
     "name": "stdout",
     "output_type": "stream",
     "text": [
      "False\n"
     ]
    }
   ],
   "execution_count": 6
  },
  {
   "metadata": {
    "ExecuteTime": {
     "end_time": "2025-02-23T09:19:32.276008Z",
     "start_time": "2025-02-23T09:19:32.270293Z"
    }
   },
   "cell_type": "code",
   "source": [
    "if torch.cuda.is_available():\n",
    "    device = torch.device('cuda:0')\n",
    "    data4.to(device)\n",
    "print(data4)\n",
    "print(data4.device)"
   ],
   "id": "15145dfa4101bf96",
   "outputs": [
    {
     "name": "stdout",
     "output_type": "stream",
     "text": [
      "tensor([[0.2441, 0.1784, 0.1411, 0.7382],\n",
      "        [0.7357, 0.5336, 0.4127, 0.2003],\n",
      "        [0.6950, 0.6695, 0.6646, 0.3763]])\n",
      "cpu\n"
     ]
    }
   ],
   "execution_count": 7
  },
  {
   "metadata": {
    "ExecuteTime": {
     "end_time": "2025-02-23T09:19:32.300006Z",
     "start_time": "2025-02-23T09:19:32.294816Z"
    }
   },
   "cell_type": "code",
   "source": [
    "data4 = torch.cat([data4, data4, data4])\n",
    "print(data4)"
   ],
   "id": "ab1e1e80e6d3d8af",
   "outputs": [
    {
     "name": "stdout",
     "output_type": "stream",
     "text": [
      "tensor([[0.2441, 0.1784, 0.1411, 0.7382],\n",
      "        [0.7357, 0.5336, 0.4127, 0.2003],\n",
      "        [0.6950, 0.6695, 0.6646, 0.3763],\n",
      "        [0.2441, 0.1784, 0.1411, 0.7382],\n",
      "        [0.7357, 0.5336, 0.4127, 0.2003],\n",
      "        [0.6950, 0.6695, 0.6646, 0.3763],\n",
      "        [0.2441, 0.1784, 0.1411, 0.7382],\n",
      "        [0.7357, 0.5336, 0.4127, 0.2003],\n",
      "        [0.6950, 0.6695, 0.6646, 0.3763]])\n"
     ]
    }
   ],
   "execution_count": 8
  },
  {
   "metadata": {
    "ExecuteTime": {
     "end_time": "2025-02-23T09:19:32.363648Z",
     "start_time": "2025-02-23T09:19:32.346888Z"
    }
   },
   "cell_type": "code",
   "source": "rand_tensor",
   "id": "fcd66089f3548396",
   "outputs": [
    {
     "data": {
      "text/plain": [
       "tensor([[0.6654, 0.0060, 0.4682],\n",
       "        [0.7218, 0.7890, 0.4860]], dtype=torch.float64)"
      ]
     },
     "execution_count": 9,
     "metadata": {},
     "output_type": "execute_result"
    }
   ],
   "execution_count": 9
  },
  {
   "metadata": {
    "ExecuteTime": {
     "end_time": "2025-02-23T09:19:32.443664Z",
     "start_time": "2025-02-23T09:19:32.438342Z"
    }
   },
   "cell_type": "code",
   "source": [
    "tenser = torch.tensor([[1,2,3,4,5],[3,4,5,6,7]], dtype=torch.int)\n",
    "tenser.add_(5)\n",
    "print(tenser)"
   ],
   "id": "b8ab83e5d121a1fa",
   "outputs": [
    {
     "name": "stdout",
     "output_type": "stream",
     "text": [
      "tensor([[ 6,  7,  8,  9, 10],\n",
      "        [ 8,  9, 10, 11, 12]], dtype=torch.int32)\n"
     ]
    }
   ],
   "execution_count": 10
  },
  {
   "metadata": {
    "ExecuteTime": {
     "end_time": "2025-02-23T09:20:04.627194Z",
     "start_time": "2025-02-23T09:20:04.253201Z"
    }
   },
   "cell_type": "code",
   "source": [
    "import torch\n",
    "from torchviz import make_dot\n",
    "# 定义矩阵 A，向量 b 和常数 c\n",
    "A = torch.randn(10, 10,requires_grad=True)\n",
    "b = torch.randn(10,requires_grad=True)\n",
    "c = torch.randn(1,requires_grad=True)\n",
    "x = torch.randn(10, requires_grad=True)\n",
    "# 计算 x^T * A + b * x + c\n",
    "result = torch.matmul(A, x.T) + torch.matmul(b, x) + c\n",
    "# ⽣成计算图节点\n",
    "dot = make_dot(result, params={'A': A, 'b': b, 'c': c, 'x': x})\n",
    "# 绘制计算图\n",
    "dot.render('expression', format='png', cleanup=True, view=True)"
   ],
   "id": "52c26e9b33ffcab3",
   "outputs": [
    {
     "data": {
      "text/plain": [
       "'expression.png'"
      ]
     },
     "execution_count": 14,
     "metadata": {},
     "output_type": "execute_result"
    }
   ],
   "execution_count": 14
  },
  {
   "metadata": {
    "ExecuteTime": {
     "end_time": "2025-02-26T01:05:27.281957Z",
     "start_time": "2025-02-26T01:05:27.256292Z"
    }
   },
   "cell_type": "code",
   "source": [
    "import torch\n",
    "data = [[2,3,224,224],[2, 4, 5, 8]]\n",
    "t_data = torch.tensor(data)\n",
    "t_data"
   ],
   "id": "89b197622d3bb2a3",
   "outputs": [
    {
     "data": {
      "text/plain": [
       "tensor([[  2,   3, 224, 224],\n",
       "        [  2,   4,   5,   8]])"
      ]
     },
     "execution_count": 4,
     "metadata": {},
     "output_type": "execute_result"
    }
   ],
   "execution_count": 4
  },
  {
   "metadata": {
    "ExecuteTime": {
     "end_time": "2025-02-26T01:07:00.583713Z",
     "start_time": "2025-02-26T01:07:00.457985Z"
    }
   },
   "cell_type": "code",
   "source": [
    "import numpy as np\n",
    "a_data = np.array(data)\n",
    "print(a_data)\n",
    "t_data1 = torch.from_numpy(a_data)\n",
    "t_data1"
   ],
   "id": "f169f103f3ffeac4",
   "outputs": [
    {
     "name": "stdout",
     "output_type": "stream",
     "text": [
      "[[  2   3 224 224]\n",
      " [  2   4   5   8]]\n"
     ]
    },
    {
     "data": {
      "text/plain": [
       "tensor([[  2,   3, 224, 224],\n",
       "        [  2,   4,   5,   8]])"
      ]
     },
     "execution_count": 6,
     "metadata": {},
     "output_type": "execute_result"
    }
   ],
   "execution_count": 6
  },
  {
   "metadata": {
    "ExecuteTime": {
     "end_time": "2025-02-26T01:07:46.146329Z",
     "start_time": "2025-02-26T01:07:45.874335Z"
    }
   },
   "cell_type": "code",
   "source": [
    "t_ones = torch.ones_like(t_data1)\n",
    "t_ones"
   ],
   "id": "bea3f474eb8c87bb",
   "outputs": [
    {
     "data": {
      "text/plain": [
       "tensor([[1, 1, 1, 1],\n",
       "        [1, 1, 1, 1]])"
      ]
     },
     "execution_count": 7,
     "metadata": {},
     "output_type": "execute_result"
    }
   ],
   "execution_count": 7
  },
  {
   "metadata": {
    "ExecuteTime": {
     "end_time": "2025-02-26T01:09:35.948794Z",
     "start_time": "2025-02-26T01:09:34.837160Z"
    }
   },
   "cell_type": "code",
   "source": [
    "t_rand = torch.rand_like(t_data1, dtype=torch.float)\n",
    "t_rand"
   ],
   "id": "d3c274af5da215d1",
   "outputs": [
    {
     "data": {
      "text/plain": [
       "tensor([[0.0861, 0.9751, 0.0745, 0.9248],\n",
       "        [0.1348, 0.9531, 0.0178, 0.8612]])"
      ]
     },
     "execution_count": 9,
     "metadata": {},
     "output_type": "execute_result"
    }
   ],
   "execution_count": 9
  },
  {
   "metadata": {
    "ExecuteTime": {
     "end_time": "2025-02-26T01:13:06.221254Z",
     "start_time": "2025-02-26T01:13:06.168888Z"
    }
   },
   "cell_type": "code",
   "source": [
    "shape = (2,3,)\n",
    "t_ones1 = torch.ones(shape, dtype=torch.float)\n",
    "print(t_ones1)\n",
    "t_zero = torch.zeros(shape, dtype=torch.float)\n",
    "print(t_zero)\n",
    "t_rand1 = torch.randn(shape, dtype=torch.float)\n",
    "t_rand2 = torch.rand(shape, dtype=torch.float)\n",
    "print(t_rand1)\n",
    "print(t_rand2)"
   ],
   "id": "3b266c97e55d830d",
   "outputs": [
    {
     "name": "stdout",
     "output_type": "stream",
     "text": [
      "tensor([[1., 1., 1.],\n",
      "        [1., 1., 1.]])\n",
      "tensor([[0., 0., 0.],\n",
      "        [0., 0., 0.]])\n",
      "tensor([[ 0.2040, -2.1837,  0.3315],\n",
      "        [-1.1453,  2.2091, -0.4164]])\n",
      "tensor([[0.8164, 0.6985, 0.7513],\n",
      "        [0.8843, 0.8006, 0.2845]])\n"
     ]
    }
   ],
   "execution_count": 13
  },
  {
   "metadata": {
    "ExecuteTime": {
     "end_time": "2025-02-26T01:19:16.968887Z",
     "start_time": "2025-02-26T01:19:16.853042Z"
    }
   },
   "cell_type": "code",
   "source": [
    "cat = torch.cat((t_rand1, t_rand2), dim=0)\n",
    "print(cat)\n",
    "stack = torch.stack((t_rand1, t_rand2), dim=0)\n",
    "stack\n"
   ],
   "id": "55da119b7727801b",
   "outputs": [
    {
     "name": "stdout",
     "output_type": "stream",
     "text": [
      "tensor([[ 0.2040, -2.1837,  0.3315],\n",
      "        [-1.1453,  2.2091, -0.4164],\n",
      "        [ 0.8164,  0.6985,  0.7513],\n",
      "        [ 0.8843,  0.8006,  0.2845]])\n"
     ]
    },
    {
     "data": {
      "text/plain": [
       "tensor([[[ 0.2040, -2.1837,  0.3315],\n",
       "         [-1.1453,  2.2091, -0.4164]],\n",
       "\n",
       "        [[ 0.8164,  0.6985,  0.7513],\n",
       "         [ 0.8843,  0.8006,  0.2845]]])"
      ]
     },
     "execution_count": 15,
     "metadata": {},
     "output_type": "execute_result"
    }
   ],
   "execution_count": 15
  },
  {
   "metadata": {
    "ExecuteTime": {
     "end_time": "2025-02-26T01:20:37.704351Z",
     "start_time": "2025-02-26T01:20:36.800116Z"
    }
   },
   "cell_type": "code",
   "source": [
    "y = cat @ cat.T\n",
    "y"
   ],
   "id": "ac0924bf68f71660",
   "outputs": [
    {
     "data": {
      "text/plain": [
       "tensor([[ 4.9202, -5.1959, -1.1096, -1.4736],\n",
       "        [-5.1959,  6.3653,  0.2951,  0.6375],\n",
       "        [-1.1096,  0.2951,  1.7188,  1.4949],\n",
       "        [-1.4736,  0.6375,  1.4949,  1.5039]])"
      ]
     },
     "execution_count": 16,
     "metadata": {},
     "output_type": "execute_result"
    }
   ],
   "execution_count": 16
  },
  {
   "metadata": {
    "ExecuteTime": {
     "end_time": "2025-02-26T01:21:17.117680Z",
     "start_time": "2025-02-26T01:21:17.106982Z"
    }
   },
   "cell_type": "code",
   "source": [
    "y = cat.matmul(cat.T)\n",
    "y"
   ],
   "id": "3bd1fe326e3dc054",
   "outputs": [
    {
     "data": {
      "text/plain": [
       "tensor([[ 4.9202, -5.1959, -1.1096, -1.4736],\n",
       "        [-5.1959,  6.3653,  0.2951,  0.6375],\n",
       "        [-1.1096,  0.2951,  1.7188,  1.4949],\n",
       "        [-1.4736,  0.6375,  1.4949,  1.5039]])"
      ]
     },
     "execution_count": 17,
     "metadata": {},
     "output_type": "execute_result"
    }
   ],
   "execution_count": 17
  },
  {
   "metadata": {
    "ExecuteTime": {
     "end_time": "2025-02-26T01:24:21.853818Z",
     "start_time": "2025-02-26T01:24:21.792036Z"
    }
   },
   "cell_type": "code",
   "source": [
    "agg = y.sum()\n",
    "agg_item = agg.item()\n",
    "print(agg_item)"
   ],
   "id": "b16d0f47d1c197cd",
   "outputs": [
    {
     "name": "stdout",
     "output_type": "stream",
     "text": [
      "3.8050661087036133\n"
     ]
    }
   ],
   "execution_count": 19
  },
  {
   "metadata": {
    "ExecuteTime": {
     "end_time": "2025-02-26T01:27:38.492681Z",
     "start_time": "2025-02-26T01:27:38.484533Z"
    }
   },
   "cell_type": "code",
   "source": [
    "array1 = y.numpy()\n",
    "print(array1)"
   ],
   "id": "a29b0808ecbe30ba",
   "outputs": [
    {
     "name": "stdout",
     "output_type": "stream",
     "text": [
      "[[ 4.9202027  -5.1958675  -1.1096333  -1.4736046 ]\n",
      " [-5.1958675   6.3653307   0.29513296  0.6374641 ]\n",
      " [-1.1096333   0.29513296  1.7188363   1.4949098 ]\n",
      " [-1.4736046   0.6374641   1.4949098   1.5038939 ]]\n"
     ]
    }
   ],
   "execution_count": 22
  },
  {
   "metadata": {
    "ExecuteTime": {
     "end_time": "2025-02-26T01:35:19.895372Z",
     "start_time": "2025-02-26T01:35:19.883522Z"
    }
   },
   "cell_type": "code",
   "source": [
    "print(array1.shape)\n",
    "array2 = np.ones_like(array1)\n",
    "print(array2)\n",
    "array1 = array1 + array2\n",
    "print(array1)\n",
    "print(y)"
   ],
   "id": "5a5d68b600f7cd04",
   "outputs": [
    {
     "name": "stdout",
     "output_type": "stream",
     "text": [
      "(4, 4)\n",
      "[[1. 1. 1. 1.]\n",
      " [1. 1. 1. 1.]\n",
      " [1. 1. 1. 1.]\n",
      " [1. 1. 1. 1.]]\n",
      "[[ 6.9202027  -3.1958675   0.8903667   0.52639544]\n",
      " [-3.1958675   8.365331    2.295133    2.637464  ]\n",
      " [ 0.8903667   2.295133    3.7188363   3.4949098 ]\n",
      " [ 0.52639544  2.637464    3.4949098   3.5038939 ]]\n",
      "tensor([[ 4.9202, -5.1959, -1.1096, -1.4736],\n",
      "        [-5.1959,  6.3653,  0.2951,  0.6375],\n",
      "        [-1.1096,  0.2951,  1.7188,  1.4949],\n",
      "        [-1.4736,  0.6375,  1.4949,  1.5039]])\n"
     ]
    }
   ],
   "execution_count": 32
  },
  {
   "metadata": {
    "ExecuteTime": {
     "end_time": "2025-02-26T06:12:11.519591Z",
     "start_time": "2025-02-26T06:11:56.493873Z"
    }
   },
   "cell_type": "code",
   "source": [
    "from sklearn.datasets import load_iris\n",
    "data = load_iris()\n",
    "print(data.target_names)"
   ],
   "id": "fe2bc81a7d9fb85c",
   "outputs": [
    {
     "name": "stdout",
     "output_type": "stream",
     "text": [
      "['setosa' 'versicolor' 'virginica']\n"
     ]
    }
   ],
   "execution_count": 33
  }
 ],
 "metadata": {
  "kernelspec": {
   "display_name": "Python 3",
   "language": "python",
   "name": "python3"
  },
  "language_info": {
   "codemirror_mode": {
    "name": "ipython",
    "version": 2
   },
   "file_extension": ".py",
   "mimetype": "text/x-python",
   "name": "python",
   "nbconvert_exporter": "python",
   "pygments_lexer": "ipython2",
   "version": "2.7.6"
  }
 },
 "nbformat": 4,
 "nbformat_minor": 5
}

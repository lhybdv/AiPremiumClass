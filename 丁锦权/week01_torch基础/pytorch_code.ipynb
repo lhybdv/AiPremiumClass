{
 "cells": [
  {
   "cell_type": "code",
   "execution_count": 13,
   "metadata": {},
   "outputs": [
    {
     "name": "stdout",
     "output_type": "stream",
     "text": [
      "[[1, 2], [3, 4]]\n",
      "tensor([[1, 2],\n",
      "        [3, 4]])\n",
      "[[1 2]\n",
      " [3 4]]\n",
      "tensor([[1, 2],\n",
      "        [3, 4]])\n",
      "tensor([[1, 2],\n",
      "        [3, 4]])\n"
     ]
    },
    {
     "name": "stderr",
     "output_type": "stream",
     "text": [
      "C:\\Users\\29760\\AppData\\Local\\Temp\\ipykernel_22448\\1316924808.py:9: DeprecationWarning: __array__ implementation doesn't accept a copy keyword, so passing copy=False failed. __array__ must implement 'dtype' and 'copy' keyword arguments. To learn more, see the migration guide https://numpy.org/devdocs/numpy_2_0_migration_guide.html#adapting-to-changes-in-the-copy-keyword\n",
      "  tensorTest = np.array(tensorTest)\n",
      "C:\\Users\\29760\\AppData\\Local\\Temp\\ipykernel_22448\\1316924808.py:13: UserWarning: To copy construct from a tensor, it is recommended to use sourceTensor.clone().detach() or sourceTensor.clone().detach().requires_grad_(True), rather than torch.tensor(sourceTensor).\n",
      "  tensorTest = torch.tensor(tensorTest)\n"
     ]
    }
   ],
   "source": [
    "import torch; # type: ignore\n",
    "import numpy as np\n",
    "\n",
    "# 1、张量创建\n",
    "tensorTest = [[1,2], [3,4]]\n",
    "print(tensorTest)\n",
    "tensorTest = torch.tensor(tensorTest)\n",
    "print(tensorTest)\n",
    "tensorTest = np.array(tensorTest)\n",
    "print(tensorTest)\n",
    "tensorTest = torch.from_numpy(tensorTest)\n",
    "print(tensorTest)\n",
    "tensorTest = torch.tensor(tensorTest)\n",
    "print(tensorTest)\n"
   ]
  },
  {
   "cell_type": "code",
   "execution_count": 14,
   "metadata": {},
   "outputs": [
    {
     "name": "stdout",
     "output_type": "stream",
     "text": [
      "tensor([[1., 1., 1.],\n",
      "        [1., 1., 1.],\n",
      "        [1., 1., 1.]])\n",
      "tensor([[1., 1., 1.],\n",
      "        [1., 1., 1.],\n",
      "        [1., 1., 1.]])\n",
      "tensor([[0.3305, 0.6762, 0.4242],\n",
      "        [0.2223, 0.1028, 0.7142],\n",
      "        [0.9060, 0.0895, 0.2812]])\n",
      "tensor([[0.3305, 0.6762, 0.4242],\n",
      "        [0.2223, 0.1028, 0.7142],\n",
      "        [0.9060, 0.0895, 0.2812]])\n"
     ]
    }
   ],
   "source": [
    "tensorTest = torch.tensor([[1, 2, 3], [4, 5, 6], [7, 8, 9]], dtype=torch.float32)\n",
    "tensorTest = torch.ones_like(tensorTest)\n",
    "print(tensorTest)\n",
    "print(tensorTest)\n",
    "tensorTest = torch.zeros_like(tensorTest)\n",
    "tensorTest = torch.rand_like(tensorTest) # 如果tensorTest中不指定元素类型dtype=torch.float32，会提示异常：\"check_uniform_bounds\" not implemented for 'Long'\n",
    "print(tensorTest)\n",
    "print(tensorTest)"
   ]
  },
  {
   "cell_type": "code",
   "execution_count": 15,
   "metadata": {},
   "outputs": [
    {
     "name": "stdout",
     "output_type": "stream",
     "text": [
      "tensor([[0., 0., 0.],\n",
      "        [0., 0., 0.],\n",
      "        [0., 0., 0.]])\n",
      "tensor([[0., 0., 0.],\n",
      "        [0., 0., 0.],\n",
      "        [0., 0., 0.]])\n",
      "tensor([[0., 0., 0.],\n",
      "        [0., 0., 0.],\n",
      "        [0., 0., 0.]])\n"
     ]
    }
   ],
   "source": [
    "# 使⽤随机值或常量值创建张量\n",
    "shape1 = (3, 3)\n",
    "tensorTest = torch.rand(shape1)\n",
    "tensorTest = torch.ones(shape1)\n",
    "tensorTest = torch.zeros(shape1)\n",
    "print(tensorTest)\n",
    "print(tensorTest)\n",
    "print(tensorTest)"
   ]
  },
  {
   "cell_type": "code",
   "execution_count": 16,
   "metadata": {},
   "outputs": [
    {
     "name": "stdout",
     "output_type": "stream",
     "text": [
      "tensor([[0.7939, 0.1668, 0.3537],\n",
      "        [0.8758, 0.2170, 0.4810],\n",
      "        [0.1829, 0.5889, 0.1512],\n",
      "        [0.8198, 0.9878, 0.3339],\n",
      "        [0.0846, 0.8824, 0.7013]])\n",
      "tensor([[0.7939, 0.1668, 0.3537],\n",
      "        [0.8758, 0.2170, 0.4810],\n",
      "        [0.1829, 0.5889, 0.1512],\n",
      "        [0.8198, 0.9878, 0.3339],\n",
      "        [0.0846, 0.8824, 0.7013]])\n",
      "tensor([[ 1.1059, -1.2167,  0.0485],\n",
      "        [ 1.1039,  0.4125, -1.2176],\n",
      "        [ 1.6356, -0.8966, -0.0927],\n",
      "        [-0.4016,  0.2126, -0.8706],\n",
      "        [ 0.2255,  0.0947, -2.2724]])\n",
      "tensor([[ 1.1059, -1.2167,  0.0485],\n",
      "        [ 1.1039,  0.4125, -1.2176],\n",
      "        [ 1.6356, -0.8966, -0.0927],\n",
      "        [-0.4016,  0.2126, -0.8706],\n",
      "        [ 0.2255,  0.0947, -2.2724]])\n",
      "tensor([[-1.6274,  0.4158, -0.6932],\n",
      "        [-0.1416, -0.7481,  0.0848],\n",
      "        [ 0.6383, -0.1605, -1.8543],\n",
      "        [ 1.4544,  0.4875,  1.0943],\n",
      "        [-2.5213,  0.6767,  1.5254]])\n",
      "tensor([ 0.0000,  0.4762,  0.9524,  1.4286,  1.9048,  2.3810,  2.8571,  3.3333,\n",
      "         3.8095,  4.2857,  4.7619,  5.2381,  5.7143,  6.1905,  6.6667,  7.1429,\n",
      "         7.6190,  8.0952,  8.5714,  9.0476,  9.5238, 10.0000])\n"
     ]
    }
   ],
   "source": [
    "# 其他创建方法\n",
    "tensorTest = torch.rand(5,3) # 均匀分布\n",
    "tensorTest = torch.rand((5,3))\n",
    "print(tensorTest)\n",
    "print(tensorTest)\n",
    "tensorTest = torch.randn(5,3) # 标准正态分布\n",
    "tensorTest = torch.randn((5,3))\n",
    "print(tensorTest)\n",
    "print(tensorTest)\n",
    "tensorTest = torch.normal(mean=0, std=1, size=(5,3))\n",
    "print(tensorTest)\n",
    "tensorTest = torch.linspace(0, 10, steps=22) # 线性间隔向量(返回⼀个1维张量，包含在区间start和end上均匀间隔的steps个点)\n",
    "print(tensorTest)"
   ]
  },
  {
   "cell_type": "code",
   "execution_count": 17,
   "metadata": {},
   "outputs": [
    {
     "name": "stdout",
     "output_type": "stream",
     "text": [
      "tensor([[[1., 1., 1., 1., 1.],\n",
      "         [1., 1., 1., 1., 1.],\n",
      "         [1., 1., 1., 1., 1.],\n",
      "         [1., 1., 1., 1., 1.]],\n",
      "\n",
      "        [[1., 1., 1., 1., 1.],\n",
      "         [1., 1., 1., 1., 1.],\n",
      "         [1., 1., 1., 1., 1.],\n",
      "         [1., 1., 1., 1., 1.]],\n",
      "\n",
      "        [[1., 1., 1., 1., 1.],\n",
      "         [1., 1., 1., 1., 1.],\n",
      "         [1., 1., 1., 1., 1.],\n",
      "         [1., 1., 1., 1., 1.]]])\n",
      "维度： torch.Size([3, 4, 5])\n",
      "维度： torch.Size([3, 4, 5])\n",
      "元素类型： torch.float32\n",
      "存储位置： cpu\n",
      "False\n"
     ]
    }
   ],
   "source": [
    "# 2、张量的属性\n",
    "tensorTest = torch.ones((3,4,5))\n",
    "print(tensorTest)\n",
    "print(\"维度：\", tensorTest.shape)\n",
    "print(\"维度：\", tensorTest.size())\n",
    "print(\"元素类型：\", tensorTest.dtype)\n",
    "print(\"存储位置：\", tensorTest.device)\n",
    "print(torch.cuda.is_available())"
   ]
  },
  {
   "cell_type": "code",
   "execution_count": 18,
   "metadata": {},
   "outputs": [
    {
     "name": "stdout",
     "output_type": "stream",
     "text": [
      "tensor([[1., 1., 1.],\n",
      "        [1., 1., 1.]])\n",
      "torch.Size([2, 3])\n",
      "tensor([[1., 1., 1.],\n",
      "        [1., 1., 1.],\n",
      "        [1., 1., 1.],\n",
      "        [1., 1., 1.]])\n",
      "torch.Size([4, 3])\n",
      "tensor([[1., 1., 1., 1., 1., 1.],\n",
      "        [1., 1., 1., 1., 1., 1.],\n",
      "        [1., 1., 1., 1., 1., 1.],\n",
      "        [1., 1., 1., 1., 1., 1.]])\n",
      "torch.Size([4, 6])\n",
      "tensor([[1., 1., 1., 1., 1., 1.],\n",
      "        [1., 1., 1., 1., 1., 1.],\n",
      "        [1., 1., 1., 1., 1., 1.],\n",
      "        [1., 1., 1., 1., 1., 1.],\n",
      "        [1., 1., 1., 1., 1., 1.],\n",
      "        [1., 1., 1., 1., 1., 1.],\n",
      "        [1., 1., 1., 1., 1., 1.],\n",
      "        [1., 1., 1., 1., 1., 1.],\n",
      "        [1., 1., 1., 1., 1., 1.],\n",
      "        [1., 1., 1., 1., 1., 1.],\n",
      "        [1., 1., 1., 1., 1., 1.],\n",
      "        [1., 1., 1., 1., 1., 1.]])\n",
      "torch.Size([12, 6])\n"
     ]
    }
   ],
   "source": [
    "# 3、张量拼接，dim 参数指定了沿着哪个维度进行拼接\n",
    "tensorTest = torch.ones(2, 3)\n",
    "print(tensorTest)\n",
    "print(tensorTest.shape)\n",
    "tensorTest = torch.cat([tensorTest, tensorTest], dim=0)\n",
    "print(tensorTest)\n",
    "print(tensorTest.shape)\n",
    "tensorTest = torch.cat([tensorTest, tensorTest], dim=1)\n",
    "print(tensorTest)\n",
    "print(tensorTest.shape)\n",
    "tensorTest = torch.cat([tensorTest, tensorTest, tensorTest], dim=0)\n",
    "print(tensorTest)\n",
    "print(tensorTest.shape)\n"
   ]
  },
  {
   "cell_type": "code",
   "execution_count": 19,
   "metadata": {},
   "outputs": [
    {
     "name": "stdout",
     "output_type": "stream",
     "text": [
      "tensor([[[1., 1., 1., 1.],\n",
      "         [1., 1., 1., 1.],\n",
      "         [1., 1., 1., 1.]],\n",
      "\n",
      "        [[1., 1., 1., 1.],\n",
      "         [1., 1., 1., 1.],\n",
      "         [1., 1., 1., 1.]]])\n",
      "torch.Size([2, 3, 4])\n",
      "tensor([[[1., 1., 1., 1.],\n",
      "         [1., 1., 1., 1.],\n",
      "         [1., 1., 1., 1.]],\n",
      "\n",
      "        [[1., 1., 1., 1.],\n",
      "         [1., 1., 1., 1.],\n",
      "         [1., 1., 1., 1.]],\n",
      "\n",
      "        [[1., 1., 1., 1.],\n",
      "         [1., 1., 1., 1.],\n",
      "         [1., 1., 1., 1.]],\n",
      "\n",
      "        [[1., 1., 1., 1.],\n",
      "         [1., 1., 1., 1.],\n",
      "         [1., 1., 1., 1.]]])\n",
      "torch.Size([4, 3, 4])\n",
      "tensor([[[1., 1., 1., 1.],\n",
      "         [1., 1., 1., 1.],\n",
      "         [1., 1., 1., 1.],\n",
      "         [1., 1., 1., 1.],\n",
      "         [1., 1., 1., 1.],\n",
      "         [1., 1., 1., 1.]],\n",
      "\n",
      "        [[1., 1., 1., 1.],\n",
      "         [1., 1., 1., 1.],\n",
      "         [1., 1., 1., 1.],\n",
      "         [1., 1., 1., 1.],\n",
      "         [1., 1., 1., 1.],\n",
      "         [1., 1., 1., 1.]],\n",
      "\n",
      "        [[1., 1., 1., 1.],\n",
      "         [1., 1., 1., 1.],\n",
      "         [1., 1., 1., 1.],\n",
      "         [1., 1., 1., 1.],\n",
      "         [1., 1., 1., 1.],\n",
      "         [1., 1., 1., 1.]],\n",
      "\n",
      "        [[1., 1., 1., 1.],\n",
      "         [1., 1., 1., 1.],\n",
      "         [1., 1., 1., 1.],\n",
      "         [1., 1., 1., 1.],\n",
      "         [1., 1., 1., 1.],\n",
      "         [1., 1., 1., 1.]]])\n",
      "torch.Size([4, 6, 4])\n"
     ]
    }
   ],
   "source": [
    "tensorTest = torch.ones(2, 3, 4)\n",
    "print(tensorTest)\n",
    "print(tensorTest.shape)\n",
    "tensorTest = torch.cat([tensorTest, tensorTest], dim=0)\n",
    "print(tensorTest)\n",
    "print(tensorTest.shape)\n",
    "tensorTest = torch.cat([tensorTest, tensorTest], dim=1)\n",
    "print(tensorTest)\n",
    "print(tensorTest.shape)"
   ]
  },
  {
   "cell_type": "code",
   "execution_count": 20,
   "metadata": {},
   "outputs": [
    {
     "name": "stdout",
     "output_type": "stream",
     "text": [
      "tensor([[1., 2., 3.],\n",
      "        [4., 5., 6.],\n",
      "        [7., 8., 9.]])\n",
      "tensor([[1., 1., 1.],\n",
      "        [1., 1., 1.],\n",
      "        [1., 1., 1.]])\n",
      "tensor([[3., 3., 3.],\n",
      "        [3., 3., 3.],\n",
      "        [3., 3., 3.]])\n",
      "tensor([[3., 3., 3.],\n",
      "        [3., 3., 3.],\n",
      "        [3., 3., 3.]])\n",
      "tensor([[3., 3., 3.],\n",
      "        [3., 3., 3.],\n",
      "        [3., 3., 3.]])\n",
      "tensor([[3., 3., 3.],\n",
      "        [3., 3., 3.],\n",
      "        [3., 3., 3.]])\n",
      "tensor([[1., 1., 1.],\n",
      "        [1., 1., 1.],\n",
      "        [1., 1., 1.]])\n"
     ]
    }
   ],
   "source": [
    "# 4、张量算数运算\n",
    "# 点乘\n",
    "tensorTest = torch.tensor([[1, 2, 3], [4, 5, 6], [7, 8, 9]], dtype=torch.float32)\n",
    "print(tensorTest)\n",
    "tensorTest = torch.ones(3,3)\n",
    "print(tensorTest)\n",
    "r1 = tensorTest @ tensorTest\n",
    "r2 = tensorTest.matmul(tensorTest)\n",
    "r3 = torch.matmul(tensorTest, tensorTest)\n",
    "r4 = torch.ones(3,3)\n",
    "torch.matmul(tensorTest, tensorTest, out=r4)\n",
    "print(r1)\n",
    "print(r2)\n",
    "print(r3)\n",
    "print(r4)\n",
    "print(tensorTest.T)"
   ]
  },
  {
   "cell_type": "code",
   "execution_count": 21,
   "metadata": {},
   "outputs": [
    {
     "name": "stdout",
     "output_type": "stream",
     "text": [
      "tensor([[1., 2., 3.],\n",
      "        [4., 5., 6.],\n",
      "        [7., 8., 9.]])\n",
      "tensor([[1., 0., 0.],\n",
      "        [0., 1., 0.],\n",
      "        [0., 0., 1.]])\n",
      "tensor([[1., 0., 0.],\n",
      "        [0., 5., 0.],\n",
      "        [0., 0., 9.]])\n",
      "tensor([[1., 0., 0.],\n",
      "        [0., 5., 0.],\n",
      "        [0., 0., 9.]])\n",
      "tensor([[1., 0., 0.],\n",
      "        [0., 5., 0.],\n",
      "        [0., 0., 9.]])\n"
     ]
    }
   ],
   "source": [
    "# 叉乘\n",
    "tensorTest1 = torch.tensor([[1, 2, 3], [4, 5, 6], [7, 8, 9]], dtype=torch.float32)\n",
    "print(tensorTest1)\n",
    "tensorTest2 = torch.eye(3,3)\n",
    "print(tensorTest2)\n",
    "r1 = tensorTest1 * tensorTest2\n",
    "r2 = tensorTest1.mul(tensorTest2)\n",
    "r3 = torch.mul(tensorTest1, tensorTest2)\n",
    "print(r1)\n",
    "print(r2)\n",
    "print(r3)"
   ]
  },
  {
   "cell_type": "code",
   "execution_count": 22,
   "metadata": {},
   "outputs": [
    {
     "name": "stdout",
     "output_type": "stream",
     "text": [
      "tensor(45.) <class 'torch.Tensor'>\n",
      "45.0 <class 'float'>\n"
     ]
    }
   ],
   "source": [
    "# 转换为python数值\n",
    "tensorTest = torch.tensor([[1, 2, 3], [4, 5, 6], [7, 8, 9]], dtype=torch.float32)\n",
    "s = tensorTest.sum()\n",
    "i = s.item()\n",
    "print(s, type(s))\n",
    "print(i, type(i))"
   ]
  },
  {
   "cell_type": "code",
   "execution_count": 23,
   "metadata": {},
   "outputs": [
    {
     "name": "stdout",
     "output_type": "stream",
     "text": [
      "tensor([[1., 1., 1.],\n",
      "        [1., 1., 1.],\n",
      "        [1., 1., 1.]])\n",
      "tensor([[1., 1., 1.],\n",
      "        [1., 1., 1.],\n",
      "        [1., 1., 1.]])\n",
      "tensor([[4., 4., 4.],\n",
      "        [4., 4., 4.],\n",
      "        [4., 4., 4.]])\n"
     ]
    }
   ],
   "source": [
    "# in-place操作\n",
    "tensorTest = torch.ones(3,3)\n",
    "print(tensorTest)\n",
    "tensorTest.add(3)\n",
    "print(tensorTest)\n",
    "tensorTest.add_(3)\n",
    "print(tensorTest) # in-place操作，直接在原对象上修改"
   ]
  },
  {
   "cell_type": "code",
   "execution_count": 24,
   "metadata": {},
   "outputs": [
    {
     "name": "stdout",
     "output_type": "stream",
     "text": [
      "tensor([[ 0.6419,  0.4156, -1.1987,  1.3588, -0.7087, -0.1228,  0.2634,  1.3743,\n",
      "          1.2352,  1.1777],\n",
      "        [ 1.8671,  1.0672, -0.2352,  1.2464, -0.4567,  1.5838, -2.8774,  1.5527,\n",
      "         -0.7481, -0.5145],\n",
      "        [-0.9668, -1.1937,  1.0413,  1.1937,  0.6765,  0.9360, -0.2362,  0.7363,\n",
      "          0.0455, -0.7008],\n",
      "        [ 0.4648,  1.3149,  0.8614, -0.9764,  1.4870,  1.9549, -0.5637,  0.2848,\n",
      "         -0.4398,  0.0719],\n",
      "        [-0.5819,  0.8575,  0.0514,  1.7167, -0.1593, -1.9993,  0.2463,  0.2509,\n",
      "          0.4617, -0.6696],\n",
      "        [ 1.0920, -0.7440,  0.3390,  0.1093, -0.9507,  0.9897,  0.6069,  1.5570,\n",
      "          0.6824, -0.1009],\n",
      "        [-2.2575, -0.4461, -0.5536, -1.1595, -0.0620, -0.6834,  0.1444,  0.8909,\n",
      "         -0.2175,  0.5755],\n",
      "        [ 0.8596, -2.1230, -0.9950, -0.6791,  0.2569,  0.5144,  1.7620,  0.9004,\n",
      "          1.2510, -2.4118],\n",
      "        [ 0.7537, -1.0866, -0.5311, -0.6070, -0.0639, -1.4760,  0.3211,  0.7172,\n",
      "          0.7402,  0.7873],\n",
      "        [ 1.6821, -0.6671, -1.5861,  0.9268,  0.1074,  1.1025,  0.8114,  0.9451,\n",
      "         -0.9213, -1.7318]], requires_grad=True)\n",
      "tensor([ 0.4291, -1.1447, -0.2709,  0.5951, -1.4498,  1.2104,  0.4522, -1.4442,\n",
      "        -0.6490,  1.3097], requires_grad=True)\n",
      "tensor([0.3912], requires_grad=True)\n",
      "tensor([-1.5672,  0.0029,  1.3017,  0.9311, -0.5689,  1.5094,  0.8470,  0.2471,\n",
      "         0.0740, -0.2431], requires_grad=True)\n",
      "tensor([ 1.5143,  0.8261,  7.3907,  3.3635,  2.3487,  4.0663,  3.1552,  1.9715,\n",
      "        -2.0914,  1.2652], grad_fn=<AddBackward0>)\n"
     ]
    },
    {
     "data": {
      "text/plain": [
       "'expression.png'"
      ]
     },
     "execution_count": 24,
     "metadata": {},
     "output_type": "execute_result"
    }
   ],
   "source": [
    "# 5、计算图，先安装torchviz：pip install torchviz\n",
    "from torchviz import make_dot\n",
    "A = torch.randn(10, 10,requires_grad=True)\n",
    "b = torch.randn(10,requires_grad=True)\n",
    "c = torch.randn(1,requires_grad=True)\n",
    "x = torch.randn(10, requires_grad=True)\n",
    "print(A)\n",
    "print(b)\n",
    "print(c)\n",
    "print(x)\n",
    "\n",
    "result = torch.matmul(A, x.T) + torch.matmul(b, x) + c\n",
    "print(result)\n",
    "# ⽣成计算图节点\n",
    "dot = make_dot(result, params={'数据A': A, '数据b': b, '数据c': c, 'x': x})\n",
    "# 绘制计算图\n",
    "# 报错：ExecutableNotFound: failed to execute WindowsPath('dot')。解决：conda install graphviz\n",
    "dot.render('expression', format='png', cleanup=True, view=False)"
   ]
  }
 ],
 "metadata": {
  "kernelspec": {
   "display_name": "py312",
   "language": "python",
   "name": "python3"
  },
  "language_info": {
   "codemirror_mode": {
    "name": "ipython",
    "version": 3
   },
   "file_extension": ".py",
   "mimetype": "text/x-python",
   "name": "python",
   "nbconvert_exporter": "python",
   "pygments_lexer": "ipython3",
   "version": "3.12.9"
  }
 },
 "nbformat": 4,
 "nbformat_minor": 2
}

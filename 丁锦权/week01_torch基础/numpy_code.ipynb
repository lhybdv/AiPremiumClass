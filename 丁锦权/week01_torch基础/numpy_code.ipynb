{
 "cells": [
  {
   "cell_type": "code",
   "execution_count": 1,
   "metadata": {},
   "outputs": [
    {
     "data": {
      "text/plain": [
       "array([1, 2, 3, 4])"
      ]
     },
     "execution_count": 1,
     "metadata": {},
     "output_type": "execute_result"
    }
   ],
   "source": [
    "import numpy as np\n",
    "# 1、numpy数组: Ndarray\n",
    "# 1.1、基础数组创建\n",
    "a1 = [1 ,2 ,3, 4]\n",
    "matrix = np.array(a1)\n",
    "matrix"
   ]
  },
  {
   "cell_type": "code",
   "execution_count": 2,
   "metadata": {},
   "outputs": [
    {
     "data": {
      "text/plain": [
       "array([1, 5, 6])"
      ]
     },
     "execution_count": 2,
     "metadata": {},
     "output_type": "execute_result"
    }
   ],
   "source": [
    "matrix = np.array(a1, float)\n",
    "matrix\n",
    "matrix = np.array([1, 5, 6])\n",
    "matrix"
   ]
  },
  {
   "cell_type": "code",
   "execution_count": 3,
   "metadata": {},
   "outputs": [
    {
     "name": "stdout",
     "output_type": "stream",
     "text": [
      "[[1 2 3]\n",
      " [4 5 6]\n",
      " [7 8 9]]\n"
     ]
    }
   ],
   "source": [
    "matrix = np.array([(1,2,3), (4,5,6), (7,8,9)])\n",
    "print(matrix)"
   ]
  },
  {
   "cell_type": "code",
   "execution_count": 4,
   "metadata": {},
   "outputs": [
    {
     "name": "stdout",
     "output_type": "stream",
     "text": [
      "matrix: [[0. 0. 0. 0.]\n",
      " [0. 0. 0. 0.]]\n",
      "matrix: [[0. 0. 0.]\n",
      " [0. 0. 0.]\n",
      " [0. 0. 0.]]\n",
      "float64\n"
     ]
    }
   ],
   "source": [
    "# 1.2、特殊数组创建\n",
    "matrix = np.zeros((2,4), dtype=float)\n",
    "print(\"matrix:\",matrix)\n",
    "matrix = np.zeros((3,3))\n",
    "print(\"matrix:\",matrix)\n",
    "print(matrix.dtype)"
   ]
  },
  {
   "cell_type": "code",
   "execution_count": 5,
   "metadata": {},
   "outputs": [
    {
     "name": "stdout",
     "output_type": "stream",
     "text": [
      "[[1. 1. 1.]\n",
      " [1. 1. 1.]\n",
      " [1. 1. 1.]]\n",
      "[[[1. 1. 1. 1. 1.]\n",
      "  [1. 1. 1. 1. 1.]\n",
      "  [1. 1. 1. 1. 1.]\n",
      "  [1. 1. 1. 1. 1.]]\n",
      "\n",
      " [[1. 1. 1. 1. 1.]\n",
      "  [1. 1. 1. 1. 1.]\n",
      "  [1. 1. 1. 1. 1.]\n",
      "  [1. 1. 1. 1. 1.]]\n",
      "\n",
      " [[1. 1. 1. 1. 1.]\n",
      "  [1. 1. 1. 1. 1.]\n",
      "  [1. 1. 1. 1. 1.]\n",
      "  [1. 1. 1. 1. 1.]]]\n"
     ]
    }
   ],
   "source": [
    "matrix = np.ones((3,3))\n",
    "print(matrix)\n",
    "matrix = np.ones((3,4,5))\n",
    "print(matrix)"
   ]
  },
  {
   "cell_type": "code",
   "execution_count": 6,
   "metadata": {},
   "outputs": [
    {
     "name": "stdout",
     "output_type": "stream",
     "text": [
      "[1.  1.3 1.6 1.9 2.2 2.5 2.8]\n",
      "float64\n",
      "[1 3 5 7]\n",
      "int64\n"
     ]
    }
   ],
   "source": [
    "matrix = np.arange(1, 3, 0.3)\n",
    "print(matrix)\n",
    "print(matrix.dtype)\n",
    "matrix = np.arange(1, 8, 2)\n",
    "print(matrix)\n",
    "print(matrix.dtype)"
   ]
  },
  {
   "cell_type": "code",
   "execution_count": 7,
   "metadata": {},
   "outputs": [
    {
     "name": "stdout",
     "output_type": "stream",
     "text": [
      "[[1. 0.]\n",
      " [0. 1.]]\n",
      "[[1. 0. 0.]\n",
      " [0. 1. 0.]\n",
      " [0. 0. 1.]]\n",
      "[[0. 1. 0. 0. 0.]\n",
      " [0. 0. 1. 0. 0.]\n",
      " [0. 0. 0. 1. 0.]]\n"
     ]
    }
   ],
   "source": [
    "# 创建单位矩阵\n",
    "matrix = np.eye(2)\n",
    "print(matrix)\n",
    "matrix = np.eye(3)\n",
    "print(matrix)\n",
    "# 创建一个 3×5 的矩阵，对角线偏移量为 1\n",
    "matrix = np.eye(3, 5, k=1)\n",
    "print(matrix)"
   ]
  },
  {
   "cell_type": "code",
   "execution_count": null,
   "metadata": {},
   "outputs": [],
   "source": []
  },
  {
   "cell_type": "code",
   "execution_count": 8,
   "metadata": {},
   "outputs": [
    {
     "name": "stdout",
     "output_type": "stream",
     "text": [
      "[0.48187832 0.86806287 0.59371934 0.90413937 0.72751069 0.01372851\n",
      " 0.12033351]\n",
      "[-0.0077943  -0.03422957 -0.03381059 -0.1075318  -0.09025589 -0.10664199\n",
      " -0.06219685]\n",
      "[10.78495356  8.23121864 11.2959726   9.10654054  9.81174985 11.36104465\n",
      " 12.2355545 ]\n"
     ]
    }
   ],
   "source": [
    "matrix = np.random.random(7)\n",
    "print(matrix)\n",
    "# ⽣成指定⻓度，符合正态分布的随机数组，指定其均值为 0，标准差为 0.1\n",
    "matrix = np.random.normal(0, 0.1, 7)\n",
    "print(matrix)\n",
    "matrix = np.random.normal(10, 2, 7)\n",
    "print(matrix)"
   ]
  },
  {
   "cell_type": "code",
   "execution_count": 9,
   "metadata": {},
   "outputs": [
    {
     "name": "stdout",
     "output_type": "stream",
     "text": [
      "[1 2 3]\n",
      "2\n",
      "[[4 5 6]\n",
      " [7 8 9]]\n",
      "[[4]\n",
      " [7]]\n",
      "[[5 6]\n",
      " [8 9]]\n"
     ]
    }
   ],
   "source": [
    "# 1.3、数组访问\n",
    "matrix = np.array([[1, 2, 3], [4, 5, 6], [7, 8, 9]])\n",
    "print(matrix[0])\n",
    "print(matrix[0][1])\n",
    "print(matrix[1:])\n",
    "print(matrix[1:, :1])\n",
    "print(matrix[1:, 1:])"
   ]
  },
  {
   "cell_type": "code",
   "execution_count": 10,
   "metadata": {},
   "outputs": [
    {
     "name": "stdout",
     "output_type": "stream",
     "text": [
      "1 - 2 - 3\n",
      "4 - 5 - 6\n",
      "7 - 8 - 9\n"
     ]
    }
   ],
   "source": [
    "# 1.4、数据遍历\n",
    "matrix = np.array([[1,2,3],[4,5,6],[7,8,9]])\n",
    "for i,j,k in matrix:\n",
    "    print(i,\"-\",j,\"-\",k)"
   ]
  },
  {
   "cell_type": "code",
   "execution_count": 11,
   "metadata": {},
   "outputs": [
    {
     "name": "stdout",
     "output_type": "stream",
     "text": [
      "[[[1. 1. 1. 1. 1.]\n",
      "  [1. 1. 1. 1. 1.]\n",
      "  [1. 1. 1. 1. 1.]\n",
      "  [1. 1. 1. 1. 1.]]\n",
      "\n",
      " [[1. 1. 1. 1. 1.]\n",
      "  [1. 1. 1. 1. 1.]\n",
      "  [1. 1. 1. 1. 1.]\n",
      "  [1. 1. 1. 1. 1.]]]\n",
      "数组的维度（数组轴的个数），等于秩： 3\n",
      "数组的⼤⼩： (2, 4, 5)\n",
      "数组元素的总个数，等于 shape 属性中元组元素的乘积： 40\n",
      "元素类型： float64\n"
     ]
    }
   ],
   "source": [
    "# 1.5、数组常用属性\n",
    "matrix = np.ones((2,4,5))\n",
    "print(matrix)\n",
    "print(\"数组的维度（数组轴的个数），等于秩：\", matrix.ndim)\n",
    "print(\"数组的⼤⼩：\", matrix.shape)\n",
    "print(\"数组元素的总个数，等于 shape 属性中元组元素的乘积：\", matrix.size)\n",
    "print(\"元素类型：\", matrix.dtype)"
   ]
  },
  {
   "cell_type": "code",
   "execution_count": 12,
   "metadata": {},
   "outputs": [
    {
     "name": "stdout",
     "output_type": "stream",
     "text": [
      "[[1 2 3]\n",
      " [4 5 6]\n",
      " [7 8 9]]\n",
      "True\n",
      "True\n",
      "False\n",
      "True\n"
     ]
    }
   ],
   "source": [
    "# 1.6、数组的基本操作\n",
    "matrix = np.array([[1,2,3],[4,5,6],[7,8,9]])\n",
    "print(matrix)\n",
    "print(1 in matrix)\n",
    "# print((1,2) in matrix) # 报错：operands could not be broadcast together with shapes (3,3) (2,)\n",
    "print((11,22,3) in matrix)\n",
    "print((11,22,33) in matrix)\n",
    "print([1,2,3] in matrix)"
   ]
  },
  {
   "cell_type": "code",
   "execution_count": 13,
   "metadata": {},
   "outputs": [
    {
     "name": "stdout",
     "output_type": "stream",
     "text": [
      "[[[1. 1. 1. 1. 1.]\n",
      "  [1. 1. 1. 1. 1.]\n",
      "  [1. 1. 1. 1. 1.]\n",
      "  [1. 1. 1. 1. 1.]]\n",
      "\n",
      " [[1. 1. 1. 1. 1.]\n",
      "  [1. 1. 1. 1. 1.]\n",
      "  [1. 1. 1. 1. 1.]\n",
      "  [1. 1. 1. 1. 1.]]\n",
      "\n",
      " [[1. 1. 1. 1. 1.]\n",
      "  [1. 1. 1. 1. 1.]\n",
      "  [1. 1. 1. 1. 1.]\n",
      "  [1. 1. 1. 1. 1.]]]\n",
      "matrix= [[1. 1. 1. 1. 1. 1. 1. 1. 1. 1. 1. 1. 1. 1. 1. 1. 1. 1. 1. 1.]\n",
      " [1. 1. 1. 1. 1. 1. 1. 1. 1. 1. 1. 1. 1. 1. 1. 1. 1. 1. 1. 1.]\n",
      " [1. 1. 1. 1. 1. 1. 1. 1. 1. 1. 1. 1. 1. 1. 1. 1. 1. 1. 1. 1.]]\n",
      "matrix= [[[1. 1. 1.]\n",
      "  [1. 1. 1.]\n",
      "  [1. 1. 1.]\n",
      "  [1. 1. 1.]]\n",
      "\n",
      " [[1. 1. 1.]\n",
      "  [1. 1. 1.]\n",
      "  [1. 1. 1.]\n",
      "  [1. 1. 1.]]\n",
      "\n",
      " [[1. 1. 1.]\n",
      "  [1. 1. 1.]\n",
      "  [1. 1. 1.]\n",
      "  [1. 1. 1.]]\n",
      "\n",
      " [[1. 1. 1.]\n",
      "  [1. 1. 1.]\n",
      "  [1. 1. 1.]\n",
      "  [1. 1. 1.]]\n",
      "\n",
      " [[1. 1. 1.]\n",
      "  [1. 1. 1.]\n",
      "  [1. 1. 1.]\n",
      "  [1. 1. 1.]]]\n",
      "matrix= [1. 1. 1. 1. 1. 1. 1. 1. 1. 1. 1. 1. 1. 1. 1. 1. 1. 1. 1. 1. 1. 1. 1. 1.\n",
      " 1. 1. 1. 1. 1. 1. 1. 1. 1. 1. 1. 1. 1. 1. 1. 1. 1. 1. 1. 1. 1. 1. 1. 1.\n",
      " 1. 1. 1. 1. 1. 1. 1. 1. 1. 1. 1. 1.]\n"
     ]
    }
   ],
   "source": [
    "matrix = np.ones((3,4,5))\n",
    "print(matrix)\n",
    "# 元素数需保持一致\n",
    "matrix = matrix.reshape(3,20)\n",
    "print(\"matrix=\", matrix)\n",
    "matrix = matrix.reshape(5, 4, 3)\n",
    "print(\"matrix=\", matrix)\n",
    "matrix = matrix.reshape(3*4*5)\n",
    "print(\"matrix=\", matrix)\n"
   ]
  },
  {
   "cell_type": "code",
   "execution_count": 14,
   "metadata": {},
   "outputs": [
    {
     "name": "stdout",
     "output_type": "stream",
     "text": [
      "[[1. 1. 1.]\n",
      " [1. 1. 1.]]\n",
      "[[1. 1. 1.]\n",
      " [1. 1. 1.]]\n",
      "[[1. 1.]\n",
      " [1. 1.]\n",
      " [1. 1.]]\n",
      "matrix= [[[1. 1. 1. 1.]\n",
      "  [1. 1. 1. 1.]\n",
      "  [1. 1. 1. 1.]]\n",
      "\n",
      " [[1. 1. 1. 1.]\n",
      "  [1. 1. 1. 1.]\n",
      "  [1. 1. 1. 1.]]]\n",
      "(2, 3, 4)\n",
      "matrix.T= [[[1. 1.]\n",
      "  [1. 1.]\n",
      "  [1. 1.]]\n",
      "\n",
      " [[1. 1.]\n",
      "  [1. 1.]\n",
      "  [1. 1.]]\n",
      "\n",
      " [[1. 1.]\n",
      "  [1. 1.]\n",
      "  [1. 1.]]\n",
      "\n",
      " [[1. 1.]\n",
      "  [1. 1.]\n",
      "  [1. 1.]]]\n",
      "(4, 3, 2)\n"
     ]
    }
   ],
   "source": [
    "matrix = np.ones((2,3))\n",
    "print(matrix)\n",
    "matrix.transpose()\n",
    "print(matrix)\n",
    "matrix = matrix.transpose()\n",
    "print(matrix)\n",
    "matrix = np.ones((2,3,4))\n",
    "print(\"matrix=\", matrix)\n",
    "print(matrix.shape)\n",
    "matrix = matrix.T\n",
    "print(\"matrix.T=\", matrix)\n",
    "print(matrix.shape)"
   ]
  },
  {
   "cell_type": "code",
   "execution_count": 15,
   "metadata": {},
   "outputs": [
    {
     "name": "stdout",
     "output_type": "stream",
     "text": [
      "[[1. 1. 1. 1.]\n",
      " [1. 1. 1. 1.]\n",
      " [1. 1. 1. 1.]]\n",
      "[[1. 1. 1. 1.]\n",
      " [1. 1. 1. 1.]\n",
      " [1. 1. 1. 1.]]\n",
      "[1. 1. 1. 1. 1. 1. 1. 1. 1. 1. 1. 1.]\n"
     ]
    }
   ],
   "source": [
    "matrix = np.ones((3,4))\n",
    "print(matrix)\n",
    "matrix.flatten()\n",
    "print(matrix)\n",
    "matrix = matrix.flatten()\n",
    "print(matrix)"
   ]
  },
  {
   "cell_type": "code",
   "execution_count": 16,
   "metadata": {},
   "outputs": [
    {
     "name": "stdout",
     "output_type": "stream",
     "text": [
      "[1 2 3 4]\n",
      "在开头添加新轴:\n",
      " [[1 2 3 4]]\n",
      "新形状: (1, 4)\n",
      "[[1. 1. 1.]\n",
      " [1. 1. 1.]]\n",
      "(2, 3)\n",
      "新形状:\n",
      " [[[1. 1. 1.]]\n",
      "\n",
      " [[1. 1. 1.]]]\n",
      "(2, 1, 3)\n",
      "新形状:\n",
      " [[[[1. 1. 1.]]]\n",
      "\n",
      "\n",
      " [[[1. 1. 1.]]]]\n",
      "(2, 1, 1, 3)\n",
      "[[[[[1. 1. 1.]]]\n",
      "\n",
      "\n",
      "  [[[1. 1. 1.]]]]]\n",
      "(1, 2, 1, 1, 3)\n",
      "[[1. 1. 1.]]\n"
     ]
    }
   ],
   "source": [
    "# 增加维度\n",
    "# 在开头添加新轴\n",
    "arr = np.array([1, 2, 3, 4])\n",
    "print(arr)\n",
    "arr_2d = arr[np.newaxis, :]\n",
    "print(\"在开头添加新轴:\\n\", arr_2d)\n",
    "print(\"新形状:\", arr_2d.shape)\n",
    "matrix = np.ones((2,3))\n",
    "print(matrix)\n",
    "print(matrix.shape)\n",
    "matrix = matrix[:,np.newaxis]\n",
    "print(\"新形状:\\n\",matrix)\n",
    "print(matrix.shape)\n",
    "matrix = matrix[:,:,np.newaxis]\n",
    "print(\"新形状:\\n\",matrix)\n",
    "print(matrix.shape)\n",
    "matrix = matrix[np.newaxis]\n",
    "print(matrix)\n",
    "print(matrix.shape)\n",
    "print(matrix[0][0][0])"
   ]
  },
  {
   "cell_type": "code",
   "execution_count": 17,
   "metadata": {},
   "outputs": [
    {
     "name": "stdout",
     "output_type": "stream",
     "text": [
      "[[-1  1]\n",
      " [-1  1]]\n",
      "[[-1  1]\n",
      " [-1  1]]\n",
      "[[-2  2]\n",
      " [-2  2]]\n",
      "[[0 0]\n",
      " [0 0]]\n",
      "[[1 1]\n",
      " [1 1]]\n",
      "[[1. 1.]\n",
      " [1. 1.]]\n",
      "\n",
      "[[-1  1]\n",
      " [-1  1]]\n",
      "[[-1  1]\n",
      " [-1  1]]\n",
      "元素求和 0\n",
      "元素求积 1\n"
     ]
    }
   ],
   "source": [
    "# 1.7、数组的数学操作\n",
    "matrix = np.array([(1,2),(3,4)])\n",
    "matrix = np.array([(-1,1),(-1,1)])\n",
    "print(matrix)\n",
    "print(matrix)\n",
    "print(matrix + matrix)\n",
    "print(matrix - matrix)\n",
    "print(matrix * matrix)\n",
    "print(matrix / matrix)\n",
    "print()\n",
    "matrix = np.array([(1,2,5),(3,4,7)])\n",
    "matrix = np.array([(-1,1),(-1,1)])\n",
    "print(matrix)\n",
    "print(matrix)\n",
    "# print(matrix + matrix) # 报错：operands could not be broadcast together with shapes (2,3) (2,2)\n",
    "print(\"元素求和\", matrix.sum())\n",
    "print(\"元素求积\", matrix.prod())"
   ]
  },
  {
   "cell_type": "code",
   "execution_count": 18,
   "metadata": {},
   "outputs": [
    {
     "name": "stdout",
     "output_type": "stream",
     "text": [
      "[[1.1 2.2 3.3]\n",
      " [4.4 5.5 6.6]]\n",
      "平均数： 3.85\n",
      "方差： 3.5291666666666663\n",
      "标准差： 1.8786076404259262\n",
      "最大值： 6.6\n",
      "最小值： 1.1\n",
      "最大值索引： 5\n",
      "最小值索引： 0\n",
      "元素值上限 [[2. 3. 4.]\n",
      " [5. 6. 7.]]\n",
      "元素值下限 [[2. 3. 4.]\n",
      " [5. 6. 7.]]\n",
      "元素值四舍五入 [[2. 3. 4.]\n",
      " [5. 6. 7.]]\n"
     ]
    }
   ],
   "source": [
    "matrix = np.array([[1.1, 2.2, 3.3], [4.4, 5.5, 6.6]])\n",
    "print(matrix)\n",
    "print(\"平均数：\", matrix.mean())\n",
    "print(\"方差：\", matrix.var())\n",
    "print(\"标准差：\", matrix.std())\n",
    "print(\"最大值：\", matrix.max())\n",
    "print(\"最小值：\", matrix.min())\n",
    "print(\"最大值索引：\", matrix.argmax())\n",
    "print(\"最小值索引：\", matrix.argmin())\n",
    "matrix = np.ceil(matrix)\n",
    "print(\"元素值上限\", matrix)\n",
    "matrix = np.floor(matrix)\n",
    "print(\"元素值下限\", matrix)\n",
    "matrix = np.rint(matrix)\n",
    "print(\"元素值四舍五入\", matrix)"
   ]
  },
  {
   "cell_type": "code",
   "execution_count": 19,
   "metadata": {},
   "outputs": [
    {
     "name": "stdout",
     "output_type": "stream",
     "text": [
      "[[7.2 3.3 1.1]\n",
      " [6.6 4.4 5.5]]\n",
      "[[1.1 3.3 7.2]\n",
      " [4.4 5.5 6.6]]\n",
      "[[1.1 3.3 6.6]\n",
      " [4.4 5.5 7.2]]\n"
     ]
    }
   ],
   "source": [
    "matrix = np.array([[7.2, 3.3, 1.1], [6.6, 4.4, 5.5]])\n",
    "print(matrix)\n",
    "matrix.sort()\n",
    "print(matrix) # 原数组发生变化\n",
    "matrix.sort(axis=0)\n",
    "print(matrix)"
   ]
  },
  {
   "cell_type": "code",
   "execution_count": 20,
   "metadata": {},
   "outputs": [
    {
     "name": "stdout",
     "output_type": "stream",
     "text": [
      "[[19 22]\n",
      " [43 50]]\n",
      "[[19 22]\n",
      " [43 50]]\n",
      "点乘：数组 a 的最后⼀维上的所有元素与数组 b 的倒数第⼆位上的所有元素的乘积和\n",
      "(2, 3)\n",
      "(3, 2)\n",
      "[[ 64  72]\n",
      " [ 88 100]]\n",
      "[[ 64  72]\n",
      " [ 88 100]]\n"
     ]
    }
   ],
   "source": [
    "# 1.8、线性代数：numpy.linalg\n",
    "m1 = np.array([[1, 2], [3, 4]])\n",
    "m2 = np.array([[5, 6], [7, 8]])\n",
    "r1 = np.dot(m1, m2)\n",
    "r2 = m1 @ m2\n",
    "print(r1)\n",
    "print(r2)\n",
    "print(\"点乘：数组 a 的最后⼀维上的所有元素与数组 b 的倒数第⼆位上的所有元素的乘积和\")\n",
    "m1 = np.array([[1, 2, 5], [3, 4, 5]])\n",
    "m2 = np.array([[5, 6], [7, 8], [9, 10]])\n",
    "print(m1.shape)\n",
    "print(m2.shape)\n",
    "r1 = np.dot(m1, m2)\n",
    "r2 = m1 @ m2\n",
    "print(r1)\n",
    "print(r2)"
   ]
  },
  {
   "cell_type": "code",
   "execution_count": 21,
   "metadata": {},
   "outputs": [
    {
     "name": "stdout",
     "output_type": "stream",
     "text": [
      "EigResult(eigenvalues=array([-0.37228132,  5.37228132]), eigenvectors=array([[-0.82456484, -0.41597356],\n",
      "       [ 0.56576746, -0.90937671]]))\n"
     ]
    }
   ],
   "source": [
    "m1 = np.array([[1, 2], [3, 4]])\n",
    "m2 = np.array([[5, 6], [7, 8], [9, 10]])\n",
    "# 特征值\n",
    "r1 = np.linalg.eig(m1)\n",
    "print(r1)"
   ]
  },
  {
   "cell_type": "code",
   "execution_count": 22,
   "metadata": {},
   "outputs": [
    {
     "name": "stdout",
     "output_type": "stream",
     "text": [
      "[[ 30  36  42]\n",
      " [ 66  81  96]\n",
      " [102 126 150]]\n",
      "[[ 30  36  42]\n",
      " [ 66  81  96]\n",
      " [102 126 150]]\n"
     ]
    }
   ],
   "source": [
    "# 2、文件操作\n",
    "m = np.array([[1, 2, 3], [4, 5, 6], [7, 8, 9]])\n",
    "r = m @ m\n",
    "print(r)\n",
    "np.save('test.npy', r)\n",
    "r1 = np.load('test.npy')\n",
    "print(r1)"
   ]
  },
  {
   "cell_type": "code",
   "execution_count": 23,
   "metadata": {},
   "outputs": [
    {
     "name": "stdout",
     "output_type": "stream",
     "text": [
      "[[0 3]\n",
      " [1 3]\n",
      " [2 4]\n",
      " [3 5]]\n",
      "(2, 3)\n",
      "(3,)\n",
      "[[0 1 2]\n",
      " [1 1 2]]\n"
     ]
    }
   ],
   "source": [
    "# 3、Numpy数组的广播机制\n",
    "m1 = np.array([(1,2), (2,2), (3,3), (4,4)])  # shape(4,2)\n",
    "m2 = np.array([-1,1])  # shape(2)-> shape(1,2) -> shape(4,2)  [[-1,1],[-1,1],[-1,1],[-1,1]]\n",
    "r = m1 + m2\n",
    "print(r)\n",
    "m1 = np.array([(1,2,3), (2,2,3)])  # shape(2,3)\n",
    "m2 = np.array([-1,-1,-1])  # shape(3)-> shape(1,3) -> shape(2,3)  [[-1,-1,-1],[-1,-1,-1]]\n",
    "print(m1.shape)\n",
    "print(m2.shape)\n",
    "r = m1 + m2\n",
    "print(r)"
   ]
  }
 ],
 "metadata": {
  "kernelspec": {
   "display_name": "py312",
   "language": "python",
   "name": "python3"
  },
  "language_info": {
   "codemirror_mode": {
    "name": "ipython",
    "version": 3
   },
   "file_extension": ".py",
   "mimetype": "text/x-python",
   "name": "python",
   "nbconvert_exporter": "python",
   "pygments_lexer": "ipython3",
   "version": "3.12.9"
  }
 },
 "nbformat": 4,
 "nbformat_minor": 2
}

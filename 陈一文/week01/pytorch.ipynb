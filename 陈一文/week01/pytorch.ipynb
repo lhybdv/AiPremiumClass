{
 "cells": [
  {
   "cell_type": "code",
   "execution_count": null,
   "metadata": {},
   "outputs": [],
   "source": [
    "import torch\n",
    "import numpy as np\n",
    "\n",
    "data = [[15, 20], [21, 65]]\n",
    "x_data = torch.tensor(data)\n",
    "\n",
    "np_array = np.array(data)\n",
    "x_np = torch.from_numpy(np_array)\n",
    "\n",
    "# print(x_data, '\\n')\n",
    "# print(x_np)\n",
    "\n",
    "x_ones = torch.ones_like(x_data)\n",
    "print(f\"Ones Tensor:\\n{x_ones}\\n\")\n",
    "\n",
    "x_rand = torch.rand_like(x_data, dtype= torch.float)\n",
    "print(f\"Random Tensor:\\n{x_rand}\\n\")"
   ]
  },
  {
   "cell_type": "code",
   "execution_count": null,
   "metadata": {},
   "outputs": [],
   "source": [
    "shape = (3, 5,)\n",
    "rand_tensor = torch.rand(shape)\n",
    "ones_tensor = torch.ones(shape)\n",
    "zeros_tensor = torch.zeros(shape)\n",
    "\n",
    "print(f\"Random Tensor:\\n{rand_tensor}\\n\")\n",
    "print(f\"Ones Tensor:\\n{ones_tensor}\\n\")\n",
    "print(f\"Zeros Tensor:\\n{zeros_tensor}\\n\")\n"
   ]
  },
  {
   "cell_type": "code",
   "execution_count": null,
   "metadata": {},
   "outputs": [],
   "source": [
    "m = torch.ones(4, 6, dtype= torch.double)\n",
    "n = torch.rand_like(m, dtype= torch.float)\n",
    "\n",
    "print(m.size())\n",
    "\n",
    "# 均匀分布\n",
    "torch.rand(6, 6)\n",
    "# 标准正态分布\n",
    "torch.randn(8, 8)\n",
    "# 离散正态分布\n",
    "a = torch.normal(mean=1.1, std= 2.0, size= (3, 3))\n",
    "# print(a)\n",
    "# 线性间隔向量\n",
    "torch.linspace(start= 1, end= 11, steps= 40)"
   ]
  },
  {
   "cell_type": "code",
   "execution_count": null,
   "metadata": {},
   "outputs": [],
   "source": [
    "tensor = torch.ones(5, 3)\n",
    "print('First row: ', tensor[0])\n",
    "print('First column: ', tensor[:, 0])\n",
    "print('Last column:', tensor[..., -1])\n",
    "tensor[:,1] = 0\n",
    "print(tensor)"
   ]
  },
  {
   "cell_type": "code",
   "execution_count": null,
   "metadata": {},
   "outputs": [],
   "source": [
    "y1 = tensor @ tensor.T\n",
    "y2 = tensor.matmul(tensor.T)\n",
    "print(y2)\n",
    "\n",
    "y3 = torch.rand_like(tensor)\n",
    "# print(y3)\n",
    "torch.matmul(tensor, tensor.T, out= y3)\n",
    "\n",
    "z1 = torch.rand_like(tensor)\n",
    "# print(z1)\n",
    "torch.mul(tensor, tensor, out= z1)"
   ]
  },
  {
   "cell_type": "code",
   "execution_count": null,
   "metadata": {},
   "outputs": [],
   "source": [
    "print(tensor, '\\n')\n",
    "tensor.add_(8)\n",
    "print(tensor)"
   ]
  },
  {
   "cell_type": "code",
   "execution_count": null,
   "metadata": {},
   "outputs": [],
   "source": [
    "t = torch.ones(8)\n",
    "print(f\"t : {t}, \\n\")\n",
    "n = t.numpy()\n",
    "print(f\"n : {n}, \\n\")\n",
    "t.add_(2)\n",
    "# t = t.add(2)\n",
    "print(f\"t : {t}, \\n\")\n",
    "print(f\"n : {n}, \\n\")\n"
   ]
  },
  {
   "cell_type": "code",
   "execution_count": null,
   "metadata": {},
   "outputs": [],
   "source": [
    "n = np.ones(6)\n",
    "t = torch.from_numpy(n)\n",
    "np.add(n, 1, out= n)\n",
    "print(f\"t : {t}, \\n\")\n",
    "print(f\"n : {n}, \\n\")"
   ]
  }
 ],
 "metadata": {
  "kernelspec": {
   "display_name": "py312",
   "language": "python",
   "name": "python3"
  },
  "language_info": {
   "codemirror_mode": {
    "name": "ipython",
    "version": 3
   },
   "file_extension": ".py",
   "mimetype": "text/x-python",
   "name": "python",
   "nbconvert_exporter": "python",
   "pygments_lexer": "ipython3",
   "version": "3.12.9"
  }
 },
 "nbformat": 4,
 "nbformat_minor": 2
}

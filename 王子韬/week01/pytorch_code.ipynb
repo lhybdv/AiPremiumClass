{
 "cells": [
  {
   "cell_type": "markdown",
   "metadata": {},
   "source": [
    "张量：运算的数据\n",
    "直接从数据创建\n",
    "numpy数据转换"
   ]
  },
  {
   "cell_type": "code",
   "execution_count": 13,
   "metadata": {},
   "outputs": [
    {
     "name": "stdout",
     "output_type": "stream",
     "text": [
      "tensor([[1, 2],\n",
      "        [3, 4]])\n",
      "tensor([[1, 2],\n",
      "        [3, 4]])\n"
     ]
    }
   ],
   "source": [
    "import torch\n",
    "import numpy as np\n",
    "\n",
    "data = torch.tensor([[1,2],[3,4]], dtype=torch.float32)\n",
    "data_list = [[1, 2],[3, 4]]\n",
    "x_data = torch.tensor(data_list)\n",
    "np_array = np.array(data_list)\n",
    "data2 = torch.from_numpy(np_array)\n",
    "print(x_data)\n",
    "print(data2)"
   ]
  },
  {
   "cell_type": "markdown",
   "metadata": {},
   "source": [
    "# 通过已知张量维度，创建新张量\n",
    "# 若不指定类型和其他参数会保留原有数据的参数"
   ]
  },
  {
   "cell_type": "code",
   "execution_count": null,
   "metadata": {},
   "outputs": [
    {
     "data": {
      "text/plain": [
       "tensor([[0.8637, 0.4410],\n",
       "        [0.8152, 0.5091]])"
      ]
     },
     "execution_count": 14,
     "metadata": {},
     "output_type": "execute_result"
    }
   ],
   "source": [
    "data3 = torch.rand_like(data2, dtype=torch.float)\n",
    "data3"
   ]
  },
  {
   "cell_type": "code",
   "execution_count": 16,
   "metadata": {},
   "outputs": [
    {
     "name": "stdout",
     "output_type": "stream",
     "text": [
      "Random Tensor: \n",
      " tensor([[[0.0859, 0.2889],\n",
      "         [0.0730, 0.2180],\n",
      "         [0.6112, 0.7144]],\n",
      "\n",
      "        [[0.6928, 0.6590],\n",
      "         [0.5607, 0.6399],\n",
      "         [0.6981, 0.0459]]]) \n",
      "\n",
      "Ones Tensor: \n",
      " tensor([[[1., 1.],\n",
      "         [1., 1.],\n",
      "         [1., 1.]],\n",
      "\n",
      "        [[1., 1.],\n",
      "         [1., 1.],\n",
      "         [1., 1.]]]) \n",
      "\n",
      "Zeros Tensor: \n",
      " tensor([[[0., 0.],\n",
      "         [0., 0.],\n",
      "         [0., 0.]],\n",
      "\n",
      "        [[0., 0.],\n",
      "         [0., 0.],\n",
      "         [0., 0.]]])\n"
     ]
    }
   ],
   "source": [
    "shape = (2,3,2)\n",
    "rand_tensor = torch.rand(shape)\n",
    "ones_tensor = torch.ones(shape)\n",
    "zeros_tensor = torch.zeros(shape)\n",
    "\n",
    "print(f\"Random Tensor: \\n {rand_tensor} \\n\")\n",
    "print(f\"Ones Tensor: \\n {ones_tensor} \\n\")\n",
    "print(f\"Zeros Tensor: \\n {zeros_tensor}\")"
   ]
  },
  {
   "cell_type": "code",
   "execution_count": 22,
   "metadata": {},
   "outputs": [
    {
     "name": "stdout",
     "output_type": "stream",
     "text": [
      "tensor([[0.0810, 0.4683, 0.4497],\n",
      "        [0.7775, 0.8305, 0.9239],\n",
      "        [0.6519, 0.8945, 0.5876]])\n",
      "tensor([[-0.8348, -1.3803,  1.0398],\n",
      "        [ 0.0965, -0.7770, -1.5152],\n",
      "        [ 0.4665,  0.0518, -1.8303]])\n",
      "tensor([[-1.4107,  1.5149,  1.4070],\n",
      "        [ 0.7769,  0.9783,  0.1827],\n",
      "        [-0.0038, -0.8180, -0.3337]])\n",
      "tensor([ 1.0000,  1.2812,  1.5625,  1.8438,  2.1250,  2.4062,  2.6875,  2.9688,\n",
      "         3.2500,  3.5312,  3.8125,  4.0938,  4.3750,  4.6562,  4.9375,  5.2188,\n",
      "         5.5000,  5.7812,  6.0625,  6.3438,  6.6250,  6.9062,  7.1875,  7.4688,\n",
      "         7.7500,  8.0312,  8.3125,  8.5938,  8.8750,  9.1562,  9.4375,  9.7188,\n",
      "        10.0000])\n",
      "tensor([[5., 6., 8.],\n",
      "        [4., 4., 3.],\n",
      "        [7., 4., 3.],\n",
      "        [1., 6., 3.],\n",
      "        [4., 6., 2.]])\n"
     ]
    }
   ],
   "source": [
    "\n",
    "\n",
    "# 均匀分布\n",
    "print(torch.rand(3,3))\n",
    "# 标准正态分布\n",
    "print(torch.randn(3,3))\n",
    "# 离散正态分布\n",
    "print(torch.normal(mean=.0,std=1.0,size=(3,3)))\n",
    "# 线性间隔向量(返回一个1维张量，包含在区间start和end上均匀间隔的steps个点)\n",
    "print(torch.linspace(start=1,end=10,steps=33))\n",
    "# 二项分布\n",
    "n = 10  # 试验次数\n",
    "p = 0.5  # 成功概率\n",
    "print(torch.distributions.Binomial(total_count=n, probs=p).sample((5,3)))"
   ]
  },
  {
   "cell_type": "code",
   "execution_count": null,
   "metadata": {},
   "outputs": [
    {
     "name": "stdout",
     "output_type": "stream",
     "text": [
      "torch.Size([5, 3])\n",
      "tensor([[6.3174e-01, 1.2625e-01, 4.2581e-01],\n",
      "        [6.8463e-01, 3.4225e-01, 1.6435e-01],\n",
      "        [2.2296e-01, 4.8706e-01, 7.9733e-01],\n",
      "        [3.1114e-04, 3.0108e-01, 4.2377e-01],\n",
      "        [4.4821e-01, 1.3078e-01, 2.0527e-01]])\n",
      "tensor([[ 1.4362,  0.5236,  1.3130],\n",
      "        [ 0.3669, -0.2108, -1.0469],\n",
      "        [-1.4308, -0.3567,  0.5221],\n",
      "        [-1.1639, -0.7706,  0.6081],\n",
      "        [-0.3173,  0.0666, -0.5036]])\n",
      "tensor([[-0.9276,  0.2195,  2.2426],\n",
      "        [ 0.3561, -0.2410, -0.6539],\n",
      "        [ 0.8776,  1.2666, -1.0316],\n",
      "        [ 0.6072, -0.3642,  0.5667],\n",
      "        [-0.8244, -0.5023, -0.1325]])\n",
      "tensor([ 1.0000,  1.4500,  1.9000,  2.3500,  2.8000,  3.2500,  3.7000,  4.1500,\n",
      "         4.6000,  5.0500,  5.5000,  5.9500,  6.4000,  6.8500,  7.3000,  7.7500,\n",
      "         8.2000,  8.6500,  9.1000,  9.5500, 10.0000])\n",
      "tensor([[3., 0., 0.],\n",
      "        [0., 3., 4.],\n",
      "        [3., 2., 2.],\n",
      "        [3., 0., 1.],\n",
      "        [3., 2., 1.]])\n"
     ]
    }
   ],
   "source": [
    "# 基于现有tensor构建，但使用新值填充\n",
    "m = torch.ones(5,3, dtype=torch.double)\n",
    "n = torch.rand_like(m, dtype=torch.float)\n",
    "\n",
    "# 获取tensor的大小\n",
    "print(m.size()) # torch.Size([5,3])\n",
    "\n",
    "# 均匀分布\n",
    "print(torch.rand(5,3))\n",
    "# 标准正态分布\n",
    "print(torch.randn(5,3))\n",
    "# 离散正态分布\n",
    "print(torch.normal(mean=.0,std=1.0,size=(5,3)))\n",
    "# 线性间隔向量(返回一个1维张量，包含在区间start和end上均匀间隔的steps个点)\n",
    "print(torch.linspace(start=1,end=10,steps=21))"
   ]
  },
  {
   "cell_type": "markdown",
   "metadata": {},
   "source": [
    "shape：维度\n",
    "dtype：类型\n",
    "device：存储位置"
   ]
  },
  {
   "cell_type": "code",
   "execution_count": 37,
   "metadata": {},
   "outputs": [
    {
     "name": "stdout",
     "output_type": "stream",
     "text": [
      "Shape of tensor: torch.Size([2, 2, 2])\n",
      "Datatype of tensor: torch.float32\n",
      "Device tensor is stored on: cpu\n"
     ]
    }
   ],
   "source": [
    "tensor = torch.rand(2,2,2)\n",
    "\n",
    "print(f\"Shape of tensor: {tensor.shape}\")\n",
    "print(f\"Datatype of tensor: {tensor.dtype}\")\n",
    "print(f\"Device tensor is stored on: {tensor.device}\")"
   ]
  },
  {
   "cell_type": "markdown",
   "metadata": {},
   "source": [
    "默认情况，张量在cpu上创建，但可以切换到gpu(.to())"
   ]
  },
  {
   "cell_type": "code",
   "execution_count": null,
   "metadata": {},
   "outputs": [
    {
     "name": "stdout",
     "output_type": "stream",
     "text": [
      "tensor([[0.0986, 0.3187, 0.6553, 0.3893],\n",
      "        [0.6511, 0.0113, 0.3531, 0.5864],\n",
      "        [0.7492, 0.1733, 0.7749, 0.5443]], device='mps:0')\n",
      "mps:0\n",
      "yes\n",
      "tensor([[0.0986, 0.3187, 0.6553, 0.3893],\n",
      "        [0.6511, 0.0113, 0.3531, 0.5864],\n",
      "        [0.7492, 0.1733, 0.7749, 0.5443]], device='mps:0')\n",
      "mps:0\n"
     ]
    }
   ],
   "source": [
    "\n",
    "if torch.cuda.is_available():\n",
    "    device = torch.device(\"cuda\")\n",
    "    tensor = tensor.to(device)\n",
    "\n",
    "print(tensor)\n",
    "print(tensor.device)\n",
    "\n",
    "if torch.backends.mps.is_available():\n",
    "    print(\"yes\")\n",
    "    device = torch.device(\"mps\")\n",
    "    tensor = tensor.to(device)\n",
    "\n",
    "print(tensor)\n",
    "print(tensor.device)"
   ]
  },
  {
   "cell_type": "code",
   "execution_count": null,
   "metadata": {},
   "outputs": [
    {
     "name": "stdout",
     "output_type": "stream",
     "text": [
      "First row:  tensor([[1., 1., 1.],\n",
      "        [1., 1., 1.],\n",
      "        [1., 1., 1.]])\n",
      "First column:  tensor([[1., 1., 1.],\n",
      "        [1., 1., 1.],\n",
      "        [1., 1., 1.]])\n",
      "Last column: tensor([[1., 1., 1.],\n",
      "        [1., 1., 1.],\n",
      "        [1., 1., 1.]])\n",
      "tensor([[[1., 1., 1.],\n",
      "         [0., 0., 0.],\n",
      "         [1., 1., 1.]],\n",
      "\n",
      "        [[1., 1., 1.],\n",
      "         [0., 0., 0.],\n",
      "         [1., 1., 1.]],\n",
      "\n",
      "        [[1., 1., 1.],\n",
      "         [0., 0., 0.],\n",
      "         [1., 1., 1.]]])\n"
     ]
    }
   ],
   "source": [
    "tensor = torch.ones(3, 3, 3)\n",
    "print('First row: ', tensor[0])\n",
    "print('First column: ', tensor[:, 0])\n",
    "print('Last column:', tensor[..., -1])\n",
    "tensor[:,1] = 0\n",
    "print(tensor)\n",
    "# 切片遵循左闭右开原则"
   ]
  },
  {
   "cell_type": "markdown",
   "metadata": {},
   "source": [
    "\ttorch.cat() 用于拼接多个张量\n",
    "\tdim=1 表示在列方向拼接，所以原来的 3x3 变成 3x(3+3+3) = 3x9"
   ]
  },
  {
   "cell_type": "code",
   "execution_count": 40,
   "metadata": {},
   "outputs": [
    {
     "name": "stdout",
     "output_type": "stream",
     "text": [
      "tensor([[[3., 3., 3.],\n",
      "         [0., 0., 0.],\n",
      "         [3., 3., 3.],\n",
      "         [3., 3., 3.],\n",
      "         [0., 0., 0.],\n",
      "         [3., 3., 3.],\n",
      "         [3., 3., 3.],\n",
      "         [0., 0., 0.],\n",
      "         [3., 3., 3.]],\n",
      "\n",
      "        [[3., 3., 3.],\n",
      "         [0., 0., 0.],\n",
      "         [3., 3., 3.],\n",
      "         [3., 3., 3.],\n",
      "         [0., 0., 0.],\n",
      "         [3., 3., 3.],\n",
      "         [3., 3., 3.],\n",
      "         [0., 0., 0.],\n",
      "         [3., 3., 3.]],\n",
      "\n",
      "        [[3., 3., 3.],\n",
      "         [0., 0., 0.],\n",
      "         [3., 3., 3.],\n",
      "         [3., 3., 3.],\n",
      "         [0., 0., 0.],\n",
      "         [3., 3., 3.],\n",
      "         [3., 3., 3.],\n",
      "         [0., 0., 0.],\n",
      "         [3., 3., 3.]]])\n",
      "torch.Size([3, 9, 3])\n"
     ]
    }
   ],
   "source": [
    "t1 = torch.cat([tensor, tensor, tensor], dim=1)\n",
    "print(t1 * 3)\n",
    "print(t1.shape)"
   ]
  },
  {
   "cell_type": "code",
   "execution_count": 41,
   "metadata": {},
   "outputs": [
    {
     "name": "stdout",
     "output_type": "stream",
     "text": [
      "tensor([[ 1.,  4.,  9.],\n",
      "        [16., 25., 36.],\n",
      "        [49., 64., 81.]])\n",
      "tensor([[ 1.,  4.,  9.],\n",
      "        [16., 25., 36.],\n",
      "        [49., 64., 81.]])\n"
     ]
    }
   ],
   "source": [
    "import torch\n",
    "tensor = torch.arange(1,10, dtype=torch.float32).reshape(3, 3)\n",
    "\n",
    "y1 = tensor @ tensor.T\n",
    "y2 = tensor.matmul(tensor.T)\n",
    "\n",
    "# print(y1)\n",
    "# print(y2)\n",
    "\n",
    "y3 = torch.rand_like(tensor)\n",
    "torch.matmul(tensor, tensor.T, out=y3)\n",
    "# print(y3)\n",
    "\n",
    "\n",
    "z1 = tensor * tensor\n",
    "z2 = tensor.mul(tensor)\n",
    "\n",
    "z3 = torch.rand_like(tensor)\n",
    "torch.mul(tensor, tensor, out=z3)\n",
    "\n",
    "print(z1)\n",
    "print(z3)"
   ]
  },
  {
   "cell_type": "markdown",
   "metadata": {},
   "source": [
    "如果一个单元素张量，例如将张量的值聚合计算，可以使用 item()方法将其转换为数值"
   ]
  },
  {
   "cell_type": "code",
   "execution_count": 32,
   "metadata": {},
   "outputs": [
    {
     "name": "stdout",
     "output_type": "stream",
     "text": [
      "45.0 <class 'float'>\n"
     ]
    }
   ],
   "source": [
    "agg = tensor.sum()\n",
    "agg_item = agg.item()\n",
    "print(agg_item, type(agg_item))"
   ]
  },
  {
   "cell_type": "markdown",
   "metadata": {},
   "source": [
    "类型转换 tensor -》 numpy"
   ]
  },
  {
   "cell_type": "code",
   "execution_count": 42,
   "metadata": {},
   "outputs": [
    {
     "name": "stdout",
     "output_type": "stream",
     "text": [
      "<class 'numpy.ndarray'>\n"
     ]
    }
   ],
   "source": [
    "np_arr = z1.numpy()\n",
    "print(type(np_arr))"
   ]
  },
  {
   "cell_type": "code",
   "execution_count": 34,
   "metadata": {},
   "outputs": [
    {
     "name": "stdout",
     "output_type": "stream",
     "text": [
      "tensor([[1., 2., 3.],\n",
      "        [4., 5., 6.],\n",
      "        [7., 8., 9.]]) \n",
      "\n",
      "tensor([[ 6.,  7.,  8.],\n",
      "        [ 9., 10., 11.],\n",
      "        [12., 13., 14.]])\n"
     ]
    }
   ],
   "source": [
    "print(tensor, \"\\n\")\n",
    "tensor.add_(5)\n",
    "# tensor = tensor + 5\n",
    "# tensor += 5\n",
    "print(tensor)"
   ]
  },
  {
   "cell_type": "markdown",
   "metadata": {},
   "source": [
    "torch 用于创建张量和计算梯度。\n",
    "torchviz.make_dot 用于生成计算图\n",
    "requires_grad=True 使变量成为可求导张量，以便进行梯度计算。\n",
    "\n",
    "\n",
    "计算公式：\n",
    "\t•\ttorch.matmul(A, x.T) 计算矩阵 A 和向量 x 的乘积，得到一个 10 维向量。\n",
    "\t•\ttorch.matmul(b, x) 计算向量 b 和 x 的点积，得到一个标量。\n",
    "\t•\tc 是一个标量，加到最终结果。\n",
    "绘制图片：\n",
    "\t•\tdot.render('expression', format='png', cleanup=True, view=False) 作用：\n",
    "\t•\t‘expression’：输出文件的名称（即 expression.png）。\n",
    "\t•\tformat='png'：生成 PNG 图片。\n",
    "\t•\tcleanup=True：清理临时文件。\n",
    "\t•\tview=False：不自动打开图片（可改为 True 直接查看）"
   ]
  },
  {
   "cell_type": "code",
   "execution_count": 44,
   "metadata": {},
   "outputs": [
    {
     "data": {
      "text/plain": [
       "'expression.png'"
      ]
     },
     "execution_count": 44,
     "metadata": {},
     "output_type": "execute_result"
    }
   ],
   "source": [
    "import torch\n",
    "from torchviz import make_dot\n",
    "\n",
    "# 定义矩阵 A，向量 b 和常数 c\n",
    "A = torch.randn(10, 10,requires_grad=True)  # requires_grad=True 表示我们要对 A 求导\n",
    "b = torch.randn(10,requires_grad=True)\n",
    "c = torch.randn(1,requires_grad=True)\n",
    "x = torch.randn(10, requires_grad=True)\n",
    "\n",
    "\n",
    "# 计算 x^T * A + b * x + c\n",
    "result = torch.matmul(A, x.T) + torch.matmul(b, x) + c\n",
    "\n",
    "# 生成计算图节点\n",
    "dot = make_dot(result, params={'A': A, 'b': b, 'c': c, 'x': x})\n",
    "# 绘制计算图\n",
    "dot.render('expression', format='png', cleanup=True, view=False)"
   ]
  }
 ],
 "metadata": {
  "kernelspec": {
   "display_name": "AI",
   "language": "python",
   "name": "python3"
  },
  "language_info": {
   "codemirror_mode": {
    "name": "ipython",
    "version": 3
   },
   "file_extension": ".py",
   "mimetype": "text/x-python",
   "name": "python",
   "nbconvert_exporter": "python",
   "pygments_lexer": "ipython3",
   "version": "3.12.9"
  }
 },
 "nbformat": 4,
 "nbformat_minor": 2
}

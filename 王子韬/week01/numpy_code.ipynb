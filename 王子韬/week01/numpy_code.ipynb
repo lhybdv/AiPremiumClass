{
 "cells": [
  {
   "cell_type": "code",
   "execution_count": 1,
   "metadata": {},
   "outputs": [],
   "source": [
    "import numpy as np"
   ]
  },
  {
   "cell_type": "markdown",
   "metadata": {},
   "source": [
    "创建ndarray数组\n",
    "1.np.array(数组，dtype=数组类型)\n",
    "2.list转换\n"
   ]
  },
  {
   "cell_type": "code",
   "execution_count": 2,
   "metadata": {},
   "outputs": [
    {
     "name": "stdout",
     "output_type": "stream",
     "text": [
      "[4 5 6] <class 'numpy.ndarray'>\n"
     ]
    }
   ],
   "source": [
    "# 创建ndarray数组\n",
    "import numpy as np\n",
    "arr1 = np.array([1,2,3,4,5], float)\n",
    "arr2 = [4,5,6]\n",
    "arr2 = np.array(arr2)\n",
    "print(arr2, type(arr2))"
   ]
  },
  {
   "cell_type": "markdown",
   "metadata": {},
   "source": [
    "二维数组，括号内为行"
   ]
  },
  {
   "cell_type": "code",
   "execution_count": null,
   "metadata": {},
   "outputs": [
    {
     "data": {
      "text/plain": [
       "array([[1, 2, 3],\n",
       "       [4, 5, 6],\n",
       "       [7, 8, 9]])"
      ]
     },
     "execution_count": 4,
     "metadata": {},
     "output_type": "execute_result"
    }
   ],
   "source": [
    "a = np.array([(1,2,3), (4,5,6), (7,8,9)])\n",
    "a"
   ]
  },
  {
   "cell_type": "markdown",
   "metadata": {},
   "source": [
    "全0数组，全1数组"
   ]
  },
  {
   "cell_type": "code",
   "execution_count": 6,
   "metadata": {},
   "outputs": [
    {
     "name": "stdout",
     "output_type": "stream",
     "text": [
      "[[0. 0. 0.]\n",
      " [0. 0. 0.]]\n"
     ]
    },
    {
     "data": {
      "text/plain": [
       "array([[1, 1, 1, 1, 1],\n",
       "       [1, 1, 1, 1, 1],\n",
       "       [1, 1, 1, 1, 1],\n",
       "       [1, 1, 1, 1, 1]])"
      ]
     },
     "execution_count": 6,
     "metadata": {},
     "output_type": "execute_result"
    }
   ],
   "source": [
    "a1 = np.zeros((2,3), dtype=np.float32)\n",
    "a2 = np.ones((4,5), dtype=int)\n",
    "print(a1)\n",
    "a2"
   ]
  },
  {
   "cell_type": "markdown",
   "metadata": {},
   "source": [
    "arange:生成制定长度数组 参数：首项，末项，步长\n",
    "# 数组生成左闭右开，不包含末项\n",
    "# 步长为负：首项 < 末项"
   ]
  },
  {
   "cell_type": "code",
   "execution_count": 11,
   "metadata": {},
   "outputs": [
    {
     "name": "stdout",
     "output_type": "stream",
     "text": [
      "a2:  [1.  1.3 1.6 1.9 2.2 2.5 2.8 3.1 3.4 3.7 4.  4.3 4.6 4.9 5.2 5.5 5.8]\n",
      "a3:  []\n",
      "a4:  [6.  5.7 5.4 5.1 4.8 4.5 4.2 3.9 3.6 3.3 3.  2.7 2.4 2.1 1.8 1.5 1.2]\n"
     ]
    }
   ],
   "source": [
    "a2 = np.arange(1,6, 0.3)\n",
    "a3 = np.arange(1,6,-0.3)\n",
    "a4 = np.arange(6,1,-0.3)\n",
    "print(\"a2: \", a2)\n",
    "print(\"a3: \", a3)\n",
    "print(\"a4: \", a4)"
   ]
  },
  {
   "cell_type": "markdown",
   "metadata": {},
   "source": [
    "one hot编码：将抽象的数据张量转换成神经网络可接受的形式\n",
    "# 例：RGB = np.eye(3)"
   ]
  },
  {
   "cell_type": "code",
   "execution_count": 12,
   "metadata": {},
   "outputs": [
    {
     "data": {
      "text/plain": [
       "array([[1., 0., 0., 0.],\n",
       "       [0., 1., 0., 0.],\n",
       "       [0., 0., 1., 0.],\n",
       "       [0., 0., 0., 1.]])"
      ]
     },
     "execution_count": 12,
     "metadata": {},
     "output_type": "execute_result"
    }
   ],
   "source": [
    "a3 = np.eye(4)\n",
    "a3  # one-hot编码"
   ]
  },
  {
   "cell_type": "markdown",
   "metadata": {},
   "source": [
    "随机设置【0，1）间的参数\n",
    "random:随机分布\n",
    "normal:正态分布\n",
    "binomial:二项分布"
   ]
  },
  {
   "cell_type": "code",
   "execution_count": 17,
   "metadata": {},
   "outputs": [
    {
     "data": {
      "text/plain": [
       "array([0.76333519, 0.49213642, 0.86058971, 0.43400458, 0.04935594,\n",
       "       0.12344001, 0.46146072, 0.42201422, 0.42345174, 0.51311822])"
      ]
     },
     "execution_count": 17,
     "metadata": {},
     "output_type": "execute_result"
    }
   ],
   "source": [
    "a4 = np.random.random(10)  # 模型运算参数初始值\n",
    "a4"
   ]
  },
  {
   "cell_type": "code",
   "execution_count": 20,
   "metadata": {},
   "outputs": [
    {
     "name": "stdout",
     "output_type": "stream",
     "text": [
      "[-0.0723492  -0.02208821  0.15312087 -0.14942344  0.00191361]\n",
      "[6 3 7 6 3]\n"
     ]
    }
   ],
   "source": [
    "a5 = np.random.normal(0, 0.1, 5)  # 模型运算参数初始值\n",
    "print(a5)\n",
    "a6 = np.random.binomial(10, 0.5, size=5)\n",
    "print(a6)"
   ]
  },
  {
   "cell_type": "markdown",
   "metadata": {},
   "source": [
    "数组切片"
   ]
  },
  {
   "cell_type": "code",
   "execution_count": null,
   "metadata": {},
   "outputs": [
    {
     "name": "stdout",
     "output_type": "stream",
     "text": [
      "[2 4 6]\n",
      "[[5 1]\n",
      " [6 1]\n",
      " [7 1]]\n"
     ]
    }
   ],
   "source": [
    "a6 = np.array([(1,2), (3,4), (5,6)])\n",
    "# print(a6) 获取第一列\n",
    "print(a6[:,1])\n",
    "a6 = np.array([(4,1), (5,1), (6,1), (7,1)])\n",
    "# 除第一行以外的所有元素\n",
    "print(a6[1:])"
   ]
  },
  {
   "cell_type": "markdown",
   "metadata": {},
   "source": [
    "数组打印\n",
    "nditer：遍历数组所有元素"
   ]
  },
  {
   "cell_type": "code",
   "execution_count": 27,
   "metadata": {},
   "outputs": [
    {
     "name": "stdout",
     "output_type": "stream",
     "text": [
      "1 2\n",
      "3 4\n",
      "5 6\n",
      "1 2 3 4 5 6 "
     ]
    }
   ],
   "source": [
    "a7 = np.array([(1,2), (3,4), (5,6)])\n",
    "# i,j = a7[0]\n",
    "for i,j in a7:\n",
    "    print(i,j)\n",
    "\n",
    "for x in np.nditer(a7):\n",
    "    print(x, end=\" \")"
   ]
  },
  {
   "cell_type": "markdown",
   "metadata": {},
   "source": [
    "ndim\t维度数，即数组的轴数（几维数组）\t2（二维数组）\n",
    "shape\t数组的形状（各轴上的元素数量）\t(3, 3)（3行3列）\n",
    "size\t数组中的元素总数\t9（3×3=9）\n",
    "dtype\t数组元素的数据类型\n",
    "nbytes  数组占用子节数"
   ]
  },
  {
   "cell_type": "code",
   "execution_count": 33,
   "metadata": {},
   "outputs": [
    {
     "name": "stdout",
     "output_type": "stream",
     "text": [
      "ndim: 2\n",
      "shape: (3, 3)\n",
      "size 9\n",
      "dtype int64\n",
      "72\n"
     ]
    }
   ],
   "source": [
    "a = np.array([(1,2,3), (4,5,6), (7,8,9)])\n",
    "print(\"ndim:\", a.ndim)\n",
    "print(\"shape:\", a.shape)\n",
    "print(\"size\", a.size)\n",
    "print(\"dtype\", a.dtype)\n",
    "print(a.nbytes) "
   ]
  },
  {
   "cell_type": "markdown",
   "metadata": {},
   "source": [
    "判断数字是否在数组里"
   ]
  },
  {
   "cell_type": "code",
   "execution_count": 32,
   "metadata": {},
   "outputs": [
    {
     "name": "stdout",
     "output_type": "stream",
     "text": [
      "True\n",
      "False\n"
     ]
    }
   ],
   "source": [
    "print(3 in a)\n",
    "print(239587234986720345 in a)"
   ]
  },
  {
   "cell_type": "markdown",
   "metadata": {},
   "source": [
    "reshape：重置矩阵维度"
   ]
  },
  {
   "cell_type": "code",
   "execution_count": 39,
   "metadata": {},
   "outputs": [
    {
     "name": "stdout",
     "output_type": "stream",
     "text": [
      "[1 2 3 4 5 6 7 8 9]\n",
      "(9,)\n",
      "[[[1]\n",
      "  [2]\n",
      "  [3]]\n",
      "\n",
      " [[4]\n",
      "  [5]\n",
      "  [6]]\n",
      "\n",
      " [[7]\n",
      "  [8]\n",
      "  [9]]]\n",
      "(3, 3, 1)\n",
      "[0 1 2 3 4 5 6 7]\n",
      "(8,)\n",
      "[[[0 1]\n",
      "  [2 3]]\n",
      "\n",
      " [[4 5]\n",
      "  [6 7]]]\n",
      "(2, 2, 2)\n"
     ]
    }
   ],
   "source": [
    "a7 = np.arange(1,10)\n",
    "print(a7)\n",
    "print(a7.shape)\n",
    "\n",
    "a7 = a7.reshape(3,3,1)  # 维度大小乘积 == 元素个数\n",
    "print(a7)\n",
    "\n",
    "print(a7.shape)  # 高维矩阵，每个维度都有含义\n",
    "\n",
    "# 加载图像数据\n",
    "# img.shape [1,3,120,120] 1个样本，3颜色特征通道，120高，120宽\n",
    "\n",
    "a7 = np.arange(0,8)\n",
    "print(a7)\n",
    "print(a7.shape)\n",
    "\n",
    "a7 = a7.reshape(2,2,2)  # 维度大小乘积 == 元素个数\n",
    "print(a7)\n",
    "\n",
    "print(a7.shape)\n"
   ]
  },
  {
   "cell_type": "markdown",
   "metadata": {},
   "source": [
    "矩阵转置：沿对角线方向转换\n",
    "三维数组会交换其轴（维度）的顺序。默认情况下，使用 .T 只会交换最后两个轴（行和列），如果想要自定义顺序，需要使用 np.transpose()。"
   ]
  },
  {
   "cell_type": "code",
   "execution_count": 42,
   "metadata": {},
   "outputs": [
    {
     "name": "stdout",
     "output_type": "stream",
     "text": [
      "[[[0 4]\n",
      "  [2 6]]\n",
      "\n",
      " [[1 5]\n",
      "  [3 7]]]\n"
     ]
    }
   ],
   "source": [
    "a = a7.T\n",
    "print(a)"
   ]
  },
  {
   "cell_type": "markdown",
   "metadata": {},
   "source": [
    "用于将多维NumPy数组展平（变成一维数组），即按元素顺序将矩阵拉直。"
   ]
  },
  {
   "cell_type": "code",
   "execution_count": 43,
   "metadata": {},
   "outputs": [
    {
     "name": "stdout",
     "output_type": "stream",
     "text": [
      "[0 4 2 6 1 5 3 7]\n"
     ]
    }
   ],
   "source": [
    "a = a.flatten()\n",
    "print(a)"
   ]
  },
  {
   "cell_type": "markdown",
   "metadata": {},
   "source": [
    "增加维度"
   ]
  },
  {
   "cell_type": "code",
   "execution_count": 46,
   "metadata": {},
   "outputs": [
    {
     "name": "stdout",
     "output_type": "stream",
     "text": [
      "(3, 2, 1)\n"
     ]
    },
    {
     "data": {
      "text/plain": [
       "array([[1],\n",
       "       [2],\n",
       "       [3]])"
      ]
     },
     "execution_count": 46,
     "metadata": {},
     "output_type": "execute_result"
    }
   ],
   "source": [
    "a8 = np.array([(1,2), (3,4), (5,6)])\n",
    "a8 = a8[:,:,np.newaxis]  # [3,1,2]\n",
    "print(a8.shape)\n",
    "\n",
    "a = np.array([1,2,3])\n",
    "a.shape\n",
    "a = a[ :, np.newaxis]\n",
    "a"
   ]
  },
  {
   "cell_type": "code",
   "execution_count": 52,
   "metadata": {},
   "outputs": [
    {
     "name": "stdout",
     "output_type": "stream",
     "text": [
      "[[1. 1.]\n",
      " [1. 1.]]\n",
      "[[-1  1]\n",
      " [-1  1]]\n",
      "\n",
      "[[0. 2.]\n",
      " [0. 2.]]\n",
      "\n",
      "[[2. 0.]\n",
      " [2. 0.]]\n",
      "[[-1.  1.]\n",
      " [-1.  1.]]\n",
      "[[-1.  1.]\n",
      " [-1.  1.]]\n"
     ]
    }
   ],
   "source": [
    "a = np.ones((2,2))\n",
    "b = np.array([(-1,1),(-1,1)])\n",
    "print(a)\n",
    "print(b)\n",
    "print()\n",
    "print(a+b)\n",
    "print()\n",
    "print(a-b)\n",
    "#求和\n",
    "a.sum()\n",
    "#求积\n",
    "a.prod()\n",
    "#矩阵相乘\n",
    "print(a*b)\n",
    "#矩阵相除\n",
    "print(a/b)"
   ]
  },
  {
   "cell_type": "code",
   "execution_count": null,
   "metadata": {},
   "outputs": [],
   "source": [
    "# 数组，矩阵、维度\n",
    "\n",
    "# 数组、矩阵  ： 数据组织结构形式\n",
    "\n",
    "# 维度： 通讯地址"
   ]
  },
  {
   "cell_type": "markdown",
   "metadata": {},
   "source": [
    "mean:均值\n",
    "var：方差\n",
    "std：标准差\n",
    "max:最大值\n",
    "min:最小值"
   ]
  },
  {
   "cell_type": "code",
   "execution_count": 53,
   "metadata": {},
   "outputs": [
    {
     "name": "stdout",
     "output_type": "stream",
     "text": [
      "mean: 4.333333333333333\n",
      "var: 0.888888888888889\n",
      "std: 0.9428090415820634\n",
      "max: 5\n",
      "min: 3\n"
     ]
    }
   ],
   "source": [
    "a = np.array([5,3,5])\n",
    "print(\"mean:\",a.mean())\n",
    "print(\"var:\", a.var())\n",
    "print(\"std:\", a.std())\n",
    "print(\"max:\", a.max())\n",
    "print(\"min:\", a.min())"
   ]
  },
  {
   "cell_type": "markdown",
   "metadata": {},
   "source": [
    "注：python四舍五入是取最近的偶数而不是严格四舍五入，为避免运算中全部四舍五入之后差值太大"
   ]
  },
  {
   "cell_type": "code",
   "execution_count": null,
   "metadata": {},
   "outputs": [
    {
     "name": "stdout",
     "output_type": "stream",
     "text": [
      "argmax: 2\n",
      "argmin: 0\n",
      "ceil: [  2.   4. 460.]\n",
      "floor: [  1.   3. 459.]\n",
      "rint: [  1.   4. 460.]\n",
      "[12 16 22 28 31 31 48]\n"
     ]
    }
   ],
   "source": [
    "a = np.array([1.02, 3.8, 459.5])\n",
    "print(\"argmax:\", a.argmax()) # 最大值的索引\n",
    "print(\"argmin:\", a.argmin()) # 最小值的索引\n",
    "\n",
    "print(\"ceil:\", np.ceil(a))  # 向上取整\n",
    "print(\"floor:\", np.floor(a)) # 向下取整\n",
    "print(\"rint:\", np.rint(a))  # 四舍五入\n",
    "a = np.array([16,31,12,28,22,31,48])\n",
    "a.sort(axis=0)\n",
    "print(a) # 按维度排序，1维数组不能超过1"
   ]
  },
  {
   "cell_type": "code",
   "execution_count": 70,
   "metadata": {},
   "outputs": [
    {
     "name": "stdout",
     "output_type": "stream",
     "text": [
      "矩阵 1:\n",
      "[[1. 2.]\n",
      " [3. 4.]]\n",
      "矩阵 2:\n",
      "[[5. 6.]\n",
      " [7. 8.]]\n",
      "[[19. 22.]\n",
      " [43. 50.]]\n"
     ]
    }
   ],
   "source": [
    "m1 = np.array(([1, 2], [3, 4]), dtype=np.float32)\n",
    "m2 = np.array(([5, 6], [7, 8]), dtype=np.float32)\n",
    "\n",
    "result_dot = np.dot(m1, m2)\n",
    "\n",
    "result_at = m1 @ m2\n",
    "print(\"矩阵 1:\")\n",
    "print(m1)\n",
    "print(\"矩阵 2:\")\n",
    "print(m2)\n",
    "print(result_dot)"
   ]
  },
  {
   "cell_type": "markdown",
   "metadata": {},
   "source": [
    "@ 运算符（矩阵乘法）\n",
    "matmul() 方法\n",
    "mul() 方法（逐元素相乘）"
   ]
  },
  {
   "cell_type": "code",
   "execution_count": null,
   "metadata": {},
   "outputs": [
    {
     "name": "stdout",
     "output_type": "stream",
     "text": [
      "tensor([[5., 6.],\n",
      "        [7., 8.]])\n",
      "tensor([[ 61.,  83.],\n",
      "        [ 83., 113.]])\n"
     ]
    },
    {
     "data": {
      "text/plain": [
       "tensor([[25., 36.],\n",
       "        [49., 64.]])"
      ]
     },
     "execution_count": 67,
     "metadata": {},
     "output_type": "execute_result"
    }
   ],
   "source": [
    "import torch\n",
    "tensor = torch.arange(5,9, dtype=torch.float32).reshape(2, 2)\n",
    "\n",
    "print(tensor)\n",
    "\n",
    "y1 = tensor @ tensor.T\n",
    "y2 = tensor.matmul(tensor.T)\n",
    "\n",
    "y3 = torch.rand_like(tensor)\n",
    "torch.matmul(tensor, tensor.T, out=y3)\n",
    "print(y1)\n",
    "\n",
    "z1 = tensor * tensor\n",
    "z2 = tensor.mul(tensor)\n",
    "\n",
    "z3 = torch.rand_like(tensor)\n",
    "torch.mul(tensor, tensor, out=z3)"
   ]
  },
  {
   "cell_type": "code",
   "execution_count": null,
   "metadata": {},
   "outputs": [
    {
     "name": "stdout",
     "output_type": "stream",
     "text": [
      "m1: \n",
      " [[4 2]\n",
      " [3 4]]\n",
      "m2: \n",
      " [[5 6]\n",
      " [6 1]]\n",
      "[[32 26]\n",
      " [39 22]]\n",
      "[[32 26]\n",
      " [39 22]]\n",
      "4 * 5 = 20\n",
      "2 * 6 = 12\n",
      "4 * 6 = 24\n",
      "2 * 1 = 2\n",
      "3 * 5 = 15\n",
      "4 * 6 = 24\n",
      "3 * 6 = 18\n",
      "4 * 1 = 4\n",
      "[[32 26]\n",
      " [39 22]]\n"
     ]
    }
   ],
   "source": [
    "m1 = np.array([[4, 2], [3, 4]], dtype=int)\n",
    "m2 = np.array([[5, 6], [6, 1]], dtype=int)\n",
    "\n",
    "print(\"m1: \\n\", m1)\n",
    "print(\"m2: \\n\", m2)\n",
    "result_dot = np.dot(m1, m2)\n",
    "result_at = m1 @ m2\n",
    "print(result_dot)\n",
    "print(result_at)\n",
    "\n",
    "manual_result = np.zeros((m1.shape[0], m2.shape[1]), dtype=int)\n",
    "\n",
    "\n",
    "for i in range(m1.shape[0]):\n",
    "\n",
    "    for j in range(m2.shape[1]):\n",
    "        manual_result[i, j] = 0\n",
    "\n",
    "        for k in range(m1.shape[1]):\n",
    "            print(f\"{m1[i, k]} * {m2[k, j]} = {m1[i, k] * m2[k, j]}\")\n",
    "            manual_result[i, j] += m1[i, k] * m2[k, j]\n",
    "\n",
    "print(manual_result)"
   ]
  },
  {
   "cell_type": "code",
   "execution_count": 71,
   "metadata": {},
   "outputs": [
    {
     "name": "stdout",
     "output_type": "stream",
     "text": [
      "矩阵 1:\n",
      "[[1. 2.]\n",
      " [3. 4.]]\n",
      "矩阵 2:\n",
      "[[5. 6.]\n",
      " [7. 8.]]\n",
      "使用 np.dot 得到的矩阵乘法结果:\n",
      "[[19. 22.]\n",
      " [43. 50.]]\n",
      "使用 @ 运算符得到的矩阵乘法结果:\n",
      "[[19. 22.]\n",
      " [43. 50.]]\n",
      "1.0 * 5.0 = 5.0\n",
      "2.0 * 7.0 = 14.0\n",
      "结果矩阵[1,1]:19.0\n",
      "\n",
      "1.0 * 6.0 = 6.0\n",
      "2.0 * 8.0 = 16.0\n",
      "结果矩阵[1,2]:22.0\n",
      "\n",
      "3.0 * 5.0 = 15.0\n",
      "4.0 * 7.0 = 28.0\n",
      "结果矩阵[2,1]:43.0\n",
      "\n",
      "3.0 * 6.0 = 18.0\n",
      "4.0 * 8.0 = 32.0\n",
      "结果矩阵[2,2]:50.0\n",
      "\n",
      "手动推演结果:\n",
      "[[19. 22.]\n",
      " [43. 50.]]\n"
     ]
    }
   ],
   "source": [
    "import numpy as np\n",
    "\n",
    "# 定义两个简单的矩阵\n",
    "m1 = np.array([[1, 2], [3, 4]], dtype=np.float32)\n",
    "m2 = np.array([[5, 6], [7, 8]], dtype=np.float32)\n",
    "# m1 = m1.reshape(2,2)  # 矩阵1最后1个维度 == 矩阵2倒数第2个维度\n",
    "# m2 = m2.reshape(2,2)\n",
    "\n",
    "# 使用 np.dot 进行矩阵乘法\n",
    "result_dot = np.dot(m1, m2)\n",
    "\n",
    "# 使用 @ 运算符进行矩阵乘法\n",
    "result_at = m1 @ m2\n",
    "\n",
    "print(\"矩阵 1:\")\n",
    "print(m1)\n",
    "print(\"矩阵 2:\")\n",
    "print(m2)\n",
    "print(\"使用 np.dot 得到的矩阵乘法结果:\")\n",
    "print(result_dot)\n",
    "print(\"使用 @ 运算符得到的矩阵乘法结果:\")\n",
    "print(result_at)\n",
    "\n",
    "# 创建一个全零矩阵，用于存储手动推演的结果\n",
    "# 结果矩阵的行数等于 matrix1 的行数，列数等于 matrix2 的列数\n",
    "manual_result = np.zeros((m1.shape[0], m2.shape[1]), dtype=np.float32)\n",
    "\n",
    "# 外层循环：遍历 matrix1 的每一行\n",
    "# i 表示结果矩阵的行索引\n",
    "for i in range(m1.shape[0]):\n",
    "    # 中层循环：遍历 matrix2 的每一列\n",
    "    # j 表示结果矩阵的列索引\n",
    "    for j in range(m2.shape[1]):\n",
    "        # 初始化当前位置的结果为 0\n",
    "        manual_result[i, j] = 0\n",
    "        # 内层循环：计算 matrix1 的第 i 行与 matrix2 的第 j 列对应元素的乘积之和\n",
    "        # k 表示参与乘法运算的元素索引\n",
    "        for k in range(m1.shape[1]):\n",
    "            # 打印当前正在计算的元素\n",
    "            print(f\"{m1[i, k]} * {m2[k, j]} = {m1[i, k] * m2[k, j]}\")\n",
    "            # 将 matrix1 的第 i 行第 k 列元素与 matrix2 的第 k 行第 j 列元素相乘，并累加到结果矩阵的相应位置\n",
    "            manual_result[i, j] += m1[i, k] * m2[k, j]\n",
    "        # 打印当前位置计算完成后的结果\n",
    "        print(f\"结果矩阵[{i+1},{j+1}]:{manual_result[i, j]}\\n\")\n",
    "\n",
    "print(\"手动推演结果:\")\n",
    "print(manual_result)"
   ]
  },
  {
   "cell_type": "code",
   "execution_count": 77,
   "metadata": {},
   "outputs": [],
   "source": [
    "np.save('result.npy',manual_result)"
   ]
  },
  {
   "cell_type": "code",
   "execution_count": 78,
   "metadata": {},
   "outputs": [
    {
     "data": {
      "text/plain": [
       "array([[32, 26],\n",
       "       [39, 22]])"
      ]
     },
     "execution_count": 78,
     "metadata": {},
     "output_type": "execute_result"
    }
   ],
   "source": [
    "result_np = np.load('result.npy')\n",
    "result_np"
   ]
  },
  {
   "cell_type": "markdown",
   "metadata": {},
   "source": [
    "广播机制（Broadcasting是NumPy处理不同形状数组运算的一种方式。允许NumPy自动扩展较小的数组，使其与较大的数组兼容，以便执行逐元素运算而不会真正复制数据，提高了计算效率。"
   ]
  },
  {
   "cell_type": "code",
   "execution_count": 80,
   "metadata": {},
   "outputs": [
    {
     "data": {
      "text/plain": [
       "array([[0, 3],\n",
       "       [1, 3],\n",
       "       [2, 4],\n",
       "       [3, 5]])"
      ]
     },
     "execution_count": 80,
     "metadata": {},
     "output_type": "execute_result"
    }
   ],
   "source": [
    "a = np.array([(1,2), (2,2), (3,3), (4,4)])  # shape(4,2)\n",
    "b = np.array([-1,1])  # shape(2)-> shape(1,2) -> shape(4,2)  [[-1,1],[-1,1],[-1,1],[-1,1]]\n",
    "a + b"
   ]
  },
  {
   "cell_type": "markdown",
   "metadata": {},
   "source": [
    "2. 广播规则\n",
    "\n",
    "NumPy 从后向前 逐维比较数组的 shape，并根据以下规则进行 扩展：\n",
    "\t1.\t维度相同，直接计算。\n",
    "\t2.\t某个维度为 1，可以沿该维度扩展，使其与另一个数组形状匹配。\n",
    "\t3.\t维度不相同且不为 1，则无法广播，会报错。"
   ]
  },
  {
   "cell_type": "code",
   "execution_count": 81,
   "metadata": {},
   "outputs": [
    {
     "ename": "ValueError",
     "evalue": "operands could not be broadcast together with shapes (2,3) (1,2) ",
     "output_type": "error",
     "traceback": [
      "\u001b[0;31m---------------------------------------------------------------------------\u001b[0m",
      "\u001b[0;31mValueError\u001b[0m                                Traceback (most recent call last)",
      "Cell \u001b[0;32mIn[81], line 4\u001b[0m\n\u001b[1;32m      1\u001b[0m a \u001b[38;5;241m=\u001b[39m np\u001b[38;5;241m.\u001b[39marray([[\u001b[38;5;241m1\u001b[39m, \u001b[38;5;241m2\u001b[39m, \u001b[38;5;241m3\u001b[39m], [\u001b[38;5;241m4\u001b[39m, \u001b[38;5;241m5\u001b[39m, \u001b[38;5;241m6\u001b[39m]])  \u001b[38;5;66;03m# shape (2,3)\u001b[39;00m\n\u001b[1;32m      2\u001b[0m b \u001b[38;5;241m=\u001b[39m np\u001b[38;5;241m.\u001b[39marray([[\u001b[38;5;241m10\u001b[39m, \u001b[38;5;241m20\u001b[39m]])              \u001b[38;5;66;03m# shape (1,2)\u001b[39;00m\n\u001b[0;32m----> 4\u001b[0m \u001b[38;5;28mprint\u001b[39m(\u001b[43ma\u001b[49m\u001b[43m \u001b[49m\u001b[38;5;241;43m+\u001b[39;49m\u001b[43m \u001b[49m\u001b[43mb\u001b[49m)\n",
      "\u001b[0;31mValueError\u001b[0m: operands could not be broadcast together with shapes (2,3) (1,2) "
     ]
    }
   ],
   "source": [
    "a = np.array([[1, 2, 3], [4, 5, 6]])  # shape (2,3)\n",
    "b = np.array([[10, 20]])              # shape (1,2)\n",
    "\n",
    "print(a + b)"
   ]
  }
 ],
 "metadata": {
  "kernelspec": {
   "display_name": "AI",
   "language": "python",
   "name": "python3"
  },
  "language_info": {
   "codemirror_mode": {
    "name": "ipython",
    "version": 3
   },
   "file_extension": ".py",
   "mimetype": "text/x-python",
   "name": "python",
   "nbconvert_exporter": "python",
   "pygments_lexer": "ipython3",
   "version": "3.12.9"
  }
 },
 "nbformat": 4,
 "nbformat_minor": 2
}

{
 "cells": [
  {
   "cell_type": "code",
   "execution_count": 4,
   "metadata": {},
   "outputs": [
    {
     "data": {
      "text/plain": [
       "tensor([[1, 2],\n",
       "        [3, 4]])"
      ]
     },
     "execution_count": 4,
     "metadata": {},
     "output_type": "execute_result"
    }
   ],
   "source": [
    "import torch\n",
    "data = torch.tensor([[1,2],[3,4]])\n",
    "data"
   ]
  },
  {
   "cell_type": "code",
   "execution_count": 3,
   "metadata": {},
   "outputs": [
    {
     "data": {
      "text/plain": [
       "tensor([[1, 2],\n",
       "        [3, 4]], dtype=torch.int32)"
      ]
     },
     "execution_count": 3,
     "metadata": {},
     "output_type": "execute_result"
    }
   ],
   "source": [
    "import numpy as np\n",
    "np_array = np.array([[1,2],[3,4]])\n",
    "data2 = torch.from_numpy(np_array)\n",
    "data2"
   ]
  },
  {
   "cell_type": "code",
   "execution_count": 25,
   "metadata": {},
   "outputs": [
    {
     "name": "stdout",
     "output_type": "stream",
     "text": [
      "torch.int32\n",
      "tensor([[0.9868, 0.8271, 0.1428],\n",
      "        [0.9056, 0.8925, 0.6068]])\n"
     ]
    },
    {
     "data": {
      "text/plain": [
       "tensor([[1., 1., 1.],\n",
       "        [1., 1., 1.]])"
      ]
     },
     "execution_count": 25,
     "metadata": {},
     "output_type": "execute_result"
    }
   ],
   "source": [
    "data3 = torch.ones_like(data2)\n",
    "data3\n",
    "\n",
    "#data4 = torch.zeros_like(data3)\n",
    "#data4\n",
    "print(data3.dtype)\n",
    "data5 = torch.rand_like(data3, dtype=torch.float)\n",
    "data5\n",
    "\n",
    "shape = (2,3)\n",
    "data6 = torch.rand(shape)\n",
    "print(data6)\n",
    "torch.zeros(shape)\n",
    "torch.ones(shape)\n",
    "\n",
    "\n"
   ]
  },
  {
   "cell_type": "code",
   "execution_count": 44,
   "metadata": {},
   "outputs": [
    {
     "data": {
      "text/plain": [
       "tensor([[0.0048, 0.4103, 0.5198],\n",
       "        [0.8055, 0.9578, 0.7996],\n",
       "        [0.2903, 0.1072, 0.8283],\n",
       "        [0.4392, 0.9939, 0.5507],\n",
       "        [0.1781, 0.2478, 0.0422]])"
      ]
     },
     "execution_count": 44,
     "metadata": {},
     "output_type": "execute_result"
    }
   ],
   "source": [
    "m = torch.ones(5,3, dtype=torch.double)\n",
    "m\n",
    "n = torch.rand_like(m)\n",
    "n.shape\n",
    "torch.rand(5,3)\n"
   ]
  },
  {
   "cell_type": "code",
   "execution_count": 5,
   "metadata": {},
   "outputs": [
    {
     "name": "stdout",
     "output_type": "stream",
     "text": [
      "False\n"
     ]
    }
   ],
   "source": [
    "tensor = torch.rand(3,4)\n",
    "tensor.device\n",
    "tensor.dtype\n",
    "\n",
    "if torch.cuda.is_available():\n",
    "    print(torch.cuda.is_available())\n",
    "print(torch.cuda.is_available())\n",
    "\n",
    "# device = torch.device(\"cuda\")\n",
    "# tensor = tensor.to(device)"
   ]
  },
  {
   "cell_type": "code",
   "execution_count": 61,
   "metadata": {},
   "outputs": [
    {
     "data": {
      "text/plain": [
       "tensor([[0.4637, 1.0000, 0.9814],\n",
       "        [0.1513, 1.0000, 0.9997],\n",
       "        [0.5219, 1.0000, 0.5734],\n",
       "        [0.1023, 1.0000, 0.1505],\n",
       "        [0.9081, 1.0000, 0.9784]])"
      ]
     },
     "execution_count": 61,
     "metadata": {},
     "output_type": "execute_result"
    }
   ],
   "source": [
    "tensor = torch.rand(5,3)\n",
    "tensor[0]\n",
    "tensor[0][1]\n",
    "tensor[:,1]\n",
    "tensor[...,2]\n",
    "\n",
    "tensor[:,1] = 1\n",
    "tensor"
   ]
  },
  {
   "cell_type": "code",
   "execution_count": 72,
   "metadata": {},
   "outputs": [
    {
     "name": "stdout",
     "output_type": "stream",
     "text": [
      "tensor([[0.9326, 0.2738, 0.7217, 0.9326, 0.2738, 0.7217, 0.9326, 0.2738, 0.7217,\n",
      "         0.9326, 0.2738, 0.7217, 0.9326, 0.2738, 0.7217, 0.9326, 0.2738, 0.7217,\n",
      "         0.9326, 0.2738, 0.7217, 0.9326, 0.2738, 0.7217],\n",
      "        [0.1446, 0.4732, 0.5788, 0.1446, 0.4732, 0.5788, 0.1446, 0.4732, 0.5788,\n",
      "         0.1446, 0.4732, 0.5788, 0.1446, 0.4732, 0.5788, 0.1446, 0.4732, 0.5788,\n",
      "         0.1446, 0.4732, 0.5788, 0.1446, 0.4732, 0.5788],\n",
      "        [0.0239, 0.7798, 0.7916, 0.0239, 0.7798, 0.7916, 0.0239, 0.7798, 0.7916,\n",
      "         0.0239, 0.7798, 0.7916, 0.0239, 0.7798, 0.7916, 0.0239, 0.7798, 0.7916,\n",
      "         0.0239, 0.7798, 0.7916, 0.0239, 0.7798, 0.7916],\n",
      "        [0.6854, 0.2550, 0.0612, 0.6854, 0.2550, 0.0612, 0.6854, 0.2550, 0.0612,\n",
      "         0.6854, 0.2550, 0.0612, 0.6854, 0.2550, 0.0612, 0.6854, 0.2550, 0.0612,\n",
      "         0.6854, 0.2550, 0.0612, 0.6854, 0.2550, 0.0612],\n",
      "        [0.5863, 0.2040, 0.5917, 0.5863, 0.2040, 0.5917, 0.5863, 0.2040, 0.5917,\n",
      "         0.5863, 0.2040, 0.5917, 0.5863, 0.2040, 0.5917, 0.5863, 0.2040, 0.5917,\n",
      "         0.5863, 0.2040, 0.5917, 0.5863, 0.2040, 0.5917]])\n"
     ]
    },
    {
     "data": {
      "text/plain": [
       "torch.Size([5, 24])"
      ]
     },
     "execution_count": 72,
     "metadata": {},
     "output_type": "execute_result"
    }
   ],
   "source": [
    "\n",
    "tensor = torch.cat([tensor,tensor], dim=1)\n",
    "print(tensor)\n",
    "tensor.shape"
   ]
  },
  {
   "cell_type": "code",
   "execution_count": null,
   "metadata": {},
   "outputs": [],
   "source": []
  }
 ],
 "metadata": {
  "kernelspec": {
   "display_name": "py312",
   "language": "python",
   "name": "python3"
  },
  "language_info": {
   "codemirror_mode": {
    "name": "ipython",
    "version": 3
   },
   "file_extension": ".py",
   "mimetype": "text/x-python",
   "name": "python",
   "nbconvert_exporter": "python",
   "pygments_lexer": "ipython3",
   "version": "3.12.9"
  }
 },
 "nbformat": 4,
 "nbformat_minor": 2
}

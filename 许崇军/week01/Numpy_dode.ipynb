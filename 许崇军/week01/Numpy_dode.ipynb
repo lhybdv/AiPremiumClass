{
 "cells": [
  {
   "cell_type": "markdown",
   "metadata": {},
   "source": [
    "一 numpy数组的生成"
   ]
  },
  {
   "cell_type": "code",
   "execution_count": null,
   "metadata": {},
   "outputs": [
    {
     "data": {
      "text/plain": [
       "array([   12, 23456, 35444])"
      ]
     },
     "execution_count": 25,
     "metadata": {},
     "output_type": "execute_result"
    }
   ],
   "source": [
    "import numpy as np\n",
    "a1 = [12,23456,35444]\n",
    "b = np.array(a1)  #创建数组，一维数组\n",
    "b"
   ]
  },
  {
   "cell_type": "code",
   "execution_count": null,
   "metadata": {},
   "outputs": [
    {
     "data": {
      "text/plain": [
       "array([1., 3., 5., 7., 9.])"
      ]
     },
     "execution_count": 6,
     "metadata": {},
     "output_type": "execute_result"
    }
   ],
   "source": [
    "a2 =np.array([1,3,5,7,9],dtype=np.float_)  #指定数据类型\n",
    "a2"
   ]
  },
  {
   "cell_type": "code",
   "execution_count": 8,
   "metadata": {},
   "outputs": [
    {
     "data": {
      "text/plain": [
       "array([[16, 27, 12],\n",
       "       [ 4,  5,  6],\n",
       "       [ 7,  8,  9]])"
      ]
     },
     "execution_count": 8,
     "metadata": {},
     "output_type": "execute_result"
    }
   ],
   "source": [
    "#创建多维数组\n",
    "a3 = np.array([[16,27,12],[4,5,6],[7,8,9]])\n",
    "a3"
   ]
  },
  {
   "cell_type": "code",
   "execution_count": null,
   "metadata": {},
   "outputs": [
    {
     "data": {
      "text/plain": [
       "array([[0., 0., 0., 0.],\n",
       "       [0., 0., 0., 0.],\n",
       "       [0., 0., 0., 0.]])"
      ]
     },
     "execution_count": 30,
     "metadata": {},
     "output_type": "execute_result"
    }
   ],
   "source": [
    "#特殊数组1、创建一个3行4列的元素全0数组\n",
    "a3 =np.zeros((3,4))  \n",
    "a3\n",
    "#print('zeros方法创建的结果：\\n',a3)"
   ]
  },
  {
   "cell_type": "code",
   "execution_count": 31,
   "metadata": {},
   "outputs": [
    {
     "data": {
      "text/plain": [
       "array([[1, 1, 1, 1, 1, 1],\n",
       "       [1, 1, 1, 1, 1, 1],\n",
       "       [1, 1, 1, 1, 1, 1],\n",
       "       [1, 1, 1, 1, 1, 1]])"
      ]
     },
     "execution_count": 31,
     "metadata": {},
     "output_type": "execute_result"
    }
   ],
   "source": [
    "\n",
    " #2、创建一个4行6列的数组，元素都是1\n",
    "a4 =np.ones((4,6),dtype=int) \n",
    "a4\n",
    "#print('ones方法创建的结果：\\n',a4)"
   ]
  },
  {
   "cell_type": "code",
   "execution_count": 32,
   "metadata": {},
   "outputs": [
    {
     "data": {
      "text/plain": [
       "array([[1., 0., 0.],\n",
       "       [0., 1., 0.],\n",
       "       [0., 0., 1.]])"
      ]
     },
     "execution_count": 32,
     "metadata": {},
     "output_type": "execute_result"
    }
   ],
   "source": [
    "#3、创建一个3行3列的数组，元素都是对角线为1，其余为0\n",
    "a5 = np.eye(3) \n",
    "a5\n",
    "#print('eye方法创建的结果：\\n',a5)"
   ]
  },
  {
   "cell_type": "code",
   "execution_count": 33,
   "metadata": {},
   "outputs": [
    {
     "data": {
      "text/plain": [
       "array([ 12,  21,  30,  39,  48,  57,  66,  75,  84,  93, 102])"
      ]
     },
     "execution_count": 33,
     "metadata": {},
     "output_type": "execute_result"
    }
   ],
   "source": [
    "#4、创建一个从12开始，到108结束，步长为9的数组\n",
    "a6 =np.arange(12,108,9) \n",
    "a6\n",
    "#print('arange方法创建的结果：\\n',a6)"
   ]
  },
  {
   "cell_type": "code",
   "execution_count": 36,
   "metadata": {},
   "outputs": [
    {
     "data": {
      "text/plain": [
       "array([0.2525429 , 0.11942399, 0.35275027, 0.54133738, 0.3030544 ,\n",
       "       0.26748248, 0.45593334, 0.59700514, 0.4147056 , 0.48817895,\n",
       "       0.01449008, 0.05422279, 0.48555342, 0.27557688, 0.57753058])"
      ]
     },
     "execution_count": 36,
     "metadata": {},
     "output_type": "execute_result"
    }
   ],
   "source": [
    "#⽣成指定⻓度，在 [0,1) 之间平均分布的随机数组：元素15个\n",
    "a7 = np.random.random(15)\n",
    "a7"
   ]
  },
  {
   "cell_type": "code",
   "execution_count": 37,
   "metadata": {},
   "outputs": [
    {
     "data": {
      "text/plain": [
       "array([2.07146716, 2.28669462, 2.26940267, 1.86454735, 2.41801151,\n",
       "       2.01243796, 1.89839497, 2.23699609])"
      ]
     },
     "execution_count": 37,
     "metadata": {},
     "output_type": "execute_result"
    }
   ],
   "source": [
    "#⽣成指定⻓度，符合正态分布的随机数组，指定其均值为 2，标准差为 0.3：\n",
    "mu,sigma = 2, 0.3\n",
    "a8 = np.random.normal(mu, sigma, 8)\n",
    "a8"
   ]
  },
  {
   "cell_type": "markdown",
   "metadata": {},
   "source": [
    "二 numpy数组的访问"
   ]
  },
  {
   "cell_type": "code",
   "execution_count": null,
   "metadata": {},
   "outputs": [
    {
     "data": {
      "text/plain": [
       "12"
      ]
     },
     "execution_count": 50,
     "metadata": {},
     "output_type": "execute_result"
    }
   ],
   "source": [
    "#数组切片和索引\n",
    "a9 =np.array([(1,9,773,46),(5,6,7,8),(49,10,17,12)])\n",
    "#print(a9)\n",
    "#a9[2]#  #输出第3个 \n",
    "#a9[1:]   #输出第2行之后的\n",
    "# a9[:,:1]\n",
    "# a9[:,:3]   \n",
    "# a9[:,:5]\n",
    "a9[2][3]  #索引从0开始的，0,1,2,3\n"
   ]
  },
  {
   "cell_type": "code",
   "execution_count": null,
   "metadata": {},
   "outputs": [
    {
     "name": "stdout",
     "output_type": "stream",
     "text": [
      "12\n",
      "23456\n",
      "35444\n"
     ]
    }
   ],
   "source": [
    "#一维数组遍历\n",
    "for i in a1:  #别忘记末尾有个冒号\n",
    "    print(i)\n",
    "\n",
    "#多维数组遍历\n",
    "# for i,j,z,y in a9:\n",
    "#     print(i*j*z*y)\n"
   ]
  },
  {
   "cell_type": "markdown",
   "metadata": {},
   "source": [
    "三、数组的属性"
   ]
  },
  {
   "cell_type": "code",
   "execution_count": 56,
   "metadata": {},
   "outputs": [
    {
     "name": "stdout",
     "output_type": "stream",
     "text": [
      "ndim: 2\n",
      "shape: (3, 5)\n",
      "size: 15\n",
      "dtype: int32\n"
     ]
    }
   ],
   "source": [
    "#数组的属性\n",
    "a10 =np.array([(1,922,773,46,23),(5,6,7,8,34),(49,10,17,12,34)])\n",
    "print(\"ndim:\",a10.ndim)  #维度  #因为这里是二维数组，\n",
    "#所以是2\n",
    "print(\"shape:\",a10.shape)  #形状\n",
    "print(\"size:\",a10.size)  #元素个数\n",
    "print(\"dtype:\",a10.dtype)  #元素类型"
   ]
  },
  {
   "cell_type": "code",
   "execution_count": null,
   "metadata": {},
   "outputs": [
    {
     "name": "stdout",
     "output_type": "stream",
     "text": [
      "ndim: 2\n",
      "shape: (3, 4)\n",
      "size: 12\n",
      "dtype: int32\n"
     ]
    }
   ],
   "source": [
    "a9 =np.array([(1,9,773,46),(5,6,7,8),(49,10,17,12)])\n",
    "print(\"ndim:\",a9.ndim)  #维度  #因为这里是二维数组，所以是2\n",
    "print(\"shape:\",a9.shape)  #形状\n",
    "print(\"size:\",a9.size)  #元素个数\n",
    "print(\"dtype:\",a9.dtype)  #元素类型"
   ]
  },
  {
   "cell_type": "code",
   "execution_count": null,
   "metadata": {},
   "outputs": [
    {
     "name": "stdout",
     "output_type": "stream",
     "text": [
      "ndim: 3\n",
      "shape: (1, 2, 3)\n",
      "size: 6\n",
      "dtype: object\n"
     ]
    }
   ],
   "source": [
    "a11 = np.array([[[[16,27,12],[4,5,6],[7,8,9]],[1,2,3]]],dtype=object)  #这里要指定为object类型，否则报错\n",
    "print(\"ndim:\",a11.ndim)  #维度\n",
    "print(\"shape:\",a11.shape)  #形状,\n",
    "print(\"size:\",a11.size)  #元素个数\n",
    "print(\"dtype:\",a11.dtype)  #元素类型"
   ]
  },
  {
   "cell_type": "code",
   "execution_count": null,
   "metadata": {},
   "outputs": [
    {
     "name": "stdout",
     "output_type": "stream",
     "text": [
      "ndim: 1\n",
      "shape: (5,)\n",
      "size: 5\n",
      "dtype: float64\n"
     ]
    }
   ],
   "source": [
    "a2 =np.array([1,3,5,7,9],dtype=np.float64) \n",
    "print(\"ndim:\",a2.ndim)  #维度  #一维数组，所以是1\n",
    "print(\"shape:\",a2.shape)  #形状\n",
    "print(\"size:\",a2.size)  #元素个数\n",
    "print(\"dtype:\",a2.dtype)  #元素类型"
   ]
  },
  {
   "cell_type": "markdown",
   "metadata": {},
   "source": [
    "四、数组的操作"
   ]
  },
  {
   "cell_type": "code",
   "execution_count": 71,
   "metadata": {},
   "outputs": [
    {
     "name": "stdout",
     "output_type": "stream",
     "text": [
      "True\n"
     ]
    }
   ],
   "source": [
    "#1、in:检测数值是否在数组中\n",
    "print(3 in a2)"
   ]
  },
  {
   "cell_type": "code",
   "execution_count": null,
   "metadata": {},
   "outputs": [
    {
     "name": "stdout",
     "output_type": "stream",
     "text": [
      "[[0. 0. 0. 0. 0. 0. 0. 0. 0. 0. 0. 0.]\n",
      " [0. 0. 0. 0. 0. 0. 0. 0. 0. 0. 0. 0.]]\n",
      "[0. 0. 0. 0. 0. 0. 0. 0. 0. 0. 0. 0. 0. 0. 0. 0. 0. 0. 0. 0. 0. 0. 0. 0.]\n"
     ]
    }
   ],
   "source": [
    "#2、reshape: 数组的重排列，例如将⼀个 3 维数组转变为 1 维（元素数⼀定要保持不变）\n",
    "a = np.zeros([2,3,4]) #创建一个3维数组\n",
    "b1 = a.reshape(2,12)   #将3维数组转变为2维数组        \n",
    "# b2 = a.reshape(2,2,6)\n",
    "b3 = a.reshape(24)       #将3维数组转变为1维数组\n",
    "print(b1)\n",
    "# print(b2)\n",
    "print(b3)\n"
   ]
  },
  {
   "cell_type": "code",
   "execution_count": 78,
   "metadata": {},
   "outputs": [
    {
     "data": {
      "text/plain": [
       "array([[  1,   5,  49],\n",
       "       [  9,   6,  10],\n",
       "       [773,   7,  17],\n",
       "       [ 46,   8,  12]])"
      ]
     },
     "execution_count": 78,
     "metadata": {},
     "output_type": "execute_result"
    }
   ],
   "source": [
    "#3、tanspose：转置 (可以直接.T）\n",
    "a9 =np.array([(1,9,773,46),(5,6,7,8),(49,10,17,12)])\n",
    "a12 =a9.transpose()\n",
    "a12"
   ]
  },
  {
   "cell_type": "code",
   "execution_count": 79,
   "metadata": {},
   "outputs": [
    {
     "data": {
      "text/plain": [
       "array([  1,   5,  49,   9,   6,  10, 773,   7,  17,  46,   8,  12])"
      ]
     },
     "execution_count": 79,
     "metadata": {},
     "output_type": "execute_result"
    }
   ],
   "source": [
    "#4、flatten: 把多维数组转换为⼀维数组，注意每个元组的⻓度是相同的\n",
    "a13 = a12.flatten()\n",
    "a13\n"
   ]
  },
  {
   "cell_type": "code",
   "execution_count": null,
   "metadata": {},
   "outputs": [
    {
     "data": {
      "text/plain": [
       "(3, 1, 3)"
      ]
     },
     "execution_count": 93,
     "metadata": {},
     "output_type": "execute_result"
    }
   ],
   "source": [
    "#5、newaxis: 增加列维度\n",
    "a3 = np.array([[16,27,12],[4,5,6],[7,8,9]])\n",
    "# a3.shape\n",
    "\n",
    "a14 = a3[:,np.newaxis]     #增加列维度\n",
    "a14\n",
    "# a14.shape\n",
    "\n",
    "\n"
   ]
  },
  {
   "cell_type": "code",
   "execution_count": 94,
   "metadata": {},
   "outputs": [
    {
     "data": {
      "text/plain": [
       "(1, 3, 3)"
      ]
     },
     "execution_count": 94,
     "metadata": {},
     "output_type": "execute_result"
    }
   ],
   "source": [
    "# 5、newaxis: 增加行维度\n",
    "a3 = np.array([[16,27,12],[4,5,6],[7,8,9]])\n",
    "a15 = a3[np.newaxis,:]     #增加行维度\n",
    "# a15\n",
    "a15.shape"
   ]
  },
  {
   "cell_type": "code",
   "execution_count": null,
   "metadata": {},
   "outputs": [
    {
     "name": "stdout",
     "output_type": "stream",
     "text": [
      "[[1. 1.]\n",
      " [1. 1.]]\n",
      "[[1 1]\n",
      " [6 9]]\n",
      "[[ 2.  2.]\n",
      " [ 7. 10.]]\n",
      "[[ 0.  0.]\n",
      " [-5. -8.]]\n",
      "[[1. 1.]\n",
      " [6. 9.]]\n",
      "[[1.         1.        ]\n",
      " [0.16666667 0.11111111]]\n",
      "17\n",
      "54\n",
      "4.25\n",
      "9\n",
      "1\n",
      "3.5\n",
      "3.418698582794336\n",
      "11.6875\n",
      "3\n",
      "0\n"
     ]
    }
   ],
   "source": [
    "#6、数学操作：加减乘除、求和、求积、求平均值、求最⼤最⼩值、求中位数、求标准差、求方差、求最⼤最⼩值的位置\n",
    "a = np.ones((2,2))\n",
    "b = np.array([(1,1),(6,9)])\n",
    "print(a)\n",
    "print(b)\n",
    "print(a+b)  #加法\n",
    "print(a-b)  #减法\n",
    "print(a*b)  #乘法\n",
    "print(a/b)  #除法\n",
    "print(np.sum(b))  #求和\n",
    "print(np.prod(b))  #求积\n",
    "print(np.mean(b))  #求平均值\n",
    "print(np.max(b))  #求最⼤值\n",
    "print(np.min(b))  #求最⼩值\n",
    "print(np.median(b))  #求中位数\n",
    "print(np.std(b))  #求标准差\n",
    "print(np.var(b))  #求方差\n",
    "print(np.argmax(b))  #求最⼤值的位置\n",
    "print(np.argmin(b))  #求最⼩值的位置\n"
   ]
  },
  {
   "cell_type": "code",
   "execution_count": 97,
   "metadata": {},
   "outputs": [
    {
     "name": "stdout",
     "output_type": "stream",
     "text": [
      "[  3.  23.  30. 212.   5.]\n",
      "[  2.  23.  29. 212.   5.]\n",
      "[  3.  23.  29. 212.   5.]\n",
      "[  3.  23.  29. 212.   5.]\n",
      "[  2.  23.  29. 212.   5.]\n"
     ]
    },
    {
     "data": {
      "text/plain": [
       "[2.89, 5.0, 23.0, 29.08, 212.0]"
      ]
     },
     "execution_count": 97,
     "metadata": {},
     "output_type": "execute_result"
    }
   ],
   "source": [
    "#取元素值上限，下限，四舍五⼊，向上取整，向下取整\n",
    "a = np.array([2.89,23,29.08,212,5.0])\n",
    "print(np.ceil(a))  #向上取整\n",
    "print(np.floor(a))  #向下取整\n",
    "print(np.rint(a))  #四舍五⼊\n",
    "print(np.around(a))  #四舍五⼊\n",
    "print(np.trunc(a))  #取元素值上限\n",
    "sorted(a)  #排序    "
   ]
  },
  {
   "cell_type": "markdown",
   "metadata": {},
   "source": [
    "五 numpy线性代数\n"
   ]
  },
  {
   "cell_type": "code",
   "execution_count": 99,
   "metadata": {},
   "outputs": [
    {
     "name": "stdout",
     "output_type": "stream",
     "text": [
      "矩阵 1:\n",
      "[[13. 21.]\n",
      " [ 5.  6.]]\n",
      "矩阵 2:\n",
      "[[15. 16.]\n",
      " [ 1.  6.]]\n",
      "使⽤ np.dot 得到的矩阵乘法结果:\n",
      "[[216. 334.]\n",
      " [ 81. 116.]]\n",
      "使⽤ @ 运算符得到的矩阵乘法结果:\n",
      "[[216. 334.]\n",
      " [ 81. 116.]]\n"
     ]
    }
   ],
   "source": [
    "m1 = np.array([[13,21], [5,6]], dtype=np.float32)    \n",
    "m2 = np.array([[15, 16], [1,6]], dtype=np.float32)\n",
    "result_dot = np.dot(m1, m2)    \n",
    "result_at = m1 @ m2\n",
    "print(\"矩阵 1:\")\n",
    "print(m1)\n",
    "print(\"矩阵 2:\")\n",
    "print(m2)\n",
    "print(\"使⽤ np.dot 得到的矩阵乘法结果:\")\n",
    "print(result_dot)\n",
    "print(\"使⽤ @ 运算符得到的矩阵乘法结果:\")\n",
    "print(result_at)"
   ]
  },
  {
   "cell_type": "code",
   "execution_count": 100,
   "metadata": {},
   "outputs": [
    {
     "name": "stdout",
     "output_type": "stream",
     "text": [
      "13.0 * 15.0 = 195.0\n",
      "21.0 * 1.0 = 21.0\n",
      "结果矩阵[1,1]:216.0\n",
      "\n",
      "13.0 * 16.0 = 208.0\n",
      "21.0 * 6.0 = 126.0\n",
      "结果矩阵[1,2]:334.0\n",
      "\n",
      "5.0 * 15.0 = 75.0\n",
      "6.0 * 1.0 = 6.0\n",
      "结果矩阵[2,1]:81.0\n",
      "\n",
      "5.0 * 16.0 = 80.0\n",
      "6.0 * 6.0 = 36.0\n",
      "结果矩阵[2,2]:116.0\n",
      "\n",
      "⼿动推演结果:\n",
      "[[216. 334.]\n",
      " [ 81. 116.]]\n"
     ]
    }
   ],
   "source": [
    "# 创建⼀个全零矩阵，⽤于存储⼿动推演的结果\n",
    "# 结果矩阵的⾏数等于 matrix1 的⾏数，列数等于 matrix2 的列数\n",
    "manual_result = np.zeros((m1.shape[0], m2.shape[1]), dtype=np.float32)\n",
    "# 外层循环：遍历 matrix1 的每⼀⾏\n",
    "# i 表⽰结果矩阵的⾏索引\n",
    "for i in range(m1.shape[0]):\n",
    "    # 中层循环：遍历 matrix2 的每⼀列\n",
    "    # j 表⽰结果矩阵的列索引\n",
    "    for j in range(m2.shape[1]):\n",
    "        # 初始化当前位置的结果为 0\n",
    "        manual_result[i, j] = 0\n",
    "        # 内层循环：计算 matrix1 的第 i ⾏与 matrix2 的第 j 列对应元素的乘积之和\n",
    "        # k 表⽰参与乘法运算的元素索引\n",
    "        for k in range(m1.shape[1]):\n",
    "            # 打印当前正在计算的元素\n",
    "            print(f\"{m1[i, k]} * {m2[k, j]} = {m1[i, k] * m2[k, j]}\")\n",
    "            # 将 matrix1 的第 i ⾏第 k 列元素与 matrix2 的第 k ⾏第 j 列元素相乘，并累\n",
    "            manual_result[i, j] += m1[i, k] * m2[k, j]\n",
    "        # 打印当前位置计算完成后的结果\n",
    "        print(f\"结果矩阵[{i+1},{j+1}]:{manual_result[i, j]}\\n\")\n",
    "print(\"⼿动推演结果:\")\n",
    "print(manual_result)"
   ]
  },
  {
   "cell_type": "markdown",
   "metadata": {},
   "source": [
    "六 numpy文件操作"
   ]
  },
  {
   "cell_type": "code",
   "execution_count": 102,
   "metadata": {},
   "outputs": [
    {
     "name": "stdout",
     "output_type": "stream",
     "text": [
      "[[  1   5  49]\n",
      " [  9   6  10]\n",
      " [773   7  17]\n",
      " [ 46   8  12]]\n"
     ]
    }
   ],
   "source": [
    "   \n",
    "c = np.save('outfile.npy', a12)\n",
    "c\n",
    "d =np.load('outfile.npy')\n",
    "print(d)\n"
   ]
  },
  {
   "cell_type": "markdown",
   "metadata": {},
   "source": [
    "七、NumPy 广播机制"
   ]
  },
  {
   "cell_type": "code",
   "execution_count": 112,
   "metadata": {},
   "outputs": [
    {
     "ename": "ValueError",
     "evalue": "operands could not be broadcast together with shapes (11,) (4,3) ",
     "output_type": "error",
     "traceback": [
      "\u001b[1;31m---------------------------------------------------------------------------\u001b[0m",
      "\u001b[1;31mValueError\u001b[0m                                Traceback (most recent call last)",
      "\u001b[1;32m<ipython-input-112-444a0ff28435>\u001b[0m in \u001b[0;36m<module>\u001b[1;34m\u001b[0m\n\u001b[0;32m      5\u001b[0m \u001b[0ma6\u001b[0m\u001b[1;33m.\u001b[0m\u001b[0mshape\u001b[0m\u001b[1;33m\u001b[0m\u001b[1;33m\u001b[0m\u001b[0m\n\u001b[0;32m      6\u001b[0m \u001b[1;33m\u001b[0m\u001b[0m\n\u001b[1;32m----> 7\u001b[1;33m \u001b[0ma6\u001b[0m \u001b[1;33m+\u001b[0m\u001b[0ma12\u001b[0m\u001b[1;33m\u001b[0m\u001b[1;33m\u001b[0m\u001b[0m\n\u001b[0m",
      "\u001b[1;31mValueError\u001b[0m: operands could not be broadcast together with shapes (11,) (4,3) "
     ]
    }
   ],
   "source": [
    "#当运算中的 2 个数组的形状不同时，numpy 将⾃动触发⼴播机制\n",
    "# a12.shape\n",
    "# a12  (4,3)\n",
    "# a6\n",
    "a6.shape\n",
    "\n",
    "a6 +a12"
   ]
  },
  {
   "cell_type": "code",
   "execution_count": 120,
   "metadata": {},
   "outputs": [
    {
     "data": {
      "text/plain": [
       "array([[16, 28, 14],\n",
       "       [ 4,  6,  8],\n",
       "       [ 7,  9, 11]])"
      ]
     },
     "execution_count": 120,
     "metadata": {},
     "output_type": "execute_result"
    }
   ],
   "source": [
    "#当运算中的 2 个数组的形状不同时，numpy 将⾃动触发⼴播机制\n",
    "a3 = np.array([[16,27,12],[4,5,6],[7,8,9]])\n",
    "a16 =np.array([0,1,2])\n",
    "# a3.shape  #(3,3)\n",
    "# print(a3)\n",
    "a3 + a16"
   ]
  },
  {
   "cell_type": "code",
   "execution_count": null,
   "metadata": {},
   "outputs": [],
   "source": []
  }
 ],
 "metadata": {
  "kernelspec": {
   "display_name": "libai",
   "language": "python",
   "name": "xcjpy"
  },
  "language_info": {
   "codemirror_mode": {
    "name": "ipython",
    "version": 3
   },
   "file_extension": ".py",
   "mimetype": "text/x-python",
   "name": "python",
   "nbconvert_exporter": "python",
   "pygments_lexer": "ipython3",
   "version": "3.8.8"
  }
 },
 "nbformat": 4,
 "nbformat_minor": 2
}

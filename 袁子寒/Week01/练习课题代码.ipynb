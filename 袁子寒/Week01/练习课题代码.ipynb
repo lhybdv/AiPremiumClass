{
 "cells": [
  {
   "cell_type": "markdown",
   "metadata": {},
   "source": [
    "# Numpy part"
   ]
  },
  {
   "cell_type": "code",
   "execution_count": 2,
   "metadata": {},
   "outputs": [],
   "source": [
    "import numpy as np"
   ]
  },
  {
   "cell_type": "code",
   "execution_count": 3,
   "metadata": {},
   "outputs": [
    {
     "data": {
      "text/plain": [
       "array([2., 3., 4., 5., 6.])"
      ]
     },
     "execution_count": 3,
     "metadata": {},
     "output_type": "execute_result"
    }
   ],
   "source": [
    "# create narray\n",
    "arr = np.array([2,3,4,5,6], float)\n",
    "arr"
   ]
  },
  {
   "cell_type": "code",
   "execution_count": 4,
   "metadata": {},
   "outputs": [
    {
     "data": {
      "text/plain": [
       "array([[ 2,  3,  4],\n",
       "       [ 5,  6,  7],\n",
       "       [ 8,  9, 10]])"
      ]
     },
     "execution_count": 4,
     "metadata": {},
     "output_type": "execute_result"
    }
   ],
   "source": [
    "a = np.array([(2,3,4), (5,6,7), (8,9,10)])\n",
    "a"
   ]
  },
  {
   "cell_type": "code",
   "execution_count": 6,
   "metadata": {},
   "outputs": [
    {
     "data": {
      "text/plain": [
       "array([[0., 0., 0., 0.],\n",
       "       [0., 0., 0., 0.],\n",
       "       [0., 0., 0., 0.]], dtype=float32)"
      ]
     },
     "execution_count": 6,
     "metadata": {},
     "output_type": "execute_result"
    }
   ],
   "source": [
    "a1 = np.zeros((3,4), dtype=np.float32)\n",
    "a1"
   ]
  },
  {
   "cell_type": "code",
   "execution_count": null,
   "metadata": {},
   "outputs": [
    {
     "data": {
      "text/plain": [
       "array([2. , 3.5, 5. , 6.5])"
      ]
     },
     "execution_count": 8,
     "metadata": {},
     "output_type": "execute_result"
    }
   ],
   "source": [
    "a2 = np.arange(2,7, 1.5)\n",
    "a2"
   ]
  },
  {
   "cell_type": "code",
   "execution_count": 11,
   "metadata": {},
   "outputs": [
    {
     "data": {
      "text/plain": [
       "array([[1., 0., 0., 0.],\n",
       "       [0., 1., 0., 0.],\n",
       "       [0., 0., 1., 0.],\n",
       "       [0., 0., 0., 1.]])"
      ]
     },
     "execution_count": 11,
     "metadata": {},
     "output_type": "execute_result"
    }
   ],
   "source": [
    "a3 = np.eye(4)\n",
    "a3"
   ]
  },
  {
   "cell_type": "code",
   "execution_count": null,
   "metadata": {},
   "outputs": [
    {
     "name": "stdout",
     "output_type": "stream",
     "text": [
      "[0.48858791 0.37875103 0.0070976  0.26421533 0.61849031 0.78463181]\n",
      "[ 0.91516242  0.31498549 -1.00909096  0.47308164  0.32549532  2.13120475]\n"
     ]
    }
   ],
   "source": [
    "# random number\n",
    "a4 = np.random.random(6) # [0,1]\n",
    "print(a4)\n",
    "a5 = np.random.normal(1, 1.2, 6) # mean=1, std=1.2 normal distribution\n",
    "print(a5)"
   ]
  },
  {
   "cell_type": "code",
   "execution_count": 19,
   "metadata": {},
   "outputs": [
    {
     "name": "stdout",
     "output_type": "stream",
     "text": [
      "[4 5]\n"
     ]
    }
   ],
   "source": [
    "# slice\n",
    "a6 = np.array([(2,3), (4,5), (6,7)])\n",
    "print(a6[1,:])"
   ]
  },
  {
   "cell_type": "code",
   "execution_count": 20,
   "metadata": {},
   "outputs": [
    {
     "name": "stdout",
     "output_type": "stream",
     "text": [
      "ndim: 2\n",
      "shape: (3, 3)\n",
      "size 9\n",
      "dtype int32\n"
     ]
    }
   ],
   "source": [
    "a7 = np.array([(2,3,4), (5,6,7), (8,9,10)])\n",
    "print(\"ndim:\", a7.ndim)\n",
    "print(\"shape:\", a7.shape)\n",
    "print(\"size\", a7.size)\n",
    "print(\"dtype\", a7.dtype)"
   ]
  },
  {
   "cell_type": "code",
   "execution_count": 23,
   "metadata": {},
   "outputs": [
    {
     "data": {
      "text/plain": [
       "array([[[ 2],\n",
       "        [ 3],\n",
       "        [ 4]],\n",
       "\n",
       "       [[ 5],\n",
       "        [ 6],\n",
       "        [ 7]],\n",
       "\n",
       "       [[ 8],\n",
       "        [ 9],\n",
       "        [10]]])"
      ]
     },
     "execution_count": 23,
     "metadata": {},
     "output_type": "execute_result"
    }
   ],
   "source": [
    "# reshape\n",
    "a8 = a7.reshape(3,3,1)  # 维度大小乘积 == 元素个数\n",
    "a8"
   ]
  },
  {
   "cell_type": "code",
   "execution_count": 24,
   "metadata": {},
   "outputs": [
    {
     "data": {
      "text/plain": [
       "array([ 2,  3,  4,  5,  6,  7,  8,  9, 10])"
      ]
     },
     "execution_count": 24,
     "metadata": {},
     "output_type": "execute_result"
    }
   ],
   "source": [
    "a9 = a8.flatten()\n",
    "a9"
   ]
  },
  {
   "cell_type": "code",
   "execution_count": 29,
   "metadata": {},
   "outputs": [
    {
     "name": "stdout",
     "output_type": "stream",
     "text": [
      "[[2 3]\n",
      " [4 5]\n",
      " [6 7]]\n",
      "b.newaxis = \n",
      " [[[2]\n",
      "  [3]]\n",
      "\n",
      " [[4]\n",
      "  [5]]\n",
      "\n",
      " [[6]\n",
      "  [7]]]\n",
      "(3, 2, 1)\n"
     ]
    }
   ],
   "source": [
    "# 加一个维度\n",
    "b = np.array([(2,3), (4,5), (6,7)])\n",
    "print(b)\n",
    "b = b[:,:,np.newaxis]\n",
    "print(\"b.newaxis = \\n\",b)\n",
    "print(b.shape)"
   ]
  },
  {
   "cell_type": "code",
   "execution_count": 36,
   "metadata": {},
   "outputs": [
    {
     "name": "stdout",
     "output_type": "stream",
     "text": [
      "7.300000000000001\n",
      "10.8\n",
      "m1*m2 =  [[12. 21.]\n",
      " [32. 45.]]\n",
      "m1@m2 =  [[36. 41.]\n",
      " [64. 73.]]\n"
     ]
    }
   ],
   "source": [
    "# 运算\n",
    "print(b.sum())\n",
    "print(b.prod())\n",
    "m1 = np.array([[2, 3], [4, 5]], dtype=np.float32)\n",
    "m2 = np.array([[6, 7], [8, 9]], dtype=np.float32)\n",
    "print(\"m1*m2 = \", m1*m2)\n",
    "print(\"m1@m2 = \", m1@m2)\n"
   ]
  },
  {
   "cell_type": "code",
   "execution_count": null,
   "metadata": {},
   "outputs": [
    {
     "name": "stdout",
     "output_type": "stream",
     "text": [
      "mean: 2.4333333333333336\n",
      "var: 0.9622222222222222\n",
      "std: 0.9809292646374774\n",
      "argmax: 8\n",
      "argmin: 0\n",
      "ceil: [[ 2.  3.  4.]\n",
      " [ 5.  6.  7.]\n",
      " [ 8.  9. 10.]]\n",
      "floor: [[ 2.  3.  4.]\n",
      " [ 5.  6.  7.]\n",
      " [ 8.  9. 10.]]\n",
      "rint: [[ 2.  3.  4.]\n",
      " [ 5.  6.  7.]\n",
      " [ 8.  9. 10.]]\n"
     ]
    }
   ],
   "source": [
    "b = np.array([1.2,2.5,3.6])\n",
    "print(\"mean:\",b.mean())\n",
    "print(\"var:\", b.var())\n",
    "print(\"std:\", b.std())\n",
    "print(\"argmax:\", a.argmax())\n",
    "print(\"argmin:\", a.argmin())\n",
    "print(\"ceil:\", np.ceil(a))\n",
    "print(\"floor:\", np.floor(a))\n",
    "print(\"rint:\", np.rint(a))  # 四舍五入"
   ]
  },
  {
   "cell_type": "code",
   "execution_count": null,
   "metadata": {},
   "outputs": [
    {
     "data": {
      "text/plain": [
       "array([13, 17, 23, 29, 32, 32, 49])"
      ]
     },
     "execution_count": 35,
     "metadata": {},
     "output_type": "execute_result"
    }
   ],
   "source": [
    "# 排序\n",
    "a = np.array([17,32,13,29,23,32,49])\n",
    "a.sort()\n",
    "a"
   ]
  },
  {
   "cell_type": "code",
   "execution_count": 37,
   "metadata": {},
   "outputs": [
    {
     "data": {
      "text/plain": [
       "array([13, 17, 23, 29, 32, 32, 49])"
      ]
     },
     "execution_count": 37,
     "metadata": {},
     "output_type": "execute_result"
    }
   ],
   "source": [
    "# numpy存文件 读文件\n",
    "np.save('a.npy', a)\n",
    "load_a = np.load('a.npy')\n",
    "load_a"
   ]
  },
  {
   "cell_type": "code",
   "execution_count": 40,
   "metadata": {},
   "outputs": [
    {
     "data": {
      "text/plain": [
       "array([[0, 5],\n",
       "       [1, 5],\n",
       "       [2, 6],\n",
       "       [3, 7]])"
      ]
     },
     "execution_count": 40,
     "metadata": {},
     "output_type": "execute_result"
    }
   ],
   "source": [
    "# 自对齐特性 broadcast\n",
    "a = np.array([(2,3), (3,3), (4,4), (5,5)])  # shape(4,2)\n",
    "b = np.array([-2,2])  # shape(2)-> shape(1,2) -> shape(4,2)  [[-2,2],[-2,2],[-2,2],[-2,2]]\n",
    "a + b"
   ]
  },
  {
   "cell_type": "markdown",
   "metadata": {},
   "source": [
    "# pytorch"
   ]
  },
  {
   "cell_type": "markdown",
   "metadata": {},
   "source": [
    "## Tensor"
   ]
  },
  {
   "cell_type": "code",
   "execution_count": 3,
   "metadata": {},
   "outputs": [
    {
     "name": "stdout",
     "output_type": "stream",
     "text": [
      "tensor([[3., 4.],\n",
      "        [5., 6.]])\n",
      "tensor([[3, 4],\n",
      "        [5, 6]], dtype=torch.int32)\n"
     ]
    }
   ],
   "source": [
    "# tensor\n",
    "import torch\n",
    "data = torch.tensor([[3,4],[5,6]], dtype=torch.float32)  # 创建 PyTorch 张量\n",
    "print(data)\n",
    "np_array = np.array([[3,4],[5,6]])\n",
    "data1 = torch.from_numpy(np_array)  # 创建 PyTorch 张量\n",
    "print(data1)"
   ]
  },
  {
   "cell_type": "code",
   "execution_count": 4,
   "metadata": {},
   "outputs": [
    {
     "data": {
      "text/plain": [
       "tensor([[0., 0.],\n",
       "        [0., 0.]])"
      ]
     },
     "execution_count": 4,
     "metadata": {},
     "output_type": "execute_result"
    }
   ],
   "source": [
    "# 通过已知张量维度，创建新张量\n",
    "data2 = torch.rand_like(data1, dtype=torch.float)  # 创建 PyTorch 张量\n",
    "data3 = torch.zeros_like(data2)\n",
    "data3"
   ]
  },
  {
   "cell_type": "code",
   "execution_count": 5,
   "metadata": {},
   "outputs": [
    {
     "name": "stdout",
     "output_type": "stream",
     "text": [
      "Random Tensor: \n",
      " tensor([[0.9647, 0.4927, 0.5925, 0.4146, 0.7792],\n",
      "        [0.0955, 0.8000, 0.7223, 0.1609, 0.4407],\n",
      "        [0.4969, 0.6626, 0.1960, 0.2981, 0.7286],\n",
      "        [0.5702, 0.9408, 0.9007, 0.5933, 0.6320]]) \n",
      "\n",
      "Ones Tensor: \n",
      " tensor([[1., 1., 1., 1., 1.],\n",
      "        [1., 1., 1., 1., 1.],\n",
      "        [1., 1., 1., 1., 1.],\n",
      "        [1., 1., 1., 1., 1.]]) \n",
      "\n",
      "Zeros Tensor: \n",
      " tensor([[0., 0., 0., 0., 0.],\n",
      "        [0., 0., 0., 0., 0.],\n",
      "        [0., 0., 0., 0., 0.],\n",
      "        [0., 0., 0., 0., 0.]])\n"
     ]
    }
   ],
   "source": [
    "shape = (4,5,)\n",
    "rand_tensor = torch.rand(shape)\n",
    "ones_tensor = torch.ones(shape)\n",
    "zeros_tensor = torch.zeros(shape)\n",
    "\n",
    "print(f\"Random Tensor: \\n {rand_tensor} \\n\")\n",
    "print(f\"Ones Tensor: \\n {ones_tensor} \\n\")\n",
    "print(f\"Zeros Tensor: \\n {zeros_tensor}\")"
   ]
  },
  {
   "cell_type": "code",
   "execution_count": 6,
   "metadata": {},
   "outputs": [
    {
     "name": "stdout",
     "output_type": "stream",
     "text": [
      "torch.Size([2, 2])\n",
      "tensor([[0.1828, 0.5127, 0.4884, 0.2342, 0.9813],\n",
      "        [0.7232, 0.3636, 0.4135, 0.3200, 0.5750],\n",
      "        [0.2175, 0.0799, 0.1562, 0.1157, 0.8324],\n",
      "        [0.1140, 0.9643, 0.4149, 0.4868, 0.6632],\n",
      "        [0.7681, 0.2698, 0.5973, 0.1255, 0.2898],\n",
      "        [0.9669, 0.4391, 0.3267, 0.6780, 0.6982],\n",
      "        [0.1094, 0.4757, 0.1360, 0.7573, 0.6924]])\n",
      "tensor([[-0.8800,  0.5871, -1.6324, -0.2208,  0.0557],\n",
      "        [ 0.2653, -0.5559,  0.2231,  1.0320, -0.2768],\n",
      "        [ 0.8179, -0.1694,  1.4879, -1.9091, -0.2732],\n",
      "        [-0.2534,  0.5466,  2.5303, -1.0794, -2.1106],\n",
      "        [-1.0652,  0.2844, -0.9048, -0.2970, -0.5849],\n",
      "        [ 1.2141,  0.6582,  0.2611, -0.1235,  0.9719],\n",
      "        [ 0.7099, -0.2025,  0.5758, -0.8394,  0.4096]])\n",
      "tensor([[ 3.3265,  1.8947,  1.0219,  1.5532,  2.5418],\n",
      "        [-1.8440,  1.0710, -0.6345,  0.1897, -1.8819],\n",
      "        [-5.2972, -0.3488, -0.4522, -0.7139,  0.7276],\n",
      "        [ 2.4123,  0.4490,  5.0093,  0.0164, -3.3957],\n",
      "        [ 2.9425,  1.0092,  1.8825,  2.2997, -2.9007],\n",
      "        [ 1.7414, -1.8274, -1.8305,  1.4222, -2.4769],\n",
      "        [ 0.2858, -4.9541,  2.8268,  2.5223,  0.7665]])\n",
      "tensor([ 3.0000,  3.4091,  3.8182,  4.2273,  4.6364,  5.0455,  5.4545,  5.8636,\n",
      "         6.2727,  6.6818,  7.0909,  7.5000,  7.9091,  8.3182,  8.7273,  9.1364,\n",
      "         9.5455,  9.9545, 10.3636, 10.7727, 11.1818, 11.5909, 12.0000])\n"
     ]
    }
   ],
   "source": [
    "# 获取tensor的大小\n",
    "print(data3.size())\n",
    "# 均匀分布\n",
    "print(torch.rand(7,5))\n",
    "# 标准正态分布\n",
    "print(torch.randn(7,5))\n",
    "# 离散正态分布\n",
    "print(torch.normal(mean=.2,std=2.5,size=(7,5)))\n",
    "# 线性间隔向量(返回一个3维张量，包含在区间start和end上均匀间隔的steps个点)\n",
    "print(torch.linspace(start=3,end=12,steps=23))"
   ]
  },
  {
   "cell_type": "code",
   "execution_count": 7,
   "metadata": {},
   "outputs": [
    {
     "name": "stdout",
     "output_type": "stream",
     "text": [
      "Device tensor is stored on: cpu\n"
     ]
    }
   ],
   "source": [
    "tensor = torch.rand(5,6)\n",
    "print(f\"Device tensor is stored on: {tensor.device}\")"
   ]
  },
  {
   "cell_type": "code",
   "execution_count": 10,
   "metadata": {},
   "outputs": [
    {
     "name": "stdout",
     "output_type": "stream",
     "text": [
      "cuda:0\n"
     ]
    }
   ],
   "source": [
    "# 转移到cuda\n",
    "if torch.cuda.is_available():\n",
    "    device = torch.device(\"cuda\")  # 创建 PyTorch 张量\n",
    "    tensor = tensor.to(device)\n",
    "    print(tensor.device)"
   ]
  },
  {
   "cell_type": "code",
   "execution_count": 11,
   "metadata": {},
   "outputs": [
    {
     "name": "stdout",
     "output_type": "stream",
     "text": [
      "First row:  tensor([1., 1., 1., 1.])\n",
      "First column:  tensor([1., 1., 1., 1.])\n",
      "Last column: tensor([1., 1., 1., 1.])\n",
      "tensor([[1., 0., 1., 1.],\n",
      "        [1., 0., 1., 1.],\n",
      "        [1., 0., 1., 1.],\n",
      "        [1., 0., 1., 1.]])\n"
     ]
    }
   ],
   "source": [
    "# Slice\n",
    "tensor = torch.ones(4, 4)\n",
    "print('First row: ', tensor[0])\n",
    "print('First column: ', tensor[:, 0])\n",
    "print('Last column:', tensor[..., -1]) # 偷懒写法\n",
    "tensor[:,1] = 0 # 每行第二列\n",
    "print(tensor)"
   ]
  },
  {
   "cell_type": "code",
   "execution_count": 12,
   "metadata": {},
   "outputs": [
    {
     "name": "stdout",
     "output_type": "stream",
     "text": [
      "tensor([[1., 0., 1., 1., 1., 0., 1., 1., 1., 0., 1., 1.],\n",
      "        [1., 0., 1., 1., 1., 0., 1., 1., 1., 0., 1., 1.],\n",
      "        [1., 0., 1., 1., 1., 0., 1., 1., 1., 0., 1., 1.],\n",
      "        [1., 0., 1., 1., 1., 0., 1., 1., 1., 0., 1., 1.]])\n",
      "torch.Size([4, 12])\n"
     ]
    }
   ],
   "source": [
    "# 拼接，横向\n",
    "t1 = torch.cat([tensor, tensor, tensor], dim=1)\n",
    "print(t1)\n",
    "print(t1.shape)"
   ]
  },
  {
   "cell_type": "code",
   "execution_count": 13,
   "metadata": {},
   "outputs": [
    {
     "name": "stdout",
     "output_type": "stream",
     "text": [
      "tensor([[ 14.,  32.,  50.],\n",
      "        [ 32.,  77., 122.],\n",
      "        [ 50., 122., 194.]])\n",
      "tensor([[ 14.,  32.,  50.],\n",
      "        [ 32.,  77., 122.],\n",
      "        [ 50., 122., 194.]])\n",
      "tensor([[ 1.,  4.,  9.],\n",
      "        [16., 25., 36.],\n",
      "        [49., 64., 81.]])\n",
      "tensor([[ 1.,  4.,  9.],\n",
      "        [16., 25., 36.],\n",
      "        [49., 64., 81.]])\n"
     ]
    }
   ],
   "source": [
    "# 算数运算\n",
    "tensor = torch.arange(1,10, dtype=torch.float32).reshape(3, 3)\n",
    "\n",
    "# 计算两个张量之间矩阵乘法的几种方式。 y1=y2=y3 卷积\n",
    "y1 = tensor @ tensor.T\n",
    "y2 = tensor.matmul(tensor.T)\n",
    "y3 = torch.rand_like(tensor)\n",
    "torch.matmul(tensor, tensor.T, out=y3) # 结果填充到y3\n",
    "print(y1)\n",
    "print(y3)\n",
    "# 计算张量逐元素相乘的几种方法。 z1= z2=z3\n",
    "z1 = tensor * tensor\n",
    "z2 = tensor.mul(tensor)\n",
    "\n",
    "z3 = torch.rand_like(tensor)\n",
    "torch.mul(tensor, tensor, out=z3)\n",
    "\n",
    "print(z1)\n",
    "print(z3)"
   ]
  },
  {
   "cell_type": "code",
   "execution_count": 14,
   "metadata": {},
   "outputs": [
    {
     "name": "stdout",
     "output_type": "stream",
     "text": [
      "45.0 <class 'float'>\n"
     ]
    }
   ],
   "source": [
    "# 张量求和\n",
    "agg = tensor.sum()\n",
    "agg_item = agg.item() # 转换为python 数值\n",
    "print(agg_item, type(agg_item))"
   ]
  },
  {
   "cell_type": "code",
   "execution_count": 15,
   "metadata": {},
   "outputs": [
    {
     "data": {
      "text/plain": [
       "array([[ 1.,  4.,  9.],\n",
       "       [16., 25., 36.],\n",
       "       [49., 64., 81.]], dtype=float32)"
      ]
     },
     "execution_count": 15,
     "metadata": {},
     "output_type": "execute_result"
    }
   ],
   "source": [
    "arr = z3.numpy()\n",
    "arr"
   ]
  },
  {
   "cell_type": "code",
   "execution_count": null,
   "metadata": {},
   "outputs": [
    {
     "name": "stdout",
     "output_type": "stream",
     "text": [
      "tensor([[ 6.,  7.,  8.],\n",
      "        [ 9., 10., 11.],\n",
      "        [12., 13., 14.]]) \n",
      "\n",
      "tensor([[11., 12., 13.],\n",
      "        [14., 15., 16.],\n",
      "        [17., 18., 19.]])\n"
     ]
    }
   ],
   "source": [
    "# 更新原来tensor的值，效率更高\n",
    "print(tensor, \"\\n\")\n",
    "tensor.add_(5)\n",
    "# tensor = tensor + 5 == （tensor += 5）\n",
    "print(tensor)"
   ]
  },
  {
   "cell_type": "code",
   "execution_count": 19,
   "metadata": {},
   "outputs": [
    {
     "data": {
      "text/plain": [
       "'expression.png'"
      ]
     },
     "execution_count": 19,
     "metadata": {},
     "output_type": "execute_result"
    }
   ],
   "source": [
    "from torchviz import make_dot\n",
    "\n",
    "# 定义矩阵 A，向量 b 和常数 c\n",
    "A = torch.randn(10, 10,requires_grad=True)  # requires_grad=True 表示我们要对 A 求导\n",
    "b = torch.randn(10,requires_grad=True)\n",
    "c = torch.randn(1,requires_grad=True)\n",
    "x = torch.randn(10, requires_grad=True)\n",
    "\n",
    "\n",
    "# 计算 x^T * A + b * x + c\n",
    "result = torch.matmul(A, x.T) + torch.matmul(b, x) + c\n",
    "\n",
    "# 生成计算图节点\n",
    "dot = make_dot(result, params={'A': A, 'b': b, 'c': c, 'x': x})\n",
    "# 绘制计算图\n",
    "dot.render('expression', format='png', cleanup=True, view=True)"
   ]
  },
  {
   "cell_type": "code",
   "execution_count": null,
   "metadata": {},
   "outputs": [],
   "source": []
  }
 ],
 "metadata": {
  "kernelspec": {
   "display_name": "aicuda",
   "language": "python",
   "name": "python3"
  },
  "language_info": {
   "codemirror_mode": {
    "name": "ipython",
    "version": 3
   },
   "file_extension": ".py",
   "mimetype": "text/x-python",
   "name": "python",
   "nbconvert_exporter": "python",
   "pygments_lexer": "ipython3",
   "version": "3.12.9"
  }
 },
 "nbformat": 4,
 "nbformat_minor": 2
}

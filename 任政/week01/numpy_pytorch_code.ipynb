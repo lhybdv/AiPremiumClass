{
 "cells": [
  {
   "cell_type": "code",
   "id": "initial_id",
   "metadata": {
    "collapsed": true
   },
   "source": [
    "import numpy as np\n",
    "a1 = np.zeros((2,3))    # 创建全零矩阵\n",
    "a2 = np.ones((5,5))    # 创建全1矩阵\n",
    "a3 = np.eye(5)          # 创建单位矩阵   关于对角线对称\n",
    "a3\n",
    "\n",
    "a4 = np.random.random(10)   # 创建十个0-1中间的数\n",
    "a5 = np.random.normal(2,3,5)  # 正态分布，2为均值，3为标准差，5是数量\n",
    "a5\n",
    "\n",
    "a7 = np.array([(1,5), (3,4), (5,6)])    # 包含元祖的列表\n",
    "#for i,j in a7:    # 循环输出每一行的数字\n",
    "    #print(i,j)\n",
    "a7\n",
    "a7.ndim   # 查看几维\n",
    "a7.shape   # 查看形状\n",
    "a7.size  # 查看变量大小\n",
    "a7.dtype   # 查看数据类型\n",
    "\n",
    "5 in a7    # 该数是否在里边\n",
    "\n",
    "a8 = np.arange(1,10)\n",
    "a8.shape  # 形状 9个\n",
    "\n",
    "a8 = a8.reshape(3,3,1)  # 将a8调整成3维数组, 第一个维度为3 第二个维度为3 第三个维度为1\n",
    "a8\n",
    "\n",
    "a9 = np.array([(1,2,3), (4,5,6), (7,8,9)])\n",
    "a9 = a9.T    # a9的转置\n",
    "a9\n",
    "# a9 = a9.flatten() # 将多维数组转成一维数组\n",
    "a9\n",
    "\n",
    "a9  = a9[np.newaxis]   # 新增一个维度\n",
    "a9.shape\n",
    "\n",
    "a10 = np.array([(1,2), (3,4), (5,6)])\n",
    "a10 = a10 [:  , np.newaxis]  # 在第二位增加维度\n",
    "a10.shape"
   ],
   "outputs": [],
   "execution_count": null
  },
  {
   "metadata": {},
   "cell_type": "code",
   "source": [
    "a = np.ones((2,3))\n",
    "b = np.array([(1,1,1),(1,1,1)])\n",
    "a+b\n",
    "a-b\n",
    "b.sum()\n",
    "b.prod()   # 计算全部元素的乘积\n",
    "\n",
    "a = np.array([6,7,8,9,10])\n",
    "a.mean()  # 求平均值\n",
    "a.var()  # 计算所有元素的方差 （先求出每个元素与平均值的差值的平方，再求这些平方值的平均值。即 ((6 - 8)² + (7 - 8)² + (8 - 8)² + (9 - 8)² + (10 - 8)²) / 5 = 2.0。)\n",
    "a.std()   # 计算标准差，是方差的平方根"
   ],
   "id": "98be207c2b002115",
   "outputs": [],
   "execution_count": null
  },
  {
   "metadata": {},
   "cell_type": "code",
   "source": [
    "import numpy as np\n",
    "a = np.array([1.02, 3.8, 4.9,5.55,2.33])\n",
    "a.argmax()  # 获取最大值索引\n",
    "a.argmin()  # 获取最小值索引\n",
    "\n",
    "np.ceil(a)   # 所有元素向上取整\n",
    "np.floor(a)  # 向下取整\n",
    "np.rint(a)  # 根据四舍五入 取整\n",
    "\n",
    "a.sort()   # 从小到大排序\n",
    "a = np.sort(a)[::-1] # 从大到小排序\n",
    "a\n"
   ],
   "id": "5b3e1f627ea7de81",
   "outputs": [],
   "execution_count": null
  },
  {
   "metadata": {},
   "cell_type": "code",
   "source": [
    "import torch\n",
    "import numpy as np\n",
    "tensor = torch.arange(1 , 17 ).reshape(4,4).to(torch.float32)  # 创建四行四列的张量，范围1-17 17不取\n",
    "# tensor = tensor.T   # 张量转置\n",
    "\n",
    "ten = tensor * tensor.T   #  逐个元素相乘\n",
    "ten3 = tensor.mul(tensor)   #  逐个元素相乘\n",
    "e = tensor * tensor   #  逐个元素相乘\n",
    "ten1 = tensor @ tensor.T   # 矩阵相乘\n",
    "# ten2 = np.matmul(tensor , tensor.T)  # 矩阵相乘\n",
    "#  n = np.dot(tensor,tensor.T)   # 最多用于二维的矩阵乘法  一维点积\n",
    "# n1 = tensor ** 2  #  逐个元素相乘\n",
    "# n1\n",
    "y = torch.rand_like(tensor)\n",
    "y\n",
    "\n",
    "np.save('result.npy',y)  # 将参数保存到磁盘 前边为文件名，后边为参数\n",
    "np.load('result.npy')    # 读取文件里的数据\n",
    "\n",
    "\n",
    "\n",
    "a = np.array([[(17,17), (21,21)], [(31,31), (41,41)]])  # shape(4,2)\n",
    "b = np.array([1,1])  # shape(2)-> shape(1,2) -> shape(4,2)  [[-1,1],[-1,1],[-1,1],[-1,1]]\n",
    "a + b   # 广播机制"
   ],
   "id": "52a12fcacf4b871a",
   "outputs": [],
   "execution_count": null
  },
  {
   "metadata": {
    "ExecuteTime": {
     "end_time": "2025-02-27T10:15:07.949605Z",
     "start_time": "2025-02-27T10:15:07.945126Z"
    }
   },
   "cell_type": "code",
   "source": [
    "import numpy as np\n",
    "\n",
    "x = np.array([[1,23,3] , [33,455,6]])\n",
    "y = torch.from_numpy(x)   # 转换成张量\n",
    "x1 = torch.rand_like(y, dtype=torch.float)  # 创建一个跟y形状一样的张量， 范围0-1  随机\n",
    "y.shape\n",
    "y.dtype\n",
    "x1\n",
    "\n",
    "b = (2,5)\n",
    "c = torch.rand(b)   # 正态分布创建  两行五列\n",
    "\n",
    "c"
   ],
   "id": "b71366a67dd98525",
   "outputs": [
    {
     "data": {
      "text/plain": [
       "tensor([[0.9642, 0.7580, 0.2226, 0.9376, 0.9195],\n",
       "        [0.6310, 0.1197, 0.2548, 0.2911, 0.9235]])"
      ]
     },
     "execution_count": 493,
     "metadata": {},
     "output_type": "execute_result"
    }
   ],
   "execution_count": 493
  },
  {
   "metadata": {
    "ExecuteTime": {
     "end_time": "2025-02-27T10:30:20.971288Z",
     "start_time": "2025-02-27T10:30:20.964831Z"
    }
   },
   "cell_type": "code",
   "source": [
    "tensor = torch.rand(3,4)  # 0-1均匀分布\n",
    "tensor1 = torch.randn(3,4)  #0-1正态分布\n",
    "tensor2 = torch.normal(mean =0.0,std = 1.0 ,size = (3,5))   # 离散正态分布 均值为0.0，标准差为1  形状3行5列\n",
    "tensor.device  # 查看在CPU运行还是在GPU运行\n",
    "tensor1\n"
   ],
   "id": "2f242db1778c93b8",
   "outputs": [
    {
     "data": {
      "text/plain": [
       "tensor([[ 0.5225, -0.8485, -0.5821,  0.1793],\n",
       "        [-1.0771, -0.8920,  1.6874,  1.3959],\n",
       "        [-2.1341,  1.4574, -1.4506, -0.4795]])"
      ]
     },
     "execution_count": 502,
     "metadata": {},
     "output_type": "execute_result"
    }
   ],
   "execution_count": 502
  },
  {
   "metadata": {
    "ExecuteTime": {
     "end_time": "2025-02-28T05:26:14.854956Z",
     "start_time": "2025-02-28T05:26:14.848406Z"
    }
   },
   "cell_type": "code",
   "source": [
    "tensor = torch.ones(4, 4)\n",
    "tensor[:,-1] = 0  # 将最后一列置为0\n",
    "t1 = torch.cat([tensor, tensor, tensor], dim=0)  # 拼接张量，dim=0 表示按行拼接（垂直）,等于1表示按列拼接（水平）\n",
    "t1\n",
    "\n"
   ],
   "id": "b1760f642b64c551",
   "outputs": [
    {
     "data": {
      "text/plain": [
       "tensor([[1., 1., 1., 0.],\n",
       "        [1., 1., 1., 0.],\n",
       "        [1., 1., 1., 0.],\n",
       "        [1., 1., 1., 0.],\n",
       "        [1., 1., 1., 0.],\n",
       "        [1., 1., 1., 0.],\n",
       "        [1., 1., 1., 0.],\n",
       "        [1., 1., 1., 0.],\n",
       "        [1., 1., 1., 0.],\n",
       "        [1., 1., 1., 0.],\n",
       "        [1., 1., 1., 0.],\n",
       "        [1., 1., 1., 0.]])"
      ]
     },
     "execution_count": 515,
     "metadata": {},
     "output_type": "execute_result"
    }
   ],
   "execution_count": 515
  },
  {
   "metadata": {
    "ExecuteTime": {
     "end_time": "2025-02-28T07:45:57.963996Z",
     "start_time": "2025-02-28T07:45:57.956730Z"
    }
   },
   "cell_type": "code",
   "source": [
    "import torch\n",
    "tensor = torch.arange(1,21,dtype = torch.float32).reshape(4,5)\n",
    "tensor1 = torch.rand(5,5)\n",
    "tensor1\n",
    "\n",
    "tensor.device   # 查看张量在哪个硬件 CPU还是GPU\n",
    "torch.cuda.is_available()   # 查看系统是否有显卡\n",
    "\n",
    "ten = tensor.sum()   # 张量求和还是张量\n",
    "print(type(ten.item()))   # 将张量转换成原始数据 float\n",
    "\n",
    "\n",
    "tensor.add_(3)   # add加上下划线  表示在原张量基础上加上3  原张量更新\n",
    "tensor\n"
   ],
   "id": "69ca5e8c4f66195e",
   "outputs": [
    {
     "name": "stdout",
     "output_type": "stream",
     "text": [
      "<class 'float'>\n"
     ]
    },
    {
     "data": {
      "text/plain": [
       "tensor([[ 4.,  5.,  6.,  7.,  8.],\n",
       "        [ 9., 10., 11., 12., 13.],\n",
       "        [14., 15., 16., 17., 18.],\n",
       "        [19., 20., 21., 22., 23.]])"
      ]
     },
     "execution_count": 56,
     "metadata": {},
     "output_type": "execute_result"
    }
   ],
   "execution_count": 56
  },
  {
   "metadata": {
    "ExecuteTime": {
     "end_time": "2025-02-28T08:46:52.951426Z",
     "start_time": "2025-02-28T08:46:52.533549Z"
    }
   },
   "cell_type": "code",
   "source": [
    "import torch\n",
    "from torchviz import make_dot\n",
    "\n",
    "# 定义矩阵x ，向量y ，常数a\n",
    "A = torch.randn(10,10,requires_grad = True)\n",
    "b = torch.randn(10,requires_grad = True)\n",
    "c = torch.randn(1,requires_grad = True)\n",
    "x = torch.randn(10,requires_grad = True)\n",
    "\n",
    "\n",
    "result = torch.matmul(A,x.T) + torch.matmul(b,x) + c\n",
    "\n",
    "dot = make_dot(result , params = {'A':A , \"b\":b , \"c\":c, \"x\":x})\n",
    "dot.render('expression' , format = 'png' , cleanup = True , view = False)\n"
   ],
   "id": "aded395ce4df0af8",
   "outputs": [
    {
     "data": {
      "text/plain": [
       "'expression.png'"
      ]
     },
     "execution_count": 2,
     "metadata": {},
     "output_type": "execute_result"
    }
   ],
   "execution_count": 2
  }
 ],
 "metadata": {
  "kernelspec": {
   "display_name": "Python 3",
   "language": "python",
   "name": "python3"
  },
  "language_info": {
   "codemirror_mode": {
    "name": "ipython",
    "version": 2
   },
   "file_extension": ".py",
   "mimetype": "text/x-python",
   "name": "python",
   "nbconvert_exporter": "python",
   "pygments_lexer": "ipython2",
   "version": "2.7.6"
  }
 },
 "nbformat": 4,
 "nbformat_minor": 5
}

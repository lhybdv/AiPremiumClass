{
 "cells": [
  {
   "cell_type": "markdown",
   "metadata": {},
   "source": [
    "****导入numpy包**\n",
    "-创建ndarray数组**"
   ]
  },
  {
   "cell_type": "code",
   "execution_count": 21,
   "metadata": {},
   "outputs": [],
   "source": [
    "import numpy as np "
   ]
  },
  {
   "cell_type": "markdown",
   "metadata": {},
   "source": [
    "--最后一行为显示数组，之前的输出会被覆盖"
   ]
  },
  {
   "cell_type": "code",
   "execution_count": 18,
   "metadata": {},
   "outputs": [
    {
     "data": {
      "text/plain": [
       "array([1, 2, 8])"
      ]
     },
     "execution_count": 18,
     "metadata": {},
     "output_type": "execute_result"
    }
   ],
   "source": [
    " a = np.array([3,4,6,7],float)\n",
    " b = np.array([1,2,8],int)\n",
    " a\n",
    " b"
   ]
  },
  {
   "cell_type": "markdown",
   "metadata": {},
   "source": [
    "--多维数组是几个数组逗号隔开，在array数组里"
   ]
  },
  {
   "cell_type": "code",
   "execution_count": 24,
   "metadata": {},
   "outputs": [
    {
     "data": {
      "text/plain": [
       "array([[3., 4.],\n",
       "       [7., 8.],\n",
       "       [2., 9.]])"
      ]
     },
     "execution_count": 24,
     "metadata": {},
     "output_type": "execute_result"
    }
   ],
   "source": [
    "b = np.array([(3,4),(7,8),(2,9)],float)\n",
    "b"
   ]
  },
  {
   "cell_type": "markdown",
   "metadata": {},
   "source": [
    "--特殊数组创建Zeros；Ones；等差数列(不包含结束值)；单位矩阵；随机数组[0-1)之间平均分布；正态分布的随机数组(指定参数：均值，标准差)"
   ]
  },
  {
   "cell_type": "code",
   "execution_count": 34,
   "metadata": {},
   "outputs": [
    {
     "data": {
      "text/plain": [
       "array([[0., 0.],\n",
       "       [0., 0.],\n",
       "       [0., 0.]], dtype=float16)"
      ]
     },
     "execution_count": 34,
     "metadata": {},
     "output_type": "execute_result"
    }
   ],
   "source": [
    "c = np.zeros([3,2],dtype=np.float16)\n",
    "c"
   ]
  },
  {
   "cell_type": "code",
   "execution_count": 36,
   "metadata": {},
   "outputs": [
    {
     "data": {
      "text/plain": [
       "array([[1., 1., 1.],\n",
       "       [1., 1., 1.]])"
      ]
     },
     "execution_count": 36,
     "metadata": {},
     "output_type": "execute_result"
    }
   ],
   "source": [
    "c1 = np.ones([2,3],dtype=float)\n",
    "c1"
   ]
  },
  {
   "cell_type": "code",
   "execution_count": 38,
   "metadata": {},
   "outputs": [
    {
     "data": {
      "text/plain": [
       "array([0, 2, 4, 6, 8])"
      ]
     },
     "execution_count": 38,
     "metadata": {},
     "output_type": "execute_result"
    }
   ],
   "source": [
    "c2 = np.arange(0,10,2)\n",
    "c2"
   ]
  },
  {
   "cell_type": "markdown",
   "metadata": {},
   "source": [
    "<< one-hot编码会用到 >>"
   ]
  },
  {
   "cell_type": "code",
   "execution_count": 39,
   "metadata": {},
   "outputs": [
    {
     "data": {
      "text/plain": [
       "array([[1., 0., 0., 0.],\n",
       "       [0., 1., 0., 0.],\n",
       "       [0., 0., 1., 0.],\n",
       "       [0., 0., 0., 1.]])"
      ]
     },
     "execution_count": 39,
     "metadata": {},
     "output_type": "execute_result"
    }
   ],
   "source": [
    "c3 = np.eye(4)\n",
    "c3"
   ]
  },
  {
   "cell_type": "markdown",
   "metadata": {},
   "source": [
    "<<随机数组：模型运算参数初始值>>"
   ]
  },
  {
   "cell_type": "code",
   "execution_count": 40,
   "metadata": {},
   "outputs": [
    {
     "data": {
      "text/plain": [
       "array([0.32846043, 0.10942105, 0.04027877])"
      ]
     },
     "execution_count": 40,
     "metadata": {},
     "output_type": "execute_result"
    }
   ],
   "source": [
    "c4 = np.random.random(3)\n",
    "c4"
   ]
  },
  {
   "cell_type": "markdown",
   "metadata": {},
   "source": [
    "<<正态分布：模型运算参数初始值>>"
   ]
  },
  {
   "cell_type": "code",
   "execution_count": 45,
   "metadata": {},
   "outputs": [
    {
     "data": {
      "text/plain": [
       "array([-0.04227751, -0.82856992,  0.52918918, -0.13858821, -0.93106989,\n",
       "       -0.77321362])"
      ]
     },
     "execution_count": 45,
     "metadata": {},
     "output_type": "execute_result"
    }
   ],
   "source": [
    "mu,sigma=0,0.5\n",
    "c5 = np.random.normal(mu,sigma,6)\n",
    "c5"
   ]
  },
  {
   "cell_type": "markdown",
   "metadata": {},
   "source": [
    "**Numpy数组访问**（冒号：的意思是所有范围）\n",
    " ---( :2是指前两个; 2:是指第2个开始之后的)"
   ]
  },
  {
   "cell_type": "code",
   "execution_count": 84,
   "metadata": {},
   "outputs": [
    {
     "name": "stdout",
     "output_type": "stream",
     "text": [
      "[1 4 6]\n",
      "[[4 2 1]\n",
      " [2 2 2]]\n",
      "\n",
      "[[2 3 5]\n",
      " [1 4 6]]\n",
      "\n",
      "[[2 3]\n",
      " [1 4]\n",
      " [4 2]\n",
      " [2 2]]\n",
      "\n",
      "[[5]\n",
      " [6]\n",
      " [1]\n",
      " [2]]\n",
      "\n",
      "[[4 2 1]\n",
      " [2 2 2]]\n",
      "\n",
      "[[2 3 5]\n",
      " [1 4 6]]\n",
      "\n",
      "6\n"
     ]
    }
   ],
   "source": [
    "b = np.array([(2,3,5),(1,4,6),(4,2,1),(2,2,2)])\n",
    "print(b[1])\n",
    "print(b[2:])\n",
    "print()\n",
    "print(b[:2])\n",
    "print()\n",
    "print(b[:,:2])\n",
    "print()\n",
    "print(b[:,2:])\n",
    "print()\n",
    "print(b[2:,:])\n",
    "print()\n",
    "print(b[:2,:])\n",
    "print()\n",
    "print(b[1][2])\n"
   ]
  },
  {
   "cell_type": "markdown",
   "metadata": {},
   "source": [
    "**Numpy数组遍历**"
   ]
  },
  {
   "cell_type": "code",
   "execution_count": 70,
   "metadata": {},
   "outputs": [
    {
     "name": "stdout",
     "output_type": "stream",
     "text": [
      "2 4 6\n",
      "4\n",
      "1 3 5\n",
      "3\n",
      "1 1 1\n",
      "1\n"
     ]
    }
   ],
   "source": [
    "a = np.array([(2,4,6),(1,3,5),(1,1,1)])\n",
    "#i,j,t = a[1]\n",
    "for i,j,t in a:\n",
    "   print(i,j,t)\n",
    "   print(j)"
   ]
  },
  {
   "cell_type": "markdown",
   "metadata": {},
   "source": [
    "**Numpy数组常用属性**（维度ndim(秩=数组轴的个数)，数组大小shape，数组个数size（shape元素的乘积），元素类型对象dtype）"
   ]
  },
  {
   "cell_type": "code",
   "execution_count": 71,
   "metadata": {},
   "outputs": [
    {
     "name": "stdout",
     "output_type": "stream",
     "text": [
      "ndim: 2\n",
      "shape: (3, 4)\n",
      "size 12\n",
      "dtype int32\n"
     ]
    }
   ],
   "source": [
    "a1 = np.array([(2,4,6,8),(1,3,5,7),(3,4,5,6)])\n",
    "print(\"ndim:\",a1.ndim)\n",
    "print(\"shape:\",a1.shape)\n",
    "print(\"size\",a1.size)\n",
    "print(\"dtype\",a1.dtype)"
   ]
  },
  {
   "cell_type": "markdown",
   "metadata": {},
   "source": [
    "**Numpy数组基本操作**"
   ]
  },
  {
   "cell_type": "markdown",
   "metadata": {},
   "source": [
    "<< in（是否存在，确保维度对齐）>>"
   ]
  },
  {
   "cell_type": "code",
   "execution_count": null,
   "metadata": {},
   "outputs": [
    {
     "name": "stdout",
     "output_type": "stream",
     "text": [
      "True\n",
      "False\n"
     ]
    }
   ],
   "source": [
    "print((1,3,5,7) in a1)\n",
    "print((9 in a1)) #只能进行单一判断or对齐维度判断"
   ]
  },
  {
   "cell_type": "markdown",
   "metadata": {},
   "source": [
    "<< reshape（数组重排列）--维度大小乘积=元素个数>>\n",
    "   ---高维矩阵，每个维度都有意义。 \n",
    "       -如加载图像数据：image.shape = [1,3,120,120] (1个样本，3个颜色通道，120高，120宽)"
   ]
  },
  {
   "cell_type": "code",
   "execution_count": null,
   "metadata": {},
   "outputs": [
    {
     "name": "stdout",
     "output_type": "stream",
     "text": [
      "[2 3 4 5]\n",
      "4\n",
      "[[[2]\n",
      "  [3]]\n",
      "\n",
      " [[4]\n",
      "  [5]]]\n",
      "(2, 2, 1)\n"
     ]
    }
   ],
   "source": [
    "a2 = np.arange(2,6)\n",
    "print(a2)\n",
    "print(a2.size)\n",
    "\n",
    "a2 = a2.reshape(2,2,1)  #乘积==个数\n",
    "print(a2)\n",
    "print(a2.shape)  #（层，行，列）"
   ]
  },
  {
   "cell_type": "markdown",
   "metadata": {},
   "source": [
    "<< transpose（转置.T >>"
   ]
  },
  {
   "cell_type": "code",
   "execution_count": null,
   "metadata": {},
   "outputs": [
    {
     "name": "stdout",
     "output_type": "stream",
     "text": [
      "[[1 2]\n",
      " [3 5]\n",
      " [6 9]]\n",
      "[[1 3 6]\n",
      " [2 5 9]]\n"
     ]
    }
   ],
   "source": [
    "a3 = np.array([(1,2),(3,5),(6,9)])\n",
    "print(a3)\n",
    "a3 = a3.T # a3.transpose()\n",
    "print(a3)"
   ]
  },
  {
   "cell_type": "markdown",
   "metadata": {},
   "source": [
    "<< flatten（多维转一维，且每个数组长度必相同）>>"
   ]
  },
  {
   "cell_type": "code",
   "execution_count": null,
   "metadata": {},
   "outputs": [
    {
     "name": "stdout",
     "output_type": "stream",
     "text": [
      "[1 3 6 2 5 9]\n"
     ]
    }
   ],
   "source": [
    "a3 = a3.flatten()\n",
    "print(a3)  #按上面最后一个a3"
   ]
  },
  {
   "cell_type": "code",
   "execution_count": null,
   "metadata": {},
   "outputs": [
    {
     "name": "stdout",
     "output_type": "stream",
     "text": [
      "(2, 3)\n",
      "(2, 1, 3)\n",
      "[[[1 3 8]]\n",
      "\n",
      " [[2 6 9]]]\n"
     ]
    }
   ],
   "source": [
    "a4 = np.array([(1,3,8),(2,6,9)])\n",
    "print(a4.shape)\n",
    "a4 = a4[:,np.newaxis,:] #增加了1行\n",
    "print(a4.shape)\n",
    "print(a4)"
   ]
  },
  {
   "cell_type": "markdown",
   "metadata": {},
   "source": [
    "<< newaxis（增加维度）>>"
   ]
  },
  {
   "cell_type": "code",
   "execution_count": null,
   "metadata": {},
   "outputs": [
    {
     "name": "stdout",
     "output_type": "stream",
     "text": [
      "[[1. 1. 1.]\n",
      " [1. 1. 1.]\n",
      " [1. 1. 1.]]\n",
      "[[1. 0. 0.]\n",
      " [0. 1. 0.]\n",
      " [0. 0. 1.]]\n",
      "\n",
      "[[2. 1. 1.]\n",
      " [1. 2. 1.]\n",
      " [1. 1. 2.]]\n",
      "\n",
      "[[0. 1. 1.]\n",
      " [1. 0. 1.]\n",
      " [1. 1. 0.]]\n"
     ]
    }
   ],
   "source": [
    "a = np.ones([3,3])\n",
    "b = np.eye(3) # 维度必须保持对齐\n",
    "print(a)\n",
    "print(b)\n",
    "print()\n",
    "print(a+b)\n",
    "print()\n",
    "print(a-b)\n"
   ]
  },
  {
   "cell_type": "markdown",
   "metadata": {},
   "source": [
    "<< 求和，积>>"
   ]
  },
  {
   "cell_type": "code",
   "execution_count": 90,
   "metadata": {},
   "outputs": [
    {
     "data": {
      "text/plain": [
       "9.0"
      ]
     },
     "execution_count": 90,
     "metadata": {},
     "output_type": "execute_result"
    }
   ],
   "source": [
    "a.sum()"
   ]
  },
  {
   "cell_type": "code",
   "execution_count": 91,
   "metadata": {},
   "outputs": [
    {
     "data": {
      "text/plain": [
       "1.0"
      ]
     },
     "execution_count": 91,
     "metadata": {},
     "output_type": "execute_result"
    }
   ],
   "source": [
    "a.prod()"
   ]
  }
 ],
 "metadata": {
  "kernelspec": {
   "display_name": "py312",
   "language": "python",
   "name": "python3"
  },
  "language_info": {
   "codemirror_mode": {
    "name": "ipython",
    "version": 3
   },
   "file_extension": ".py",
   "mimetype": "text/x-python",
   "name": "python",
   "nbconvert_exporter": "python",
   "pygments_lexer": "ipython3",
   "version": "3.12.9"
  }
 },
 "nbformat": 4,
 "nbformat_minor": 2
}

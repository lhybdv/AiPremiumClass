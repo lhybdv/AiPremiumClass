{
 "cells": [
  {
   "cell_type": "markdown",
   "metadata": {},
   "source": [
    "### NumPy 基数组创建\n",
    "NumPy 数组有多种创建方式，一般常用方式是list 转换np.array():"
   ]
  },
  {
   "cell_type": "markdown",
   "metadata": {},
   "source": [
    "1. 使用python  list ---> np.array\n",
    "\n",
    "- a ----> list\n",
    "\n",
    "- np.array(a)  -----> array"
   ]
  },
  {
   "cell_type": "code",
   "execution_count": 2,
   "metadata": {},
   "outputs": [
    {
     "data": {
      "text/plain": [
       "array([20, 25,  2, 26, 20, 11, 16])"
      ]
     },
     "execution_count": 2,
     "metadata": {},
     "output_type": "execute_result"
    }
   ],
   "source": [
    "import numpy as np \n",
    "a =[20,25,2,26,20,11,16]\n",
    "b = np.array(a)\n",
    "b"
   ]
  },
  {
   "cell_type": "markdown",
   "metadata": {},
   "source": [
    "2. 直接使用数据创建数组，定义数据类型\n",
    "- numpy.array([],float)"
   ]
  },
  {
   "cell_type": "code",
   "execution_count": 5,
   "metadata": {},
   "outputs": [
    {
     "data": {
      "text/plain": [
       "array([20., 25.,  2., 26., 20.,  1., 16.])"
      ]
     },
     "execution_count": 5,
     "metadata": {},
     "output_type": "execute_result"
    }
   ],
   "source": [
    "a= np.array([20,25,2,26,20,1,16],float)\n",
    "a"
   ]
  },
  {
   "cell_type": "markdown",
   "metadata": {},
   "source": [
    "3. 创建多维数组"
   ]
  },
  {
   "cell_type": "code",
   "execution_count": 8,
   "metadata": {},
   "outputs": [
    {
     "data": {
      "text/plain": [
       "array([[1., 2., 3.],\n",
       "       [2., 3., 7.]], dtype=float16)"
      ]
     },
     "execution_count": 8,
     "metadata": {},
     "output_type": "execute_result"
    }
   ],
   "source": [
    "a = np.array([[1,2,3],[2,3,7]],dtype=np.float16)\n",
    "a"
   ]
  },
  {
   "cell_type": "markdown",
   "metadata": {},
   "source": [
    "4. 特殊数组创建\n",
    "NumPy提供一些占位符创建数组的函数 ，例如  np.zeros((2,3),dtype = float)"
   ]
  },
  {
   "cell_type": "code",
   "execution_count": null,
   "metadata": {},
   "outputs": [
    {
     "data": {
      "text/plain": [
       "array([[0., 0., 0., 0., 0., 0.],\n",
       "       [0., 0., 0., 0., 0., 0.],\n",
       "       [0., 0., 0., 0., 0., 0.],\n",
       "       [0., 0., 0., 0., 0., 0.],\n",
       "       [0., 0., 0., 0., 0., 0.],\n",
       "       [0., 0., 0., 0., 0., 0.]])"
      ]
     },
     "execution_count": 24,
     "metadata": {},
     "output_type": "execute_result"
    }
   ],
   "source": [
    "# 生成全是零的数组，6行6列，数据类型为浮点数\n",
    "a = np.zeros((6,6),dtype = float)\n",
    "a"
   ]
  },
  {
   "cell_type": "code",
   "execution_count": 25,
   "metadata": {},
   "outputs": [
    {
     "data": {
      "text/plain": [
       "array([[1., 1., 1., 1., 1., 1., 1., 1., 1.],\n",
       "       [1., 1., 1., 1., 1., 1., 1., 1., 1.],\n",
       "       [1., 1., 1., 1., 1., 1., 1., 1., 1.],\n",
       "       [1., 1., 1., 1., 1., 1., 1., 1., 1.],\n",
       "       [1., 1., 1., 1., 1., 1., 1., 1., 1.],\n",
       "       [1., 1., 1., 1., 1., 1., 1., 1., 1.],\n",
       "       [1., 1., 1., 1., 1., 1., 1., 1., 1.],\n",
       "       [1., 1., 1., 1., 1., 1., 1., 1., 1.],\n",
       "       [1., 1., 1., 1., 1., 1., 1., 1., 1.]])"
      ]
     },
     "execution_count": 25,
     "metadata": {},
     "output_type": "execute_result"
    }
   ],
   "source": [
    "#生成全是1的数组，9行9列，数据类型是浮点型\n",
    "b = np.ones((9,9),dtype = float)\n",
    "b"
   ]
  },
  {
   "cell_type": "code",
   "execution_count": 29,
   "metadata": {},
   "outputs": [
    {
     "data": {
      "text/plain": [
       "array([ 1,  3,  5,  7,  9, 11, 13, 15, 17, 19, 21, 23, 25, 27, 29, 31, 33,\n",
       "       35, 37, 39, 41, 43, 45, 47, 49, 51, 53, 55, 57, 59, 61, 63, 65, 67,\n",
       "       69, 71, 73, 75, 77, 79, 81, 83, 85, 87, 89, 91, 93, 95, 97, 99])"
      ]
     },
     "execution_count": 29,
     "metadata": {},
     "output_type": "execute_result"
    }
   ],
   "source": [
    "#等差数列，从1 开始，100 结束，步长为2 ，不包含100\n",
    "a = np.arange(1,100,2)\n",
    "a\n",
    "# count = 0\n",
    "# for i in a:\n",
    "#     count +=1 \n",
    "# print(count)"
   ]
  },
  {
   "cell_type": "code",
   "execution_count": 30,
   "metadata": {},
   "outputs": [
    {
     "data": {
      "text/plain": [
       "array([[1., 0., 0., 0., 0., 0., 0., 0., 0., 0., 0., 0., 0., 0., 0., 0.],\n",
       "       [0., 1., 0., 0., 0., 0., 0., 0., 0., 0., 0., 0., 0., 0., 0., 0.],\n",
       "       [0., 0., 1., 0., 0., 0., 0., 0., 0., 0., 0., 0., 0., 0., 0., 0.],\n",
       "       [0., 0., 0., 1., 0., 0., 0., 0., 0., 0., 0., 0., 0., 0., 0., 0.],\n",
       "       [0., 0., 0., 0., 1., 0., 0., 0., 0., 0., 0., 0., 0., 0., 0., 0.],\n",
       "       [0., 0., 0., 0., 0., 1., 0., 0., 0., 0., 0., 0., 0., 0., 0., 0.],\n",
       "       [0., 0., 0., 0., 0., 0., 1., 0., 0., 0., 0., 0., 0., 0., 0., 0.],\n",
       "       [0., 0., 0., 0., 0., 0., 0., 1., 0., 0., 0., 0., 0., 0., 0., 0.],\n",
       "       [0., 0., 0., 0., 0., 0., 0., 0., 1., 0., 0., 0., 0., 0., 0., 0.],\n",
       "       [0., 0., 0., 0., 0., 0., 0., 0., 0., 1., 0., 0., 0., 0., 0., 0.],\n",
       "       [0., 0., 0., 0., 0., 0., 0., 0., 0., 0., 1., 0., 0., 0., 0., 0.],\n",
       "       [0., 0., 0., 0., 0., 0., 0., 0., 0., 0., 0., 1., 0., 0., 0., 0.],\n",
       "       [0., 0., 0., 0., 0., 0., 0., 0., 0., 0., 0., 0., 1., 0., 0., 0.],\n",
       "       [0., 0., 0., 0., 0., 0., 0., 0., 0., 0., 0., 0., 0., 1., 0., 0.],\n",
       "       [0., 0., 0., 0., 0., 0., 0., 0., 0., 0., 0., 0., 0., 0., 1., 0.],\n",
       "       [0., 0., 0., 0., 0., 0., 0., 0., 0., 0., 0., 0., 0., 0., 0., 1.]])"
      ]
     },
     "execution_count": 30,
     "metadata": {},
     "output_type": "execute_result"
    }
   ],
   "source": [
    "# 创建单位矩阵\n",
    "a = np.eye(16)\n",
    "a"
   ]
  },
  {
   "cell_type": "markdown",
   "metadata": {},
   "source": [
    "5. 额定范围内容的随机数组： [0,1)"
   ]
  },
  {
   "cell_type": "code",
   "execution_count": 32,
   "metadata": {},
   "outputs": [
    {
     "data": {
      "text/plain": [
       "array([0.81112771, 0.52842608, 0.22823994, 0.67650702, 0.3506663 ,\n",
       "       0.29556109, 0.63337457, 0.78494682, 0.72648032, 0.22817133,\n",
       "       0.84548121, 0.60157879, 0.26589715, 0.86900882, 0.01962868,\n",
       "       0.10673535])"
      ]
     },
     "execution_count": 32,
     "metadata": {},
     "output_type": "execute_result"
    }
   ],
   "source": [
    "#  16:个数\n",
    "a  = np.random.random(16)\n",
    "a"
   ]
  },
  {
   "cell_type": "markdown",
   "metadata": {},
   "source": [
    "6. 指定长度，符合正态分布的随机数组，指定其均值为0，标准差为0.1"
   ]
  },
  {
   "cell_type": "code",
   "execution_count": 35,
   "metadata": {},
   "outputs": [
    {
     "data": {
      "text/plain": [
       "array([-0.06943728, -0.12187381,  0.17252799,  0.05848461, -0.01092373,\n",
       "        0.18579328])"
      ]
     },
     "execution_count": 35,
     "metadata": {},
     "output_type": "execute_result"
    }
   ],
   "source": [
    "mu,sigma = 666,0.2\n",
    "a = np.random.normal(mu,sigma,6)\n",
    "a\n",
    "\n",
    "mu,sigma = 0 ,0.1\n",
    "b = np.random.normal(mu,sigma,6)\n",
    "b\n"
   ]
  },
  {
   "cell_type": "markdown",
   "metadata": {},
   "source": [
    "### NumPy数组的访问"
   ]
  },
  {
   "cell_type": "markdown",
   "metadata": {},
   "source": [
    "1. 切片操作"
   ]
  },
  {
   "cell_type": "code",
   "execution_count": null,
   "metadata": {},
   "outputs": [
    {
     "name": "stdout",
     "output_type": "stream",
     "text": [
      "[['I' 'fall' 'asleep']\n",
      " ['everyday' 'is' 'working']\n",
      " ['for' 'the' 'deadline']]\n",
      "working\n",
      "the deadline is falling\n",
      "['fall' 'is' 'the']\n",
      "['everyday' 'is' 'working']\n",
      "ndim:2\n",
      "shape:(3, 3) ,shape's data type is <class 'tuple'>\n",
      "row is 3 , clounm is 3\n",
      "I is deadline "
     ]
    }
   ],
   "source": [
    "a = np.array([[\"I\",\"fall\",\"asleep\"],[\"everyday\",\"is\",\"working\"],[\"for\",\"the\",\"deadline\"]])\n",
    "print(a)\n",
    "#访问数组\n",
    "#组词： the deadline is falling\n",
    "special = a[1,2]\n",
    "print(specail)\n",
    "word = a[2,1]+\" \"+a[2,2]+\" \"+a[1,1]+\" \"+a[0,1]+special[4:7]\n",
    "print(word)\n",
    "\n",
    "# :表示所有行\n",
    "# 1表示第二列\n",
    "a[:,1]\n",
    "print(a[:,1])\n",
    "\n",
    "# :表示所有行\n",
    "# :3表示前三列\n",
    "\n",
    "a[:,:3]\n",
    "print(a[1])\n",
    "\n",
    "print(\"ndim:{}\".format(a.ndim))\n",
    "shape = a.shape\n",
    "print(\"shape:{} ,shape's data type is {}\".format(a.shape,type(shape)))\n",
    "print(\"row is {} , clounm is {}\".format(shape[0],shape[1]))\n",
    "\n",
    "# 访问对角线元素 I is deadline\n",
    "for i in range(shape[0]):\n",
    "    print(a[i,i],end=\" \")\n",
    "\n",
    "\n"
   ]
  },
  {
   "cell_type": "markdown",
   "metadata": {},
   "source": [
    "### NumPy数组的遍历"
   ]
  },
  {
   "cell_type": "code",
   "execution_count": null,
   "metadata": {},
   "outputs": [],
   "source": [
    "#遍历a 数组\n",
    "for i in a:\n",
    "    print(i)\n",
    "\n",
    "\n",
    "for i in range(a.shape[0]):\n",
    "    for j in range(a.shape[1]):\n",
    "        print(a[i][j],end=\" \")\n",
    "        if(i == 0 and j==2):\n",
    "            print(\",\",end=\" \")\n",
    "print(\".\")\n",
    "\n",
    "\n",
    "#多维数组的遍历\n",
    "for i,j in enumerate(a):\n",
    "    print(i,j)\n",
    "\n",
    "numArray = np.array([(20,25,2,26),(20,1,1,16)])\n",
    "for i in numArray:\n",
    "    print(i)\n",
    "    for j in i:\n",
    "        print(j,end=\" \")\n",
    "    \n",
    "    print(\"\")\n",
    "\n"
   ]
  },
  {
   "cell_type": "code",
   "execution_count": 9,
   "metadata": {},
   "outputs": [
    {
     "name": "stdout",
     "output_type": "stream",
     "text": [
      "2 26\n",
      "2 26 20 25 2 26 90\n"
     ]
    }
   ],
   "source": [
    "\n",
    "#一行多值输出\n",
    "numArrayTwoCol = np.array([(2,26),(20,25)])\n",
    "i ,j = numArrayTwoCol[0]\n",
    "print(i,j)\n",
    "for i,j in numArrayTwoCol:\n",
    "    print(i,j,end=' ')\n",
    "\n",
    "numArrayTwoCol = np.array([(2,26,90),(20,25,666)])\n",
    "i ,j,k = numArrayTwoCol[0]\n",
    "print(i,j,k)\n"
   ]
  },
  {
   "cell_type": "markdown",
   "metadata": {},
   "source": [
    "### Numpy数组的常用属性\n"
   ]
  },
  {
   "cell_type": "code",
   "execution_count": 92,
   "metadata": {},
   "outputs": [
    {
     "name": "stdout",
     "output_type": "stream",
     "text": [
      "[[20 25  2 26]\n",
      " [20  1  1 16]]\n",
      "numArray's ndim: 2\n",
      "numArray's shape:(2, 4)\n",
      "numArray's size:8\n",
      "numArray's dtype:int32\n"
     ]
    }
   ],
   "source": [
    "#打印数组\n",
    "print(numArray)\n",
    "#ndim 维度\n",
    "print(\"numArray's ndim: {}\".format(numArray.ndim))\n",
    "#shape 形状\n",
    "print(\"numArray's shape:{}\".format(numArray.shape))\n",
    "#size 元素个数\n",
    "print(\"numArray's size:{}\".format(numArray.size))\n",
    "#dtype 数据类型\n",
    "print(\"numArray's dtype:{}\".format(numArray.dtype))\n"
   ]
  },
  {
   "cell_type": "markdown",
   "metadata": {},
   "source": [
    "### NumPy 数组的基本操作"
   ]
  },
  {
   "cell_type": "code",
   "execution_count": 94,
   "metadata": {},
   "outputs": [
    {
     "name": "stdout",
     "output_type": "stream",
     "text": [
      "True\n",
      "[False  True False  True False False False False]\n"
     ]
    }
   ],
   "source": [
    "# 检测数值是否在数组中\n",
    "print(25 in numArray)\n",
    "\n",
    "\n",
    "isContain = np.in1d(numArray, [25, 26])\n",
    "print(isContain)"
   ]
  },
  {
   "cell_type": "code",
   "execution_count": 110,
   "metadata": {},
   "outputs": [
    {
     "name": "stdout",
     "output_type": "stream",
     "text": [
      " numZeros's ndim is 3\n",
      "numZeros's shape is (2, 3, 4)\n",
      "numeZeros's size is 24\n"
     ]
    },
    {
     "data": {
      "text/plain": [
       "array([0., 0., 0., 0., 0., 0., 0., 0., 0., 0., 0., 0., 0., 0., 0., 0., 0.,\n",
       "       0., 0., 0., 0., 0., 0., 0.])"
      ]
     },
     "execution_count": 110,
     "metadata": {},
     "output_type": "execute_result"
    }
   ],
   "source": [
    "#数组的重排列\n",
    "# [个数，行，列]\n",
    "numZeros = np.zeros([2,3,4])\n",
    "numZeros\n",
    "print(\" numZeros's ndim is {}\".format(numZeros.ndim))\n",
    "print(\"numZeros's shape is {}\".format(numZeros.shape))\n",
    "print(\"numeZeros's size is {}\".format(numZeros.size))\n",
    "# 多维转一维\n",
    "numZeros.reshape(numZeros.size)\n",
    "\n",
    "#多维转一维\n",
    "numZeros.flatten()"
   ]
  },
  {
   "cell_type": "code",
   "execution_count": 109,
   "metadata": {},
   "outputs": [
    {
     "data": {
      "text/plain": [
       "array([['I', 'everyday', 'for'],\n",
       "       ['fall', 'is', 'the'],\n",
       "       ['asleep', 'working', 'deadline']], dtype='<U8')"
      ]
     },
     "execution_count": 109,
     "metadata": {},
     "output_type": "execute_result"
    }
   ],
   "source": [
    "#转置 T\n",
    "a.T\n",
    "a.transpose()"
   ]
  },
  {
   "cell_type": "code",
   "execution_count": 118,
   "metadata": {},
   "outputs": [
    {
     "data": {
      "text/plain": [
       "array([[[[[[[[20],\n",
       "             [25],\n",
       "             [ 2],\n",
       "             [26]]],\n",
       "\n",
       "\n",
       "           [[[20],\n",
       "             [ 1],\n",
       "             [ 1],\n",
       "             [16]]]]]]]])"
      ]
     },
     "execution_count": 118,
     "metadata": {},
     "output_type": "execute_result"
    }
   ],
   "source": [
    "#增加维度\n",
    "numArray.shape\n",
    "numArray = numArray[:,np.newaxis]\n",
    "numArray"
   ]
  },
  {
   "cell_type": "markdown",
   "metadata": {},
   "source": [
    "### NumPy 数组的数学操作\n",
    "\n",
    "- 星乘 矩阵内个对应位置相乘 、 点乘表示矩阵内积, 二维数组称为矩阵积"
   ]
  },
  {
   "cell_type": "code",
   "execution_count": null,
   "metadata": {},
   "outputs": [],
   "source": [
    "#加减乘除\n",
    "ones = np.ones((3,3))\n",
    "print(ones)\n",
    "\n",
    "array = np.array([(-1,1,-1),(1,-1,1),(1,-1,1)])\n",
    "print(array)\n",
    "\n",
    "print(\"ones + array\")\n",
    "print(ones+array)\n",
    "\n",
    "print(\"ones - array\")\n",
    "print(ones-array)\n",
    "\n",
    "print(\"ones * array\")\n",
    "print(ones*array)\n",
    "\n",
    "print(\"ones / array\")\n",
    "print(ones/array)\n",
    "\n",
    "#求和\n",
    "ones.sum()\n",
    "\n",
    "#求积\n",
    "allTimeArray  =  np.array([1,90,12,12])\n",
    "allTimeArray.prod()\n",
    "\n",
    "#平均数\n",
    "allTimeArray.mean()\n",
    "\n",
    "#最大值\n",
    "allTimeArray.max()\n",
    "#最小值\n",
    "allTimeArray.min()\n",
    "\n",
    "#方差\n",
    "allTimeArray.var()\n",
    "\n",
    "#标准差\n",
    "allTimeArray.std()\n",
    "\n",
    "\n"
   ]
  },
  {
   "cell_type": "code",
   "execution_count": 14,
   "metadata": {},
   "outputs": [
    {
     "name": "stdout",
     "output_type": "stream",
     "text": [
      "argmax: 0\n",
      "argmin: 1\n",
      "ceil: [20. 25.  2. 26. 20. 11. 16.]\n",
      "floor: [20. 25.  2. 26. 20. 11. 16.]\n",
      "rint: [20. 25.  2. 26. 20. 11. 16.]\n"
     ]
    }
   ],
   "source": [
    "floatArray = np.array([10,1.02, 3.8, 4.9])\n",
    "print(\"argmax:\", floatArray.argmax()) # 最大值的索引\n",
    "print(\"argmin:\", floatArray.argmin()) # 最小值的索引\n",
    "print(\"ceil:\", np.ceil(a))  # 向上取整\n",
    "print(\"floor:\", np.floor(a)) # 向下取整\n",
    "print(\"rint:\", np.rint(a))  # 四舍五入"
   ]
  },
  {
   "cell_type": "code",
   "execution_count": 25,
   "metadata": {},
   "outputs": [
    {
     "name": "stdout",
     "output_type": "stream",
     "text": [
      "[ 1.02  3.8   4.9  10.  ]\n",
      "[30 45]\n"
     ]
    }
   ],
   "source": [
    "#sort 排序\n",
    "floatArray.sort()\n",
    "print(floatArray)\n",
    "\n",
    "angleArray =np.array([30,-45])\n",
    "angleArray = np.abs(angleArray)\n",
    "print(angleArray)"
   ]
  },
  {
   "cell_type": "markdown",
   "metadata": {},
   "source": [
    "### Numpy 线性代数\n",
    "\n",
    "- numpy.linalg 提供线性代数"
   ]
  },
  {
   "cell_type": "code",
   "execution_count": 28,
   "metadata": {},
   "outputs": [
    {
     "name": "stdout",
     "output_type": "stream",
     "text": [
      "矩阵 1:\n",
      "[[1. 2.]\n",
      " [3. 4.]]\n",
      "矩阵 2:\n",
      "[[5. 6.]\n",
      " [7. 8.]]\n",
      "使用 np.dot 得到的矩阵乘法结果:\n",
      "[[19. 22.]\n",
      " [43. 50.]]\n",
      "使用 @ 运算符得到的矩阵乘法结果:\n",
      "[[19. 22.]\n",
      " [43. 50.]]\n",
      "1.0 * 5.0 = 5.0\n",
      "2.0 * 7.0 = 14.0\n",
      "结果矩阵[1,1]:19.0\n",
      "\n",
      "1.0 * 6.0 = 6.0\n",
      "2.0 * 8.0 = 16.0\n",
      "结果矩阵[1,2]:22.0\n",
      "\n",
      "3.0 * 5.0 = 15.0\n",
      "4.0 * 7.0 = 28.0\n",
      "结果矩阵[2,1]:43.0\n",
      "\n",
      "3.0 * 6.0 = 18.0\n",
      "4.0 * 8.0 = 32.0\n",
      "结果矩阵[2,2]:50.0\n",
      "\n",
      "手动推演结果:\n",
      "[[19. 22.]\n",
      " [43. 50.]]\n"
     ]
    }
   ],
   "source": [
    "#矩阵 （matrix） array 分支\n",
    "a9 = np.array([[20,25,2],[27,2,3]])\n",
    "b9 = np.array([[20,25,6],[17,2,3]])\n",
    "a9*b9\n",
    "#dot 矩阵内积\n",
    "import numpy as np\n",
    "\n",
    "# 定义两个简单的矩阵\n",
    "m1 = np.array([[1, 2], [3, 4]], dtype=np.float32)\n",
    "m2 = np.array([[5, 6], [7, 8]], dtype=np.float32)\n",
    "# m1 = m1.reshape(2,2)  # 矩阵1最后1个维度 == 矩阵2倒数第2个维度\n",
    "# m2 = m2.reshape(2,2)\n",
    "\n",
    "# 使用 np.dot 进行矩阵乘法\n",
    "result_dot = np.dot(m1, m2)\n",
    "\n",
    "# 使用 @ 运算符进行矩阵乘法\n",
    "result_at = m1 @ m2\n",
    "\n",
    "print(\"矩阵 1:\")\n",
    "print(m1)\n",
    "print(\"矩阵 2:\")\n",
    "print(m2)\n",
    "print(\"使用 np.dot 得到的矩阵乘法结果:\")\n",
    "print(result_dot)\n",
    "print(\"使用 @ 运算符得到的矩阵乘法结果:\")\n",
    "print(result_at)\n",
    "\n",
    "# 创建一个全零矩阵，用于存储手动推演的结果\n",
    "# 结果矩阵的行数等于 matrix1 的行数，列数等于 matrix2 的列数\n",
    "manual_result = np.zeros((m1.shape[0], m2.shape[1]), dtype=np.float32)\n",
    "\n",
    "# 外层循环：遍历 matrix1 的每一行\n",
    "# i 表示结果矩阵的行索引\n",
    "for i in range(m1.shape[0]):\n",
    "    # 中层循环：遍历 matrix2 的每一列\n",
    "    # j 表示结果矩阵的列索引\n",
    "    for j in range(m2.shape[1]):\n",
    "        # 初始化当前位置的结果为 0\n",
    "        manual_result[i, j] = 0\n",
    "        # 内层循环：计算 matrix1 的第 i 行与 matrix2 的第 j 列对应元素的乘积之和\n",
    "        # k 表示参与乘法运算的元素索引\n",
    "        for k in range(m1.shape[1]):\n",
    "            # 打印当前正在计算的元素\n",
    "            print(f\"{m1[i, k]} * {m2[k, j]} = {m1[i, k] * m2[k, j]}\")\n",
    "            # 将 matrix1 的第 i 行第 k 列元素与 matrix2 的第 k 行第 j 列元素相乘，并累加到结果矩阵的相应位置\n",
    "            manual_result[i, j] += m1[i, k] * m2[k, j]\n",
    "        # 打印当前位置计算完成后的结果\n",
    "        print(f\"结果矩阵[{i+1},{j+1}]:{manual_result[i, j]}\\n\")\n",
    "\n",
    "print(\"手动推演结果:\")\n",
    "print(manual_result)\n"
   ]
  },
  {
   "cell_type": "code",
   "execution_count": 45,
   "metadata": {},
   "outputs": [
    {
     "name": "stdout",
     "output_type": "stream",
     "text": [
      "torch.float32\n"
     ]
    },
    {
     "data": {
      "text/plain": [
       "tensor([[  4.,  16.,  36.],\n",
       "        [ 64., 100., 144.],\n",
       "        [196., 256., 324.]])"
      ]
     },
     "execution_count": 45,
     "metadata": {},
     "output_type": "execute_result"
    }
   ],
   "source": [
    "import torch\n",
    "tensor = torch.arange(2,20,2, dtype=torch.float32).reshape(3, 3)\n",
    "\n",
    "print(tensor.dtype)\n",
    "\n",
    "# 计算两个张量之间矩阵乘法的几种方式。 y1, y2, y3 最后的值是一样的 dot\n",
    "y1 = tensor @ tensor.T\n",
    "y2 = tensor.matmul(tensor.T)\n",
    "\n",
    "y3 = torch.rand_like(tensor)\n",
    "torch.matmul(tensor, tensor.T, out=y3)\n",
    "\n",
    "\n",
    "# 计算张量逐元素相乘的几种方法。 z1, z2, z3 最后的值是一样的。\n",
    "z1 = tensor * tensor\n",
    "z2 = tensor.mul(tensor)\n",
    "\n",
    "z3 = torch.rand_like(tensor)\n",
    "torch.mul(tensor, tensor, out=z3)"
   ]
  },
  {
   "cell_type": "code",
   "execution_count": 31,
   "metadata": {},
   "outputs": [],
   "source": [
    "np.save('result.npy',manual_result)"
   ]
  },
  {
   "cell_type": "code",
   "execution_count": 32,
   "metadata": {},
   "outputs": [
    {
     "data": {
      "text/plain": [
       "array([[19., 22.],\n",
       "       [43., 50.]], dtype=float32)"
      ]
     },
     "execution_count": 32,
     "metadata": {},
     "output_type": "execute_result"
    }
   ],
   "source": [
    "result_np = np.load('result.npy')\n",
    "result_np"
   ]
  },
  {
   "cell_type": "code",
   "execution_count": 35,
   "metadata": {},
   "outputs": [
    {
     "data": {
      "text/plain": [
       "array([ 5, 18,  9])"
      ]
     },
     "execution_count": 35,
     "metadata": {},
     "output_type": "execute_result"
    }
   ],
   "source": [
    "a = np.array([1,9,3])\n",
    "b = np.array([4,9,6])\n",
    "a + b"
   ]
  },
  {
   "cell_type": "code",
   "execution_count": 46,
   "metadata": {},
   "outputs": [
    {
     "data": {
      "text/plain": [
       "array([[ 0, 10],\n",
       "       [ 5,  3],\n",
       "       [ 2,  9],\n",
       "       [ 7,  5]])"
      ]
     },
     "execution_count": 46,
     "metadata": {},
     "output_type": "execute_result"
    }
   ],
   "source": [
    "a = np.array([(1,9), (6,2), (3,8), (8,4)])  # shape(4,2)\n",
    "b = np.array([-1,1])  \n",
    "a + b"
   ]
  }
 ],
 "metadata": {
  "kernelspec": {
   "display_name": "py312",
   "language": "python",
   "name": "python3"
  },
  "language_info": {
   "codemirror_mode": {
    "name": "ipython",
    "version": 3
   },
   "file_extension": ".py",
   "mimetype": "text/x-python",
   "name": "python",
   "nbconvert_exporter": "python",
   "pygments_lexer": "ipython3",
   "version": "3.12.8"
  }
 },
 "nbformat": 4,
 "nbformat_minor": 2
}

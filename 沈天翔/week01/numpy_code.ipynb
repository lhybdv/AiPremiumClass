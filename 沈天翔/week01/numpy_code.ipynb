{
 "cells": [
  {
   "cell_type": "code",
   "execution_count": 2,
   "metadata": {},
   "outputs": [],
   "source": [
    "import numpy as np"
   ]
  },
  {
   "cell_type": "code",
   "execution_count": 9,
   "metadata": {},
   "outputs": [
    {
     "name": "stdout",
     "output_type": "stream",
     "text": [
      "[0. 1. 2. 3. 4. 5. 6. 7. 8. 9.]\n",
      "[0 1 2 3 4 5 6 7 8 9]\n"
     ]
    }
   ],
   "source": [
    "a1 = range(10)\n",
    "\n",
    "arr1 = np.array(a1,np.float32)\n",
    "print(arr1)\n",
    "\n",
    "arr2 = np.array(a1,np.int32)\n",
    "print(arr2)"
   ]
  },
  {
   "cell_type": "code",
   "execution_count": 10,
   "metadata": {},
   "outputs": [
    {
     "name": "stdout",
     "output_type": "stream",
     "text": [
      "[1 2 3 4 5]\n",
      "[1. 2. 3. 4. 5.]\n"
     ]
    }
   ],
   "source": [
    "# 创建ndarray数组\n",
    "a1 = [1,2,3,4,5]\n",
    "arr = np.array(a1, int)\n",
    "print(arr)\n",
    "\n",
    "arr1 = np.array(a1, float)\n",
    "print(arr1)"
   ]
  },
  {
   "cell_type": "code",
   "execution_count": 16,
   "metadata": {},
   "outputs": [
    {
     "name": "stdout",
     "output_type": "stream",
     "text": [
      "[[1 2 3]\n",
      " [4 5 6]\n",
      " [7 8 9]]\n",
      "\n",
      "[[1 2 3]\n",
      " [4 5 6]\n",
      " [7 8 9]]\n"
     ]
    }
   ],
   "source": [
    "# a = [1,2,3]\n",
    "# b = [4,5,6]\n",
    "# c = [7,8,9]\n",
    "a = (1,2,3)\n",
    "b = (4,5,6)\n",
    "c = (7,8,9)\n",
    "\n",
    "# a,b,c 可以是元组/列表\n",
    "d = np.array((a, b, c)) \n",
    "print(d)\n",
    "print()\n",
    "\n",
    "d = np.array([a, b, c]) \n",
    "print(d)"
   ]
  },
  {
   "cell_type": "code",
   "execution_count": 18,
   "metadata": {},
   "outputs": [
    {
     "name": "stdout",
     "output_type": "stream",
     "text": [
      "[[0. 0. 0.]\n",
      " [0. 0. 0.]]\n",
      "\n",
      "[[0 0 0]\n",
      " [0 0 0]\n",
      " [0 0 0]\n",
      " [0 0 0]]\n"
     ]
    },
    {
     "data": {
      "text/plain": [
       "array([[0, 0, 0],\n",
       "       [0, 0, 0],\n",
       "       [0, 0, 0],\n",
       "       [0, 0, 0]])"
      ]
     },
     "execution_count": 18,
     "metadata": {},
     "output_type": "execute_result"
    }
   ],
   "source": [
    "a1 = np.zeros((2,3), dtype=np.float32)\n",
    "print(a1)\n",
    "print()\n",
    "\n",
    "a1 = np.zeros((4,3), dtype=np.int32)\n",
    "print(a1)\n",
    "a1"
   ]
  },
  {
   "cell_type": "code",
   "execution_count": 20,
   "metadata": {},
   "outputs": [
    {
     "name": "stdout",
     "output_type": "stream",
     "text": [
      "[[1. 1. 1.]\n",
      " [1. 1. 1.]\n",
      " [1. 1. 1.]]\n"
     ]
    },
    {
     "data": {
      "text/plain": [
       "array([[1., 1., 1.],\n",
       "       [1., 1., 1.],\n",
       "       [1., 1., 1.]], dtype=float32)"
      ]
     },
     "execution_count": 20,
     "metadata": {},
     "output_type": "execute_result"
    }
   ],
   "source": [
    "a2 = np.ones((3,3), dtype=np.float32)\n",
    "print(a2)\n",
    "a2"
   ]
  },
  {
   "cell_type": "code",
   "execution_count": 21,
   "metadata": {},
   "outputs": [
    {
     "name": "stdout",
     "output_type": "stream",
     "text": [
      "[[1. 1. 1.]\n",
      " [1. 1. 1.]\n",
      " [1. 1. 1.]]\n"
     ]
    },
    {
     "data": {
      "text/plain": [
       "array([[1., 1., 1.],\n",
       "       [1., 1., 1.],\n",
       "       [1., 1., 1.]], dtype=float32)"
      ]
     },
     "execution_count": 21,
     "metadata": {},
     "output_type": "execute_result"
    }
   ],
   "source": [
    "a1 = np.ones_like(a2, dtype=np.float32)\n",
    "print(a1)\n",
    "a1"
   ]
  },
  {
   "cell_type": "code",
   "execution_count": 22,
   "metadata": {},
   "outputs": [
    {
     "name": "stdout",
     "output_type": "stream",
     "text": [
      "[1 2 3 4 5]\n"
     ]
    },
    {
     "data": {
      "text/plain": [
       "array([1, 2, 3, 4, 5])"
      ]
     },
     "execution_count": 22,
     "metadata": {},
     "output_type": "execute_result"
    }
   ],
   "source": [
    "a2 = np.arange(1,6, 1, dtype=np.int32)\n",
    "print(a2)\n",
    "a2"
   ]
  },
  {
   "cell_type": "code",
   "execution_count": 23,
   "metadata": {},
   "outputs": [
    {
     "name": "stdout",
     "output_type": "stream",
     "text": [
      "[[1. 0. 0.]\n",
      " [0. 1. 0.]\n",
      " [0. 0. 1.]]\n"
     ]
    },
    {
     "data": {
      "text/plain": [
       "array([[1., 0., 0.],\n",
       "       [0., 1., 0.],\n",
       "       [0., 0., 1.]])"
      ]
     },
     "execution_count": 23,
     "metadata": {},
     "output_type": "execute_result"
    }
   ],
   "source": [
    "a3 = np.eye(3)\n",
    "print(a3)\n",
    "a3  # one-hot编码"
   ]
  },
  {
   "cell_type": "code",
   "execution_count": 24,
   "metadata": {},
   "outputs": [
    {
     "data": {
      "text/plain": [
       "array([0.72740671, 0.68340077, 0.27896472, 0.86920986, 0.01554767,\n",
       "       0.75522996, 0.33076822, 0.15319782, 0.21447345, 0.01171307])"
      ]
     },
     "execution_count": 24,
     "metadata": {},
     "output_type": "execute_result"
    }
   ],
   "source": [
    "a4 = np.random.random(10)  # 模型运算参数初始值，0到1之间平均分布的随机数\n",
    "a4"
   ]
  },
  {
   "cell_type": "code",
   "execution_count": 25,
   "metadata": {},
   "outputs": [
    {
     "data": {
      "text/plain": [
       "array([ 0.06363844, -0.0072685 , -0.0488202 , -0.21703377,  0.06470532,\n",
       "        0.01090629,  0.16227556, -0.11800072,  0.03288325, -0.14486278])"
      ]
     },
     "execution_count": 25,
     "metadata": {},
     "output_type": "execute_result"
    }
   ],
   "source": [
    "a5 = np.random.normal(0, 0.1, 10)  # 模型运算参数初始值,均值为0，标准差为0.1，数量为10的随机数\n",
    "a5"
   ]
  },
  {
   "cell_type": "code",
   "execution_count": 26,
   "metadata": {},
   "outputs": [
    {
     "name": "stdout",
     "output_type": "stream",
     "text": [
      "[[ 1  2 11 22]\n",
      " [ 3  4 33 44]\n",
      " [ 5  6 55 66]]\n",
      "\n",
      "[ 3  4 33 44]\n",
      "\n",
      "[11 33]\n",
      "\n",
      "[11 33 55]\n",
      "\n",
      "55\n",
      "\n",
      "6\n"
     ]
    }
   ],
   "source": [
    "a6 = np.array([(1,2,11,22), (3,4,33,44), (5,6,55,66)])\n",
    "print(a6)\n",
    "print()\n",
    "print(a6[1])\n",
    "print()\n",
    "print(a6[:2,2])\n",
    "print()\n",
    "print(a6[:3,2])\n",
    "print()\n",
    "print(a6[2,2])\n",
    "print()\n",
    "print(a6[2][1])"
   ]
  },
  {
   "cell_type": "code",
   "execution_count": 27,
   "metadata": {},
   "outputs": [
    {
     "name": "stdout",
     "output_type": "stream",
     "text": [
      "1 2\n",
      "\n",
      "1 2\n",
      "3 4\n",
      "5 6\n"
     ]
    }
   ],
   "source": [
    "a7 = np.array([(1,2), (3,4), (5,6)])\n",
    "i,j = a7[0]\n",
    "print(i,j)\n",
    "print()\n",
    "\n",
    "for i,j in a7:\n",
    "    print(i,j)\n",
    "\n"
   ]
  },
  {
   "cell_type": "code",
   "execution_count": 31,
   "metadata": {},
   "outputs": [
    {
     "name": "stdout",
     "output_type": "stream",
     "text": [
      "[[1. 0. 0. 0.]\n",
      " [0. 1. 0. 0.]\n",
      " [0. 0. 1. 0.]\n",
      " [0. 0. 0. 1.]]\n",
      "ndim: 2\n",
      "shape: (4, 4)\n",
      "size 16\n",
      "dtype float64\n"
     ]
    }
   ],
   "source": [
    "# a = np.array([(3,6,7), (4,7,6), (7,8,9)])\n",
    "a = np.eye(4)\n",
    "print(a)\n",
    "print(\"ndim:\", a.ndim) #维度\n",
    "print(\"shape:\", a.shape) #形状\n",
    "print(\"size\", a.size) #数量\n",
    "print(\"dtype\", a.dtype) #数据类型"
   ]
  },
  {
   "cell_type": "code",
   "execution_count": 32,
   "metadata": {},
   "outputs": [
    {
     "name": "stdout",
     "output_type": "stream",
     "text": [
      "False\n",
      "True\n"
     ]
    }
   ],
   "source": [
    "print(3 in a)\n",
    "print(1 in a)"
   ]
  },
  {
   "cell_type": "code",
   "execution_count": 37,
   "metadata": {},
   "outputs": [
    {
     "name": "stdout",
     "output_type": "stream",
     "text": [
      "[1 2 3 4 5 6 7 8 9]\n",
      "(9,)\n",
      "\n",
      "[[[1]\n",
      "  [2]\n",
      "  [3]]\n",
      "\n",
      " [[4]\n",
      "  [5]\n",
      "  [6]]\n",
      "\n",
      " [[7]\n",
      "  [8]\n",
      "  [9]]]\n",
      "\n",
      "[[1 2 3]\n",
      " [4 5 6]\n",
      " [7 8 9]]\n",
      "\n",
      "(3, 3)\n"
     ]
    }
   ],
   "source": [
    "a7 = np.arange(1,10)\n",
    "print(a7)\n",
    "print(a7.shape)\n",
    "print()\n",
    "\n",
    "a7 = a7.reshape(3,3,1)  # 维度大小乘积 == 元素个数\n",
    "print(a7)\n",
    "print()\n",
    "\n",
    "a7 = a7.reshape(3,3)  # 维度大小乘积 == 元素个数\n",
    "print(a7)\n",
    "print()\n",
    "\n",
    "print(a7.shape)  # 高维矩阵，每个维度都有含义\n",
    "\n",
    "# 加载图像数据\n",
    "# img.shape [1,3,120,120] 1个样本，3颜色特征通道，120高，120宽"
   ]
  },
  {
   "cell_type": "code",
   "execution_count": 41,
   "metadata": {},
   "outputs": [
    {
     "name": "stdout",
     "output_type": "stream",
     "text": [
      "[[1 4 7]\n",
      " [2 5 8]\n",
      " [3 6 9]]\n",
      "\n",
      "[[1 2 3]\n",
      " [4 5 6]\n",
      " [7 8 9]]\n",
      "\n",
      "[[1 4 7]\n",
      " [2 5 8]\n",
      " [3 6 9]]\n"
     ]
    }
   ],
   "source": [
    "print(a7)\n",
    "print()\n",
    "\n",
    "a7 = a7.T\n",
    "print(a7)\n",
    "print()\n",
    "\n",
    "a7 = a7.transpose()\n",
    "print(a7)"
   ]
  },
  {
   "cell_type": "code",
   "execution_count": null,
   "metadata": {},
   "outputs": [
    {
     "name": "stdout",
     "output_type": "stream",
     "text": [
      "[1 4 7 2 5 8 3 6 9]\n"
     ]
    }
   ],
   "source": [
    "a7 = a7.flatten() #展平\n",
    "print(a7)"
   ]
  },
  {
   "cell_type": "code",
   "execution_count": 43,
   "metadata": {},
   "outputs": [
    {
     "name": "stdout",
     "output_type": "stream",
     "text": [
      "[[ 1  2 12]\n",
      " [ 3  4 34]\n",
      " [ 5  6 56]]\n",
      "\n",
      "(3, 1, 3)\n",
      "\n",
      "[[[ 1  2 12]]\n",
      "\n",
      " [[ 3  4 34]]\n",
      "\n",
      " [[ 5  6 56]]]\n"
     ]
    }
   ],
   "source": [
    "a8 = np.array([(1,2,12), (3,4,34), (5,6,56)])\n",
    "print(a8)\n",
    "print()\n",
    "\n",
    "a8 = a8[:,np.newaxis,:] \n",
    "print(a8.shape)\n",
    "print()\n",
    "\n",
    "print(a8)"
   ]
  },
  {
   "cell_type": "code",
   "execution_count": 46,
   "metadata": {},
   "outputs": [
    {
     "name": "stdout",
     "output_type": "stream",
     "text": [
      "[[1. 1.]\n",
      " [1. 1.]]\n",
      "\n",
      "[[-1  1]\n",
      " [-1  1]]\n",
      "\n",
      "[[0. 2.]\n",
      " [0. 2.]]\n",
      "\n",
      "[[2. 0.]\n",
      " [2. 0.]]\n"
     ]
    }
   ],
   "source": [
    "a = np.ones((2,2))\n",
    "b = np.array([(-1,1),(-1,1)])\n",
    "print(a)\n",
    "print()\n",
    "print(b)\n",
    "print()\n",
    "print(a+b)\n",
    "print()\n",
    "print(a-b)"
   ]
  },
  {
   "cell_type": "code",
   "execution_count": 48,
   "metadata": {},
   "outputs": [
    {
     "data": {
      "text/plain": [
       "4.0"
      ]
     },
     "execution_count": 48,
     "metadata": {},
     "output_type": "execute_result"
    }
   ],
   "source": [
    "a.sum()"
   ]
  },
  {
   "cell_type": "code",
   "execution_count": null,
   "metadata": {},
   "outputs": [
    {
     "name": "stdout",
     "output_type": "stream",
     "text": [
      "[[2. 2.]\n",
      " [2. 2.]]\n"
     ]
    },
    {
     "data": {
      "text/plain": [
       "16.0"
      ]
     },
     "execution_count": 104,
     "metadata": {},
     "output_type": "execute_result"
    }
   ],
   "source": [
    "a +=1\n",
    "print(a)\n",
    "a.prod() #求乘积"
   ]
  },
  {
   "cell_type": "code",
   "execution_count": null,
   "metadata": {},
   "outputs": [],
   "source": [
    "# 数组，矩阵、维度\n",
    "\n",
    "# 数组、矩阵  ： 数据组织结构形式\n",
    "\n",
    "# 维度： 通讯地址"
   ]
  },
  {
   "cell_type": "code",
   "execution_count": 49,
   "metadata": {},
   "outputs": [
    {
     "name": "stdout",
     "output_type": "stream",
     "text": [
      "mean: 3.5\n",
      "var: 2.9166666666666665\n",
      "std: 1.707825127659933\n"
     ]
    }
   ],
   "source": [
    "a = np.array([1,2,3,4,5,6])\n",
    "print(\"mean:\",a.mean()) #平均值\n",
    "print(\"var:\", a.var()) #方差\n",
    "print(\"std:\", a.std()) #标准差"
   ]
  },
  {
   "cell_type": "code",
   "execution_count": 51,
   "metadata": {},
   "outputs": [
    {
     "name": "stdout",
     "output_type": "stream",
     "text": [
      "argmax: 4\n",
      "argmin: 3\n",
      "ceil: [   2.    4.    5. -123.  124.]\n",
      "floor: [   1.    3.    4. -124.  123.]\n",
      "rint: [   1.    4.    5. -124.  124.]\n"
     ]
    }
   ],
   "source": [
    "a = np.array([1.02, 3.8, 4.9, -123.6, 123.7])\n",
    "print(\"argmax:\", a.argmax()) # 最大值的索引\n",
    "print(\"argmin:\", a.argmin()) # 最小值的索引\n",
    "\n",
    "print(\"ceil:\", np.ceil(a))  # 向上取整\n",
    "print(\"floor:\", np.floor(a)) # 向下取整\n",
    "print(\"rint:\", np.rint(a))  # 四舍五入"
   ]
  },
  {
   "cell_type": "code",
   "execution_count": 52,
   "metadata": {},
   "outputs": [
    {
     "name": "stdout",
     "output_type": "stream",
     "text": [
      "[10 12 16 16 22 28 31 31 48]\n",
      "[48 31 31 28 22 16 16 12 10]\n"
     ]
    }
   ],
   "source": [
    "a = np.array([16,31,12,28,22,31,48,10,16])\n",
    "a.sort()  # 排序\n",
    "print(a)\n",
    "b = np.sort(a)[::-1]\n",
    "print(b)"
   ]
  },
  {
   "cell_type": "code",
   "execution_count": 54,
   "metadata": {},
   "outputs": [
    {
     "name": "stdout",
     "output_type": "stream",
     "text": [
      "tensor([[ 1.,  2.,  3.,  4.],\n",
      "        [ 5.,  6.,  7.,  8.],\n",
      "        [ 9., 10., 11., 12.],\n",
      "        [13., 14., 15., 16.]])\n",
      "\n",
      "torch.float32\n",
      "tensor([[ 90., 100., 110., 120.],\n",
      "        [202., 228., 254., 280.],\n",
      "        [314., 356., 398., 440.],\n",
      "        [426., 484., 542., 600.]])\n",
      "\n",
      "tensor([[ 90., 100., 110., 120.],\n",
      "        [202., 228., 254., 280.],\n",
      "        [314., 356., 398., 440.],\n",
      "        [426., 484., 542., 600.]])\n",
      "\n",
      "tensor([[0.5965, 0.8637, 0.5051, 0.5690],\n",
      "        [0.5701, 0.3904, 0.3648, 0.5527],\n",
      "        [0.9913, 0.9655, 0.4575, 0.7287],\n",
      "        [0.3472, 0.1698, 0.7708, 0.7100]])\n",
      "\n",
      "tensor([[ 90., 100., 110., 120.],\n",
      "        [202., 228., 254., 280.],\n",
      "        [314., 356., 398., 440.],\n",
      "        [426., 484., 542., 600.]])\n",
      "\n"
     ]
    },
    {
     "data": {
      "text/plain": [
       "tensor([[  1.,   4.,   9.,  16.],\n",
       "        [ 25.,  36.,  49.,  64.],\n",
       "        [ 81., 100., 121., 144.],\n",
       "        [169., 196., 225., 256.]])"
      ]
     },
     "execution_count": 54,
     "metadata": {},
     "output_type": "execute_result"
    }
   ],
   "source": [
    "import torch\n",
    "tensor = torch.arange(1,17, dtype=torch.float32).reshape(4, 4)\n",
    "print(tensor)\n",
    "print()\n",
    "\n",
    "print(tensor.dtype)\n",
    "\n",
    "# 计算两个张量之间矩阵乘法的几种方式。 y1, y2, y3 最后的值是一样的 dot\n",
    "y1 = tensor @ tensor\n",
    "print(y1)\n",
    "print()\n",
    "\n",
    "y2 = tensor.matmul(tensor)\n",
    "print(y2)\n",
    "print()\n",
    "\n",
    "y3 = torch.rand_like(tensor)\n",
    "print(y3)\n",
    "print()\n",
    "\n",
    "torch.matmul(tensor, tensor, out=y3)\n",
    "print(y3)\n",
    "print()\n",
    "\n",
    "# 计算张量逐元素相乘的几种方法。 z1, z2, z3 最后的值是一样的。\n",
    "z1 = tensor * tensor\n",
    "z2 = tensor.mul(tensor)\n",
    "\n",
    "z3 = torch.rand_like(tensor)\n",
    "torch.mul(tensor, tensor, out=z3)"
   ]
  },
  {
   "cell_type": "code",
   "execution_count": 61,
   "metadata": {},
   "outputs": [
    {
     "name": "stdout",
     "output_type": "stream",
     "text": [
      "[[ 1  2  3  4]\n",
      " [ 5  6  7  8]\n",
      " [ 9 10 11 12]\n",
      " [13 14 15 16]]\n",
      "\n",
      "[[ 1  2  3  4]\n",
      " [ 5  6  7  8]\n",
      " [ 9 10 11 12]\n",
      " [13 14 15 16]]\n",
      "\n",
      "[[  1   4   9  16]\n",
      " [ 25  36  49  64]\n",
      " [ 81 100 121 144]\n",
      " [169 196 225 256]]\n"
     ]
    }
   ],
   "source": [
    "a9 = np.array(range(1,17)).reshape(4,4)\n",
    "b9 = a9\n",
    "print(a9)\n",
    "print()\n",
    "print(b9)\n",
    "print()\n",
    "\n",
    "c = a9 * b9\n",
    "print(c)"
   ]
  },
  {
   "cell_type": "code",
   "execution_count": 64,
   "metadata": {},
   "outputs": [
    {
     "name": "stdout",
     "output_type": "stream",
     "text": [
      "矩阵 1:\n",
      "[[ 1.  2.  3.  4.]\n",
      " [ 5.  6.  7.  8.]\n",
      " [ 9. 10. 11. 12.]\n",
      " [13. 14. 15. 16.]]\n",
      "矩阵 2:\n",
      "[[ 1.  2.  3.  4.]\n",
      " [ 5.  6.  7.  8.]\n",
      " [ 9. 10. 11. 12.]\n",
      " [13. 14. 15. 16.]]\n",
      "使用 np.dot 得到的矩阵乘法结果:\n",
      "[[ 90. 100. 110. 120.]\n",
      " [202. 228. 254. 280.]\n",
      " [314. 356. 398. 440.]\n",
      " [426. 484. 542. 600.]]\n",
      "使用 @ 运算符得到的矩阵乘法结果:\n",
      "[[ 90. 100. 110. 120.]\n",
      " [202. 228. 254. 280.]\n",
      " [314. 356. 398. 440.]\n",
      " [426. 484. 542. 600.]]\n"
     ]
    }
   ],
   "source": [
    "import numpy as np\n",
    "\n",
    "# 定义两个简单的矩阵\n",
    "m1 = np.array(a9, dtype=np.float32)\n",
    "m2 = np.array(a9, dtype=np.float32)\n",
    "\n",
    "# 使用 np.dot 进行矩阵乘法\n",
    "result_dot = np.dot(m1, m2)\n",
    "\n",
    "# 使用 @ 运算符进行矩阵乘法\n",
    "result_at = m1 @ m2\n",
    "\n",
    "print(\"矩阵 1:\")\n",
    "print(m1)\n",
    "print(\"矩阵 2:\")\n",
    "print(m2)\n",
    "print(\"使用 np.dot 得到的矩阵乘法结果:\")\n",
    "print(result_dot)\n",
    "print(\"使用 @ 运算符得到的矩阵乘法结果:\")\n",
    "print(result_at)"
   ]
  },
  {
   "cell_type": "code",
   "execution_count": null,
   "metadata": {},
   "outputs": [],
   "source": [
    "np.save('result.npy',result_at) #以二进制的方式讲数据保存到文件"
   ]
  },
  {
   "cell_type": "code",
   "execution_count": 76,
   "metadata": {},
   "outputs": [
    {
     "name": "stdout",
     "output_type": "stream",
     "text": [
      "[[ 90. 100. 110. 120.]\n",
      " [202. 228. 254. 280.]\n",
      " [314. 356. 398. 440.]\n",
      " [426. 484. 542. 600.]]\n"
     ]
    }
   ],
   "source": [
    "result_np = np.load('result.npy') #从文件中读取数据\n",
    "print(result_np)"
   ]
  },
  {
   "cell_type": "code",
   "execution_count": 77,
   "metadata": {},
   "outputs": [
    {
     "data": {
      "text/plain": [
       "array([5, 7, 9])"
      ]
     },
     "execution_count": 77,
     "metadata": {},
     "output_type": "execute_result"
    }
   ],
   "source": [
    "a = np.array([1,2,3])\n",
    "b = np.array([4,5,6])\n",
    "a + b"
   ]
  },
  {
   "cell_type": "code",
   "execution_count": 78,
   "metadata": {},
   "outputs": [
    {
     "name": "stdout",
     "output_type": "stream",
     "text": [
      "[[0 1 2 3]\n",
      " [4 5 6 7]]\n",
      "\n",
      "[[-1]\n",
      " [ 1]]\n",
      "\n",
      "(2, 1)\n",
      "\n"
     ]
    },
    {
     "data": {
      "text/plain": [
       "array([[-1,  0,  1,  2],\n",
       "       [ 5,  6,  7,  8]])"
      ]
     },
     "execution_count": 78,
     "metadata": {},
     "output_type": "execute_result"
    }
   ],
   "source": [
    "a = np.array(range(8)).reshape(2,4)  # shape(4,2)\n",
    "b = np.array([-1,1]).reshape(2,1)\n",
    "\n",
    "print(a)\n",
    "print()\n",
    "print(b)\n",
    "print()\n",
    "print(np.shape(b))\n",
    "print()\n",
    "a + b"
   ]
  }
 ],
 "metadata": {
  "kernelspec": {
   "display_name": "py312",
   "language": "python",
   "name": "python3"
  },
  "language_info": {
   "codemirror_mode": {
    "name": "ipython",
    "version": 3
   },
   "file_extension": ".py",
   "mimetype": "text/x-python",
   "name": "python",
   "nbconvert_exporter": "python",
   "pygments_lexer": "ipython3",
   "version": "3.12.3"
  }
 },
 "nbformat": 4,
 "nbformat_minor": 2
}

{
 "cells": [
  {
   "cell_type": "code",
   "execution_count": 7,
   "metadata": {},
   "outputs": [],
   "source": [
    "import numpy as np"
   ]
  },
  {
   "cell_type": "code",
   "execution_count": 8,
   "metadata": {},
   "outputs": [
    {
     "data": {
      "text/plain": [
       "array([1., 3., 5., 7., 9.])"
      ]
     },
     "execution_count": 8,
     "metadata": {},
     "output_type": "execute_result"
    }
   ],
   "source": [
    "arr = np.array([1, 3, 5, 7, 9], float)\n",
    "arr"
   ]
  },
  {
   "cell_type": "code",
   "execution_count": 9,
   "metadata": {},
   "outputs": [
    {
     "data": {
      "text/plain": [
       "array([[3, 4],\n",
       "       [5, 6]])"
      ]
     },
     "execution_count": 9,
     "metadata": {},
     "output_type": "execute_result"
    }
   ],
   "source": [
    "arr = np.array([[3, 4], [5, 6]], int)\n",
    "arr"
   ]
  },
  {
   "cell_type": "code",
   "execution_count": 10,
   "metadata": {},
   "outputs": [
    {
     "data": {
      "text/plain": [
       "array([[0., 0., 0.],\n",
       "       [0., 0., 0.],\n",
       "       [0., 0., 0.]], dtype=float32)"
      ]
     },
     "execution_count": 10,
     "metadata": {},
     "output_type": "execute_result"
    }
   ],
   "source": [
    "arr = np.zeros((3,3), dtype=np.float32)\n",
    "arr"
   ]
  },
  {
   "cell_type": "code",
   "execution_count": 11,
   "metadata": {},
   "outputs": [
    {
     "data": {
      "text/plain": [
       "array([0. , 0.5, 1. , 1.5, 2. , 2.5, 3. , 3.5, 4. , 4.5, 5. , 5.5, 6. ,\n",
       "       6.5, 7. , 7.5, 8. , 8.5, 9. , 9.5], dtype=float32)"
      ]
     },
     "execution_count": 11,
     "metadata": {},
     "output_type": "execute_result"
    }
   ],
   "source": [
    "arr = np.arange(0, 10, 0.5, dtype=np.float32)\n",
    "arr"
   ]
  },
  {
   "cell_type": "code",
   "execution_count": 12,
   "metadata": {},
   "outputs": [
    {
     "data": {
      "text/plain": [
       "array([[1., 0., 0.],\n",
       "       [0., 1., 0.],\n",
       "       [0., 0., 1.]], dtype=float32)"
      ]
     },
     "execution_count": 12,
     "metadata": {},
     "output_type": "execute_result"
    }
   ],
   "source": [
    "arr = np.eye(3, k=0, dtype=np.float32)\n",
    "arr"
   ]
  },
  {
   "cell_type": "code",
   "execution_count": 13,
   "metadata": {},
   "outputs": [
    {
     "data": {
      "text/plain": [
       "array([0.57675196, 0.03646765, 0.93601735, 0.91588685])"
      ]
     },
     "execution_count": 13,
     "metadata": {},
     "output_type": "execute_result"
    }
   ],
   "source": [
    "a = np.random.random(4) #一般是模型运算参数初始值\n",
    "a"
   ]
  },
  {
   "cell_type": "code",
   "execution_count": 14,
   "metadata": {},
   "outputs": [
    {
     "data": {
      "text/plain": [
       "array([50, 68,  2, 47])"
      ]
     },
     "execution_count": 14,
     "metadata": {},
     "output_type": "execute_result"
    }
   ],
   "source": [
    "a = np.random.randint(0, 100, 4) #一般是模型运算参数初始值\n",
    "a"
   ]
  },
  {
   "cell_type": "code",
   "execution_count": 15,
   "metadata": {},
   "outputs": [
    {
     "data": {
      "text/plain": [
       "array([ 0.37398685, -0.07199149, -0.86078034, -1.17198268])"
      ]
     },
     "execution_count": 15,
     "metadata": {},
     "output_type": "execute_result"
    }
   ],
   "source": [
    "a = np.random.normal(0, 1, 4) #一般是模型运算参数初始值\n",
    "a"
   ]
  },
  {
   "cell_type": "code",
   "execution_count": 16,
   "metadata": {},
   "outputs": [
    {
     "name": "stdout",
     "output_type": "stream",
     "text": [
      "[2 4 6]\n"
     ]
    }
   ],
   "source": [
    "arr = np.array([[1, 2], [3, 4], [5, 6]])\n",
    "print(arr[:, 1]) \n",
    "#arr.shape"
   ]
  },
  {
   "cell_type": "code",
   "execution_count": 17,
   "metadata": {},
   "outputs": [
    {
     "name": "stdout",
     "output_type": "stream",
     "text": [
      "(2, 3)\n",
      "1.0 3.0\n",
      "4.0 6.0\n"
     ]
    }
   ],
   "source": [
    "arr = np.array([(1, 2, 3), (4, 5, 6)], dtype=np.float32)\n",
    "print(arr.shape)\n",
    "for k,m,j in arr:\n",
    "    print(k, j)"
   ]
  },
  {
   "cell_type": "code",
   "execution_count": 18,
   "metadata": {},
   "outputs": [
    {
     "data": {
      "text/plain": [
       "dtype('float32')"
      ]
     },
     "execution_count": 18,
     "metadata": {},
     "output_type": "execute_result"
    }
   ],
   "source": [
    "a = np.array([[1, 2], [3, 4], [5, 6]], dtype=np.float32)\n",
    "a.ndim #维度 2\n",
    "a.shape #形状 (3, 2)\n",
    "a.size # 2*3 = 6\n",
    "a.dtype #float32"
   ]
  },
  {
   "cell_type": "code",
   "execution_count": 19,
   "metadata": {},
   "outputs": [
    {
     "name": "stdout",
     "output_type": "stream",
     "text": [
      "True\n"
     ]
    }
   ],
   "source": [
    "a = np.array([[1, 2], [3, 4], [5, 6]], dtype=np.float32)\n",
    "#(1, 3) in a #true\n",
    "#[1, 3] in a\n",
    "print((1, 3) in a)"
   ]
  },
  {
   "cell_type": "code",
   "execution_count": 20,
   "metadata": {},
   "outputs": [
    {
     "data": {
      "text/plain": [
       "(3, 3, 1)"
      ]
     },
     "execution_count": 20,
     "metadata": {},
     "output_type": "execute_result"
    }
   ],
   "source": [
    "a = np.arange(1, 10)\n",
    "#a\n",
    "#a.shape = 3, 3\n",
    "#a\n",
    "#a.shape\n",
    "a = a.reshape(3, 3, 1)\n",
    "a.shape"
   ]
  },
  {
   "cell_type": "code",
   "execution_count": 21,
   "metadata": {},
   "outputs": [
    {
     "data": {
      "text/plain": [
       "array([[[1],\n",
       "        [2]],\n",
       "\n",
       "       [[3],\n",
       "        [4]],\n",
       "\n",
       "       [[5],\n",
       "        [6]]])"
      ]
     },
     "execution_count": 21,
     "metadata": {},
     "output_type": "execute_result"
    }
   ],
   "source": [
    "a = np.array([(1,2), (3,4), (5,6)])\n",
    "a = a[:,:,np.newaxis]\n",
    "a.shape #3行2列1深度\n",
    "a"
   ]
  },
  {
   "cell_type": "code",
   "execution_count": 22,
   "metadata": {},
   "outputs": [
    {
     "data": {
      "text/plain": [
       "array([[ 0.,  2.,  1.],\n",
       "       [ 0.,  2.,  1.],\n",
       "       [-1.,  3.,  1.]])"
      ]
     },
     "execution_count": 22,
     "metadata": {},
     "output_type": "execute_result"
    }
   ],
   "source": [
    "a = np.ones((3, 3), dtype=np.float32)\n",
    "a\n",
    "b = np.array([(-1, 1, 0), (-1, 1, 0), (-2, 2, 0)])\n",
    "b\n",
    "a + b #广播"
   ]
  },
  {
   "cell_type": "code",
   "execution_count": 23,
   "metadata": {},
   "outputs": [
    {
     "data": {
      "text/plain": [
       "9.0"
      ]
     },
     "execution_count": 23,
     "metadata": {},
     "output_type": "execute_result"
    }
   ],
   "source": [
    "a.sum()"
   ]
  },
  {
   "cell_type": "code",
   "execution_count": 24,
   "metadata": {},
   "outputs": [
    {
     "name": "stdout",
     "output_type": "stream",
     "text": [
      "True\n"
     ]
    }
   ],
   "source": [
    "a = np.array([[1, 2], [3, 4], [5, 6]], dtype=np.float32)\n",
    "a.prod()\n",
    "b = 24 * 30\n",
    "print(a.prod() == b)"
   ]
  },
  {
   "cell_type": "code",
   "execution_count": 25,
   "metadata": {},
   "outputs": [
    {
     "name": "stdout",
     "output_type": "stream",
     "text": [
      "True\n",
      "True\n",
      "True\n"
     ]
    }
   ],
   "source": [
    "a = np.array([1, 2, 3], dtype=np.int32)\n",
    "a # array([72, 60, 24])\n",
    "print(a.mean() == (1 + 2 + 3) / 3) #平均数 true\n",
    "a.var() #方差  方差（Variance）是统计学中用来衡量一组数据离散程度（即数据的波动性或分散性）的指标。它表示数据点与数据集平均值（均值）之间的偏离程度的平方的平均值。\n",
    "print(a.var() == ((1-2)**2 + (2-2)**2 + (3-2)**2) / 3) #方差 true\n",
    "a.std() #标准差\n",
    "#标准差越大，表示数据点与均值的偏离程度越大，数据的波动性越强，分布越分散。\n",
    "#标准差越小，表示数据点更集中在均值附近，数据的波动性越小，分布越集中。\n",
    "#标准差为 0 时，表示所有数据点的值都相同。\n",
    "\n",
    "#方差是数据点与均值之间偏离程度的平方的平均值。\n",
    "#标准差是方差的平方根。\n",
    "print(a.std() == np.sqrt(((1-2)**2 + (2-2)**2 + (3-2)**2) / 3)) #标准差 true\n"
   ]
  },
  {
   "cell_type": "code",
   "execution_count": 26,
   "metadata": {},
   "outputs": [
    {
     "name": "stdout",
     "output_type": "stream",
     "text": [
      "[-1.69355056 -4.53708902 -0.84966229]\n",
      "[-1. -4. -0.]\n",
      "[-2. -5. -1.]\n"
     ]
    }
   ],
   "source": [
    "#loc（默认值：0.0）：\n",
    "#\n",
    "#正态分布的均值（μ），即分布的中心位置。\n",
    "#\n",
    "#生成的随机数会围绕 loc 对称分布。\n",
    "#\n",
    "#scale（默认值：1.0）：\n",
    "#\n",
    "#正态分布的标准差（σ），用于控制分布的宽度。\n",
    "#\n",
    "#scale 越大，数据分布越分散；scale 越小，数据分布越集中。\n",
    "#\n",
    "#size（默认值：None）：\n",
    "#\n",
    "#输出的形状。可以是一个整数或元组。\n",
    "#\n",
    "#如果 size 是整数，则返回一个包含 size 个随机数的一维数组。\n",
    "#\n",
    "#如果 size 是元组（如 (m, n)），则返回一个形状为 (m, n) 的数组。\n",
    "a = np.random.normal(0, 5, 3) \n",
    "print(a)\n",
    "a.argmax() #最大值索引\n",
    "a.argmin() #最小值索引\n",
    "print(np.ceil(a)) #向上取整\n",
    "print(np.floor(a)) #向下取整"
   ]
  },
  {
   "cell_type": "code",
   "execution_count": 27,
   "metadata": {},
   "outputs": [
    {
     "name": "stdout",
     "output_type": "stream",
     "text": [
      "[6 2 2 8 9]\n",
      "[2 2 6 8 9]\n"
     ]
    }
   ],
   "source": [
    "a = np.random.randint(0, 10, 5)\n",
    "print(a)\n",
    "a.sort() # 注意： sort() 方法会直接修改原数组\n",
    "print(a) #排序"
   ]
  },
  {
   "cell_type": "code",
   "execution_count": 28,
   "metadata": {},
   "outputs": [
    {
     "name": "stdout",
     "output_type": "stream",
     "text": [
      "[[ 8  8]\n",
      " [12 12]]\n",
      "[[ 8  8]\n",
      " [12 12]]\n",
      "[[ 5  5]\n",
      " [15 15]]\n",
      "[[-9.00719925e+15  6.00479950e+15]\n",
      " [ 9.00719925e+15 -6.00479950e+15]]\n",
      "-3.330669073875464e-16\n",
      "EigResult(eigenvalues=array([0., 5.]), eigenvectors=array([[-0.70710678, -0.5547002 ],\n",
      "       [ 0.70710678, -0.83205029]]))\n"
     ]
    }
   ],
   "source": [
    "a = np.array([[2, 2], (3, 3)])\n",
    "b = np.array([[1, 1], (3, 3)])\n",
    "print(np.dot(a, b)) #矩阵乘法\n",
    "print(a @ b)\n",
    "print(np.dot(b, a))\n",
    "print(np.linalg.inv(a)) #逆矩阵\n",
    "print(np.linalg.det(a)) #行列式\n",
    "print(np.linalg.eig(a)) #特征值和特征向量"
   ]
  },
  {
   "cell_type": "code",
   "execution_count": 32,
   "metadata": {},
   "outputs": [
    {
     "name": "stdout",
     "output_type": "stream",
     "text": [
      "[[2 2]\n",
      " [3 3]]\n"
     ]
    },
    {
     "data": {
      "text/plain": [
       "array([[2., 2.],\n",
       "       [3., 3.]])"
      ]
     },
     "execution_count": 32,
     "metadata": {},
     "output_type": "execute_result"
    }
   ],
   "source": [
    "np.save('a.npy', a)\n",
    "print(np.load('a.npy'))\n",
    "np.savetxt('a.txt', a)\n",
    "np.loadtxt('a.txt')"
   ]
  }
 ],
 "metadata": {
  "kernelspec": {
   "display_name": "py312",
   "language": "python",
   "name": "python3"
  },
  "language_info": {
   "codemirror_mode": {
    "name": "ipython",
    "version": 3
   },
   "file_extension": ".py",
   "mimetype": "text/x-python",
   "name": "python",
   "nbconvert_exporter": "python",
   "pygments_lexer": "ipython3",
   "version": "3.12.8"
  }
 },
 "nbformat": 4,
 "nbformat_minor": 2
}
